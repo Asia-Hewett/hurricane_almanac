{
 "cells": [
  {
   "cell_type": "code",
   "execution_count": 8,
   "metadata": {},
   "outputs": [],
   "source": [
    "import pandas as pd\n",
    "import plotly as plt\n",
    "import matplotlib.pyplot as plt\n",
    "import plotly.express as px\n",
    "from sqlalchemy import create_engine"
   ]
  },
  {
   "cell_type": "code",
   "execution_count": 9,
   "metadata": {},
   "outputs": [],
   "source": [
    "engine = create_engine(f\"sqlite:///the_hive.db\")"
   ]
  },
  {
   "cell_type": "code",
   "execution_count": 10,
   "metadata": {},
   "outputs": [
    {
     "data": {
      "text/html": [
       "<div>\n",
       "<style scoped>\n",
       "    .dataframe tbody tr th:only-of-type {\n",
       "        vertical-align: middle;\n",
       "    }\n",
       "\n",
       "    .dataframe tbody tr th {\n",
       "        vertical-align: top;\n",
       "    }\n",
       "\n",
       "    .dataframe thead th {\n",
       "        text-align: right;\n",
       "    }\n",
       "</style>\n",
       "<table border=\"1\" class=\"dataframe\">\n",
       "  <thead>\n",
       "    <tr style=\"text-align: right;\">\n",
       "      <th></th>\n",
       "      <th>year</th>\n",
       "      <th>state</th>\n",
       "      <th>lbs_per_acre</th>\n",
       "      <th>commodity</th>\n",
       "      <th>count_colonies</th>\n",
       "    </tr>\n",
       "  </thead>\n",
       "  <tbody>\n",
       "    <tr>\n",
       "      <th>0</th>\n",
       "      <td>2019</td>\n",
       "      <td>US TOTAL</td>\n",
       "      <td>8140.0</td>\n",
       "      <td>SWEET CHERRIES</td>\n",
       "      <td>2919385.0</td>\n",
       "    </tr>\n",
       "    <tr>\n",
       "      <th>1</th>\n",
       "      <td>2019</td>\n",
       "      <td>CALIFORNIA</td>\n",
       "      <td>3420.0</td>\n",
       "      <td>SWEET CHERRIES</td>\n",
       "      <td>706250.0</td>\n",
       "    </tr>\n",
       "    <tr>\n",
       "      <th>2</th>\n",
       "      <td>2019</td>\n",
       "      <td>OREGON</td>\n",
       "      <td>8800.0</td>\n",
       "      <td>SWEET CHERRIES</td>\n",
       "      <td>93500.0</td>\n",
       "    </tr>\n",
       "    <tr>\n",
       "      <th>3</th>\n",
       "      <td>2019</td>\n",
       "      <td>WASHINGTON</td>\n",
       "      <td>11940.0</td>\n",
       "      <td>SWEET CHERRIES</td>\n",
       "      <td>76500.0</td>\n",
       "    </tr>\n",
       "    <tr>\n",
       "      <th>4</th>\n",
       "      <td>2018</td>\n",
       "      <td>US TOTAL</td>\n",
       "      <td>8100.0</td>\n",
       "      <td>SWEET CHERRIES</td>\n",
       "      <td>2791372.0</td>\n",
       "    </tr>\n",
       "    <tr>\n",
       "      <th>...</th>\n",
       "      <td>...</td>\n",
       "      <td>...</td>\n",
       "      <td>...</td>\n",
       "      <td>...</td>\n",
       "      <td>...</td>\n",
       "    </tr>\n",
       "    <tr>\n",
       "      <th>681</th>\n",
       "      <td>2000</td>\n",
       "      <td>ILLINOIS</td>\n",
       "      <td>41000.0</td>\n",
       "      <td>PUMPKINS</td>\n",
       "      <td>8000.0</td>\n",
       "    </tr>\n",
       "    <tr>\n",
       "      <th>682</th>\n",
       "      <td>2000</td>\n",
       "      <td>MICHIGAN</td>\n",
       "      <td>16000.0</td>\n",
       "      <td>PUMPKINS</td>\n",
       "      <td>72000.0</td>\n",
       "    </tr>\n",
       "    <tr>\n",
       "      <th>683</th>\n",
       "      <td>2000</td>\n",
       "      <td>NEW YORK</td>\n",
       "      <td>20000.0</td>\n",
       "      <td>PUMPKINS</td>\n",
       "      <td>58000.0</td>\n",
       "    </tr>\n",
       "    <tr>\n",
       "      <th>684</th>\n",
       "      <td>2000</td>\n",
       "      <td>OHIO</td>\n",
       "      <td>16500.0</td>\n",
       "      <td>PUMPKINS</td>\n",
       "      <td>18000.0</td>\n",
       "    </tr>\n",
       "    <tr>\n",
       "      <th>685</th>\n",
       "      <td>2000</td>\n",
       "      <td>PENNSYLVANIA</td>\n",
       "      <td>17000.0</td>\n",
       "      <td>PUMPKINS</td>\n",
       "      <td>25000.0</td>\n",
       "    </tr>\n",
       "  </tbody>\n",
       "</table>\n",
       "<p>686 rows × 5 columns</p>\n",
       "</div>"
      ],
      "text/plain": [
       "     year         state  lbs_per_acre       commodity  count_colonies\n",
       "0    2019      US TOTAL        8140.0  SWEET CHERRIES       2919385.0\n",
       "1    2019    CALIFORNIA        3420.0  SWEET CHERRIES        706250.0\n",
       "2    2019        OREGON        8800.0  SWEET CHERRIES         93500.0\n",
       "3    2019    WASHINGTON       11940.0  SWEET CHERRIES         76500.0\n",
       "4    2018      US TOTAL        8100.0  SWEET CHERRIES       2791372.0\n",
       "..    ...           ...           ...             ...             ...\n",
       "681  2000      ILLINOIS       41000.0        PUMPKINS          8000.0\n",
       "682  2000      MICHIGAN       16000.0        PUMPKINS         72000.0\n",
       "683  2000      NEW YORK       20000.0        PUMPKINS         58000.0\n",
       "684  2000          OHIO       16500.0        PUMPKINS         18000.0\n",
       "685  2000  PENNSYLVANIA       17000.0        PUMPKINS         25000.0\n",
       "\n",
       "[686 rows x 5 columns]"
      ]
     },
     "execution_count": 10,
     "metadata": {},
     "output_type": "execute_result"
    }
   ],
   "source": [
    "commodities = pd.read_sql('select * from colony_commodities', con=engine)\n",
    "commodities"
   ]
  },
  {
   "cell_type": "code",
   "execution_count": 6,
   "metadata": {},
   "outputs": [],
   "source": [
    "# colony_commodity.dropna(how='any', inplace=True)"
   ]
  },
  {
   "cell_type": "code",
   "execution_count": null,
   "metadata": {},
   "outputs": [],
   "source": [
    "commodities"
   ]
  }
 ],
 "metadata": {
  "kernelspec": {
   "display_name": "Python [conda env:pythondata]",
   "language": "python",
   "name": "conda-env-pythondata-py"
  },
  "language_info": {
   "codemirror_mode": {
    "name": "ipython",
    "version": 3
   },
   "file_extension": ".py",
   "mimetype": "text/x-python",
   "name": "python",
   "nbconvert_exporter": "python",
   "pygments_lexer": "ipython3",
   "version": "3.8.5"
  }
 },
 "nbformat": 4,
 "nbformat_minor": 4
}
