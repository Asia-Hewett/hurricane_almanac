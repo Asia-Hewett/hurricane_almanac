{
 "cells": [
  {
   "cell_type": "code",
   "execution_count": 1,
   "metadata": {},
   "outputs": [],
   "source": [
    "import pandas as pd\n",
    "import matplotlib.pyplot as plt\n",
    "import seaborn as sns\n",
    "import numpy as np \n",
    "import csv\n",
    "import json"
   ]
  },
  {
   "cell_type": "code",
   "execution_count": 2,
   "metadata": {},
   "outputs": [
    {
     "data": {
      "text/html": [
       "<div>\n",
       "<style scoped>\n",
       "    .dataframe tbody tr th:only-of-type {\n",
       "        vertical-align: middle;\n",
       "    }\n",
       "\n",
       "    .dataframe tbody tr th {\n",
       "        vertical-align: top;\n",
       "    }\n",
       "\n",
       "    .dataframe thead th {\n",
       "        text-align: right;\n",
       "    }\n",
       "</style>\n",
       "<table border=\"1\" class=\"dataframe\">\n",
       "  <thead>\n",
       "    <tr style=\"text-align: right;\">\n",
       "      <th></th>\n",
       "      <th>Region</th>\n",
       "      <th>Country</th>\n",
       "      <th>State</th>\n",
       "      <th>City</th>\n",
       "      <th>Month</th>\n",
       "      <th>Day</th>\n",
       "      <th>Year</th>\n",
       "      <th>AvgTemperature</th>\n",
       "    </tr>\n",
       "  </thead>\n",
       "  <tbody>\n",
       "    <tr>\n",
       "      <th>0</th>\n",
       "      <td>Africa</td>\n",
       "      <td>Algeria</td>\n",
       "      <td>NaN</td>\n",
       "      <td>Algiers</td>\n",
       "      <td>1</td>\n",
       "      <td>1</td>\n",
       "      <td>1995</td>\n",
       "      <td>64.2</td>\n",
       "    </tr>\n",
       "    <tr>\n",
       "      <th>1</th>\n",
       "      <td>Africa</td>\n",
       "      <td>Algeria</td>\n",
       "      <td>NaN</td>\n",
       "      <td>Algiers</td>\n",
       "      <td>1</td>\n",
       "      <td>2</td>\n",
       "      <td>1995</td>\n",
       "      <td>49.4</td>\n",
       "    </tr>\n",
       "    <tr>\n",
       "      <th>2</th>\n",
       "      <td>Africa</td>\n",
       "      <td>Algeria</td>\n",
       "      <td>NaN</td>\n",
       "      <td>Algiers</td>\n",
       "      <td>1</td>\n",
       "      <td>3</td>\n",
       "      <td>1995</td>\n",
       "      <td>48.8</td>\n",
       "    </tr>\n",
       "    <tr>\n",
       "      <th>3</th>\n",
       "      <td>Africa</td>\n",
       "      <td>Algeria</td>\n",
       "      <td>NaN</td>\n",
       "      <td>Algiers</td>\n",
       "      <td>1</td>\n",
       "      <td>4</td>\n",
       "      <td>1995</td>\n",
       "      <td>46.4</td>\n",
       "    </tr>\n",
       "    <tr>\n",
       "      <th>4</th>\n",
       "      <td>Africa</td>\n",
       "      <td>Algeria</td>\n",
       "      <td>NaN</td>\n",
       "      <td>Algiers</td>\n",
       "      <td>1</td>\n",
       "      <td>5</td>\n",
       "      <td>1995</td>\n",
       "      <td>47.9</td>\n",
       "    </tr>\n",
       "  </tbody>\n",
       "</table>\n",
       "</div>"
      ],
      "text/plain": [
       "   Region  Country State     City  Month  Day  Year  AvgTemperature\n",
       "0  Africa  Algeria   NaN  Algiers      1    1  1995            64.2\n",
       "1  Africa  Algeria   NaN  Algiers      1    2  1995            49.4\n",
       "2  Africa  Algeria   NaN  Algiers      1    3  1995            48.8\n",
       "3  Africa  Algeria   NaN  Algiers      1    4  1995            46.4\n",
       "4  Africa  Algeria   NaN  Algiers      1    5  1995            47.9"
      ]
     },
     "execution_count": 2,
     "metadata": {},
     "output_type": "execute_result"
    }
   ],
   "source": [
    "temp_data = pd.read_csv(\"city_temperature.csv\", low_memory =False)\n",
    "temp_data.head()"
   ]
  },
  {
   "cell_type": "code",
   "execution_count": 26,
   "metadata": {},
   "outputs": [],
   "source": [
    "temp_data_filt = (temp_data['Country'] == 'US').copy()\n",
    "temp_data_filt.to_csv(\"us_temp.csv\")"
   ]
  },
  {
   "cell_type": "code",
   "execution_count": 4,
   "metadata": {
    "scrolled": false
   },
   "outputs": [
    {
     "data": {
      "text/html": [
       "<div>\n",
       "<style scoped>\n",
       "    .dataframe tbody tr th:only-of-type {\n",
       "        vertical-align: middle;\n",
       "    }\n",
       "\n",
       "    .dataframe tbody tr th {\n",
       "        vertical-align: top;\n",
       "    }\n",
       "\n",
       "    .dataframe thead th {\n",
       "        text-align: right;\n",
       "    }\n",
       "</style>\n",
       "<table border=\"1\" class=\"dataframe\">\n",
       "  <thead>\n",
       "    <tr style=\"text-align: right;\">\n",
       "      <th></th>\n",
       "      <th>Region</th>\n",
       "      <th>Country</th>\n",
       "      <th>State</th>\n",
       "      <th>City</th>\n",
       "      <th>Month</th>\n",
       "      <th>Day</th>\n",
       "      <th>Year</th>\n",
       "      <th>AvgTemperature</th>\n",
       "    </tr>\n",
       "  </thead>\n",
       "  <tbody>\n",
       "    <tr>\n",
       "      <th>1450990</th>\n",
       "      <td>North America</td>\n",
       "      <td>US</td>\n",
       "      <td>Alabama</td>\n",
       "      <td>Birmingham</td>\n",
       "      <td>1</td>\n",
       "      <td>1</td>\n",
       "      <td>1995</td>\n",
       "      <td>50.7</td>\n",
       "    </tr>\n",
       "    <tr>\n",
       "      <th>1450991</th>\n",
       "      <td>North America</td>\n",
       "      <td>US</td>\n",
       "      <td>Alabama</td>\n",
       "      <td>Birmingham</td>\n",
       "      <td>1</td>\n",
       "      <td>2</td>\n",
       "      <td>1995</td>\n",
       "      <td>37.2</td>\n",
       "    </tr>\n",
       "    <tr>\n",
       "      <th>1450992</th>\n",
       "      <td>North America</td>\n",
       "      <td>US</td>\n",
       "      <td>Alabama</td>\n",
       "      <td>Birmingham</td>\n",
       "      <td>1</td>\n",
       "      <td>3</td>\n",
       "      <td>1995</td>\n",
       "      <td>33.2</td>\n",
       "    </tr>\n",
       "    <tr>\n",
       "      <th>1450993</th>\n",
       "      <td>North America</td>\n",
       "      <td>US</td>\n",
       "      <td>Alabama</td>\n",
       "      <td>Birmingham</td>\n",
       "      <td>1</td>\n",
       "      <td>4</td>\n",
       "      <td>1995</td>\n",
       "      <td>33.3</td>\n",
       "    </tr>\n",
       "    <tr>\n",
       "      <th>1450994</th>\n",
       "      <td>North America</td>\n",
       "      <td>US</td>\n",
       "      <td>Alabama</td>\n",
       "      <td>Birmingham</td>\n",
       "      <td>1</td>\n",
       "      <td>5</td>\n",
       "      <td>1995</td>\n",
       "      <td>26.4</td>\n",
       "    </tr>\n",
       "    <tr>\n",
       "      <th>...</th>\n",
       "      <td>...</td>\n",
       "      <td>...</td>\n",
       "      <td>...</td>\n",
       "      <td>...</td>\n",
       "      <td>...</td>\n",
       "      <td>...</td>\n",
       "      <td>...</td>\n",
       "      <td>...</td>\n",
       "    </tr>\n",
       "    <tr>\n",
       "      <th>2906322</th>\n",
       "      <td>North America</td>\n",
       "      <td>US</td>\n",
       "      <td>Additional Territories</td>\n",
       "      <td>San Juan Puerto Rico</td>\n",
       "      <td>7</td>\n",
       "      <td>27</td>\n",
       "      <td>2013</td>\n",
       "      <td>82.4</td>\n",
       "    </tr>\n",
       "    <tr>\n",
       "      <th>2906323</th>\n",
       "      <td>North America</td>\n",
       "      <td>US</td>\n",
       "      <td>Additional Territories</td>\n",
       "      <td>San Juan Puerto Rico</td>\n",
       "      <td>7</td>\n",
       "      <td>28</td>\n",
       "      <td>2013</td>\n",
       "      <td>81.6</td>\n",
       "    </tr>\n",
       "    <tr>\n",
       "      <th>2906324</th>\n",
       "      <td>North America</td>\n",
       "      <td>US</td>\n",
       "      <td>Additional Territories</td>\n",
       "      <td>San Juan Puerto Rico</td>\n",
       "      <td>7</td>\n",
       "      <td>29</td>\n",
       "      <td>2013</td>\n",
       "      <td>84.2</td>\n",
       "    </tr>\n",
       "    <tr>\n",
       "      <th>2906325</th>\n",
       "      <td>North America</td>\n",
       "      <td>US</td>\n",
       "      <td>Additional Territories</td>\n",
       "      <td>San Juan Puerto Rico</td>\n",
       "      <td>7</td>\n",
       "      <td>30</td>\n",
       "      <td>2013</td>\n",
       "      <td>83.8</td>\n",
       "    </tr>\n",
       "    <tr>\n",
       "      <th>2906326</th>\n",
       "      <td>North America</td>\n",
       "      <td>US</td>\n",
       "      <td>Additional Territories</td>\n",
       "      <td>San Juan Puerto Rico</td>\n",
       "      <td>7</td>\n",
       "      <td>31</td>\n",
       "      <td>2013</td>\n",
       "      <td>83.6</td>\n",
       "    </tr>\n",
       "  </tbody>\n",
       "</table>\n",
       "<p>1455337 rows × 8 columns</p>\n",
       "</div>"
      ],
      "text/plain": [
       "                Region Country                   State                  City  \\\n",
       "1450990  North America      US                 Alabama            Birmingham   \n",
       "1450991  North America      US                 Alabama            Birmingham   \n",
       "1450992  North America      US                 Alabama            Birmingham   \n",
       "1450993  North America      US                 Alabama            Birmingham   \n",
       "1450994  North America      US                 Alabama            Birmingham   \n",
       "...                ...     ...                     ...                   ...   \n",
       "2906322  North America      US  Additional Territories  San Juan Puerto Rico   \n",
       "2906323  North America      US  Additional Territories  San Juan Puerto Rico   \n",
       "2906324  North America      US  Additional Territories  San Juan Puerto Rico   \n",
       "2906325  North America      US  Additional Territories  San Juan Puerto Rico   \n",
       "2906326  North America      US  Additional Territories  San Juan Puerto Rico   \n",
       "\n",
       "         Month  Day  Year  AvgTemperature  \n",
       "1450990      1    1  1995            50.7  \n",
       "1450991      1    2  1995            37.2  \n",
       "1450992      1    3  1995            33.2  \n",
       "1450993      1    4  1995            33.3  \n",
       "1450994      1    5  1995            26.4  \n",
       "...        ...  ...   ...             ...  \n",
       "2906322      7   27  2013            82.4  \n",
       "2906323      7   28  2013            81.6  \n",
       "2906324      7   29  2013            84.2  \n",
       "2906325      7   30  2013            83.8  \n",
       "2906326      7   31  2013            83.6  \n",
       "\n",
       "[1455337 rows x 8 columns]"
      ]
     },
     "execution_count": 4,
     "metadata": {},
     "output_type": "execute_result"
    }
   ],
   "source": [
    "temp_data[temp_data_filt]"
   ]
  },
  {
   "cell_type": "code",
   "execution_count": 5,
   "metadata": {},
   "outputs": [
    {
     "data": {
      "text/html": [
       "<div>\n",
       "<style scoped>\n",
       "    .dataframe tbody tr th:only-of-type {\n",
       "        vertical-align: middle;\n",
       "    }\n",
       "\n",
       "    .dataframe tbody tr th {\n",
       "        vertical-align: top;\n",
       "    }\n",
       "\n",
       "    .dataframe thead th {\n",
       "        text-align: right;\n",
       "    }\n",
       "</style>\n",
       "<table border=\"1\" class=\"dataframe\">\n",
       "  <thead>\n",
       "    <tr style=\"text-align: right;\">\n",
       "      <th></th>\n",
       "      <th>Region</th>\n",
       "      <th>Country</th>\n",
       "      <th>State</th>\n",
       "      <th>City</th>\n",
       "      <th>Month</th>\n",
       "      <th>Day</th>\n",
       "      <th>Year</th>\n",
       "      <th>AvgTemperature</th>\n",
       "    </tr>\n",
       "  </thead>\n",
       "  <tbody>\n",
       "    <tr>\n",
       "      <th>1450990</th>\n",
       "      <td>North America</td>\n",
       "      <td>US</td>\n",
       "      <td>Alabama</td>\n",
       "      <td>Birmingham</td>\n",
       "      <td>1</td>\n",
       "      <td>1</td>\n",
       "      <td>1995</td>\n",
       "      <td>50.7</td>\n",
       "    </tr>\n",
       "    <tr>\n",
       "      <th>1450991</th>\n",
       "      <td>North America</td>\n",
       "      <td>US</td>\n",
       "      <td>Alabama</td>\n",
       "      <td>Birmingham</td>\n",
       "      <td>1</td>\n",
       "      <td>2</td>\n",
       "      <td>1995</td>\n",
       "      <td>37.2</td>\n",
       "    </tr>\n",
       "    <tr>\n",
       "      <th>1450992</th>\n",
       "      <td>North America</td>\n",
       "      <td>US</td>\n",
       "      <td>Alabama</td>\n",
       "      <td>Birmingham</td>\n",
       "      <td>1</td>\n",
       "      <td>3</td>\n",
       "      <td>1995</td>\n",
       "      <td>33.2</td>\n",
       "    </tr>\n",
       "    <tr>\n",
       "      <th>1450993</th>\n",
       "      <td>North America</td>\n",
       "      <td>US</td>\n",
       "      <td>Alabama</td>\n",
       "      <td>Birmingham</td>\n",
       "      <td>1</td>\n",
       "      <td>4</td>\n",
       "      <td>1995</td>\n",
       "      <td>33.3</td>\n",
       "    </tr>\n",
       "    <tr>\n",
       "      <th>1450994</th>\n",
       "      <td>North America</td>\n",
       "      <td>US</td>\n",
       "      <td>Alabama</td>\n",
       "      <td>Birmingham</td>\n",
       "      <td>1</td>\n",
       "      <td>5</td>\n",
       "      <td>1995</td>\n",
       "      <td>26.4</td>\n",
       "    </tr>\n",
       "    <tr>\n",
       "      <th>...</th>\n",
       "      <td>...</td>\n",
       "      <td>...</td>\n",
       "      <td>...</td>\n",
       "      <td>...</td>\n",
       "      <td>...</td>\n",
       "      <td>...</td>\n",
       "      <td>...</td>\n",
       "      <td>...</td>\n",
       "    </tr>\n",
       "    <tr>\n",
       "      <th>1488045</th>\n",
       "      <td>North America</td>\n",
       "      <td>US</td>\n",
       "      <td>Alabama</td>\n",
       "      <td>Montgomery</td>\n",
       "      <td>5</td>\n",
       "      <td>9</td>\n",
       "      <td>2020</td>\n",
       "      <td>60.9</td>\n",
       "    </tr>\n",
       "    <tr>\n",
       "      <th>1488046</th>\n",
       "      <td>North America</td>\n",
       "      <td>US</td>\n",
       "      <td>Alabama</td>\n",
       "      <td>Montgomery</td>\n",
       "      <td>5</td>\n",
       "      <td>10</td>\n",
       "      <td>2020</td>\n",
       "      <td>61.4</td>\n",
       "    </tr>\n",
       "    <tr>\n",
       "      <th>1488047</th>\n",
       "      <td>North America</td>\n",
       "      <td>US</td>\n",
       "      <td>Alabama</td>\n",
       "      <td>Montgomery</td>\n",
       "      <td>5</td>\n",
       "      <td>11</td>\n",
       "      <td>2020</td>\n",
       "      <td>62.6</td>\n",
       "    </tr>\n",
       "    <tr>\n",
       "      <th>1488048</th>\n",
       "      <td>North America</td>\n",
       "      <td>US</td>\n",
       "      <td>Alabama</td>\n",
       "      <td>Montgomery</td>\n",
       "      <td>5</td>\n",
       "      <td>12</td>\n",
       "      <td>2020</td>\n",
       "      <td>64.1</td>\n",
       "    </tr>\n",
       "    <tr>\n",
       "      <th>1488049</th>\n",
       "      <td>North America</td>\n",
       "      <td>US</td>\n",
       "      <td>Alabama</td>\n",
       "      <td>Montgomery</td>\n",
       "      <td>5</td>\n",
       "      <td>13</td>\n",
       "      <td>2020</td>\n",
       "      <td>63.6</td>\n",
       "    </tr>\n",
       "  </tbody>\n",
       "</table>\n",
       "<p>37060 rows × 8 columns</p>\n",
       "</div>"
      ],
      "text/plain": [
       "                Region Country    State        City  Month  Day  Year  \\\n",
       "1450990  North America      US  Alabama  Birmingham      1    1  1995   \n",
       "1450991  North America      US  Alabama  Birmingham      1    2  1995   \n",
       "1450992  North America      US  Alabama  Birmingham      1    3  1995   \n",
       "1450993  North America      US  Alabama  Birmingham      1    4  1995   \n",
       "1450994  North America      US  Alabama  Birmingham      1    5  1995   \n",
       "...                ...     ...      ...         ...    ...  ...   ...   \n",
       "1488045  North America      US  Alabama  Montgomery      5    9  2020   \n",
       "1488046  North America      US  Alabama  Montgomery      5   10  2020   \n",
       "1488047  North America      US  Alabama  Montgomery      5   11  2020   \n",
       "1488048  North America      US  Alabama  Montgomery      5   12  2020   \n",
       "1488049  North America      US  Alabama  Montgomery      5   13  2020   \n",
       "\n",
       "         AvgTemperature  \n",
       "1450990            50.7  \n",
       "1450991            37.2  \n",
       "1450992            33.2  \n",
       "1450993            33.3  \n",
       "1450994            26.4  \n",
       "...                 ...  \n",
       "1488045            60.9  \n",
       "1488046            61.4  \n",
       "1488047            62.6  \n",
       "1488048            64.1  \n",
       "1488049            63.6  \n",
       "\n",
       "[37060 rows x 8 columns]"
      ]
     },
     "execution_count": 5,
     "metadata": {},
     "output_type": "execute_result"
    }
   ],
   "source": [
    "temp_data_filt_Alabama = (temp_data['State'] == 'Alabama')\n",
    "temp_data[temp_data_filt_Alabama]"
   ]
  },
  {
   "cell_type": "code",
   "execution_count": 6,
   "metadata": {},
   "outputs": [],
   "source": [
    "# al_temp = al_temp.loc[al_temp['State'] == 'Alabama']\n",
    "# # temp_data2 = temp_data.loc[temp_data['AvgTemperature'] < 41]\n",
    "# # temp_data2\n",
    "\n",
    "# al_temp = al_temp.groupby(['State', 'Month', 'Day', 'Year'], as_index = False)[['AvgTemperature']].mean()\n",
    "# temp_data2 = al_temp.loc[al_temp['AvgTemperature'] > 100]\n",
    "# temp_data3 = al_temp.loc[al_temp['AvgTemperature'] < 41].copy()\n",
    "# temp_data3.drop(temp_data3[temp_data3['AvgTemperature'] == -99.000].index, inplace=True)\n",
    "# temp_data3\n",
    "# temp_data4 = temp_data3.groupby"
   ]
  },
  {
   "cell_type": "code",
   "execution_count": 25,
   "metadata": {},
   "outputs": [
    {
     "data": {
      "text/html": [
       "<div>\n",
       "<style scoped>\n",
       "    .dataframe tbody tr th:only-of-type {\n",
       "        vertical-align: middle;\n",
       "    }\n",
       "\n",
       "    .dataframe tbody tr th {\n",
       "        vertical-align: top;\n",
       "    }\n",
       "\n",
       "    .dataframe thead th {\n",
       "        text-align: right;\n",
       "    }\n",
       "</style>\n",
       "<table border=\"1\" class=\"dataframe\">\n",
       "  <thead>\n",
       "    <tr style=\"text-align: right;\">\n",
       "      <th></th>\n",
       "      <th>State</th>\n",
       "      <th>Month</th>\n",
       "      <th>Day</th>\n",
       "      <th>Year</th>\n",
       "      <th>AvgTemperature</th>\n",
       "    </tr>\n",
       "  </thead>\n",
       "  <tbody>\n",
       "    <tr>\n",
       "      <th>0</th>\n",
       "      <td>Texas</td>\n",
       "      <td>1</td>\n",
       "      <td>1</td>\n",
       "      <td>1995</td>\n",
       "      <td>41.000000</td>\n",
       "    </tr>\n",
       "    <tr>\n",
       "      <th>26</th>\n",
       "      <td>Texas</td>\n",
       "      <td>1</td>\n",
       "      <td>2</td>\n",
       "      <td>1995</td>\n",
       "      <td>35.842857</td>\n",
       "    </tr>\n",
       "    <tr>\n",
       "      <th>52</th>\n",
       "      <td>Texas</td>\n",
       "      <td>1</td>\n",
       "      <td>3</td>\n",
       "      <td>1995</td>\n",
       "      <td>37.778571</td>\n",
       "    </tr>\n",
       "    <tr>\n",
       "      <th>78</th>\n",
       "      <td>Texas</td>\n",
       "      <td>1</td>\n",
       "      <td>4</td>\n",
       "      <td>1995</td>\n",
       "      <td>34.557143</td>\n",
       "    </tr>\n",
       "    <tr>\n",
       "      <th>104</th>\n",
       "      <td>Texas</td>\n",
       "      <td>1</td>\n",
       "      <td>5</td>\n",
       "      <td>1995</td>\n",
       "      <td>33.250000</td>\n",
       "    </tr>\n",
       "    <tr>\n",
       "      <th>...</th>\n",
       "      <td>...</td>\n",
       "      <td>...</td>\n",
       "      <td>...</td>\n",
       "      <td>...</td>\n",
       "      <td>...</td>\n",
       "    </tr>\n",
       "    <tr>\n",
       "      <th>9140</th>\n",
       "      <td>Texas</td>\n",
       "      <td>12</td>\n",
       "      <td>27</td>\n",
       "      <td>1995</td>\n",
       "      <td>43.878571</td>\n",
       "    </tr>\n",
       "    <tr>\n",
       "      <th>9165</th>\n",
       "      <td>Texas</td>\n",
       "      <td>12</td>\n",
       "      <td>28</td>\n",
       "      <td>1995</td>\n",
       "      <td>41.042857</td>\n",
       "    </tr>\n",
       "    <tr>\n",
       "      <th>9190</th>\n",
       "      <td>Texas</td>\n",
       "      <td>12</td>\n",
       "      <td>29</td>\n",
       "      <td>1995</td>\n",
       "      <td>42.171429</td>\n",
       "    </tr>\n",
       "    <tr>\n",
       "      <th>9215</th>\n",
       "      <td>Texas</td>\n",
       "      <td>12</td>\n",
       "      <td>30</td>\n",
       "      <td>1995</td>\n",
       "      <td>48.528571</td>\n",
       "    </tr>\n",
       "    <tr>\n",
       "      <th>9240</th>\n",
       "      <td>Texas</td>\n",
       "      <td>12</td>\n",
       "      <td>31</td>\n",
       "      <td>1995</td>\n",
       "      <td>53.178571</td>\n",
       "    </tr>\n",
       "  </tbody>\n",
       "</table>\n",
       "<p>365 rows × 5 columns</p>\n",
       "</div>"
      ],
      "text/plain": [
       "      State  Month  Day  Year  AvgTemperature\n",
       "0     Texas      1    1  1995       41.000000\n",
       "26    Texas      1    2  1995       35.842857\n",
       "52    Texas      1    3  1995       37.778571\n",
       "78    Texas      1    4  1995       34.557143\n",
       "104   Texas      1    5  1995       33.250000\n",
       "...     ...    ...  ...   ...             ...\n",
       "9140  Texas     12   27  1995       43.878571\n",
       "9165  Texas     12   28  1995       41.042857\n",
       "9190  Texas     12   29  1995       42.171429\n",
       "9215  Texas     12   30  1995       48.528571\n",
       "9240  Texas     12   31  1995       53.178571\n",
       "\n",
       "[365 rows x 5 columns]"
      ]
     },
     "execution_count": 25,
     "metadata": {},
     "output_type": "execute_result"
    }
   ],
   "source": [
    "temp_data_tx = temp_data.loc[temp_data['State'] == 'Texas']\n",
    "temp_data_tx\n",
    "temp_data_tx = temp_data_tx.groupby(['State', 'Month', 'Day', 'Year'], as_index = False)[['AvgTemperature']].mean()\n",
    "temp_data_tx\n",
    "# temp_data2 = temp_data_tx.loc[temp_data_tx['AvgTemperature'] > 90]\n",
    "# temp_data2\n",
    "# temp_data3 = temp_data_tx.loc[temp_data_tx['AvgTemperature'] < 41].copy()\n",
    "# temp_data3.drop(temp_data3[temp_data3['AvgTemperature'] == -99.000].index, inplace=True)\n",
    "# temp_data3\n",
    "temp_year = temp_data_tx.loc[temp_data_tx['Year'] == 1995]\n",
    "temp_year"
   ]
  },
  {
   "cell_type": "code",
   "execution_count": null,
   "metadata": {},
   "outputs": [],
   "source": [
    "temp_data_filt_Alaska = (temp_data['State'] == 'Alaska')\n",
    "temp_data[temp_data_filt_Alaska]"
   ]
  },
  {
   "cell_type": "code",
   "execution_count": null,
   "metadata": {},
   "outputs": [],
   "source": [
    "temp_data_filt_Arizona = (temp_data['State'] == 'Arizona')\n",
    "temp_data[temp_data_filt_Arizona]"
   ]
  },
  {
   "cell_type": "code",
   "execution_count": null,
   "metadata": {},
   "outputs": [],
   "source": [
    "temp_data_filt_Arkansas = (temp_data['State'] == 'Arkansas')\n",
    "temp_data[temp_data_filt_Arkansas]"
   ]
  },
  {
   "cell_type": "code",
   "execution_count": null,
   "metadata": {},
   "outputs": [],
   "source": [
    "temp_data_filt_California = (temp_data['State'] == 'California')\n",
    "temp_data[temp_data_filt_California]\n",
    "temp_data_filt_Californa"
   ]
  },
  {
   "cell_type": "code",
   "execution_count": null,
   "metadata": {},
   "outputs": [],
   "source": [
    "temp_data_filt_Colorado = (temp_data['State'] == 'Colorado')\n",
    "temp_data[temp_data_filt_Colorado]"
   ]
  },
  {
   "cell_type": "code",
   "execution_count": null,
   "metadata": {},
   "outputs": [],
   "source": [
    "temp_data_filt_Connecticut = (temp_data['State'] == 'Connecticut')\n",
    "temp_data[temp_data_filt_Connecticut]"
   ]
  },
  {
   "cell_type": "code",
   "execution_count": null,
   "metadata": {},
   "outputs": [],
   "source": [
    "temp_data_filt_Delaware = (temp_data['State'] == 'Delaware')\n",
    "temp_data[temp_data_filt_Delaware]"
   ]
  },
  {
   "cell_type": "code",
   "execution_count": null,
   "metadata": {},
   "outputs": [],
   "source": [
    "temp_data_filt_Florida = (temp_data['State'] == 'Florida')\n",
    "temp_data[temp_data_filt_Florida]"
   ]
  },
  {
   "cell_type": "code",
   "execution_count": null,
   "metadata": {},
   "outputs": [],
   "source": [
    "temp_data_filt_Georgia = (temp_data['State'] == 'Georgia')\n",
    "temp_data[temp_data_filt_Georgia]"
   ]
  },
  {
   "cell_type": "code",
   "execution_count": null,
   "metadata": {},
   "outputs": [],
   "source": [
    "temp_data_filt_Hawaii = (temp_data['State'] == 'Hawaii')\n",
    "temp_data[temp_data_filt_Hawaii]"
   ]
  },
  {
   "cell_type": "code",
   "execution_count": null,
   "metadata": {},
   "outputs": [],
   "source": [
    "temp_data_filt_Idaho = (temp_data['State'] == 'Idaho')\n",
    "temp_data[temp_data_filt_Idaho]"
   ]
  },
  {
   "cell_type": "code",
   "execution_count": null,
   "metadata": {},
   "outputs": [],
   "source": [
    "temp_data_filt_Illinois = (temp_data['State'] == 'Illinois')\n",
    "temp_data[temp_data_filt_Illinois]"
   ]
  },
  {
   "cell_type": "code",
   "execution_count": null,
   "metadata": {},
   "outputs": [],
   "source": [
    "temp_data_filt_Indiana = (temp_data['State'] == 'Indiana')\n",
    "temp_data[temp_data_filt_Indiana]"
   ]
  },
  {
   "cell_type": "code",
   "execution_count": null,
   "metadata": {},
   "outputs": [],
   "source": [
    "temp_data_filt_Iowa = (temp_data['State'] == 'Iowa')\n",
    "temp_data[temp_data_filt_Iowa]"
   ]
  },
  {
   "cell_type": "code",
   "execution_count": null,
   "metadata": {},
   "outputs": [],
   "source": [
    "temp_data_filt_Kansas = (temp_data['State'] == 'Kansas')\n",
    "temp_data[temp_data_filt_Kansas]"
   ]
  },
  {
   "cell_type": "code",
   "execution_count": null,
   "metadata": {},
   "outputs": [],
   "source": [
    "temp_data_filt_Kentucky = (temp_data['State'] == 'Kentucky')\n",
    "temp_data[temp_data_filt_Kentucky]"
   ]
  },
  {
   "cell_type": "code",
   "execution_count": null,
   "metadata": {},
   "outputs": [],
   "source": [
    "temp_data_filt_Louisiana = (temp_data['State'] == 'Louisiana')\n",
    "temp_data[temp_data_filt_Louisiana]"
   ]
  },
  {
   "cell_type": "code",
   "execution_count": null,
   "metadata": {},
   "outputs": [],
   "source": [
    "temp_data_filt_Maine = (temp_data['State'] == 'Maine')\n",
    "temp_data[temp_data_filt_Maine]"
   ]
  },
  {
   "cell_type": "code",
   "execution_count": null,
   "metadata": {},
   "outputs": [],
   "source": [
    "temp_data_filt_Maryland = (temp_data['State'] == 'Maryland')\n",
    "temp_data[temp_data_filt_Maryland]"
   ]
  },
  {
   "cell_type": "code",
   "execution_count": null,
   "metadata": {},
   "outputs": [],
   "source": [
    "temp_data_filt_Massachusetts = (temp_data['State'] == 'Massachusetts')\n",
    "temp_data[temp_data_filt_Massachusetts]"
   ]
  },
  {
   "cell_type": "code",
   "execution_count": null,
   "metadata": {},
   "outputs": [],
   "source": [
    "temp_data_filt_Michigan = (temp_data['State'] == 'Michigan')\n",
    "temp_data[temp_data_filt_Michigan]"
   ]
  },
  {
   "cell_type": "code",
   "execution_count": null,
   "metadata": {},
   "outputs": [],
   "source": [
    "temp_data_filt_Minnesota = (temp_data['State'] == 'Minnesota')\n",
    "temp_data[temp_data_filt_Minnesota]"
   ]
  },
  {
   "cell_type": "code",
   "execution_count": null,
   "metadata": {},
   "outputs": [],
   "source": [
    "temp_data_filt_Mississippi = (temp_data['State'] == 'Mississippi')\n",
    "temp_data[temp_data_filt_Mississippi]"
   ]
  },
  {
   "cell_type": "code",
   "execution_count": null,
   "metadata": {},
   "outputs": [],
   "source": [
    "temp_data_filt_Missouri  = (temp_data['State'] == 'Missouri')\n",
    "temp_data[temp_data_filt_Missouri]"
   ]
  },
  {
   "cell_type": "code",
   "execution_count": null,
   "metadata": {},
   "outputs": [],
   "source": [
    "temp_data_filt_Montana = (temp_data['State'] == 'Montana')\n",
    "temp_data[temp_data_filt_Montana]"
   ]
  },
  {
   "cell_type": "code",
   "execution_count": null,
   "metadata": {},
   "outputs": [],
   "source": [
    "temp_data_filt_Nebraska = (temp_data['State'] == 'Nebraska')\n",
    "temp_data[temp_data_filt_Nebraska]"
   ]
  },
  {
   "cell_type": "code",
   "execution_count": null,
   "metadata": {},
   "outputs": [],
   "source": [
    "temp_data_filt_New_Hampshire = (temp_data['State'] == 'New_Hampshire')\n",
    "temp_data[temp_data_filt_New_Hampshire]"
   ]
  },
  {
   "cell_type": "code",
   "execution_count": null,
   "metadata": {},
   "outputs": [],
   "source": [
    "temp_data_filt_New_Jersey = (temp_data['State'] == 'New_Jersey')\n",
    "temp_data[temp_data_filt_New_Jersey]"
   ]
  },
  {
   "cell_type": "code",
   "execution_count": null,
   "metadata": {},
   "outputs": [],
   "source": [
    "temp_data_filt_New_Mexico = (temp_data['State'] == 'New_Mexico')\n",
    "temp_data[temp_data_filt_New_Mexico]"
   ]
  },
  {
   "cell_type": "code",
   "execution_count": null,
   "metadata": {},
   "outputs": [],
   "source": [
    "temp_data_filt_New_York = (temp_data['State'] == 'New_York')\n",
    "temp_data[temp_data_filt_New_York]"
   ]
  },
  {
   "cell_type": "code",
   "execution_count": null,
   "metadata": {},
   "outputs": [],
   "source": [
    "temp_data_filt_North_Carolina = (temp_data['State'] == 'North_Carolina')\n",
    "temp_data[temp_data_filt_North_Carolina]"
   ]
  },
  {
   "cell_type": "code",
   "execution_count": null,
   "metadata": {},
   "outputs": [],
   "source": [
    "temp_data_filt_North_Dakota = (temp_data['State'] == 'North_Dakota')\n",
    "temp_data[temp_data_filt_North_Dakota]"
   ]
  },
  {
   "cell_type": "code",
   "execution_count": null,
   "metadata": {},
   "outputs": [],
   "source": [
    "temp_data_filt_Ohio = (temp_data['State'] == 'Ohio')\n",
    "temp_data[temp_data_filt_Ohio]"
   ]
  },
  {
   "cell_type": "code",
   "execution_count": null,
   "metadata": {},
   "outputs": [],
   "source": [
    "temp_data_filt_Oklahoma = (temp_data['State'] == 'Oklahoma')\n",
    "temp_data[temp_data_filt_Oklahoma]"
   ]
  },
  {
   "cell_type": "code",
   "execution_count": null,
   "metadata": {},
   "outputs": [],
   "source": [
    "temp_data_filt_Oregon = (temp_data['State'] == 'Oregon')\n",
    "temp_data[temp_data_filt_Oregon]"
   ]
  },
  {
   "cell_type": "code",
   "execution_count": null,
   "metadata": {},
   "outputs": [],
   "source": [
    "temp_data_filt_Pennsylvania = (temp_data['State'] == 'Pennsylvania')\n",
    "temp_data[temp_data_filt_Pennsylvania]"
   ]
  },
  {
   "cell_type": "code",
   "execution_count": null,
   "metadata": {},
   "outputs": [],
   "source": [
    "temp_data_filt_Rhode_Island = (temp_data['State'] == 'Rhode_Island')\n",
    "temp_data[temp_data_filt_Rhode_Island]"
   ]
  },
  {
   "cell_type": "code",
   "execution_count": null,
   "metadata": {},
   "outputs": [],
   "source": [
    "temp_data_filt_South_Carolina = (temp_data['State'] == 'South_Carolina')\n",
    "temp_data[temp_data_filt_South_Carolina]"
   ]
  },
  {
   "cell_type": "code",
   "execution_count": null,
   "metadata": {},
   "outputs": [],
   "source": [
    "temp_data_filt_South_Dakota = (temp_data['State'] == 'South_Dakota')\n",
    "temp_data[temp_data_filt_South_Dakota]"
   ]
  },
  {
   "cell_type": "code",
   "execution_count": null,
   "metadata": {},
   "outputs": [],
   "source": [
    "temp_data_filt_Tennessee = (temp_data['State'] == 'Tennessee')\n",
    "temp_data[temp_data_filt_Tennessee]"
   ]
  },
  {
   "cell_type": "code",
   "execution_count": null,
   "metadata": {},
   "outputs": [],
   "source": [
    "temp_data_filt_Texas = (temp_data['State'] == 'Texas')\n",
    "temp_data[temp_data_filt_Texas]"
   ]
  },
  {
   "cell_type": "code",
   "execution_count": null,
   "metadata": {},
   "outputs": [],
   "source": [
    "temp_data_filt_Utah = (temp_data['State'] == 'Utah')\n",
    "temp_data[temp_data_filt_Utah]"
   ]
  },
  {
   "cell_type": "code",
   "execution_count": null,
   "metadata": {},
   "outputs": [],
   "source": [
    "temp_data_filt_Vermont = (temp_data['State'] == 'Vermont')\n",
    "temp_data[temp_data_filt_Vermont]"
   ]
  },
  {
   "cell_type": "code",
   "execution_count": null,
   "metadata": {},
   "outputs": [],
   "source": [
    "temp_data_filt_Virgina = (temp_data['State'] == 'Virgina')\n",
    "temp_data[temp_data_filt_Virgina]"
   ]
  },
  {
   "cell_type": "code",
   "execution_count": null,
   "metadata": {},
   "outputs": [],
   "source": [
    "temp_data_filt_Washington = (temp_data['State'] == 'Washington')\n",
    "temp_data[temp_data_filt_Washington]"
   ]
  },
  {
   "cell_type": "code",
   "execution_count": null,
   "metadata": {},
   "outputs": [],
   "source": [
    "temp_data_filt_Wisconsin = (temp_data['State'] == 'Wisconsin')\n",
    "temp_data[temp_data_filt_Wisconsin]"
   ]
  },
  {
   "cell_type": "code",
   "execution_count": null,
   "metadata": {},
   "outputs": [],
   "source": [
    "temp_data_filt_Wyoming = (temp_data['State'] == 'Wyoming')\n",
    "temp_data[temp_data_filt_Wyoming]"
   ]
  }
 ],
 "metadata": {
  "kernelspec": {
   "display_name": "Python [conda env:PythonAdv] *",
   "language": "python",
   "name": "conda-env-PythonAdv-py"
  },
  "language_info": {
   "codemirror_mode": {
    "name": "ipython",
    "version": 3
   },
   "file_extension": ".py",
   "mimetype": "text/x-python",
   "name": "python",
   "nbconvert_exporter": "python",
   "pygments_lexer": "ipython3",
   "version": "3.6.12"
  }
 },
 "nbformat": 4,
 "nbformat_minor": 4
}
