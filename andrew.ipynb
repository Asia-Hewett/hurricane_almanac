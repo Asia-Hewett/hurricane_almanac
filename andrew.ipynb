{
 "metadata": {
  "language_info": {
   "codemirror_mode": {
    "name": "ipython",
    "version": 3
   },
   "file_extension": ".py",
   "mimetype": "text/x-python",
   "name": "python",
   "nbconvert_exporter": "python",
   "pygments_lexer": "ipython3",
   "version": "3.7.6-final"
  },
  "orig_nbformat": 2,
  "kernelspec": {
   "name": "python3",
   "display_name": "Python 3",
   "language": "python"
  }
 },
 "nbformat": 4,
 "nbformat_minor": 2,
 "cells": [
  {
   "cell_type": "code",
   "execution_count": 1,
   "metadata": {},
   "outputs": [],
   "source": [
    "import pandas as pd\n",
    "import csv\n",
    "import matplotlib as plot"
   ]
  },
  {
   "cell_type": "code",
   "execution_count": 2,
   "metadata": {},
   "outputs": [
    {
     "output_type": "execute_result",
     "data": {
      "text/plain": [
       "    Program  Year        Period Geo Level       State  State ANSI  \\\n",
       "0    SURVEY  2020  JAN THRU MAR  NATIONAL    US TOTAL         NaN   \n",
       "1    SURVEY  2020  JAN THRU MAR     STATE     ALABAMA         1.0   \n",
       "2    SURVEY  2020  JAN THRU MAR     STATE     ARIZONA         4.0   \n",
       "3    SURVEY  2020  JAN THRU MAR     STATE    ARKANSAS         5.0   \n",
       "4    SURVEY  2020  JAN THRU MAR     STATE  CALIFORNIA         6.0   \n",
       "..      ...   ...           ...       ...         ...         ...   \n",
       "247  SURVEY  2015          YEAR  NATIONAL    US TOTAL         NaN   \n",
       "248  SURVEY  2015  JAN THRU MAR  NATIONAL    US TOTAL         NaN   \n",
       "249  SURVEY  2015  APR THRU JUN  NATIONAL    US TOTAL         NaN   \n",
       "250  SURVEY  2015  JUL THRU SEP  NATIONAL    US TOTAL         NaN   \n",
       "251  SURVEY  2015  OCT THRU DEC  NATIONAL    US TOTAL         NaN   \n",
       "\n",
       "     watershed_code Commodity  \\\n",
       "0                 0     HONEY   \n",
       "1                 0     HONEY   \n",
       "2                 0     HONEY   \n",
       "3                 0     HONEY   \n",
       "4                 0     HONEY   \n",
       "..              ...       ...   \n",
       "247               0     HONEY   \n",
       "248               0     HONEY   \n",
       "249               0     HONEY   \n",
       "250               0     HONEY   \n",
       "251               0     HONEY   \n",
       "\n",
       "                                             Data Item  \\\n",
       "0    HONEY, BEE COLONIES - LOSS, COLONY COLLAPSE DI...   \n",
       "1    HONEY, BEE COLONIES - LOSS, COLONY COLLAPSE DI...   \n",
       "2    HONEY, BEE COLONIES - LOSS, COLONY COLLAPSE DI...   \n",
       "3    HONEY, BEE COLONIES - LOSS, COLONY COLLAPSE DI...   \n",
       "4    HONEY, BEE COLONIES - LOSS, COLONY COLLAPSE DI...   \n",
       "..                                                 ...   \n",
       "247  HONEY, BEE COLONIES - LOSS, COLONY COLLAPSE DI...   \n",
       "248  HONEY, BEE COLONIES - LOSS, COLONY COLLAPSE DI...   \n",
       "249  HONEY, BEE COLONIES - LOSS, COLONY COLLAPSE DI...   \n",
       "250  HONEY, BEE COLONIES - LOSS, COLONY COLLAPSE DI...   \n",
       "251  HONEY, BEE COLONIES - LOSS, COLONY COLLAPSE DI...   \n",
       "\n",
       "                        Domain  \\\n",
       "0                        TOTAL   \n",
       "1                        TOTAL   \n",
       "2                        TOTAL   \n",
       "3                        TOTAL   \n",
       "4                        TOTAL   \n",
       "..                         ...   \n",
       "247  INVENTORY OF BEE COLONIES   \n",
       "248                      TOTAL   \n",
       "249                      TOTAL   \n",
       "250                      TOTAL   \n",
       "251                      TOTAL   \n",
       "\n",
       "                                       Domain Category    Value  \n",
       "0                                        NOT SPECIFIED  105,240  \n",
       "1                                        NOT SPECIFIED       70  \n",
       "2                                        NOT SPECIFIED    4,300  \n",
       "3                                        NOT SPECIFIED      390  \n",
       "4                                        NOT SPECIFIED   19,000  \n",
       "..                                                 ...      ...  \n",
       "247  INVENTORY OF BEE COLONIES: (LESS THAN 5 COLONIES)    7,000  \n",
       "248                                      NOT SPECIFIED   92,250  \n",
       "249                                      NOT SPECIFIED   56,760  \n",
       "250                                      NOT SPECIFIED   88,390  \n",
       "251                                      NOT SPECIFIED   87,610  \n",
       "\n",
       "[252 rows x 12 columns]"
      ],
      "text/html": "<div>\n<style scoped>\n    .dataframe tbody tr th:only-of-type {\n        vertical-align: middle;\n    }\n\n    .dataframe tbody tr th {\n        vertical-align: top;\n    }\n\n    .dataframe thead th {\n        text-align: right;\n    }\n</style>\n<table border=\"1\" class=\"dataframe\">\n  <thead>\n    <tr style=\"text-align: right;\">\n      <th></th>\n      <th>Program</th>\n      <th>Year</th>\n      <th>Period</th>\n      <th>Geo Level</th>\n      <th>State</th>\n      <th>State ANSI</th>\n      <th>watershed_code</th>\n      <th>Commodity</th>\n      <th>Data Item</th>\n      <th>Domain</th>\n      <th>Domain Category</th>\n      <th>Value</th>\n    </tr>\n  </thead>\n  <tbody>\n    <tr>\n      <th>0</th>\n      <td>SURVEY</td>\n      <td>2020</td>\n      <td>JAN THRU MAR</td>\n      <td>NATIONAL</td>\n      <td>US TOTAL</td>\n      <td>NaN</td>\n      <td>0</td>\n      <td>HONEY</td>\n      <td>HONEY, BEE COLONIES - LOSS, COLONY COLLAPSE DI...</td>\n      <td>TOTAL</td>\n      <td>NOT SPECIFIED</td>\n      <td>105,240</td>\n    </tr>\n    <tr>\n      <th>1</th>\n      <td>SURVEY</td>\n      <td>2020</td>\n      <td>JAN THRU MAR</td>\n      <td>STATE</td>\n      <td>ALABAMA</td>\n      <td>1.0</td>\n      <td>0</td>\n      <td>HONEY</td>\n      <td>HONEY, BEE COLONIES - LOSS, COLONY COLLAPSE DI...</td>\n      <td>TOTAL</td>\n      <td>NOT SPECIFIED</td>\n      <td>70</td>\n    </tr>\n    <tr>\n      <th>2</th>\n      <td>SURVEY</td>\n      <td>2020</td>\n      <td>JAN THRU MAR</td>\n      <td>STATE</td>\n      <td>ARIZONA</td>\n      <td>4.0</td>\n      <td>0</td>\n      <td>HONEY</td>\n      <td>HONEY, BEE COLONIES - LOSS, COLONY COLLAPSE DI...</td>\n      <td>TOTAL</td>\n      <td>NOT SPECIFIED</td>\n      <td>4,300</td>\n    </tr>\n    <tr>\n      <th>3</th>\n      <td>SURVEY</td>\n      <td>2020</td>\n      <td>JAN THRU MAR</td>\n      <td>STATE</td>\n      <td>ARKANSAS</td>\n      <td>5.0</td>\n      <td>0</td>\n      <td>HONEY</td>\n      <td>HONEY, BEE COLONIES - LOSS, COLONY COLLAPSE DI...</td>\n      <td>TOTAL</td>\n      <td>NOT SPECIFIED</td>\n      <td>390</td>\n    </tr>\n    <tr>\n      <th>4</th>\n      <td>SURVEY</td>\n      <td>2020</td>\n      <td>JAN THRU MAR</td>\n      <td>STATE</td>\n      <td>CALIFORNIA</td>\n      <td>6.0</td>\n      <td>0</td>\n      <td>HONEY</td>\n      <td>HONEY, BEE COLONIES - LOSS, COLONY COLLAPSE DI...</td>\n      <td>TOTAL</td>\n      <td>NOT SPECIFIED</td>\n      <td>19,000</td>\n    </tr>\n    <tr>\n      <th>...</th>\n      <td>...</td>\n      <td>...</td>\n      <td>...</td>\n      <td>...</td>\n      <td>...</td>\n      <td>...</td>\n      <td>...</td>\n      <td>...</td>\n      <td>...</td>\n      <td>...</td>\n      <td>...</td>\n      <td>...</td>\n    </tr>\n    <tr>\n      <th>247</th>\n      <td>SURVEY</td>\n      <td>2015</td>\n      <td>YEAR</td>\n      <td>NATIONAL</td>\n      <td>US TOTAL</td>\n      <td>NaN</td>\n      <td>0</td>\n      <td>HONEY</td>\n      <td>HONEY, BEE COLONIES - LOSS, COLONY COLLAPSE DI...</td>\n      <td>INVENTORY OF BEE COLONIES</td>\n      <td>INVENTORY OF BEE COLONIES: (LESS THAN 5 COLONIES)</td>\n      <td>7,000</td>\n    </tr>\n    <tr>\n      <th>248</th>\n      <td>SURVEY</td>\n      <td>2015</td>\n      <td>JAN THRU MAR</td>\n      <td>NATIONAL</td>\n      <td>US TOTAL</td>\n      <td>NaN</td>\n      <td>0</td>\n      <td>HONEY</td>\n      <td>HONEY, BEE COLONIES - LOSS, COLONY COLLAPSE DI...</td>\n      <td>TOTAL</td>\n      <td>NOT SPECIFIED</td>\n      <td>92,250</td>\n    </tr>\n    <tr>\n      <th>249</th>\n      <td>SURVEY</td>\n      <td>2015</td>\n      <td>APR THRU JUN</td>\n      <td>NATIONAL</td>\n      <td>US TOTAL</td>\n      <td>NaN</td>\n      <td>0</td>\n      <td>HONEY</td>\n      <td>HONEY, BEE COLONIES - LOSS, COLONY COLLAPSE DI...</td>\n      <td>TOTAL</td>\n      <td>NOT SPECIFIED</td>\n      <td>56,760</td>\n    </tr>\n    <tr>\n      <th>250</th>\n      <td>SURVEY</td>\n      <td>2015</td>\n      <td>JUL THRU SEP</td>\n      <td>NATIONAL</td>\n      <td>US TOTAL</td>\n      <td>NaN</td>\n      <td>0</td>\n      <td>HONEY</td>\n      <td>HONEY, BEE COLONIES - LOSS, COLONY COLLAPSE DI...</td>\n      <td>TOTAL</td>\n      <td>NOT SPECIFIED</td>\n      <td>88,390</td>\n    </tr>\n    <tr>\n      <th>251</th>\n      <td>SURVEY</td>\n      <td>2015</td>\n      <td>OCT THRU DEC</td>\n      <td>NATIONAL</td>\n      <td>US TOTAL</td>\n      <td>NaN</td>\n      <td>0</td>\n      <td>HONEY</td>\n      <td>HONEY, BEE COLONIES - LOSS, COLONY COLLAPSE DI...</td>\n      <td>TOTAL</td>\n      <td>NOT SPECIFIED</td>\n      <td>87,610</td>\n    </tr>\n  </tbody>\n</table>\n<p>252 rows × 12 columns</p>\n</div>"
     },
     "metadata": {},
     "execution_count": 2
    }
   ],
   "source": [
    "deadout_df = pd.read_csv(\"bee_data/bee_loss_deadout.csv\")\n",
    "collapse_df = pd.read_csv(\"bee_data/colony_collapse_bees.csv\")\n",
    "\n",
    "deadout_df.dropna(axis=1, how=\"all\").copy()\n",
    "collapse_df.dropna(axis=1, how=\"all\").copy()"
   ]
  },
  {
   "cell_type": "code",
   "execution_count": null,
   "metadata": {},
   "outputs": [],
   "source": []
  }
 ]
}