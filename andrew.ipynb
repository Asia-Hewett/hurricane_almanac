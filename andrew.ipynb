{
 "metadata": {
  "language_info": {
   "codemirror_mode": {
    "name": "ipython",
    "version": 3
   },
   "file_extension": ".py",
   "mimetype": "text/x-python",
   "name": "python",
   "nbconvert_exporter": "python",
   "pygments_lexer": "ipython3",
   "version": "3.7.6-final"
  },
  "orig_nbformat": 2,
  "kernelspec": {
   "name": "python3",
   "display_name": "Python 3",
   "language": "python"
  }
 },
 "nbformat": 4,
 "nbformat_minor": 2,
 "cells": [
  {
   "cell_type": "code",
   "execution_count": 1,
   "metadata": {},
   "outputs": [],
   "source": [
    "import pandas as pd\n",
    "import csv\n",
    "import matplotlib as plot"
   ]
  },
  {
   "cell_type": "code",
   "execution_count": 2,
   "metadata": {},
   "outputs": [
    {
     "output_type": "execute_result",
     "data": {
      "text/plain": [
       "    Program  Year        Period Geo Level       State  State ANSI  \\\n",
       "0    SURVEY  2020  JAN THRU MAR  NATIONAL    US TOTAL         NaN   \n",
       "1    SURVEY  2020  JAN THRU MAR     STATE     ALABAMA         1.0   \n",
       "2    SURVEY  2020  JAN THRU MAR     STATE     ARIZONA         4.0   \n",
       "3    SURVEY  2020  JAN THRU MAR     STATE    ARKANSAS         5.0   \n",
       "4    SURVEY  2020  JAN THRU MAR     STATE  CALIFORNIA         6.0   \n",
       "..      ...   ...           ...       ...         ...         ...   \n",
       "247  SURVEY  2015          YEAR  NATIONAL    US TOTAL         NaN   \n",
       "248  SURVEY  2015  JAN THRU MAR  NATIONAL    US TOTAL         NaN   \n",
       "249  SURVEY  2015  APR THRU JUN  NATIONAL    US TOTAL         NaN   \n",
       "250  SURVEY  2015  JUL THRU SEP  NATIONAL    US TOTAL         NaN   \n",
       "251  SURVEY  2015  OCT THRU DEC  NATIONAL    US TOTAL         NaN   \n",
       "\n",
       "     watershed_code Commodity  \\\n",
       "0                 0     HONEY   \n",
       "1                 0     HONEY   \n",
       "2                 0     HONEY   \n",
       "3                 0     HONEY   \n",
       "4                 0     HONEY   \n",
       "..              ...       ...   \n",
       "247               0     HONEY   \n",
       "248               0     HONEY   \n",
       "249               0     HONEY   \n",
       "250               0     HONEY   \n",
       "251               0     HONEY   \n",
       "\n",
       "                                             Data Item  \\\n",
       "0    HONEY, BEE COLONIES - LOSS, COLONY COLLAPSE DI...   \n",
       "1    HONEY, BEE COLONIES - LOSS, COLONY COLLAPSE DI...   \n",
       "2    HONEY, BEE COLONIES - LOSS, COLONY COLLAPSE DI...   \n",
       "3    HONEY, BEE COLONIES - LOSS, COLONY COLLAPSE DI...   \n",
       "4    HONEY, BEE COLONIES - LOSS, COLONY COLLAPSE DI...   \n",
       "..                                                 ...   \n",
       "247  HONEY, BEE COLONIES - LOSS, COLONY COLLAPSE DI...   \n",
       "248  HONEY, BEE COLONIES - LOSS, COLONY COLLAPSE DI...   \n",
       "249  HONEY, BEE COLONIES - LOSS, COLONY COLLAPSE DI...   \n",
       "250  HONEY, BEE COLONIES - LOSS, COLONY COLLAPSE DI...   \n",
       "251  HONEY, BEE COLONIES - LOSS, COLONY COLLAPSE DI...   \n",
       "\n",
       "                        Domain  \\\n",
       "0                        TOTAL   \n",
       "1                        TOTAL   \n",
       "2                        TOTAL   \n",
       "3                        TOTAL   \n",
       "4                        TOTAL   \n",
       "..                         ...   \n",
       "247  INVENTORY OF BEE COLONIES   \n",
       "248                      TOTAL   \n",
       "249                      TOTAL   \n",
       "250                      TOTAL   \n",
       "251                      TOTAL   \n",
       "\n",
       "                                       Domain Category    Value  \n",
       "0                                        NOT SPECIFIED  105,240  \n",
       "1                                        NOT SPECIFIED       70  \n",
       "2                                        NOT SPECIFIED    4,300  \n",
       "3                                        NOT SPECIFIED      390  \n",
       "4                                        NOT SPECIFIED   19,000  \n",
       "..                                                 ...      ...  \n",
       "247  INVENTORY OF BEE COLONIES: (LESS THAN 5 COLONIES)    7,000  \n",
       "248                                      NOT SPECIFIED   92,250  \n",
       "249                                      NOT SPECIFIED   56,760  \n",
       "250                                      NOT SPECIFIED   88,390  \n",
       "251                                      NOT SPECIFIED   87,610  \n",
       "\n",
       "[252 rows x 12 columns]"
      ],
      "text/html": "<div>\n<style scoped>\n    .dataframe tbody tr th:only-of-type {\n        vertical-align: middle;\n    }\n\n    .dataframe tbody tr th {\n        vertical-align: top;\n    }\n\n    .dataframe thead th {\n        text-align: right;\n    }\n</style>\n<table border=\"1\" class=\"dataframe\">\n  <thead>\n    <tr style=\"text-align: right;\">\n      <th></th>\n      <th>Program</th>\n      <th>Year</th>\n      <th>Period</th>\n      <th>Geo Level</th>\n      <th>State</th>\n      <th>State ANSI</th>\n      <th>watershed_code</th>\n      <th>Commodity</th>\n      <th>Data Item</th>\n      <th>Domain</th>\n      <th>Domain Category</th>\n      <th>Value</th>\n    </tr>\n  </thead>\n  <tbody>\n    <tr>\n      <th>0</th>\n      <td>SURVEY</td>\n      <td>2020</td>\n      <td>JAN THRU MAR</td>\n      <td>NATIONAL</td>\n      <td>US TOTAL</td>\n      <td>NaN</td>\n      <td>0</td>\n      <td>HONEY</td>\n      <td>HONEY, BEE COLONIES - LOSS, COLONY COLLAPSE DI...</td>\n      <td>TOTAL</td>\n      <td>NOT SPECIFIED</td>\n      <td>105,240</td>\n    </tr>\n    <tr>\n      <th>1</th>\n      <td>SURVEY</td>\n      <td>2020</td>\n      <td>JAN THRU MAR</td>\n      <td>STATE</td>\n      <td>ALABAMA</td>\n      <td>1.0</td>\n      <td>0</td>\n      <td>HONEY</td>\n      <td>HONEY, BEE COLONIES - LOSS, COLONY COLLAPSE DI...</td>\n      <td>TOTAL</td>\n      <td>NOT SPECIFIED</td>\n      <td>70</td>\n    </tr>\n    <tr>\n      <th>2</th>\n      <td>SURVEY</td>\n      <td>2020</td>\n      <td>JAN THRU MAR</td>\n      <td>STATE</td>\n      <td>ARIZONA</td>\n      <td>4.0</td>\n      <td>0</td>\n      <td>HONEY</td>\n      <td>HONEY, BEE COLONIES - LOSS, COLONY COLLAPSE DI...</td>\n      <td>TOTAL</td>\n      <td>NOT SPECIFIED</td>\n      <td>4,300</td>\n    </tr>\n    <tr>\n      <th>3</th>\n      <td>SURVEY</td>\n      <td>2020</td>\n      <td>JAN THRU MAR</td>\n      <td>STATE</td>\n      <td>ARKANSAS</td>\n      <td>5.0</td>\n      <td>0</td>\n      <td>HONEY</td>\n      <td>HONEY, BEE COLONIES - LOSS, COLONY COLLAPSE DI...</td>\n      <td>TOTAL</td>\n      <td>NOT SPECIFIED</td>\n      <td>390</td>\n    </tr>\n    <tr>\n      <th>4</th>\n      <td>SURVEY</td>\n      <td>2020</td>\n      <td>JAN THRU MAR</td>\n      <td>STATE</td>\n      <td>CALIFORNIA</td>\n      <td>6.0</td>\n      <td>0</td>\n      <td>HONEY</td>\n      <td>HONEY, BEE COLONIES - LOSS, COLONY COLLAPSE DI...</td>\n      <td>TOTAL</td>\n      <td>NOT SPECIFIED</td>\n      <td>19,000</td>\n    </tr>\n    <tr>\n      <th>...</th>\n      <td>...</td>\n      <td>...</td>\n      <td>...</td>\n      <td>...</td>\n      <td>...</td>\n      <td>...</td>\n      <td>...</td>\n      <td>...</td>\n      <td>...</td>\n      <td>...</td>\n      <td>...</td>\n      <td>...</td>\n    </tr>\n    <tr>\n      <th>247</th>\n      <td>SURVEY</td>\n      <td>2015</td>\n      <td>YEAR</td>\n      <td>NATIONAL</td>\n      <td>US TOTAL</td>\n      <td>NaN</td>\n      <td>0</td>\n      <td>HONEY</td>\n      <td>HONEY, BEE COLONIES - LOSS, COLONY COLLAPSE DI...</td>\n      <td>INVENTORY OF BEE COLONIES</td>\n      <td>INVENTORY OF BEE COLONIES: (LESS THAN 5 COLONIES)</td>\n      <td>7,000</td>\n    </tr>\n    <tr>\n      <th>248</th>\n      <td>SURVEY</td>\n      <td>2015</td>\n      <td>JAN THRU MAR</td>\n      <td>NATIONAL</td>\n      <td>US TOTAL</td>\n      <td>NaN</td>\n      <td>0</td>\n      <td>HONEY</td>\n      <td>HONEY, BEE COLONIES - LOSS, COLONY COLLAPSE DI...</td>\n      <td>TOTAL</td>\n      <td>NOT SPECIFIED</td>\n      <td>92,250</td>\n    </tr>\n    <tr>\n      <th>249</th>\n      <td>SURVEY</td>\n      <td>2015</td>\n      <td>APR THRU JUN</td>\n      <td>NATIONAL</td>\n      <td>US TOTAL</td>\n      <td>NaN</td>\n      <td>0</td>\n      <td>HONEY</td>\n      <td>HONEY, BEE COLONIES - LOSS, COLONY COLLAPSE DI...</td>\n      <td>TOTAL</td>\n      <td>NOT SPECIFIED</td>\n      <td>56,760</td>\n    </tr>\n    <tr>\n      <th>250</th>\n      <td>SURVEY</td>\n      <td>2015</td>\n      <td>JUL THRU SEP</td>\n      <td>NATIONAL</td>\n      <td>US TOTAL</td>\n      <td>NaN</td>\n      <td>0</td>\n      <td>HONEY</td>\n      <td>HONEY, BEE COLONIES - LOSS, COLONY COLLAPSE DI...</td>\n      <td>TOTAL</td>\n      <td>NOT SPECIFIED</td>\n      <td>88,390</td>\n    </tr>\n    <tr>\n      <th>251</th>\n      <td>SURVEY</td>\n      <td>2015</td>\n      <td>OCT THRU DEC</td>\n      <td>NATIONAL</td>\n      <td>US TOTAL</td>\n      <td>NaN</td>\n      <td>0</td>\n      <td>HONEY</td>\n      <td>HONEY, BEE COLONIES - LOSS, COLONY COLLAPSE DI...</td>\n      <td>TOTAL</td>\n      <td>NOT SPECIFIED</td>\n      <td>87,610</td>\n    </tr>\n  </tbody>\n</table>\n<p>252 rows × 12 columns</p>\n</div>"
     },
     "metadata": {},
     "execution_count": 2
    }
   ],
   "source": [
    "deadout_df = pd.read_csv(\"bee_data/bee_loss_deadout.csv\")\n",
    "collapse_df = pd.read_csv(\"bee_data/colony_collapse_bees.csv\")\n",
    "\n",
    "deadout_df.dropna(axis=1, how=\"all\").copy()\n",
    "collapse_df.dropna(axis=1, how=\"all\").copy()"
   ]
  },
  {
   "cell_type": "code",
   "execution_count": 3,
   "metadata": {},
   "outputs": [
    {
     "output_type": "execute_result",
     "data": {
      "text/plain": [
       "     year          state  deadout\n",
       "188  2019        ALABAMA     2300\n",
       "189  2019        ARIZONA    11500\n",
       "190  2019       ARKANSAS    10200\n",
       "191  2019     CALIFORNIA   464000\n",
       "192  2019       COLORADO    17820\n",
       "..    ...            ...      ...\n",
       "277  2020       VIRGINIA     2300\n",
       "278  2020     WASHINGTON     4600\n",
       "279  2020  WEST VIRGINIA     1670\n",
       "280  2020      WISCONSIN     3200\n",
       "281  2020        WYOMING     1740\n",
       "\n",
       "[94 rows x 3 columns]"
      ],
      "text/html": "<div>\n<style scoped>\n    .dataframe tbody tr th:only-of-type {\n        vertical-align: middle;\n    }\n\n    .dataframe tbody tr th {\n        vertical-align: top;\n    }\n\n    .dataframe thead th {\n        text-align: right;\n    }\n</style>\n<table border=\"1\" class=\"dataframe\">\n  <thead>\n    <tr style=\"text-align: right;\">\n      <th></th>\n      <th>year</th>\n      <th>state</th>\n      <th>deadout</th>\n    </tr>\n  </thead>\n  <tbody>\n    <tr>\n      <th>188</th>\n      <td>2019</td>\n      <td>ALABAMA</td>\n      <td>2300</td>\n    </tr>\n    <tr>\n      <th>189</th>\n      <td>2019</td>\n      <td>ARIZONA</td>\n      <td>11500</td>\n    </tr>\n    <tr>\n      <th>190</th>\n      <td>2019</td>\n      <td>ARKANSAS</td>\n      <td>10200</td>\n    </tr>\n    <tr>\n      <th>191</th>\n      <td>2019</td>\n      <td>CALIFORNIA</td>\n      <td>464000</td>\n    </tr>\n    <tr>\n      <th>192</th>\n      <td>2019</td>\n      <td>COLORADO</td>\n      <td>17820</td>\n    </tr>\n    <tr>\n      <th>...</th>\n      <td>...</td>\n      <td>...</td>\n      <td>...</td>\n    </tr>\n    <tr>\n      <th>277</th>\n      <td>2020</td>\n      <td>VIRGINIA</td>\n      <td>2300</td>\n    </tr>\n    <tr>\n      <th>278</th>\n      <td>2020</td>\n      <td>WASHINGTON</td>\n      <td>4600</td>\n    </tr>\n    <tr>\n      <th>279</th>\n      <td>2020</td>\n      <td>WEST VIRGINIA</td>\n      <td>1670</td>\n    </tr>\n    <tr>\n      <th>280</th>\n      <td>2020</td>\n      <td>WISCONSIN</td>\n      <td>3200</td>\n    </tr>\n    <tr>\n      <th>281</th>\n      <td>2020</td>\n      <td>WYOMING</td>\n      <td>1740</td>\n    </tr>\n  </tbody>\n</table>\n<p>94 rows × 3 columns</p>\n</div>"
     },
     "metadata": {},
     "execution_count": 3
    }
   ],
   "source": [
    "deadout_df[\"Value\"] = deadout_df[\"Value\"].str.replace(\",\",\"\")\n",
    "deadout_df['Value'] = deadout_df['Value'].astype('int64')\n",
    "deadout = deadout_df.groupby(['Year', 'State',], as_index=False)[['Value']].sum()\n",
    "deadout = deadout.loc[deadout['Year'] >= 2019]\n",
    "deadout = deadout.rename(columns = {\n",
    "    'Year': 'year',\n",
    "    'State': 'state',\n",
    "    'Value': 'deadout'\n",
    "    })\n",
    "deadout"
   ]
  },
  {
   "cell_type": "code",
   "execution_count": 4,
   "metadata": {},
   "outputs": [
    {
     "output_type": "execute_result",
     "data": {
      "text/plain": [
       "    year          state  cc_syn\n",
       "4   2019        ALABAMA     430\n",
       "5   2019        ARIZONA    5670\n",
       "6   2019       ARKANSAS    1870\n",
       "7   2019     CALIFORNIA   44500\n",
       "8   2019       COLORADO    4600\n",
       "..   ...            ...     ...\n",
       "92  2020       VIRGINIA     540\n",
       "93  2020     WASHINGTON    6870\n",
       "94  2020  WEST VIRGINIA     330\n",
       "95  2020      WISCONSIN    1690\n",
       "96  2020        WYOMING    2000\n",
       "\n",
       "[93 rows x 3 columns]"
      ],
      "text/html": "<div>\n<style scoped>\n    .dataframe tbody tr th:only-of-type {\n        vertical-align: middle;\n    }\n\n    .dataframe tbody tr th {\n        vertical-align: top;\n    }\n\n    .dataframe thead th {\n        text-align: right;\n    }\n</style>\n<table border=\"1\" class=\"dataframe\">\n  <thead>\n    <tr style=\"text-align: right;\">\n      <th></th>\n      <th>year</th>\n      <th>state</th>\n      <th>cc_syn</th>\n    </tr>\n  </thead>\n  <tbody>\n    <tr>\n      <th>4</th>\n      <td>2019</td>\n      <td>ALABAMA</td>\n      <td>430</td>\n    </tr>\n    <tr>\n      <th>5</th>\n      <td>2019</td>\n      <td>ARIZONA</td>\n      <td>5670</td>\n    </tr>\n    <tr>\n      <th>6</th>\n      <td>2019</td>\n      <td>ARKANSAS</td>\n      <td>1870</td>\n    </tr>\n    <tr>\n      <th>7</th>\n      <td>2019</td>\n      <td>CALIFORNIA</td>\n      <td>44500</td>\n    </tr>\n    <tr>\n      <th>8</th>\n      <td>2019</td>\n      <td>COLORADO</td>\n      <td>4600</td>\n    </tr>\n    <tr>\n      <th>...</th>\n      <td>...</td>\n      <td>...</td>\n      <td>...</td>\n    </tr>\n    <tr>\n      <th>92</th>\n      <td>2020</td>\n      <td>VIRGINIA</td>\n      <td>540</td>\n    </tr>\n    <tr>\n      <th>93</th>\n      <td>2020</td>\n      <td>WASHINGTON</td>\n      <td>6870</td>\n    </tr>\n    <tr>\n      <th>94</th>\n      <td>2020</td>\n      <td>WEST VIRGINIA</td>\n      <td>330</td>\n    </tr>\n    <tr>\n      <th>95</th>\n      <td>2020</td>\n      <td>WISCONSIN</td>\n      <td>1690</td>\n    </tr>\n    <tr>\n      <th>96</th>\n      <td>2020</td>\n      <td>WYOMING</td>\n      <td>2000</td>\n    </tr>\n  </tbody>\n</table>\n<p>93 rows × 3 columns</p>\n</div>"
     },
     "metadata": {},
     "execution_count": 4
    }
   ],
   "source": [
    "collapse_df[\"Value\"] = collapse_df[\"Value\"].str.replace(\",\",\"\")\n",
    "collapse_df['Value'] = collapse_df['Value'].astype('int64')\n",
    "collapse = collapse_df.groupby(['Year', 'State',], as_index=False)[['Value']].sum()\n",
    "collapse = collapse.loc[collapse['Year'] >= 2019]\n",
    "collapse = collapse.rename(columns = {\n",
    "    'Year': 'year',\n",
    "    'State': 'state',\n",
    "    'Value': 'cc_syn'\n",
    "    })\n",
    "collapse"
   ]
  }
 ]
}