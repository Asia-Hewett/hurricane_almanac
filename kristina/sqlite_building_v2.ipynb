{
 "cells": [
  {
   "cell_type": "code",
   "execution_count": 1,
   "metadata": {},
   "outputs": [],
   "source": [
    "# import dependencies\n",
    "import pandas as pd\n",
    "from sqlalchemy import create_engine\n",
    "import requests"
   ]
  },
  {
   "cell_type": "code",
   "execution_count": 2,
   "metadata": {},
   "outputs": [
    {
     "data": {
      "text/html": [
       "<div>\n",
       "<style scoped>\n",
       "    .dataframe tbody tr th:only-of-type {\n",
       "        vertical-align: middle;\n",
       "    }\n",
       "\n",
       "    .dataframe tbody tr th {\n",
       "        vertical-align: top;\n",
       "    }\n",
       "\n",
       "    .dataframe thead th {\n",
       "        text-align: right;\n",
       "    }\n",
       "</style>\n",
       "<table border=\"1\" class=\"dataframe\">\n",
       "  <thead>\n",
       "    <tr style=\"text-align: right;\">\n",
       "      <th></th>\n",
       "      <th>Program</th>\n",
       "      <th>Year</th>\n",
       "      <th>Period</th>\n",
       "      <th>Week Ending</th>\n",
       "      <th>Geo Level</th>\n",
       "      <th>State</th>\n",
       "      <th>State ANSI</th>\n",
       "      <th>Ag District</th>\n",
       "      <th>Ag District Code</th>\n",
       "      <th>County</th>\n",
       "      <th>...</th>\n",
       "      <th>Zip Code</th>\n",
       "      <th>Region</th>\n",
       "      <th>watershed_code</th>\n",
       "      <th>Watershed</th>\n",
       "      <th>Commodity</th>\n",
       "      <th>Data Item</th>\n",
       "      <th>Domain</th>\n",
       "      <th>Domain Category</th>\n",
       "      <th>Value</th>\n",
       "      <th>CV (%)</th>\n",
       "    </tr>\n",
       "  </thead>\n",
       "  <tbody>\n",
       "    <tr>\n",
       "      <th>0</th>\n",
       "      <td>SURVEY</td>\n",
       "      <td>2019</td>\n",
       "      <td>MID DEC</td>\n",
       "      <td>NaN</td>\n",
       "      <td>NATIONAL</td>\n",
       "      <td>US TOTAL</td>\n",
       "      <td>NaN</td>\n",
       "      <td>NaN</td>\n",
       "      <td>NaN</td>\n",
       "      <td>NaN</td>\n",
       "      <td>...</td>\n",
       "      <td>NaN</td>\n",
       "      <td>NaN</td>\n",
       "      <td>0</td>\n",
       "      <td>NaN</td>\n",
       "      <td>HONEY</td>\n",
       "      <td>HONEY - STOCKS, MEASURED IN LB</td>\n",
       "      <td>TOTAL</td>\n",
       "      <td>NOT SPECIFIED</td>\n",
       "      <td>41,022,000</td>\n",
       "      <td>NaN</td>\n",
       "    </tr>\n",
       "    <tr>\n",
       "      <th>1</th>\n",
       "      <td>SURVEY</td>\n",
       "      <td>2019</td>\n",
       "      <td>MID DEC</td>\n",
       "      <td>NaN</td>\n",
       "      <td>STATE</td>\n",
       "      <td>ALABAMA</td>\n",
       "      <td>1.0</td>\n",
       "      <td>NaN</td>\n",
       "      <td>NaN</td>\n",
       "      <td>NaN</td>\n",
       "      <td>...</td>\n",
       "      <td>NaN</td>\n",
       "      <td>NaN</td>\n",
       "      <td>0</td>\n",
       "      <td>NaN</td>\n",
       "      <td>HONEY</td>\n",
       "      <td>HONEY - STOCKS, MEASURED IN LB</td>\n",
       "      <td>TOTAL</td>\n",
       "      <td>NOT SPECIFIED</td>\n",
       "      <td>44,000</td>\n",
       "      <td>NaN</td>\n",
       "    </tr>\n",
       "    <tr>\n",
       "      <th>2</th>\n",
       "      <td>SURVEY</td>\n",
       "      <td>2019</td>\n",
       "      <td>MID DEC</td>\n",
       "      <td>NaN</td>\n",
       "      <td>STATE</td>\n",
       "      <td>ARIZONA</td>\n",
       "      <td>4.0</td>\n",
       "      <td>NaN</td>\n",
       "      <td>NaN</td>\n",
       "      <td>NaN</td>\n",
       "      <td>...</td>\n",
       "      <td>NaN</td>\n",
       "      <td>NaN</td>\n",
       "      <td>0</td>\n",
       "      <td>NaN</td>\n",
       "      <td>HONEY</td>\n",
       "      <td>HONEY - STOCKS, MEASURED IN LB</td>\n",
       "      <td>TOTAL</td>\n",
       "      <td>NOT SPECIFIED</td>\n",
       "      <td>201,000</td>\n",
       "      <td>NaN</td>\n",
       "    </tr>\n",
       "    <tr>\n",
       "      <th>3</th>\n",
       "      <td>SURVEY</td>\n",
       "      <td>2019</td>\n",
       "      <td>MID DEC</td>\n",
       "      <td>NaN</td>\n",
       "      <td>STATE</td>\n",
       "      <td>ARKANSAS</td>\n",
       "      <td>5.0</td>\n",
       "      <td>NaN</td>\n",
       "      <td>NaN</td>\n",
       "      <td>NaN</td>\n",
       "      <td>...</td>\n",
       "      <td>NaN</td>\n",
       "      <td>NaN</td>\n",
       "      <td>0</td>\n",
       "      <td>NaN</td>\n",
       "      <td>HONEY</td>\n",
       "      <td>HONEY - STOCKS, MEASURED IN LB</td>\n",
       "      <td>TOTAL</td>\n",
       "      <td>NOT SPECIFIED</td>\n",
       "      <td>176,000</td>\n",
       "      <td>NaN</td>\n",
       "    </tr>\n",
       "    <tr>\n",
       "      <th>4</th>\n",
       "      <td>SURVEY</td>\n",
       "      <td>2019</td>\n",
       "      <td>MID DEC</td>\n",
       "      <td>NaN</td>\n",
       "      <td>STATE</td>\n",
       "      <td>CALIFORNIA</td>\n",
       "      <td>6.0</td>\n",
       "      <td>NaN</td>\n",
       "      <td>NaN</td>\n",
       "      <td>NaN</td>\n",
       "      <td>...</td>\n",
       "      <td>NaN</td>\n",
       "      <td>NaN</td>\n",
       "      <td>0</td>\n",
       "      <td>NaN</td>\n",
       "      <td>HONEY</td>\n",
       "      <td>HONEY - STOCKS, MEASURED IN LB</td>\n",
       "      <td>TOTAL</td>\n",
       "      <td>NOT SPECIFIED</td>\n",
       "      <td>3,216,000</td>\n",
       "      <td>NaN</td>\n",
       "    </tr>\n",
       "  </tbody>\n",
       "</table>\n",
       "<p>5 rows × 21 columns</p>\n",
       "</div>"
      ],
      "text/plain": [
       "  Program  Year   Period  Week Ending Geo Level       State  State ANSI  \\\n",
       "0  SURVEY  2019  MID DEC          NaN  NATIONAL    US TOTAL         NaN   \n",
       "1  SURVEY  2019  MID DEC          NaN     STATE     ALABAMA         1.0   \n",
       "2  SURVEY  2019  MID DEC          NaN     STATE     ARIZONA         4.0   \n",
       "3  SURVEY  2019  MID DEC          NaN     STATE    ARKANSAS         5.0   \n",
       "4  SURVEY  2019  MID DEC          NaN     STATE  CALIFORNIA         6.0   \n",
       "\n",
       "   Ag District  Ag District Code  County  ...  Zip Code  Region  \\\n",
       "0          NaN               NaN     NaN  ...       NaN     NaN   \n",
       "1          NaN               NaN     NaN  ...       NaN     NaN   \n",
       "2          NaN               NaN     NaN  ...       NaN     NaN   \n",
       "3          NaN               NaN     NaN  ...       NaN     NaN   \n",
       "4          NaN               NaN     NaN  ...       NaN     NaN   \n",
       "\n",
       "   watershed_code  Watershed  Commodity                       Data Item  \\\n",
       "0               0        NaN      HONEY  HONEY - STOCKS, MEASURED IN LB   \n",
       "1               0        NaN      HONEY  HONEY - STOCKS, MEASURED IN LB   \n",
       "2               0        NaN      HONEY  HONEY - STOCKS, MEASURED IN LB   \n",
       "3               0        NaN      HONEY  HONEY - STOCKS, MEASURED IN LB   \n",
       "4               0        NaN      HONEY  HONEY - STOCKS, MEASURED IN LB   \n",
       "\n",
       "  Domain Domain Category       Value CV (%)  \n",
       "0  TOTAL   NOT SPECIFIED  41,022,000    NaN  \n",
       "1  TOTAL   NOT SPECIFIED      44,000    NaN  \n",
       "2  TOTAL   NOT SPECIFIED     201,000    NaN  \n",
       "3  TOTAL   NOT SPECIFIED     176,000    NaN  \n",
       "4  TOTAL   NOT SPECIFIED   3,216,000    NaN  \n",
       "\n",
       "[5 rows x 21 columns]"
      ]
     },
     "execution_count": 2,
     "metadata": {},
     "output_type": "execute_result"
    }
   ],
   "source": [
    "# load in csvs and store in dataframe\n",
    "honey_path = \"../bee_data/6honey.csv\"\n",
    "colony_path = \"../bee_data/bee_colonies_state.csv\"\n",
    "\n",
    "honey_df = pd.read_csv(honey_path)\n",
    "colony_df = pd.read_csv(colony_path)\n",
    "\n",
    "honey_df.head()\n",
    "#colony_df.head()"
   ]
  },
  {
   "cell_type": "markdown",
   "metadata": {},
   "source": [
    "# HONEY"
   ]
  },
  {
   "cell_type": "code",
   "execution_count": null,
   "metadata": {},
   "outputs": [],
   "source": [
    "honey_cleanup = honey_df[['Year', 'Period', 'State','Commodity','Data Item','Domain','Domain Category','Value']]\n",
    "honey_cleanup.head()"
   ]
  },
  {
   "cell_type": "code",
   "execution_count": null,
   "metadata": {},
   "outputs": [],
   "source": [
    "clean_honey = honey_cleanup[['Year','State','Value']].copy()\n",
    "clean_honey.head()"
   ]
  },
  {
   "cell_type": "code",
   "execution_count": null,
   "metadata": {},
   "outputs": [],
   "source": [
    "clean_honey['Value'] = clean_honey['Value'].str.replace(',','')"
   ]
  },
  {
   "cell_type": "code",
   "execution_count": null,
   "metadata": {},
   "outputs": [],
   "source": [
    "clean_honey['Value'] = clean_honey['Value'].astype(int)\n",
    "clean_honey.head()"
   ]
  },
  {
   "cell_type": "code",
   "execution_count": null,
   "metadata": {},
   "outputs": [],
   "source": [
    "cleaned_honey = clean_honey.rename(columns={'Year':'year','State':'state','Value':'lbs_of_honey'})\n",
    "cleaned_honey.to_csv(\"honey.csv\")"
   ]
  },
  {
   "cell_type": "markdown",
   "metadata": {},
   "source": [
    "# COLONIES"
   ]
  },
  {
   "cell_type": "code",
   "execution_count": 3,
   "metadata": {},
   "outputs": [
    {
     "data": {
      "text/html": [
       "<div>\n",
       "<style scoped>\n",
       "    .dataframe tbody tr th:only-of-type {\n",
       "        vertical-align: middle;\n",
       "    }\n",
       "\n",
       "    .dataframe tbody tr th {\n",
       "        vertical-align: top;\n",
       "    }\n",
       "\n",
       "    .dataframe thead th {\n",
       "        text-align: right;\n",
       "    }\n",
       "</style>\n",
       "<table border=\"1\" class=\"dataframe\">\n",
       "  <thead>\n",
       "    <tr style=\"text-align: right;\">\n",
       "      <th></th>\n",
       "      <th>Year</th>\n",
       "      <th>Period</th>\n",
       "      <th>State</th>\n",
       "      <th>Commodity</th>\n",
       "      <th>Data Item</th>\n",
       "      <th>Domain</th>\n",
       "      <th>Domain Category</th>\n",
       "      <th>Value</th>\n",
       "    </tr>\n",
       "  </thead>\n",
       "  <tbody>\n",
       "    <tr>\n",
       "      <th>0</th>\n",
       "      <td>2020</td>\n",
       "      <td>FIRST OF JAN</td>\n",
       "      <td>US TOTAL</td>\n",
       "      <td>HONEY</td>\n",
       "      <td>HONEY, BEE COLONIES - INVENTORY, MEASURED IN C...</td>\n",
       "      <td>TOTAL</td>\n",
       "      <td>NOT SPECIFIED</td>\n",
       "      <td>2,876,100</td>\n",
       "    </tr>\n",
       "    <tr>\n",
       "      <th>1</th>\n",
       "      <td>2020</td>\n",
       "      <td>FIRST OF JAN</td>\n",
       "      <td>ALABAMA</td>\n",
       "      <td>HONEY</td>\n",
       "      <td>HONEY, BEE COLONIES - INVENTORY, MEASURED IN C...</td>\n",
       "      <td>TOTAL</td>\n",
       "      <td>NOT SPECIFIED</td>\n",
       "      <td>5,500</td>\n",
       "    </tr>\n",
       "    <tr>\n",
       "      <th>2</th>\n",
       "      <td>2020</td>\n",
       "      <td>FIRST OF JAN</td>\n",
       "      <td>ARIZONA</td>\n",
       "      <td>HONEY</td>\n",
       "      <td>HONEY, BEE COLONIES - INVENTORY, MEASURED IN C...</td>\n",
       "      <td>TOTAL</td>\n",
       "      <td>NOT SPECIFIED</td>\n",
       "      <td>29,000</td>\n",
       "    </tr>\n",
       "    <tr>\n",
       "      <th>3</th>\n",
       "      <td>2020</td>\n",
       "      <td>FIRST OF JAN</td>\n",
       "      <td>ARKANSAS</td>\n",
       "      <td>HONEY</td>\n",
       "      <td>HONEY, BEE COLONIES - INVENTORY, MEASURED IN C...</td>\n",
       "      <td>TOTAL</td>\n",
       "      <td>NOT SPECIFIED</td>\n",
       "      <td>16,500</td>\n",
       "    </tr>\n",
       "    <tr>\n",
       "      <th>4</th>\n",
       "      <td>2020</td>\n",
       "      <td>FIRST OF JAN</td>\n",
       "      <td>CALIFORNIA</td>\n",
       "      <td>HONEY</td>\n",
       "      <td>HONEY, BEE COLONIES - INVENTORY, MEASURED IN C...</td>\n",
       "      <td>TOTAL</td>\n",
       "      <td>NOT SPECIFIED</td>\n",
       "      <td>1,350,000</td>\n",
       "    </tr>\n",
       "    <tr>\n",
       "      <th>...</th>\n",
       "      <td>...</td>\n",
       "      <td>...</td>\n",
       "      <td>...</td>\n",
       "      <td>...</td>\n",
       "      <td>...</td>\n",
       "      <td>...</td>\n",
       "      <td>...</td>\n",
       "      <td>...</td>\n",
       "    </tr>\n",
       "    <tr>\n",
       "      <th>2464</th>\n",
       "      <td>1987</td>\n",
       "      <td>MARKETING YEAR</td>\n",
       "      <td>VIRGINIA</td>\n",
       "      <td>HONEY</td>\n",
       "      <td>HONEY, BEE COLONIES - INVENTORY, MEASURED IN C...</td>\n",
       "      <td>TOTAL</td>\n",
       "      <td>NOT SPECIFIED</td>\n",
       "      <td>25,000</td>\n",
       "    </tr>\n",
       "    <tr>\n",
       "      <th>2465</th>\n",
       "      <td>1987</td>\n",
       "      <td>MARKETING YEAR</td>\n",
       "      <td>WASHINGTON</td>\n",
       "      <td>HONEY</td>\n",
       "      <td>HONEY, BEE COLONIES - INVENTORY, MEASURED IN C...</td>\n",
       "      <td>TOTAL</td>\n",
       "      <td>NOT SPECIFIED</td>\n",
       "      <td>75,000</td>\n",
       "    </tr>\n",
       "    <tr>\n",
       "      <th>2466</th>\n",
       "      <td>1987</td>\n",
       "      <td>MARKETING YEAR</td>\n",
       "      <td>WEST VIRGINIA</td>\n",
       "      <td>HONEY</td>\n",
       "      <td>HONEY, BEE COLONIES - INVENTORY, MEASURED IN C...</td>\n",
       "      <td>TOTAL</td>\n",
       "      <td>NOT SPECIFIED</td>\n",
       "      <td>21,000</td>\n",
       "    </tr>\n",
       "    <tr>\n",
       "      <th>2467</th>\n",
       "      <td>1987</td>\n",
       "      <td>MARKETING YEAR</td>\n",
       "      <td>WISCONSIN</td>\n",
       "      <td>HONEY</td>\n",
       "      <td>HONEY, BEE COLONIES - INVENTORY, MEASURED IN C...</td>\n",
       "      <td>TOTAL</td>\n",
       "      <td>NOT SPECIFIED</td>\n",
       "      <td>92,000</td>\n",
       "    </tr>\n",
       "    <tr>\n",
       "      <th>2468</th>\n",
       "      <td>1987</td>\n",
       "      <td>MARKETING YEAR</td>\n",
       "      <td>WYOMING</td>\n",
       "      <td>HONEY</td>\n",
       "      <td>HONEY, BEE COLONIES - INVENTORY, MEASURED IN C...</td>\n",
       "      <td>TOTAL</td>\n",
       "      <td>NOT SPECIFIED</td>\n",
       "      <td>39,000</td>\n",
       "    </tr>\n",
       "  </tbody>\n",
       "</table>\n",
       "<p>2469 rows × 8 columns</p>\n",
       "</div>"
      ],
      "text/plain": [
       "      Year          Period          State Commodity  \\\n",
       "0     2020    FIRST OF JAN       US TOTAL     HONEY   \n",
       "1     2020    FIRST OF JAN        ALABAMA     HONEY   \n",
       "2     2020    FIRST OF JAN        ARIZONA     HONEY   \n",
       "3     2020    FIRST OF JAN       ARKANSAS     HONEY   \n",
       "4     2020    FIRST OF JAN     CALIFORNIA     HONEY   \n",
       "...    ...             ...            ...       ...   \n",
       "2464  1987  MARKETING YEAR       VIRGINIA     HONEY   \n",
       "2465  1987  MARKETING YEAR     WASHINGTON     HONEY   \n",
       "2466  1987  MARKETING YEAR  WEST VIRGINIA     HONEY   \n",
       "2467  1987  MARKETING YEAR      WISCONSIN     HONEY   \n",
       "2468  1987  MARKETING YEAR        WYOMING     HONEY   \n",
       "\n",
       "                                              Data Item Domain  \\\n",
       "0     HONEY, BEE COLONIES - INVENTORY, MEASURED IN C...  TOTAL   \n",
       "1     HONEY, BEE COLONIES - INVENTORY, MEASURED IN C...  TOTAL   \n",
       "2     HONEY, BEE COLONIES - INVENTORY, MEASURED IN C...  TOTAL   \n",
       "3     HONEY, BEE COLONIES - INVENTORY, MEASURED IN C...  TOTAL   \n",
       "4     HONEY, BEE COLONIES - INVENTORY, MEASURED IN C...  TOTAL   \n",
       "...                                                 ...    ...   \n",
       "2464  HONEY, BEE COLONIES - INVENTORY, MEASURED IN C...  TOTAL   \n",
       "2465  HONEY, BEE COLONIES - INVENTORY, MEASURED IN C...  TOTAL   \n",
       "2466  HONEY, BEE COLONIES - INVENTORY, MEASURED IN C...  TOTAL   \n",
       "2467  HONEY, BEE COLONIES - INVENTORY, MEASURED IN C...  TOTAL   \n",
       "2468  HONEY, BEE COLONIES - INVENTORY, MEASURED IN C...  TOTAL   \n",
       "\n",
       "     Domain Category      Value  \n",
       "0      NOT SPECIFIED  2,876,100  \n",
       "1      NOT SPECIFIED      5,500  \n",
       "2      NOT SPECIFIED     29,000  \n",
       "3      NOT SPECIFIED     16,500  \n",
       "4      NOT SPECIFIED  1,350,000  \n",
       "...              ...        ...  \n",
       "2464   NOT SPECIFIED     25,000  \n",
       "2465   NOT SPECIFIED     75,000  \n",
       "2466   NOT SPECIFIED     21,000  \n",
       "2467   NOT SPECIFIED     92,000  \n",
       "2468   NOT SPECIFIED     39,000  \n",
       "\n",
       "[2469 rows x 8 columns]"
      ]
     },
     "execution_count": 3,
     "metadata": {},
     "output_type": "execute_result"
    }
   ],
   "source": [
    "colony_cleanup = colony_df[['Year', 'Period', 'State','Commodity','Data Item','Domain','Domain Category','Value']].copy()\n",
    "colony_cleanup"
   ]
  },
  {
   "cell_type": "code",
   "execution_count": 5,
   "metadata": {},
   "outputs": [
    {
     "data": {
      "text/html": [
       "<div>\n",
       "<style scoped>\n",
       "    .dataframe tbody tr th:only-of-type {\n",
       "        vertical-align: middle;\n",
       "    }\n",
       "\n",
       "    .dataframe tbody tr th {\n",
       "        vertical-align: top;\n",
       "    }\n",
       "\n",
       "    .dataframe thead th {\n",
       "        text-align: right;\n",
       "    }\n",
       "</style>\n",
       "<table border=\"1\" class=\"dataframe\">\n",
       "  <thead>\n",
       "    <tr style=\"text-align: right;\">\n",
       "      <th></th>\n",
       "      <th>Year</th>\n",
       "      <th>Period</th>\n",
       "      <th>State</th>\n",
       "      <th>Commodity</th>\n",
       "      <th>Data Item</th>\n",
       "      <th>Domain</th>\n",
       "      <th>Domain Category</th>\n",
       "      <th>Value</th>\n",
       "    </tr>\n",
       "  </thead>\n",
       "  <tbody>\n",
       "    <tr>\n",
       "      <th>0</th>\n",
       "      <td>2020</td>\n",
       "      <td>FIRST OF JAN</td>\n",
       "      <td>US TOTAL</td>\n",
       "      <td>HONEY</td>\n",
       "      <td>HONEY, BEE COLONIES - INVENTORY, MEASURED IN C...</td>\n",
       "      <td>TOTAL</td>\n",
       "      <td>NOT SPECIFIED</td>\n",
       "      <td>2876100</td>\n",
       "    </tr>\n",
       "    <tr>\n",
       "      <th>1</th>\n",
       "      <td>2020</td>\n",
       "      <td>FIRST OF JAN</td>\n",
       "      <td>ALABAMA</td>\n",
       "      <td>HONEY</td>\n",
       "      <td>HONEY, BEE COLONIES - INVENTORY, MEASURED IN C...</td>\n",
       "      <td>TOTAL</td>\n",
       "      <td>NOT SPECIFIED</td>\n",
       "      <td>5500</td>\n",
       "    </tr>\n",
       "    <tr>\n",
       "      <th>2</th>\n",
       "      <td>2020</td>\n",
       "      <td>FIRST OF JAN</td>\n",
       "      <td>ARIZONA</td>\n",
       "      <td>HONEY</td>\n",
       "      <td>HONEY, BEE COLONIES - INVENTORY, MEASURED IN C...</td>\n",
       "      <td>TOTAL</td>\n",
       "      <td>NOT SPECIFIED</td>\n",
       "      <td>29000</td>\n",
       "    </tr>\n",
       "    <tr>\n",
       "      <th>3</th>\n",
       "      <td>2020</td>\n",
       "      <td>FIRST OF JAN</td>\n",
       "      <td>ARKANSAS</td>\n",
       "      <td>HONEY</td>\n",
       "      <td>HONEY, BEE COLONIES - INVENTORY, MEASURED IN C...</td>\n",
       "      <td>TOTAL</td>\n",
       "      <td>NOT SPECIFIED</td>\n",
       "      <td>16500</td>\n",
       "    </tr>\n",
       "    <tr>\n",
       "      <th>4</th>\n",
       "      <td>2020</td>\n",
       "      <td>FIRST OF JAN</td>\n",
       "      <td>CALIFORNIA</td>\n",
       "      <td>HONEY</td>\n",
       "      <td>HONEY, BEE COLONIES - INVENTORY, MEASURED IN C...</td>\n",
       "      <td>TOTAL</td>\n",
       "      <td>NOT SPECIFIED</td>\n",
       "      <td>1350000</td>\n",
       "    </tr>\n",
       "    <tr>\n",
       "      <th>...</th>\n",
       "      <td>...</td>\n",
       "      <td>...</td>\n",
       "      <td>...</td>\n",
       "      <td>...</td>\n",
       "      <td>...</td>\n",
       "      <td>...</td>\n",
       "      <td>...</td>\n",
       "      <td>...</td>\n",
       "    </tr>\n",
       "    <tr>\n",
       "      <th>2464</th>\n",
       "      <td>1987</td>\n",
       "      <td>MARKETING YEAR</td>\n",
       "      <td>VIRGINIA</td>\n",
       "      <td>HONEY</td>\n",
       "      <td>HONEY, BEE COLONIES - INVENTORY, MEASURED IN C...</td>\n",
       "      <td>TOTAL</td>\n",
       "      <td>NOT SPECIFIED</td>\n",
       "      <td>25000</td>\n",
       "    </tr>\n",
       "    <tr>\n",
       "      <th>2465</th>\n",
       "      <td>1987</td>\n",
       "      <td>MARKETING YEAR</td>\n",
       "      <td>WASHINGTON</td>\n",
       "      <td>HONEY</td>\n",
       "      <td>HONEY, BEE COLONIES - INVENTORY, MEASURED IN C...</td>\n",
       "      <td>TOTAL</td>\n",
       "      <td>NOT SPECIFIED</td>\n",
       "      <td>75000</td>\n",
       "    </tr>\n",
       "    <tr>\n",
       "      <th>2466</th>\n",
       "      <td>1987</td>\n",
       "      <td>MARKETING YEAR</td>\n",
       "      <td>WEST VIRGINIA</td>\n",
       "      <td>HONEY</td>\n",
       "      <td>HONEY, BEE COLONIES - INVENTORY, MEASURED IN C...</td>\n",
       "      <td>TOTAL</td>\n",
       "      <td>NOT SPECIFIED</td>\n",
       "      <td>21000</td>\n",
       "    </tr>\n",
       "    <tr>\n",
       "      <th>2467</th>\n",
       "      <td>1987</td>\n",
       "      <td>MARKETING YEAR</td>\n",
       "      <td>WISCONSIN</td>\n",
       "      <td>HONEY</td>\n",
       "      <td>HONEY, BEE COLONIES - INVENTORY, MEASURED IN C...</td>\n",
       "      <td>TOTAL</td>\n",
       "      <td>NOT SPECIFIED</td>\n",
       "      <td>92000</td>\n",
       "    </tr>\n",
       "    <tr>\n",
       "      <th>2468</th>\n",
       "      <td>1987</td>\n",
       "      <td>MARKETING YEAR</td>\n",
       "      <td>WYOMING</td>\n",
       "      <td>HONEY</td>\n",
       "      <td>HONEY, BEE COLONIES - INVENTORY, MEASURED IN C...</td>\n",
       "      <td>TOTAL</td>\n",
       "      <td>NOT SPECIFIED</td>\n",
       "      <td>39000</td>\n",
       "    </tr>\n",
       "  </tbody>\n",
       "</table>\n",
       "<p>2469 rows × 8 columns</p>\n",
       "</div>"
      ],
      "text/plain": [
       "      Year          Period          State Commodity  \\\n",
       "0     2020    FIRST OF JAN       US TOTAL     HONEY   \n",
       "1     2020    FIRST OF JAN        ALABAMA     HONEY   \n",
       "2     2020    FIRST OF JAN        ARIZONA     HONEY   \n",
       "3     2020    FIRST OF JAN       ARKANSAS     HONEY   \n",
       "4     2020    FIRST OF JAN     CALIFORNIA     HONEY   \n",
       "...    ...             ...            ...       ...   \n",
       "2464  1987  MARKETING YEAR       VIRGINIA     HONEY   \n",
       "2465  1987  MARKETING YEAR     WASHINGTON     HONEY   \n",
       "2466  1987  MARKETING YEAR  WEST VIRGINIA     HONEY   \n",
       "2467  1987  MARKETING YEAR      WISCONSIN     HONEY   \n",
       "2468  1987  MARKETING YEAR        WYOMING     HONEY   \n",
       "\n",
       "                                              Data Item Domain  \\\n",
       "0     HONEY, BEE COLONIES - INVENTORY, MEASURED IN C...  TOTAL   \n",
       "1     HONEY, BEE COLONIES - INVENTORY, MEASURED IN C...  TOTAL   \n",
       "2     HONEY, BEE COLONIES - INVENTORY, MEASURED IN C...  TOTAL   \n",
       "3     HONEY, BEE COLONIES - INVENTORY, MEASURED IN C...  TOTAL   \n",
       "4     HONEY, BEE COLONIES - INVENTORY, MEASURED IN C...  TOTAL   \n",
       "...                                                 ...    ...   \n",
       "2464  HONEY, BEE COLONIES - INVENTORY, MEASURED IN C...  TOTAL   \n",
       "2465  HONEY, BEE COLONIES - INVENTORY, MEASURED IN C...  TOTAL   \n",
       "2466  HONEY, BEE COLONIES - INVENTORY, MEASURED IN C...  TOTAL   \n",
       "2467  HONEY, BEE COLONIES - INVENTORY, MEASURED IN C...  TOTAL   \n",
       "2468  HONEY, BEE COLONIES - INVENTORY, MEASURED IN C...  TOTAL   \n",
       "\n",
       "     Domain Category    Value  \n",
       "0      NOT SPECIFIED  2876100  \n",
       "1      NOT SPECIFIED     5500  \n",
       "2      NOT SPECIFIED    29000  \n",
       "3      NOT SPECIFIED    16500  \n",
       "4      NOT SPECIFIED  1350000  \n",
       "...              ...      ...  \n",
       "2464   NOT SPECIFIED    25000  \n",
       "2465   NOT SPECIFIED    75000  \n",
       "2466   NOT SPECIFIED    21000  \n",
       "2467   NOT SPECIFIED    92000  \n",
       "2468   NOT SPECIFIED    39000  \n",
       "\n",
       "[2469 rows x 8 columns]"
      ]
     },
     "execution_count": 5,
     "metadata": {},
     "output_type": "execute_result"
    }
   ],
   "source": [
    "colony_cleanup['Value'] = colony_cleanup['Value'].str.replace(',','')\n",
    "colony_cleanup"
   ]
  },
  {
   "cell_type": "code",
   "execution_count": 6,
   "metadata": {},
   "outputs": [],
   "source": [
    "colony_cleanup['Value'] = colony_cleanup['Value'].astype(int)"
   ]
  },
  {
   "cell_type": "code",
   "execution_count": null,
   "metadata": {},
   "outputs": [],
   "source": [
    "## for the machine learning part we are just going with 2015 data. Taking the average of the quarters and dropping marketing year. Might set marketing year as its own table... thoughts?\n",
    "colony_cleanup.drop(colony_cleanup.loc[colony_cleanup['Period'] == 'MARKETING YEAR'].index, inplace=True)"
   ]
  },
  {
   "cell_type": "code",
   "execution_count": null,
   "metadata": {},
   "outputs": [],
   "source": [
    "colony_state_year = colony_cleanup.groupby(['Year','State'], as_index = False).mean(['Value'])\n",
    "colony_state_year.head()"
   ]
  },
  {
   "cell_type": "code",
   "execution_count": null,
   "metadata": {},
   "outputs": [],
   "source": [
    "cleaned_colony = colony_state_year.rename(columns={'Year':'year','State':'state','Value':'count_colonies'})\n",
    "cleaned_colony.to_csv(\"colonies.csv\")"
   ]
  },
  {
   "cell_type": "markdown",
   "metadata": {},
   "source": [
    " # MARKETING YEAR"
   ]
  },
  {
   "cell_type": "code",
   "execution_count": null,
   "metadata": {},
   "outputs": [],
   "source": [
    "## just in case we wanted this for graphs\n",
    "marketing_year = colony_df.copy()\n",
    "marketing_year.head()"
   ]
  },
  {
   "cell_type": "code",
   "execution_count": null,
   "metadata": {},
   "outputs": [],
   "source": [
    "marketing_year.drop(marketing_year.loc[marketing_year['Period'] != 'MARKETING YEAR'].index, inplace=True)\n",
    "marketing_year.head()"
   ]
  },
  {
   "cell_type": "code",
   "execution_count": null,
   "metadata": {},
   "outputs": [],
   "source": [
    "marketing_cleanup = marketing_year[['Year','State','Value']].copy()\n",
    "marketing_cleanup.head()"
   ]
  },
  {
   "cell_type": "code",
   "execution_count": null,
   "metadata": {},
   "outputs": [],
   "source": [
    "marketing_cleanup['Value'] = marketing_cleanup['Value'].str.replace(',','')\n",
    "marketing_cleanup.head()"
   ]
  },
  {
   "cell_type": "code",
   "execution_count": null,
   "metadata": {},
   "outputs": [],
   "source": [
    "marketing_cleanup['Value'] = marketing_cleanup['Value'].astype(int)"
   ]
  },
  {
   "cell_type": "code",
   "execution_count": null,
   "metadata": {},
   "outputs": [],
   "source": [
    "cleaned_marketing_year = marketing_cleanup.rename(columns={'Year':'year','State':'state','Value':'marketing_year_val'})\n",
    "cleaned_marketing_year.head()"
   ]
  },
  {
   "cell_type": "markdown",
   "metadata": {},
   "source": [
    "# DEADOUT COLLAPSE AND PESTICIDES"
   ]
  },
  {
   "cell_type": "code",
   "execution_count": null,
   "metadata": {},
   "outputs": [],
   "source": [
    "deadout_df = pd.read_csv(\"../bee_data/bee_loss_deadout.csv\")\n",
    "collapse_df = pd.read_csv(\"../bee_data/colony_collapse_bees.csv\")\n",
    "pesticides_df = pd.read_csv(\"../bee_data/pesticides_death_bees.csv\")\n",
    "\n",
    "deadout_df.dropna(axis=1, how=\"all\").copy()\n",
    "collapse_df.dropna(axis=1, how=\"all\").copy()\n",
    "pesticides_df.dropna(axis=1, how=\"all\").copy()"
   ]
  },
  {
   "cell_type": "code",
   "execution_count": null,
   "metadata": {},
   "outputs": [],
   "source": [
    "deadout_df[\"Value\"] = deadout_df[\"Value\"].str.replace(\",\",\"\")\n",
    "deadout_df['Value'] = deadout_df['Value'].astype('int64')\n",
    "deadout = deadout_df.groupby(['Year', 'State',], as_index=False)[['Value']].sum()\n",
    "deadout = deadout.rename(columns = {\n",
    "    'Year': 'year',\n",
    "    'State': 'state',\n",
    "    'Value': 'deadout'\n",
    "    })\n",
    "deadout.head()"
   ]
  },
  {
   "cell_type": "code",
   "execution_count": null,
   "metadata": {},
   "outputs": [],
   "source": [
    "collapse_df[\"Value\"] = collapse_df[\"Value\"].str.replace(\",\",\"\")\n",
    "collapse_df['Value'] = collapse_df['Value'].astype('int64')\n",
    "collapse = collapse_df.groupby(['Year', 'State',], as_index=False)[['Value']].sum()\n",
    "collapse = collapse.rename(columns = {\n",
    "    'Year': 'year',\n",
    "    'State': 'state',\n",
    "    'Value': 'cc_syn'\n",
    "    })\n",
    "collapse.head()"
   ]
  },
  {
   "cell_type": "code",
   "execution_count": null,
   "metadata": {},
   "outputs": [],
   "source": [
    "pesticides_df.drop(pesticides_df.loc[pesticides_df['Value'] == ' (Z)'].index, inplace=True)\n",
    "pesticides_df['Value'] = pesticides_df['Value'].astype('float64')\n",
    "pesticides_df = pesticides_df.loc[pesticides_df['Domain'] == 'TOTAL']\n",
    "pesticides = pesticides_df.groupby(['Year', 'State',], as_index=False)[['Value']].sum()\n",
    "pesticides = pesticides.rename(columns = {\n",
    "    'Year': 'year',\n",
    "    'State': 'state',\n",
    "    'Value': 'pesticides'\n",
    "    })\n",
    "pesticides.head()"
   ]
  },
  {
   "cell_type": "code",
   "execution_count": null,
   "metadata": {},
   "outputs": [],
   "source": [
    "combined = deadout.merge(collapse, on=['state','year'])\n",
    "decline_final = combined.merge(pesticides, on=['state','year'])\n",
    "decline_final.head()"
   ]
  },
  {
   "cell_type": "markdown",
   "metadata": {},
   "source": [
    "# TEMPERATURE DATA"
   ]
  },
  {
   "cell_type": "code",
   "execution_count": null,
   "metadata": {},
   "outputs": [],
   "source": [
    "temp_data = pd.read_csv(\"../bee_data/city_temperature.csv\", low_memory =False)\n",
    "temp_data.head()"
   ]
  },
  {
   "cell_type": "code",
   "execution_count": null,
   "metadata": {},
   "outputs": [],
   "source": [
    "temp_data.drop(temp_data.loc[temp_data['Country'] != 'US'].index, inplace=True)\n",
    "temp_data.head()"
   ]
  },
  {
   "cell_type": "code",
   "execution_count": null,
   "metadata": {},
   "outputs": [],
   "source": [
    "temp_data.drop(temp_data.loc[temp_data['AvgTemperature'] == -99.00].index, inplace=True)\n",
    "temp_data.head()"
   ]
  },
  {
   "cell_type": "code",
   "execution_count": null,
   "metadata": {},
   "outputs": [],
   "source": [
    "state_avg_temp = temp_data.groupby(['State','Month','Day','Year'], as_index = False).mean(['AvgTemperature'])\n",
    "state_avg_temp.head()"
   ]
  },
  {
   "cell_type": "code",
   "execution_count": null,
   "metadata": {},
   "outputs": [],
   "source": [
    "state_avg_temp['State'].unique()"
   ]
  },
  {
   "cell_type": "code",
   "execution_count": null,
   "metadata": {},
   "outputs": [],
   "source": [
    "cleaned_state_avg_temp = state_avg_temp.rename(columns={'Year':'year','Month':'month','Day':'day','State':'state','AvgTemperature':'avg_temp'})\n",
    "cleaned_state_avg_temp.head()"
   ]
  },
  {
   "cell_type": "code",
   "execution_count": null,
   "metadata": {},
   "outputs": [],
   "source": [
    "cleaned_state_avg_temp['state'] = cleaned_state_avg_temp['state'].str.upper()\n",
    "cleaned_state_avg_temp"
   ]
  },
  {
   "cell_type": "code",
   "execution_count": null,
   "metadata": {},
   "outputs": [],
   "source": [
    "state_avg_temp_2010 = cleaned_state_avg_temp[(cleaned_state_avg_temp['year']>= 2010)]\n",
    "test = state_avg_temp_2010.copy()\n",
    "test.drop(test.loc[test['state'] == 'ADDITIONAL TERRITORIES'].index, inplace=True)\n",
    "test.drop(test.loc[test['state'] == 'DISTRICT OF COLUMBIA'].index, inplace=True)\n",
    "test.drop(test.loc[test['state'] == 'ALASKA'].index, inplace=True)\n",
    "test.drop(test.loc[test['state'] == 'CONNECTICUT'].index, inplace=True)\n",
    "test.drop(test.loc[test['state'] == 'DELAWARE'].index, inplace=True)\n",
    "test.drop(test.loc[test['state'] == 'MARYLAND'].index, inplace=True)\n",
    "test.drop(test.loc[test['state'] == 'MASSACHUSETTS'].index, inplace=True)\n",
    "test.drop(test.loc[test['state'] == 'NEVADA'].index, inplace=True)\n",
    "test.drop(test.loc[test['state'] == 'NEW HAMPSHIRE'].index, inplace=True)\n",
    "test.drop(test.loc[test['state'] == 'NEW MEXICO'].index, inplace=True)\n",
    "test.drop(test.loc[test['state'] == 'OKLAHOMA'].index, inplace=True)\n",
    "test.drop(test.loc[test['state'] == 'RHODE ISLAND'].index, inplace=True)\n",
    "test.drop(test.loc[test['year'] == 2020].index, inplace=True)\n",
    "test"
   ]
  },
  {
   "cell_type": "code",
   "execution_count": null,
   "metadata": {},
   "outputs": [],
   "source": [
    "monthly_mean_temp = test.groupby(['state','year','month'], as_index = False)['avg_temp'].mean()\n",
    "monthly_mean_temp"
   ]
  },
  {
   "cell_type": "code",
   "execution_count": null,
   "metadata": {},
   "outputs": [],
   "source": [
    "## including seperately in SQL because it drops states like California, Hawaii, and Florida\n",
    "state_avg_temp_filtered = cleaned_state_avg_temp[(cleaned_state_avg_temp['avg_temp']<= 41) | (cleaned_state_avg_temp['avg_temp']>= 95)]\n",
    "state_avg_temp_filtered.head()"
   ]
  },
  {
   "cell_type": "code",
   "execution_count": null,
   "metadata": {},
   "outputs": [],
   "source": [
    "state_count = state_avg_temp_filtered.groupby(['state','year'], as_index = False)['avg_temp'].count()\n",
    "state_count.head()"
   ]
  },
  {
   "cell_type": "code",
   "execution_count": null,
   "metadata": {},
   "outputs": [],
   "source": [
    "cleaned_state_ext_temp = state_count.rename(columns={'avg_temp':'extreme_temp_days'})\n",
    "cleaned_state_ext_temp.head()"
   ]
  },
  {
   "cell_type": "markdown",
   "metadata": {},
   "source": [
    "# COMMODITIES"
   ]
  },
  {
   "cell_type": "code",
   "execution_count": null,
   "metadata": {},
   "outputs": [],
   "source": [
    "cherries = pd.read_csv(\"../bee_data/sweet_cherries.csv\")"
   ]
  },
  {
   "cell_type": "code",
   "execution_count": null,
   "metadata": {},
   "outputs": [],
   "source": [
    "cherries = cherries[[\"Year\", \"State\", \"Value\", \"Commodity\"]]\n",
    "cherries = cherries.rename(columns={'Year': 'year', 'State': 'state', \"Value\": \"lbs_per_acre\", 'Commodity': 'commodity'})\n",
    "cherries[\"commodity\"] = 'SWEET CHERRIES'\n",
    "\n",
    "cherries.drop(cherries.loc[cherries['lbs_per_acre']==' (NA)'].index, inplace=True)\n",
    "cherries.drop(cherries.loc[cherries['lbs_per_acre']==' (X)'].index, inplace=True)\n",
    "cherries[\"lbs_per_acre\"] = cherries[\"lbs_per_acre\"].str.replace(\",\",\"\")\n",
    "cherries[\"lbs_per_acre\"] = cherries[\"lbs_per_acre\"].astype(float)"
   ]
  },
  {
   "cell_type": "code",
   "execution_count": null,
   "metadata": {},
   "outputs": [],
   "source": [
    "cherries['lbs_per_acre'] = cherries['lbs_per_acre'] * 2000\n",
    "cherries"
   ]
  },
  {
   "cell_type": "code",
   "execution_count": null,
   "metadata": {},
   "outputs": [],
   "source": [
    "all_fruit = pd.read_csv(\"../bee_data/all_fruit_lbs_per_acre.csv\")\n",
    "all_fruit.head()"
   ]
  },
  {
   "cell_type": "code",
   "execution_count": null,
   "metadata": {},
   "outputs": [],
   "source": [
    "# all_fruit[\"Value\"].unique()\n",
    "all_fruit.drop(all_fruit.loc[all_fruit['Value']==' (X)'].index, inplace=True)\n",
    "all_fruit.drop(all_fruit.loc[all_fruit['Value']==' (NA)'].index, inplace=True)\n",
    "all_fruit.drop(all_fruit.loc[all_fruit['Value']==' (D)'].index, inplace=True)\n",
    "# adding almond data in from separate spreadsheet which has more years of data\n",
    "all_fruit.drop(all_fruit.loc[all_fruit['Commodity'] == 'ALMONDS']. index, inplace=True)\n",
    "\n",
    "all_fruit.drop(all_fruit.loc[all_fruit['Period']=='YEAR - MAY FORECAST'].index, inplace=True)\n",
    "\n",
    "all_fruit[\"Value\"] = all_fruit[\"Value\"].str.replace(\",\",\"\")\n",
    "all_fruit['Value'] = all_fruit['Value'].astype(float)\n",
    "\n",
    "all_fruit = all_fruit[[\"Year\", \"State\", \"Value\", \"Commodity\"]]\n",
    "all_fruit = all_fruit.rename(columns={'Year': 'year', 'State': 'state', \"Value\": \"lbs_per_acre\", 'Commodity': 'commodity'})\n",
    "all_fruit"
   ]
  },
  {
   "cell_type": "code",
   "execution_count": null,
   "metadata": {},
   "outputs": [],
   "source": [
    "all_fruit_combined = pd.concat([cherries, all_fruit], join=\"inner\")\n",
    "all_fruit_combined"
   ]
  },
  {
   "cell_type": "code",
   "execution_count": null,
   "metadata": {},
   "outputs": [],
   "source": [
    "almonds = pd.read_csv(\"../bee_data/2almonds.csv\")"
   ]
  },
  {
   "cell_type": "code",
   "execution_count": null,
   "metadata": {},
   "outputs": [],
   "source": [
    "almonds.drop(almonds.loc[almonds['Period']=='YEAR - MAY FORECAST'].index, inplace=True)\n",
    "\n",
    "almonds = almonds[[\"Year\", \"State\", \"Value\", \"Commodity\"]]\n",
    "almond_totals = almonds.rename(columns={'Year': 'year', 'State': 'state', 'Commodity': 'commodity', 'Value': 'lbs_per_acre'})\n",
    "almond_totals[\"lbs_per_acre\"] = almond_totals[\"lbs_per_acre\"].str.replace(\",\",\"\")\n",
    "almond_totals['lbs_per_acre'] = almond_totals['lbs_per_acre'].astype(int)\n",
    "almond_totals"
   ]
  },
  {
   "cell_type": "code",
   "execution_count": null,
   "metadata": {},
   "outputs": [],
   "source": [
    "almond_fruit = pd.concat([almond_totals, all_fruit_combined], join=\"inner\")\n",
    "almond_fruit"
   ]
  },
  {
   "cell_type": "code",
   "execution_count": null,
   "metadata": {},
   "outputs": [],
   "source": [
    "pumpkins = pd.read_csv(\"../bee_data/pumpkins_v2.csv\")\n",
    "# pumpkins.head()"
   ]
  },
  {
   "cell_type": "code",
   "execution_count": null,
   "metadata": {},
   "outputs": [],
   "source": [
    "# removing two columns (Texas & Wisconsin) that have (D) in the value column instead of a number\n",
    "pumpkins.drop(pumpkins.loc[pumpkins['Value']==' (D)'].index, inplace=True)\n",
    "pumpkins['Value'] = pumpkins['Value'].astype(float)\n",
    "pumpkins = pumpkins[[\"Year\", \"State\", \"Value\", \"Commodity\"]]\n",
    "pumpkins = pumpkins.rename(columns={'Year': 'year', 'State': 'state','Commodity': 'commodity', 'Value': 'lbs_per_acre'})\n",
    "pumpkins.head()"
   ]
  },
  {
   "cell_type": "code",
   "execution_count": null,
   "metadata": {},
   "outputs": [],
   "source": [
    "## basically cwt/ac is * 100\n",
    "pumpkins['lbs_per_acre'] = pumpkins['lbs_per_acre'] * 100\n",
    "pumpkins"
   ]
  },
  {
   "cell_type": "code",
   "execution_count": null,
   "metadata": {},
   "outputs": [],
   "source": [
    "all_crops = pd.concat([all_fruit_combined, pumpkins], join=\"inner\")\n",
    "all_crops"
   ]
  },
  {
   "cell_type": "markdown",
   "metadata": {},
   "source": [
    "# Honey Prices Data"
   ]
  },
  {
   "cell_type": "code",
   "execution_count": null,
   "metadata": {},
   "outputs": [],
   "source": [
    "dfs = pd.read_html(\"https://honey.com/honey-industry/statistics/retail-honey-price\")"
   ]
  },
  {
   "cell_type": "code",
   "execution_count": null,
   "metadata": {},
   "outputs": [],
   "source": [
    "honey_prices = dfs[0]"
   ]
  },
  {
   "cell_type": "code",
   "execution_count": null,
   "metadata": {},
   "outputs": [],
   "source": [
    "honey_prices2 = honey_prices.rename(columns={\"Unnamed: 0\": \"year\"})"
   ]
  },
  {
   "cell_type": "code",
   "execution_count": null,
   "metadata": {},
   "outputs": [],
   "source": [
    "honey_3 = honey_prices2.rename(str.lower, axis='columns')"
   ]
  },
  {
   "cell_type": "code",
   "execution_count": null,
   "metadata": {},
   "outputs": [],
   "source": [
    "honey_prices_4 = honey_3.rename(columns={\"dev\": \"dec\"})"
   ]
  },
  {
   "cell_type": "code",
   "execution_count": null,
   "metadata": {},
   "outputs": [],
   "source": [
    "honey_prices_5 = honey_prices_4[honey_prices_4.columns].replace({'\\$':''}, regex = True)"
   ]
  },
  {
   "cell_type": "code",
   "execution_count": null,
   "metadata": {},
   "outputs": [],
   "source": [
    "honey_prices_5.fillna('7.89',inplace=True)"
   ]
  },
  {
   "cell_type": "code",
   "execution_count": null,
   "metadata": {},
   "outputs": [],
   "source": [
    "honey_prices_5"
   ]
  },
  {
   "cell_type": "markdown",
   "metadata": {},
   "source": [
    "# SQLITE TIME!!!!"
   ]
  },
  {
   "cell_type": "code",
   "execution_count": null,
   "metadata": {},
   "outputs": [],
   "source": [
    "engine = create_engine(f\"sqlite:///the_hive.db\")"
   ]
  },
  {
   "cell_type": "code",
   "execution_count": null,
   "metadata": {},
   "outputs": [],
   "source": [
    "honey_prices_5.to_sql(name = 'honey_prices', con = engine, if_exists='replace', index=False)"
   ]
  },
  {
   "cell_type": "code",
   "execution_count": null,
   "metadata": {},
   "outputs": [],
   "source": [
    "cleaned_honey.to_sql(name = 'honey_prod', con = engine, if_exists='replace', index=False)"
   ]
  },
  {
   "cell_type": "code",
   "execution_count": null,
   "metadata": {},
   "outputs": [],
   "source": [
    "cleaned_colony.to_sql(name = 'colony', con = engine, if_exists='replace', index=False)"
   ]
  },
  {
   "cell_type": "code",
   "execution_count": null,
   "metadata": {},
   "outputs": [],
   "source": [
    "decline_final.to_sql(name = 'decline', con = engine, if_exists='replace', index=False)"
   ]
  },
  {
   "cell_type": "code",
   "execution_count": null,
   "metadata": {},
   "outputs": [],
   "source": [
    "cleaned_marketing_year.to_sql(name = 'marketing_year', con = engine, if_exists='replace', index=False)"
   ]
  },
  {
   "cell_type": "code",
   "execution_count": null,
   "metadata": {},
   "outputs": [],
   "source": [
    "all_crops.to_sql(name = 'commodities', con = engine, if_exists='replace', index=False)"
   ]
  },
  {
   "cell_type": "code",
   "execution_count": null,
   "metadata": {},
   "outputs": [],
   "source": [
    "cleaned_state_ext_temp.to_sql(name = 'extreme_temp_days', con = engine, if_exists='replace', index=False)"
   ]
  },
  {
   "cell_type": "code",
   "execution_count": null,
   "metadata": {},
   "outputs": [],
   "source": [
    "monthly_mean_temp.to_sql(name = 'monthly_avg_temp', con = engine, if_exists='replace', index=False)"
   ]
  },
  {
   "cell_type": "code",
   "execution_count": null,
   "metadata": {},
   "outputs": [],
   "source": [
    "engine.table_names()"
   ]
  }
 ],
 "metadata": {
  "kernelspec": {
   "display_name": "Python 3",
   "language": "python",
   "name": "python3"
  },
  "language_info": {
   "codemirror_mode": {
    "name": "ipython",
    "version": 3
   },
   "file_extension": ".py",
   "mimetype": "text/x-python",
   "name": "python",
   "nbconvert_exporter": "python",
   "pygments_lexer": "ipython3",
   "version": "3.6.12"
  }
 },
 "nbformat": 4,
 "nbformat_minor": 4
}
