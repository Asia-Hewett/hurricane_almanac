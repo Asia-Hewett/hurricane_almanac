{
 "cells": [
  {
   "cell_type": "code",
   "execution_count": 1,
   "metadata": {},
   "outputs": [],
   "source": [
    "# import dependencies\n",
    "import pandas as pd\n",
    "import plotly.express as px"
   ]
  },
  {
   "cell_type": "code",
   "execution_count": 2,
   "metadata": {},
   "outputs": [
    {
     "data": {
      "text/html": [
       "<div>\n",
       "<style scoped>\n",
       "    .dataframe tbody tr th:only-of-type {\n",
       "        vertical-align: middle;\n",
       "    }\n",
       "\n",
       "    .dataframe tbody tr th {\n",
       "        vertical-align: top;\n",
       "    }\n",
       "\n",
       "    .dataframe thead th {\n",
       "        text-align: right;\n",
       "    }\n",
       "</style>\n",
       "<table border=\"1\" class=\"dataframe\">\n",
       "  <thead>\n",
       "    <tr style=\"text-align: right;\">\n",
       "      <th></th>\n",
       "      <th>Program</th>\n",
       "      <th>Year</th>\n",
       "      <th>Period</th>\n",
       "      <th>Week Ending</th>\n",
       "      <th>Geo Level</th>\n",
       "      <th>State</th>\n",
       "      <th>State ANSI</th>\n",
       "      <th>Ag District</th>\n",
       "      <th>Ag District Code</th>\n",
       "      <th>County</th>\n",
       "      <th>...</th>\n",
       "      <th>Zip Code</th>\n",
       "      <th>Region</th>\n",
       "      <th>watershed_code</th>\n",
       "      <th>Watershed</th>\n",
       "      <th>Commodity</th>\n",
       "      <th>Data Item</th>\n",
       "      <th>Domain</th>\n",
       "      <th>Domain Category</th>\n",
       "      <th>Value</th>\n",
       "      <th>CV (%)</th>\n",
       "    </tr>\n",
       "  </thead>\n",
       "  <tbody>\n",
       "    <tr>\n",
       "      <th>0</th>\n",
       "      <td>SURVEY</td>\n",
       "      <td>2019</td>\n",
       "      <td>MID DEC</td>\n",
       "      <td>NaN</td>\n",
       "      <td>NATIONAL</td>\n",
       "      <td>US TOTAL</td>\n",
       "      <td>NaN</td>\n",
       "      <td>NaN</td>\n",
       "      <td>NaN</td>\n",
       "      <td>NaN</td>\n",
       "      <td>...</td>\n",
       "      <td>NaN</td>\n",
       "      <td>NaN</td>\n",
       "      <td>0</td>\n",
       "      <td>NaN</td>\n",
       "      <td>HONEY</td>\n",
       "      <td>HONEY - STOCKS, MEASURED IN LB</td>\n",
       "      <td>TOTAL</td>\n",
       "      <td>NOT SPECIFIED</td>\n",
       "      <td>41,022,000</td>\n",
       "      <td>NaN</td>\n",
       "    </tr>\n",
       "    <tr>\n",
       "      <th>1</th>\n",
       "      <td>SURVEY</td>\n",
       "      <td>2019</td>\n",
       "      <td>MID DEC</td>\n",
       "      <td>NaN</td>\n",
       "      <td>STATE</td>\n",
       "      <td>ALABAMA</td>\n",
       "      <td>1.0</td>\n",
       "      <td>NaN</td>\n",
       "      <td>NaN</td>\n",
       "      <td>NaN</td>\n",
       "      <td>...</td>\n",
       "      <td>NaN</td>\n",
       "      <td>NaN</td>\n",
       "      <td>0</td>\n",
       "      <td>NaN</td>\n",
       "      <td>HONEY</td>\n",
       "      <td>HONEY - STOCKS, MEASURED IN LB</td>\n",
       "      <td>TOTAL</td>\n",
       "      <td>NOT SPECIFIED</td>\n",
       "      <td>44,000</td>\n",
       "      <td>NaN</td>\n",
       "    </tr>\n",
       "    <tr>\n",
       "      <th>2</th>\n",
       "      <td>SURVEY</td>\n",
       "      <td>2019</td>\n",
       "      <td>MID DEC</td>\n",
       "      <td>NaN</td>\n",
       "      <td>STATE</td>\n",
       "      <td>ARIZONA</td>\n",
       "      <td>4.0</td>\n",
       "      <td>NaN</td>\n",
       "      <td>NaN</td>\n",
       "      <td>NaN</td>\n",
       "      <td>...</td>\n",
       "      <td>NaN</td>\n",
       "      <td>NaN</td>\n",
       "      <td>0</td>\n",
       "      <td>NaN</td>\n",
       "      <td>HONEY</td>\n",
       "      <td>HONEY - STOCKS, MEASURED IN LB</td>\n",
       "      <td>TOTAL</td>\n",
       "      <td>NOT SPECIFIED</td>\n",
       "      <td>201,000</td>\n",
       "      <td>NaN</td>\n",
       "    </tr>\n",
       "    <tr>\n",
       "      <th>3</th>\n",
       "      <td>SURVEY</td>\n",
       "      <td>2019</td>\n",
       "      <td>MID DEC</td>\n",
       "      <td>NaN</td>\n",
       "      <td>STATE</td>\n",
       "      <td>ARKANSAS</td>\n",
       "      <td>5.0</td>\n",
       "      <td>NaN</td>\n",
       "      <td>NaN</td>\n",
       "      <td>NaN</td>\n",
       "      <td>...</td>\n",
       "      <td>NaN</td>\n",
       "      <td>NaN</td>\n",
       "      <td>0</td>\n",
       "      <td>NaN</td>\n",
       "      <td>HONEY</td>\n",
       "      <td>HONEY - STOCKS, MEASURED IN LB</td>\n",
       "      <td>TOTAL</td>\n",
       "      <td>NOT SPECIFIED</td>\n",
       "      <td>176,000</td>\n",
       "      <td>NaN</td>\n",
       "    </tr>\n",
       "    <tr>\n",
       "      <th>4</th>\n",
       "      <td>SURVEY</td>\n",
       "      <td>2019</td>\n",
       "      <td>MID DEC</td>\n",
       "      <td>NaN</td>\n",
       "      <td>STATE</td>\n",
       "      <td>CALIFORNIA</td>\n",
       "      <td>6.0</td>\n",
       "      <td>NaN</td>\n",
       "      <td>NaN</td>\n",
       "      <td>NaN</td>\n",
       "      <td>...</td>\n",
       "      <td>NaN</td>\n",
       "      <td>NaN</td>\n",
       "      <td>0</td>\n",
       "      <td>NaN</td>\n",
       "      <td>HONEY</td>\n",
       "      <td>HONEY - STOCKS, MEASURED IN LB</td>\n",
       "      <td>TOTAL</td>\n",
       "      <td>NOT SPECIFIED</td>\n",
       "      <td>3,216,000</td>\n",
       "      <td>NaN</td>\n",
       "    </tr>\n",
       "  </tbody>\n",
       "</table>\n",
       "<p>5 rows × 21 columns</p>\n",
       "</div>"
      ],
      "text/plain": [
       "  Program  Year   Period  Week Ending Geo Level       State  State ANSI  \\\n",
       "0  SURVEY  2019  MID DEC          NaN  NATIONAL    US TOTAL         NaN   \n",
       "1  SURVEY  2019  MID DEC          NaN     STATE     ALABAMA         1.0   \n",
       "2  SURVEY  2019  MID DEC          NaN     STATE     ARIZONA         4.0   \n",
       "3  SURVEY  2019  MID DEC          NaN     STATE    ARKANSAS         5.0   \n",
       "4  SURVEY  2019  MID DEC          NaN     STATE  CALIFORNIA         6.0   \n",
       "\n",
       "   Ag District  Ag District Code  County  ...  Zip Code  Region  \\\n",
       "0          NaN               NaN     NaN  ...       NaN     NaN   \n",
       "1          NaN               NaN     NaN  ...       NaN     NaN   \n",
       "2          NaN               NaN     NaN  ...       NaN     NaN   \n",
       "3          NaN               NaN     NaN  ...       NaN     NaN   \n",
       "4          NaN               NaN     NaN  ...       NaN     NaN   \n",
       "\n",
       "   watershed_code  Watershed  Commodity                       Data Item  \\\n",
       "0               0        NaN      HONEY  HONEY - STOCKS, MEASURED IN LB   \n",
       "1               0        NaN      HONEY  HONEY - STOCKS, MEASURED IN LB   \n",
       "2               0        NaN      HONEY  HONEY - STOCKS, MEASURED IN LB   \n",
       "3               0        NaN      HONEY  HONEY - STOCKS, MEASURED IN LB   \n",
       "4               0        NaN      HONEY  HONEY - STOCKS, MEASURED IN LB   \n",
       "\n",
       "  Domain Domain Category       Value CV (%)  \n",
       "0  TOTAL   NOT SPECIFIED  41,022,000    NaN  \n",
       "1  TOTAL   NOT SPECIFIED      44,000    NaN  \n",
       "2  TOTAL   NOT SPECIFIED     201,000    NaN  \n",
       "3  TOTAL   NOT SPECIFIED     176,000    NaN  \n",
       "4  TOTAL   NOT SPECIFIED   3,216,000    NaN  \n",
       "\n",
       "[5 rows x 21 columns]"
      ]
     },
     "execution_count": 2,
     "metadata": {},
     "output_type": "execute_result"
    }
   ],
   "source": [
    "# load in csvs and store in dataframe\n",
    "honey_path = \"bee_data/6honey.csv\"\n",
    "colony_path = \"bee_data/bee_colonies_state.csv\"\n",
    "\n",
    "honey_df = pd.read_csv(honey_path)\n",
    "colony_df = pd.read_csv(colony_path)\n",
    "\n",
    "honey_df.head()\n",
    "#colony_df.head()"
   ]
  },
  {
   "cell_type": "markdown",
   "metadata": {},
   "source": [
    "HONEY"
   ]
  },
  {
   "cell_type": "code",
   "execution_count": 3,
   "metadata": {
    "scrolled": true
   },
   "outputs": [
    {
     "data": {
      "text/plain": [
       "Program             1470\n",
       "Year                1470\n",
       "Period              1470\n",
       "Week Ending            0\n",
       "Geo Level           1470\n",
       "State               1470\n",
       "State ANSI          1408\n",
       "Ag District            0\n",
       "Ag District Code       0\n",
       "County                 0\n",
       "County ANSI            0\n",
       "Zip Code               0\n",
       "Region                 0\n",
       "watershed_code      1470\n",
       "Watershed              0\n",
       "Commodity           1470\n",
       "Data Item           1470\n",
       "Domain              1470\n",
       "Domain Category     1470\n",
       "Value               1470\n",
       "CV (%)                 0\n",
       "dtype: int64"
      ]
     },
     "execution_count": 3,
     "metadata": {},
     "output_type": "execute_result"
    }
   ],
   "source": [
    "honey_df.count()"
   ]
  },
  {
   "cell_type": "code",
   "execution_count": 4,
   "metadata": {},
   "outputs": [
    {
     "data": {
      "text/html": [
       "<div>\n",
       "<style scoped>\n",
       "    .dataframe tbody tr th:only-of-type {\n",
       "        vertical-align: middle;\n",
       "    }\n",
       "\n",
       "    .dataframe tbody tr th {\n",
       "        vertical-align: top;\n",
       "    }\n",
       "\n",
       "    .dataframe thead th {\n",
       "        text-align: right;\n",
       "    }\n",
       "</style>\n",
       "<table border=\"1\" class=\"dataframe\">\n",
       "  <thead>\n",
       "    <tr style=\"text-align: right;\">\n",
       "      <th></th>\n",
       "      <th>Year</th>\n",
       "      <th>Period</th>\n",
       "      <th>State</th>\n",
       "      <th>Commodity</th>\n",
       "      <th>Data Item</th>\n",
       "      <th>Domain</th>\n",
       "      <th>Domain Category</th>\n",
       "      <th>Value</th>\n",
       "    </tr>\n",
       "  </thead>\n",
       "  <tbody>\n",
       "    <tr>\n",
       "      <th>0</th>\n",
       "      <td>2019</td>\n",
       "      <td>MID DEC</td>\n",
       "      <td>US TOTAL</td>\n",
       "      <td>HONEY</td>\n",
       "      <td>HONEY - STOCKS, MEASURED IN LB</td>\n",
       "      <td>TOTAL</td>\n",
       "      <td>NOT SPECIFIED</td>\n",
       "      <td>41,022,000</td>\n",
       "    </tr>\n",
       "    <tr>\n",
       "      <th>1</th>\n",
       "      <td>2019</td>\n",
       "      <td>MID DEC</td>\n",
       "      <td>ALABAMA</td>\n",
       "      <td>HONEY</td>\n",
       "      <td>HONEY - STOCKS, MEASURED IN LB</td>\n",
       "      <td>TOTAL</td>\n",
       "      <td>NOT SPECIFIED</td>\n",
       "      <td>44,000</td>\n",
       "    </tr>\n",
       "    <tr>\n",
       "      <th>2</th>\n",
       "      <td>2019</td>\n",
       "      <td>MID DEC</td>\n",
       "      <td>ARIZONA</td>\n",
       "      <td>HONEY</td>\n",
       "      <td>HONEY - STOCKS, MEASURED IN LB</td>\n",
       "      <td>TOTAL</td>\n",
       "      <td>NOT SPECIFIED</td>\n",
       "      <td>201,000</td>\n",
       "    </tr>\n",
       "    <tr>\n",
       "      <th>3</th>\n",
       "      <td>2019</td>\n",
       "      <td>MID DEC</td>\n",
       "      <td>ARKANSAS</td>\n",
       "      <td>HONEY</td>\n",
       "      <td>HONEY - STOCKS, MEASURED IN LB</td>\n",
       "      <td>TOTAL</td>\n",
       "      <td>NOT SPECIFIED</td>\n",
       "      <td>176,000</td>\n",
       "    </tr>\n",
       "    <tr>\n",
       "      <th>4</th>\n",
       "      <td>2019</td>\n",
       "      <td>MID DEC</td>\n",
       "      <td>CALIFORNIA</td>\n",
       "      <td>HONEY</td>\n",
       "      <td>HONEY - STOCKS, MEASURED IN LB</td>\n",
       "      <td>TOTAL</td>\n",
       "      <td>NOT SPECIFIED</td>\n",
       "      <td>3,216,000</td>\n",
       "    </tr>\n",
       "    <tr>\n",
       "      <th>...</th>\n",
       "      <td>...</td>\n",
       "      <td>...</td>\n",
       "      <td>...</td>\n",
       "      <td>...</td>\n",
       "      <td>...</td>\n",
       "      <td>...</td>\n",
       "      <td>...</td>\n",
       "      <td>...</td>\n",
       "    </tr>\n",
       "    <tr>\n",
       "      <th>1465</th>\n",
       "      <td>1987</td>\n",
       "      <td>MID DEC</td>\n",
       "      <td>VIRGINIA</td>\n",
       "      <td>HONEY</td>\n",
       "      <td>HONEY - STOCKS, MEASURED IN LB</td>\n",
       "      <td>TOTAL</td>\n",
       "      <td>NOT SPECIFIED</td>\n",
       "      <td>120,000</td>\n",
       "    </tr>\n",
       "    <tr>\n",
       "      <th>1466</th>\n",
       "      <td>1987</td>\n",
       "      <td>MID DEC</td>\n",
       "      <td>WASHINGTON</td>\n",
       "      <td>HONEY</td>\n",
       "      <td>HONEY - STOCKS, MEASURED IN LB</td>\n",
       "      <td>TOTAL</td>\n",
       "      <td>NOT SPECIFIED</td>\n",
       "      <td>206,000</td>\n",
       "    </tr>\n",
       "    <tr>\n",
       "      <th>1467</th>\n",
       "      <td>1987</td>\n",
       "      <td>MID DEC</td>\n",
       "      <td>WEST VIRGINIA</td>\n",
       "      <td>HONEY</td>\n",
       "      <td>HONEY - STOCKS, MEASURED IN LB</td>\n",
       "      <td>TOTAL</td>\n",
       "      <td>NOT SPECIFIED</td>\n",
       "      <td>207,000</td>\n",
       "    </tr>\n",
       "    <tr>\n",
       "      <th>1468</th>\n",
       "      <td>1987</td>\n",
       "      <td>MID DEC</td>\n",
       "      <td>WISCONSIN</td>\n",
       "      <td>HONEY</td>\n",
       "      <td>HONEY - STOCKS, MEASURED IN LB</td>\n",
       "      <td>TOTAL</td>\n",
       "      <td>NOT SPECIFIED</td>\n",
       "      <td>1,160,000</td>\n",
       "    </tr>\n",
       "    <tr>\n",
       "      <th>1469</th>\n",
       "      <td>1987</td>\n",
       "      <td>MID DEC</td>\n",
       "      <td>WYOMING</td>\n",
       "      <td>HONEY</td>\n",
       "      <td>HONEY - STOCKS, MEASURED IN LB</td>\n",
       "      <td>TOTAL</td>\n",
       "      <td>NOT SPECIFIED</td>\n",
       "      <td>520,000</td>\n",
       "    </tr>\n",
       "  </tbody>\n",
       "</table>\n",
       "<p>1470 rows × 8 columns</p>\n",
       "</div>"
      ],
      "text/plain": [
       "      Year   Period          State Commodity                       Data Item  \\\n",
       "0     2019  MID DEC       US TOTAL     HONEY  HONEY - STOCKS, MEASURED IN LB   \n",
       "1     2019  MID DEC        ALABAMA     HONEY  HONEY - STOCKS, MEASURED IN LB   \n",
       "2     2019  MID DEC        ARIZONA     HONEY  HONEY - STOCKS, MEASURED IN LB   \n",
       "3     2019  MID DEC       ARKANSAS     HONEY  HONEY - STOCKS, MEASURED IN LB   \n",
       "4     2019  MID DEC     CALIFORNIA     HONEY  HONEY - STOCKS, MEASURED IN LB   \n",
       "...    ...      ...            ...       ...                             ...   \n",
       "1465  1987  MID DEC       VIRGINIA     HONEY  HONEY - STOCKS, MEASURED IN LB   \n",
       "1466  1987  MID DEC     WASHINGTON     HONEY  HONEY - STOCKS, MEASURED IN LB   \n",
       "1467  1987  MID DEC  WEST VIRGINIA     HONEY  HONEY - STOCKS, MEASURED IN LB   \n",
       "1468  1987  MID DEC      WISCONSIN     HONEY  HONEY - STOCKS, MEASURED IN LB   \n",
       "1469  1987  MID DEC        WYOMING     HONEY  HONEY - STOCKS, MEASURED IN LB   \n",
       "\n",
       "     Domain Domain Category       Value  \n",
       "0     TOTAL   NOT SPECIFIED  41,022,000  \n",
       "1     TOTAL   NOT SPECIFIED      44,000  \n",
       "2     TOTAL   NOT SPECIFIED     201,000  \n",
       "3     TOTAL   NOT SPECIFIED     176,000  \n",
       "4     TOTAL   NOT SPECIFIED   3,216,000  \n",
       "...     ...             ...         ...  \n",
       "1465  TOTAL   NOT SPECIFIED     120,000  \n",
       "1466  TOTAL   NOT SPECIFIED     206,000  \n",
       "1467  TOTAL   NOT SPECIFIED     207,000  \n",
       "1468  TOTAL   NOT SPECIFIED   1,160,000  \n",
       "1469  TOTAL   NOT SPECIFIED     520,000  \n",
       "\n",
       "[1470 rows x 8 columns]"
      ]
     },
     "execution_count": 4,
     "metadata": {},
     "output_type": "execute_result"
    }
   ],
   "source": [
    "honey_cleanup = honey_df[['Year', 'Period', 'State','Commodity','Data Item','Domain','Domain Category','Value']]\n",
    "honey_cleanup"
   ]
  },
  {
   "cell_type": "code",
   "execution_count": 5,
   "metadata": {},
   "outputs": [
    {
     "data": {
      "text/plain": [
       "array(['MID DEC'], dtype=object)"
      ]
     },
     "execution_count": 5,
     "metadata": {},
     "output_type": "execute_result"
    }
   ],
   "source": [
    "honey_cleanup['Period'].unique()"
   ]
  },
  {
   "cell_type": "code",
   "execution_count": 6,
   "metadata": {},
   "outputs": [
    {
     "data": {
      "text/plain": [
       "array(['US TOTAL', 'ALABAMA', 'ARIZONA', 'ARKANSAS', 'CALIFORNIA',\n",
       "       'COLORADO', 'FLORIDA', 'GEORGIA', 'HAWAII', 'IDAHO', 'ILLINOIS',\n",
       "       'INDIANA', 'IOWA', 'KANSAS', 'KENTUCKY', 'LOUISIANA', 'MAINE',\n",
       "       'MICHIGAN', 'MINNESOTA', 'MISSISSIPPI', 'MISSOURI', 'MONTANA',\n",
       "       'NEBRASKA', 'NEW JERSEY', 'NEW YORK', 'NORTH CAROLINA',\n",
       "       'NORTH DAKOTA', 'OHIO', 'OREGON', 'OTHER STATES', 'PENNSYLVANIA',\n",
       "       'SOUTH CAROLINA', 'SOUTH DAKOTA', 'TENNESSEE', 'TEXAS', 'UTAH',\n",
       "       'VERMONT', 'VIRGINIA', 'WASHINGTON', 'WEST VIRGINIA', 'WISCONSIN',\n",
       "       'WYOMING', 'NEW MEXICO', 'NEVADA', 'MARYLAND', 'OKLAHOMA',\n",
       "       'CONNECTICUT', 'DELAWARE', 'MASSACHUSETTS', 'NEW HAMPSHIRE',\n",
       "       'RHODE ISLAND'], dtype=object)"
      ]
     },
     "execution_count": 6,
     "metadata": {},
     "output_type": "execute_result"
    }
   ],
   "source": [
    "honey_cleanup['State'].unique()"
   ]
  },
  {
   "cell_type": "code",
   "execution_count": 7,
   "metadata": {},
   "outputs": [
    {
     "data": {
      "text/plain": [
       "array(['TOTAL'], dtype=object)"
      ]
     },
     "execution_count": 7,
     "metadata": {},
     "output_type": "execute_result"
    }
   ],
   "source": [
    "honey_cleanup['Domain'].unique()"
   ]
  },
  {
   "cell_type": "code",
   "execution_count": 8,
   "metadata": {},
   "outputs": [
    {
     "data": {
      "text/plain": [
       "array(['HONEY - STOCKS, MEASURED IN LB'], dtype=object)"
      ]
     },
     "execution_count": 8,
     "metadata": {},
     "output_type": "execute_result"
    }
   ],
   "source": [
    "honey_cleanup['Data Item'].unique()"
   ]
  },
  {
   "cell_type": "code",
   "execution_count": 9,
   "metadata": {},
   "outputs": [
    {
     "data": {
      "text/plain": [
       "array(['NOT SPECIFIED'], dtype=object)"
      ]
     },
     "execution_count": 9,
     "metadata": {},
     "output_type": "execute_result"
    }
   ],
   "source": [
    "honey_cleanup['Domain Category'].unique()"
   ]
  },
  {
   "cell_type": "code",
   "execution_count": 10,
   "metadata": {},
   "outputs": [],
   "source": [
    "#honey_state_year = honey_cleanup.groupby(['Year','State'], as_index = False).sum(['Value'])\n",
    "#honey_state_year"
   ]
  },
  {
   "cell_type": "code",
   "execution_count": 11,
   "metadata": {},
   "outputs": [],
   "source": [
    "#honey_state_year_v2 = honey_cleanup.groupby(['Year','State'], as_index = False)[['Value']].sum()\n",
    "#honey_state_year_v2"
   ]
  },
  {
   "cell_type": "code",
   "execution_count": 12,
   "metadata": {},
   "outputs": [
    {
     "data": {
      "text/html": [
       "<div>\n",
       "<style scoped>\n",
       "    .dataframe tbody tr th:only-of-type {\n",
       "        vertical-align: middle;\n",
       "    }\n",
       "\n",
       "    .dataframe tbody tr th {\n",
       "        vertical-align: top;\n",
       "    }\n",
       "\n",
       "    .dataframe thead th {\n",
       "        text-align: right;\n",
       "    }\n",
       "</style>\n",
       "<table border=\"1\" class=\"dataframe\">\n",
       "  <thead>\n",
       "    <tr style=\"text-align: right;\">\n",
       "      <th></th>\n",
       "      <th>Year</th>\n",
       "      <th>State</th>\n",
       "      <th>Value</th>\n",
       "    </tr>\n",
       "  </thead>\n",
       "  <tbody>\n",
       "    <tr>\n",
       "      <th>0</th>\n",
       "      <td>2019</td>\n",
       "      <td>US TOTAL</td>\n",
       "      <td>41,022,000</td>\n",
       "    </tr>\n",
       "    <tr>\n",
       "      <th>1</th>\n",
       "      <td>2019</td>\n",
       "      <td>ALABAMA</td>\n",
       "      <td>44,000</td>\n",
       "    </tr>\n",
       "    <tr>\n",
       "      <th>2</th>\n",
       "      <td>2019</td>\n",
       "      <td>ARIZONA</td>\n",
       "      <td>201,000</td>\n",
       "    </tr>\n",
       "    <tr>\n",
       "      <th>3</th>\n",
       "      <td>2019</td>\n",
       "      <td>ARKANSAS</td>\n",
       "      <td>176,000</td>\n",
       "    </tr>\n",
       "    <tr>\n",
       "      <th>4</th>\n",
       "      <td>2019</td>\n",
       "      <td>CALIFORNIA</td>\n",
       "      <td>3,216,000</td>\n",
       "    </tr>\n",
       "    <tr>\n",
       "      <th>...</th>\n",
       "      <td>...</td>\n",
       "      <td>...</td>\n",
       "      <td>...</td>\n",
       "    </tr>\n",
       "    <tr>\n",
       "      <th>1465</th>\n",
       "      <td>1987</td>\n",
       "      <td>VIRGINIA</td>\n",
       "      <td>120,000</td>\n",
       "    </tr>\n",
       "    <tr>\n",
       "      <th>1466</th>\n",
       "      <td>1987</td>\n",
       "      <td>WASHINGTON</td>\n",
       "      <td>206,000</td>\n",
       "    </tr>\n",
       "    <tr>\n",
       "      <th>1467</th>\n",
       "      <td>1987</td>\n",
       "      <td>WEST VIRGINIA</td>\n",
       "      <td>207,000</td>\n",
       "    </tr>\n",
       "    <tr>\n",
       "      <th>1468</th>\n",
       "      <td>1987</td>\n",
       "      <td>WISCONSIN</td>\n",
       "      <td>1,160,000</td>\n",
       "    </tr>\n",
       "    <tr>\n",
       "      <th>1469</th>\n",
       "      <td>1987</td>\n",
       "      <td>WYOMING</td>\n",
       "      <td>520,000</td>\n",
       "    </tr>\n",
       "  </tbody>\n",
       "</table>\n",
       "<p>1470 rows × 3 columns</p>\n",
       "</div>"
      ],
      "text/plain": [
       "      Year          State       Value\n",
       "0     2019       US TOTAL  41,022,000\n",
       "1     2019        ALABAMA      44,000\n",
       "2     2019        ARIZONA     201,000\n",
       "3     2019       ARKANSAS     176,000\n",
       "4     2019     CALIFORNIA   3,216,000\n",
       "...    ...            ...         ...\n",
       "1465  1987       VIRGINIA     120,000\n",
       "1466  1987     WASHINGTON     206,000\n",
       "1467  1987  WEST VIRGINIA     207,000\n",
       "1468  1987      WISCONSIN   1,160,000\n",
       "1469  1987        WYOMING     520,000\n",
       "\n",
       "[1470 rows x 3 columns]"
      ]
     },
     "execution_count": 12,
     "metadata": {},
     "output_type": "execute_result"
    }
   ],
   "source": [
    "clean_honey = honey_cleanup[['Year','State','Value']].copy()\n",
    "clean_honey"
   ]
  },
  {
   "cell_type": "code",
   "execution_count": 13,
   "metadata": {},
   "outputs": [
    {
     "data": {
      "text/plain": [
       "Year      int64\n",
       "State    object\n",
       "Value    object\n",
       "dtype: object"
      ]
     },
     "execution_count": 13,
     "metadata": {},
     "output_type": "execute_result"
    }
   ],
   "source": [
    "clean_honey.dtypes"
   ]
  },
  {
   "cell_type": "code",
   "execution_count": 14,
   "metadata": {},
   "outputs": [],
   "source": [
    "clean_honey['Value'] = clean_honey['Value'].str.replace(',','')"
   ]
  },
  {
   "cell_type": "code",
   "execution_count": 15,
   "metadata": {},
   "outputs": [
    {
     "data": {
      "text/html": [
       "<div>\n",
       "<style scoped>\n",
       "    .dataframe tbody tr th:only-of-type {\n",
       "        vertical-align: middle;\n",
       "    }\n",
       "\n",
       "    .dataframe tbody tr th {\n",
       "        vertical-align: top;\n",
       "    }\n",
       "\n",
       "    .dataframe thead th {\n",
       "        text-align: right;\n",
       "    }\n",
       "</style>\n",
       "<table border=\"1\" class=\"dataframe\">\n",
       "  <thead>\n",
       "    <tr style=\"text-align: right;\">\n",
       "      <th></th>\n",
       "      <th>Year</th>\n",
       "      <th>State</th>\n",
       "      <th>Value</th>\n",
       "    </tr>\n",
       "  </thead>\n",
       "  <tbody>\n",
       "    <tr>\n",
       "      <th>0</th>\n",
       "      <td>2019</td>\n",
       "      <td>US TOTAL</td>\n",
       "      <td>41022000</td>\n",
       "    </tr>\n",
       "    <tr>\n",
       "      <th>1</th>\n",
       "      <td>2019</td>\n",
       "      <td>ALABAMA</td>\n",
       "      <td>44000</td>\n",
       "    </tr>\n",
       "    <tr>\n",
       "      <th>2</th>\n",
       "      <td>2019</td>\n",
       "      <td>ARIZONA</td>\n",
       "      <td>201000</td>\n",
       "    </tr>\n",
       "    <tr>\n",
       "      <th>3</th>\n",
       "      <td>2019</td>\n",
       "      <td>ARKANSAS</td>\n",
       "      <td>176000</td>\n",
       "    </tr>\n",
       "    <tr>\n",
       "      <th>4</th>\n",
       "      <td>2019</td>\n",
       "      <td>CALIFORNIA</td>\n",
       "      <td>3216000</td>\n",
       "    </tr>\n",
       "  </tbody>\n",
       "</table>\n",
       "</div>"
      ],
      "text/plain": [
       "   Year       State     Value\n",
       "0  2019    US TOTAL  41022000\n",
       "1  2019     ALABAMA     44000\n",
       "2  2019     ARIZONA    201000\n",
       "3  2019    ARKANSAS    176000\n",
       "4  2019  CALIFORNIA   3216000"
      ]
     },
     "execution_count": 15,
     "metadata": {},
     "output_type": "execute_result"
    }
   ],
   "source": [
    "clean_honey['Value'] = clean_honey['Value'].astype(int)\n",
    "clean_honey.head()"
   ]
  },
  {
   "cell_type": "code",
   "execution_count": 16,
   "metadata": {},
   "outputs": [
    {
     "data": {
      "text/html": [
       "<div>\n",
       "<style scoped>\n",
       "    .dataframe tbody tr th:only-of-type {\n",
       "        vertical-align: middle;\n",
       "    }\n",
       "\n",
       "    .dataframe tbody tr th {\n",
       "        vertical-align: top;\n",
       "    }\n",
       "\n",
       "    .dataframe thead th {\n",
       "        text-align: right;\n",
       "    }\n",
       "</style>\n",
       "<table border=\"1\" class=\"dataframe\">\n",
       "  <thead>\n",
       "    <tr style=\"text-align: right;\">\n",
       "      <th></th>\n",
       "      <th>year</th>\n",
       "      <th>state</th>\n",
       "      <th>lbs_of_honey</th>\n",
       "    </tr>\n",
       "  </thead>\n",
       "  <tbody>\n",
       "    <tr>\n",
       "      <th>0</th>\n",
       "      <td>2019</td>\n",
       "      <td>US TOTAL</td>\n",
       "      <td>41022000</td>\n",
       "    </tr>\n",
       "    <tr>\n",
       "      <th>1</th>\n",
       "      <td>2019</td>\n",
       "      <td>ALABAMA</td>\n",
       "      <td>44000</td>\n",
       "    </tr>\n",
       "    <tr>\n",
       "      <th>2</th>\n",
       "      <td>2019</td>\n",
       "      <td>ARIZONA</td>\n",
       "      <td>201000</td>\n",
       "    </tr>\n",
       "    <tr>\n",
       "      <th>3</th>\n",
       "      <td>2019</td>\n",
       "      <td>ARKANSAS</td>\n",
       "      <td>176000</td>\n",
       "    </tr>\n",
       "    <tr>\n",
       "      <th>4</th>\n",
       "      <td>2019</td>\n",
       "      <td>CALIFORNIA</td>\n",
       "      <td>3216000</td>\n",
       "    </tr>\n",
       "    <tr>\n",
       "      <th>...</th>\n",
       "      <td>...</td>\n",
       "      <td>...</td>\n",
       "      <td>...</td>\n",
       "    </tr>\n",
       "    <tr>\n",
       "      <th>1465</th>\n",
       "      <td>1987</td>\n",
       "      <td>VIRGINIA</td>\n",
       "      <td>120000</td>\n",
       "    </tr>\n",
       "    <tr>\n",
       "      <th>1466</th>\n",
       "      <td>1987</td>\n",
       "      <td>WASHINGTON</td>\n",
       "      <td>206000</td>\n",
       "    </tr>\n",
       "    <tr>\n",
       "      <th>1467</th>\n",
       "      <td>1987</td>\n",
       "      <td>WEST VIRGINIA</td>\n",
       "      <td>207000</td>\n",
       "    </tr>\n",
       "    <tr>\n",
       "      <th>1468</th>\n",
       "      <td>1987</td>\n",
       "      <td>WISCONSIN</td>\n",
       "      <td>1160000</td>\n",
       "    </tr>\n",
       "    <tr>\n",
       "      <th>1469</th>\n",
       "      <td>1987</td>\n",
       "      <td>WYOMING</td>\n",
       "      <td>520000</td>\n",
       "    </tr>\n",
       "  </tbody>\n",
       "</table>\n",
       "<p>1470 rows × 3 columns</p>\n",
       "</div>"
      ],
      "text/plain": [
       "      year          state  lbs_of_honey\n",
       "0     2019       US TOTAL      41022000\n",
       "1     2019        ALABAMA         44000\n",
       "2     2019        ARIZONA        201000\n",
       "3     2019       ARKANSAS        176000\n",
       "4     2019     CALIFORNIA       3216000\n",
       "...    ...            ...           ...\n",
       "1465  1987       VIRGINIA        120000\n",
       "1466  1987     WASHINGTON        206000\n",
       "1467  1987  WEST VIRGINIA        207000\n",
       "1468  1987      WISCONSIN       1160000\n",
       "1469  1987        WYOMING        520000\n",
       "\n",
       "[1470 rows x 3 columns]"
      ]
     },
     "execution_count": 16,
     "metadata": {},
     "output_type": "execute_result"
    }
   ],
   "source": [
    "cleaned_honey = clean_honey.rename(columns={'Year':'year','State':'state','Value':'lbs_of_honey'})\n",
    "cleaned_honey"
   ]
  },
  {
   "cell_type": "code",
   "execution_count": 17,
   "metadata": {},
   "outputs": [
    {
     "data": {
      "text/plain": [
       "year             int64\n",
       "state           object\n",
       "lbs_of_honey     int32\n",
       "dtype: object"
      ]
     },
     "execution_count": 17,
     "metadata": {},
     "output_type": "execute_result"
    }
   ],
   "source": [
    "cleaned_honey.dtypes"
   ]
  },
  {
   "cell_type": "markdown",
   "metadata": {},
   "source": [
    "Colonies"
   ]
  },
  {
   "cell_type": "code",
   "execution_count": 18,
   "metadata": {},
   "outputs": [
    {
     "data": {
      "text/html": [
       "<div>\n",
       "<style scoped>\n",
       "    .dataframe tbody tr th:only-of-type {\n",
       "        vertical-align: middle;\n",
       "    }\n",
       "\n",
       "    .dataframe tbody tr th {\n",
       "        vertical-align: top;\n",
       "    }\n",
       "\n",
       "    .dataframe thead th {\n",
       "        text-align: right;\n",
       "    }\n",
       "</style>\n",
       "<table border=\"1\" class=\"dataframe\">\n",
       "  <thead>\n",
       "    <tr style=\"text-align: right;\">\n",
       "      <th></th>\n",
       "      <th>Program</th>\n",
       "      <th>Year</th>\n",
       "      <th>Period</th>\n",
       "      <th>Week Ending</th>\n",
       "      <th>Geo Level</th>\n",
       "      <th>State</th>\n",
       "      <th>State ANSI</th>\n",
       "      <th>Ag District</th>\n",
       "      <th>Ag District Code</th>\n",
       "      <th>County</th>\n",
       "      <th>...</th>\n",
       "      <th>Zip Code</th>\n",
       "      <th>Region</th>\n",
       "      <th>watershed_code</th>\n",
       "      <th>Watershed</th>\n",
       "      <th>Commodity</th>\n",
       "      <th>Data Item</th>\n",
       "      <th>Domain</th>\n",
       "      <th>Domain Category</th>\n",
       "      <th>Value</th>\n",
       "      <th>CV (%)</th>\n",
       "    </tr>\n",
       "  </thead>\n",
       "  <tbody>\n",
       "    <tr>\n",
       "      <th>0</th>\n",
       "      <td>SURVEY</td>\n",
       "      <td>2020</td>\n",
       "      <td>FIRST OF JAN</td>\n",
       "      <td>NaN</td>\n",
       "      <td>NATIONAL</td>\n",
       "      <td>US TOTAL</td>\n",
       "      <td>NaN</td>\n",
       "      <td>NaN</td>\n",
       "      <td>NaN</td>\n",
       "      <td>NaN</td>\n",
       "      <td>...</td>\n",
       "      <td>NaN</td>\n",
       "      <td>NaN</td>\n",
       "      <td>0</td>\n",
       "      <td>NaN</td>\n",
       "      <td>HONEY</td>\n",
       "      <td>HONEY, BEE COLONIES - INVENTORY, MEASURED IN C...</td>\n",
       "      <td>TOTAL</td>\n",
       "      <td>NOT SPECIFIED</td>\n",
       "      <td>2,876,100</td>\n",
       "      <td>NaN</td>\n",
       "    </tr>\n",
       "    <tr>\n",
       "      <th>1</th>\n",
       "      <td>SURVEY</td>\n",
       "      <td>2020</td>\n",
       "      <td>FIRST OF JAN</td>\n",
       "      <td>NaN</td>\n",
       "      <td>STATE</td>\n",
       "      <td>ALABAMA</td>\n",
       "      <td>1.0</td>\n",
       "      <td>NaN</td>\n",
       "      <td>NaN</td>\n",
       "      <td>NaN</td>\n",
       "      <td>...</td>\n",
       "      <td>NaN</td>\n",
       "      <td>NaN</td>\n",
       "      <td>0</td>\n",
       "      <td>NaN</td>\n",
       "      <td>HONEY</td>\n",
       "      <td>HONEY, BEE COLONIES - INVENTORY, MEASURED IN C...</td>\n",
       "      <td>TOTAL</td>\n",
       "      <td>NOT SPECIFIED</td>\n",
       "      <td>5,500</td>\n",
       "      <td>NaN</td>\n",
       "    </tr>\n",
       "    <tr>\n",
       "      <th>2</th>\n",
       "      <td>SURVEY</td>\n",
       "      <td>2020</td>\n",
       "      <td>FIRST OF JAN</td>\n",
       "      <td>NaN</td>\n",
       "      <td>STATE</td>\n",
       "      <td>ARIZONA</td>\n",
       "      <td>4.0</td>\n",
       "      <td>NaN</td>\n",
       "      <td>NaN</td>\n",
       "      <td>NaN</td>\n",
       "      <td>...</td>\n",
       "      <td>NaN</td>\n",
       "      <td>NaN</td>\n",
       "      <td>0</td>\n",
       "      <td>NaN</td>\n",
       "      <td>HONEY</td>\n",
       "      <td>HONEY, BEE COLONIES - INVENTORY, MEASURED IN C...</td>\n",
       "      <td>TOTAL</td>\n",
       "      <td>NOT SPECIFIED</td>\n",
       "      <td>29,000</td>\n",
       "      <td>NaN</td>\n",
       "    </tr>\n",
       "    <tr>\n",
       "      <th>3</th>\n",
       "      <td>SURVEY</td>\n",
       "      <td>2020</td>\n",
       "      <td>FIRST OF JAN</td>\n",
       "      <td>NaN</td>\n",
       "      <td>STATE</td>\n",
       "      <td>ARKANSAS</td>\n",
       "      <td>5.0</td>\n",
       "      <td>NaN</td>\n",
       "      <td>NaN</td>\n",
       "      <td>NaN</td>\n",
       "      <td>...</td>\n",
       "      <td>NaN</td>\n",
       "      <td>NaN</td>\n",
       "      <td>0</td>\n",
       "      <td>NaN</td>\n",
       "      <td>HONEY</td>\n",
       "      <td>HONEY, BEE COLONIES - INVENTORY, MEASURED IN C...</td>\n",
       "      <td>TOTAL</td>\n",
       "      <td>NOT SPECIFIED</td>\n",
       "      <td>16,500</td>\n",
       "      <td>NaN</td>\n",
       "    </tr>\n",
       "    <tr>\n",
       "      <th>4</th>\n",
       "      <td>SURVEY</td>\n",
       "      <td>2020</td>\n",
       "      <td>FIRST OF JAN</td>\n",
       "      <td>NaN</td>\n",
       "      <td>STATE</td>\n",
       "      <td>CALIFORNIA</td>\n",
       "      <td>6.0</td>\n",
       "      <td>NaN</td>\n",
       "      <td>NaN</td>\n",
       "      <td>NaN</td>\n",
       "      <td>...</td>\n",
       "      <td>NaN</td>\n",
       "      <td>NaN</td>\n",
       "      <td>0</td>\n",
       "      <td>NaN</td>\n",
       "      <td>HONEY</td>\n",
       "      <td>HONEY, BEE COLONIES - INVENTORY, MEASURED IN C...</td>\n",
       "      <td>TOTAL</td>\n",
       "      <td>NOT SPECIFIED</td>\n",
       "      <td>1,350,000</td>\n",
       "      <td>NaN</td>\n",
       "    </tr>\n",
       "    <tr>\n",
       "      <th>...</th>\n",
       "      <td>...</td>\n",
       "      <td>...</td>\n",
       "      <td>...</td>\n",
       "      <td>...</td>\n",
       "      <td>...</td>\n",
       "      <td>...</td>\n",
       "      <td>...</td>\n",
       "      <td>...</td>\n",
       "      <td>...</td>\n",
       "      <td>...</td>\n",
       "      <td>...</td>\n",
       "      <td>...</td>\n",
       "      <td>...</td>\n",
       "      <td>...</td>\n",
       "      <td>...</td>\n",
       "      <td>...</td>\n",
       "      <td>...</td>\n",
       "      <td>...</td>\n",
       "      <td>...</td>\n",
       "      <td>...</td>\n",
       "      <td>...</td>\n",
       "    </tr>\n",
       "    <tr>\n",
       "      <th>2464</th>\n",
       "      <td>SURVEY</td>\n",
       "      <td>1987</td>\n",
       "      <td>MARKETING YEAR</td>\n",
       "      <td>NaN</td>\n",
       "      <td>STATE</td>\n",
       "      <td>VIRGINIA</td>\n",
       "      <td>51.0</td>\n",
       "      <td>NaN</td>\n",
       "      <td>NaN</td>\n",
       "      <td>NaN</td>\n",
       "      <td>...</td>\n",
       "      <td>NaN</td>\n",
       "      <td>NaN</td>\n",
       "      <td>0</td>\n",
       "      <td>NaN</td>\n",
       "      <td>HONEY</td>\n",
       "      <td>HONEY, BEE COLONIES - INVENTORY, MEASURED IN C...</td>\n",
       "      <td>TOTAL</td>\n",
       "      <td>NOT SPECIFIED</td>\n",
       "      <td>25,000</td>\n",
       "      <td>NaN</td>\n",
       "    </tr>\n",
       "    <tr>\n",
       "      <th>2465</th>\n",
       "      <td>SURVEY</td>\n",
       "      <td>1987</td>\n",
       "      <td>MARKETING YEAR</td>\n",
       "      <td>NaN</td>\n",
       "      <td>STATE</td>\n",
       "      <td>WASHINGTON</td>\n",
       "      <td>53.0</td>\n",
       "      <td>NaN</td>\n",
       "      <td>NaN</td>\n",
       "      <td>NaN</td>\n",
       "      <td>...</td>\n",
       "      <td>NaN</td>\n",
       "      <td>NaN</td>\n",
       "      <td>0</td>\n",
       "      <td>NaN</td>\n",
       "      <td>HONEY</td>\n",
       "      <td>HONEY, BEE COLONIES - INVENTORY, MEASURED IN C...</td>\n",
       "      <td>TOTAL</td>\n",
       "      <td>NOT SPECIFIED</td>\n",
       "      <td>75,000</td>\n",
       "      <td>NaN</td>\n",
       "    </tr>\n",
       "    <tr>\n",
       "      <th>2466</th>\n",
       "      <td>SURVEY</td>\n",
       "      <td>1987</td>\n",
       "      <td>MARKETING YEAR</td>\n",
       "      <td>NaN</td>\n",
       "      <td>STATE</td>\n",
       "      <td>WEST VIRGINIA</td>\n",
       "      <td>54.0</td>\n",
       "      <td>NaN</td>\n",
       "      <td>NaN</td>\n",
       "      <td>NaN</td>\n",
       "      <td>...</td>\n",
       "      <td>NaN</td>\n",
       "      <td>NaN</td>\n",
       "      <td>0</td>\n",
       "      <td>NaN</td>\n",
       "      <td>HONEY</td>\n",
       "      <td>HONEY, BEE COLONIES - INVENTORY, MEASURED IN C...</td>\n",
       "      <td>TOTAL</td>\n",
       "      <td>NOT SPECIFIED</td>\n",
       "      <td>21,000</td>\n",
       "      <td>NaN</td>\n",
       "    </tr>\n",
       "    <tr>\n",
       "      <th>2467</th>\n",
       "      <td>SURVEY</td>\n",
       "      <td>1987</td>\n",
       "      <td>MARKETING YEAR</td>\n",
       "      <td>NaN</td>\n",
       "      <td>STATE</td>\n",
       "      <td>WISCONSIN</td>\n",
       "      <td>55.0</td>\n",
       "      <td>NaN</td>\n",
       "      <td>NaN</td>\n",
       "      <td>NaN</td>\n",
       "      <td>...</td>\n",
       "      <td>NaN</td>\n",
       "      <td>NaN</td>\n",
       "      <td>0</td>\n",
       "      <td>NaN</td>\n",
       "      <td>HONEY</td>\n",
       "      <td>HONEY, BEE COLONIES - INVENTORY, MEASURED IN C...</td>\n",
       "      <td>TOTAL</td>\n",
       "      <td>NOT SPECIFIED</td>\n",
       "      <td>92,000</td>\n",
       "      <td>NaN</td>\n",
       "    </tr>\n",
       "    <tr>\n",
       "      <th>2468</th>\n",
       "      <td>SURVEY</td>\n",
       "      <td>1987</td>\n",
       "      <td>MARKETING YEAR</td>\n",
       "      <td>NaN</td>\n",
       "      <td>STATE</td>\n",
       "      <td>WYOMING</td>\n",
       "      <td>56.0</td>\n",
       "      <td>NaN</td>\n",
       "      <td>NaN</td>\n",
       "      <td>NaN</td>\n",
       "      <td>...</td>\n",
       "      <td>NaN</td>\n",
       "      <td>NaN</td>\n",
       "      <td>0</td>\n",
       "      <td>NaN</td>\n",
       "      <td>HONEY</td>\n",
       "      <td>HONEY, BEE COLONIES - INVENTORY, MEASURED IN C...</td>\n",
       "      <td>TOTAL</td>\n",
       "      <td>NOT SPECIFIED</td>\n",
       "      <td>39,000</td>\n",
       "      <td>NaN</td>\n",
       "    </tr>\n",
       "  </tbody>\n",
       "</table>\n",
       "<p>2469 rows × 21 columns</p>\n",
       "</div>"
      ],
      "text/plain": [
       "     Program  Year          Period  Week Ending Geo Level          State  \\\n",
       "0     SURVEY  2020    FIRST OF JAN          NaN  NATIONAL       US TOTAL   \n",
       "1     SURVEY  2020    FIRST OF JAN          NaN     STATE        ALABAMA   \n",
       "2     SURVEY  2020    FIRST OF JAN          NaN     STATE        ARIZONA   \n",
       "3     SURVEY  2020    FIRST OF JAN          NaN     STATE       ARKANSAS   \n",
       "4     SURVEY  2020    FIRST OF JAN          NaN     STATE     CALIFORNIA   \n",
       "...      ...   ...             ...          ...       ...            ...   \n",
       "2464  SURVEY  1987  MARKETING YEAR          NaN     STATE       VIRGINIA   \n",
       "2465  SURVEY  1987  MARKETING YEAR          NaN     STATE     WASHINGTON   \n",
       "2466  SURVEY  1987  MARKETING YEAR          NaN     STATE  WEST VIRGINIA   \n",
       "2467  SURVEY  1987  MARKETING YEAR          NaN     STATE      WISCONSIN   \n",
       "2468  SURVEY  1987  MARKETING YEAR          NaN     STATE        WYOMING   \n",
       "\n",
       "      State ANSI  Ag District  Ag District Code  County  ...  Zip Code  \\\n",
       "0            NaN          NaN               NaN     NaN  ...       NaN   \n",
       "1            1.0          NaN               NaN     NaN  ...       NaN   \n",
       "2            4.0          NaN               NaN     NaN  ...       NaN   \n",
       "3            5.0          NaN               NaN     NaN  ...       NaN   \n",
       "4            6.0          NaN               NaN     NaN  ...       NaN   \n",
       "...          ...          ...               ...     ...  ...       ...   \n",
       "2464        51.0          NaN               NaN     NaN  ...       NaN   \n",
       "2465        53.0          NaN               NaN     NaN  ...       NaN   \n",
       "2466        54.0          NaN               NaN     NaN  ...       NaN   \n",
       "2467        55.0          NaN               NaN     NaN  ...       NaN   \n",
       "2468        56.0          NaN               NaN     NaN  ...       NaN   \n",
       "\n",
       "      Region  watershed_code  Watershed  Commodity  \\\n",
       "0        NaN               0        NaN      HONEY   \n",
       "1        NaN               0        NaN      HONEY   \n",
       "2        NaN               0        NaN      HONEY   \n",
       "3        NaN               0        NaN      HONEY   \n",
       "4        NaN               0        NaN      HONEY   \n",
       "...      ...             ...        ...        ...   \n",
       "2464     NaN               0        NaN      HONEY   \n",
       "2465     NaN               0        NaN      HONEY   \n",
       "2466     NaN               0        NaN      HONEY   \n",
       "2467     NaN               0        NaN      HONEY   \n",
       "2468     NaN               0        NaN      HONEY   \n",
       "\n",
       "                                              Data Item Domain  \\\n",
       "0     HONEY, BEE COLONIES - INVENTORY, MEASURED IN C...  TOTAL   \n",
       "1     HONEY, BEE COLONIES - INVENTORY, MEASURED IN C...  TOTAL   \n",
       "2     HONEY, BEE COLONIES - INVENTORY, MEASURED IN C...  TOTAL   \n",
       "3     HONEY, BEE COLONIES - INVENTORY, MEASURED IN C...  TOTAL   \n",
       "4     HONEY, BEE COLONIES - INVENTORY, MEASURED IN C...  TOTAL   \n",
       "...                                                 ...    ...   \n",
       "2464  HONEY, BEE COLONIES - INVENTORY, MEASURED IN C...  TOTAL   \n",
       "2465  HONEY, BEE COLONIES - INVENTORY, MEASURED IN C...  TOTAL   \n",
       "2466  HONEY, BEE COLONIES - INVENTORY, MEASURED IN C...  TOTAL   \n",
       "2467  HONEY, BEE COLONIES - INVENTORY, MEASURED IN C...  TOTAL   \n",
       "2468  HONEY, BEE COLONIES - INVENTORY, MEASURED IN C...  TOTAL   \n",
       "\n",
       "     Domain Category      Value CV (%)  \n",
       "0      NOT SPECIFIED  2,876,100    NaN  \n",
       "1      NOT SPECIFIED      5,500    NaN  \n",
       "2      NOT SPECIFIED     29,000    NaN  \n",
       "3      NOT SPECIFIED     16,500    NaN  \n",
       "4      NOT SPECIFIED  1,350,000    NaN  \n",
       "...              ...        ...    ...  \n",
       "2464   NOT SPECIFIED     25,000    NaN  \n",
       "2465   NOT SPECIFIED     75,000    NaN  \n",
       "2466   NOT SPECIFIED     21,000    NaN  \n",
       "2467   NOT SPECIFIED     92,000    NaN  \n",
       "2468   NOT SPECIFIED     39,000    NaN  \n",
       "\n",
       "[2469 rows x 21 columns]"
      ]
     },
     "execution_count": 18,
     "metadata": {},
     "output_type": "execute_result"
    }
   ],
   "source": [
    "colony_df"
   ]
  },
  {
   "cell_type": "code",
   "execution_count": 19,
   "metadata": {},
   "outputs": [
    {
     "data": {
      "text/plain": [
       "Program             2469\n",
       "Year                2469\n",
       "Period              2469\n",
       "Week Ending            0\n",
       "Geo Level           2469\n",
       "State               2469\n",
       "State ANSI          2353\n",
       "Ag District            0\n",
       "Ag District Code       0\n",
       "County                 0\n",
       "County ANSI            0\n",
       "Zip Code               0\n",
       "Region                 0\n",
       "watershed_code      2469\n",
       "Watershed              0\n",
       "Commodity           2469\n",
       "Data Item           2469\n",
       "Domain              2469\n",
       "Domain Category     2469\n",
       "Value               2469\n",
       "CV (%)                 0\n",
       "dtype: int64"
      ]
     },
     "execution_count": 19,
     "metadata": {},
     "output_type": "execute_result"
    }
   ],
   "source": [
    "colony_df.count()"
   ]
  },
  {
   "cell_type": "code",
   "execution_count": 20,
   "metadata": {},
   "outputs": [
    {
     "data": {
      "text/html": [
       "<div>\n",
       "<style scoped>\n",
       "    .dataframe tbody tr th:only-of-type {\n",
       "        vertical-align: middle;\n",
       "    }\n",
       "\n",
       "    .dataframe tbody tr th {\n",
       "        vertical-align: top;\n",
       "    }\n",
       "\n",
       "    .dataframe thead th {\n",
       "        text-align: right;\n",
       "    }\n",
       "</style>\n",
       "<table border=\"1\" class=\"dataframe\">\n",
       "  <thead>\n",
       "    <tr style=\"text-align: right;\">\n",
       "      <th></th>\n",
       "      <th>Year</th>\n",
       "      <th>Period</th>\n",
       "      <th>State</th>\n",
       "      <th>Commodity</th>\n",
       "      <th>Data Item</th>\n",
       "      <th>Domain</th>\n",
       "      <th>Domain Category</th>\n",
       "      <th>Value</th>\n",
       "    </tr>\n",
       "  </thead>\n",
       "  <tbody>\n",
       "    <tr>\n",
       "      <th>0</th>\n",
       "      <td>2020</td>\n",
       "      <td>FIRST OF JAN</td>\n",
       "      <td>US TOTAL</td>\n",
       "      <td>HONEY</td>\n",
       "      <td>HONEY, BEE COLONIES - INVENTORY, MEASURED IN C...</td>\n",
       "      <td>TOTAL</td>\n",
       "      <td>NOT SPECIFIED</td>\n",
       "      <td>2,876,100</td>\n",
       "    </tr>\n",
       "    <tr>\n",
       "      <th>1</th>\n",
       "      <td>2020</td>\n",
       "      <td>FIRST OF JAN</td>\n",
       "      <td>ALABAMA</td>\n",
       "      <td>HONEY</td>\n",
       "      <td>HONEY, BEE COLONIES - INVENTORY, MEASURED IN C...</td>\n",
       "      <td>TOTAL</td>\n",
       "      <td>NOT SPECIFIED</td>\n",
       "      <td>5,500</td>\n",
       "    </tr>\n",
       "    <tr>\n",
       "      <th>2</th>\n",
       "      <td>2020</td>\n",
       "      <td>FIRST OF JAN</td>\n",
       "      <td>ARIZONA</td>\n",
       "      <td>HONEY</td>\n",
       "      <td>HONEY, BEE COLONIES - INVENTORY, MEASURED IN C...</td>\n",
       "      <td>TOTAL</td>\n",
       "      <td>NOT SPECIFIED</td>\n",
       "      <td>29,000</td>\n",
       "    </tr>\n",
       "    <tr>\n",
       "      <th>3</th>\n",
       "      <td>2020</td>\n",
       "      <td>FIRST OF JAN</td>\n",
       "      <td>ARKANSAS</td>\n",
       "      <td>HONEY</td>\n",
       "      <td>HONEY, BEE COLONIES - INVENTORY, MEASURED IN C...</td>\n",
       "      <td>TOTAL</td>\n",
       "      <td>NOT SPECIFIED</td>\n",
       "      <td>16,500</td>\n",
       "    </tr>\n",
       "    <tr>\n",
       "      <th>4</th>\n",
       "      <td>2020</td>\n",
       "      <td>FIRST OF JAN</td>\n",
       "      <td>CALIFORNIA</td>\n",
       "      <td>HONEY</td>\n",
       "      <td>HONEY, BEE COLONIES - INVENTORY, MEASURED IN C...</td>\n",
       "      <td>TOTAL</td>\n",
       "      <td>NOT SPECIFIED</td>\n",
       "      <td>1,350,000</td>\n",
       "    </tr>\n",
       "    <tr>\n",
       "      <th>...</th>\n",
       "      <td>...</td>\n",
       "      <td>...</td>\n",
       "      <td>...</td>\n",
       "      <td>...</td>\n",
       "      <td>...</td>\n",
       "      <td>...</td>\n",
       "      <td>...</td>\n",
       "      <td>...</td>\n",
       "    </tr>\n",
       "    <tr>\n",
       "      <th>2464</th>\n",
       "      <td>1987</td>\n",
       "      <td>MARKETING YEAR</td>\n",
       "      <td>VIRGINIA</td>\n",
       "      <td>HONEY</td>\n",
       "      <td>HONEY, BEE COLONIES - INVENTORY, MEASURED IN C...</td>\n",
       "      <td>TOTAL</td>\n",
       "      <td>NOT SPECIFIED</td>\n",
       "      <td>25,000</td>\n",
       "    </tr>\n",
       "    <tr>\n",
       "      <th>2465</th>\n",
       "      <td>1987</td>\n",
       "      <td>MARKETING YEAR</td>\n",
       "      <td>WASHINGTON</td>\n",
       "      <td>HONEY</td>\n",
       "      <td>HONEY, BEE COLONIES - INVENTORY, MEASURED IN C...</td>\n",
       "      <td>TOTAL</td>\n",
       "      <td>NOT SPECIFIED</td>\n",
       "      <td>75,000</td>\n",
       "    </tr>\n",
       "    <tr>\n",
       "      <th>2466</th>\n",
       "      <td>1987</td>\n",
       "      <td>MARKETING YEAR</td>\n",
       "      <td>WEST VIRGINIA</td>\n",
       "      <td>HONEY</td>\n",
       "      <td>HONEY, BEE COLONIES - INVENTORY, MEASURED IN C...</td>\n",
       "      <td>TOTAL</td>\n",
       "      <td>NOT SPECIFIED</td>\n",
       "      <td>21,000</td>\n",
       "    </tr>\n",
       "    <tr>\n",
       "      <th>2467</th>\n",
       "      <td>1987</td>\n",
       "      <td>MARKETING YEAR</td>\n",
       "      <td>WISCONSIN</td>\n",
       "      <td>HONEY</td>\n",
       "      <td>HONEY, BEE COLONIES - INVENTORY, MEASURED IN C...</td>\n",
       "      <td>TOTAL</td>\n",
       "      <td>NOT SPECIFIED</td>\n",
       "      <td>92,000</td>\n",
       "    </tr>\n",
       "    <tr>\n",
       "      <th>2468</th>\n",
       "      <td>1987</td>\n",
       "      <td>MARKETING YEAR</td>\n",
       "      <td>WYOMING</td>\n",
       "      <td>HONEY</td>\n",
       "      <td>HONEY, BEE COLONIES - INVENTORY, MEASURED IN C...</td>\n",
       "      <td>TOTAL</td>\n",
       "      <td>NOT SPECIFIED</td>\n",
       "      <td>39,000</td>\n",
       "    </tr>\n",
       "  </tbody>\n",
       "</table>\n",
       "<p>2469 rows × 8 columns</p>\n",
       "</div>"
      ],
      "text/plain": [
       "      Year          Period          State Commodity  \\\n",
       "0     2020    FIRST OF JAN       US TOTAL     HONEY   \n",
       "1     2020    FIRST OF JAN        ALABAMA     HONEY   \n",
       "2     2020    FIRST OF JAN        ARIZONA     HONEY   \n",
       "3     2020    FIRST OF JAN       ARKANSAS     HONEY   \n",
       "4     2020    FIRST OF JAN     CALIFORNIA     HONEY   \n",
       "...    ...             ...            ...       ...   \n",
       "2464  1987  MARKETING YEAR       VIRGINIA     HONEY   \n",
       "2465  1987  MARKETING YEAR     WASHINGTON     HONEY   \n",
       "2466  1987  MARKETING YEAR  WEST VIRGINIA     HONEY   \n",
       "2467  1987  MARKETING YEAR      WISCONSIN     HONEY   \n",
       "2468  1987  MARKETING YEAR        WYOMING     HONEY   \n",
       "\n",
       "                                              Data Item Domain  \\\n",
       "0     HONEY, BEE COLONIES - INVENTORY, MEASURED IN C...  TOTAL   \n",
       "1     HONEY, BEE COLONIES - INVENTORY, MEASURED IN C...  TOTAL   \n",
       "2     HONEY, BEE COLONIES - INVENTORY, MEASURED IN C...  TOTAL   \n",
       "3     HONEY, BEE COLONIES - INVENTORY, MEASURED IN C...  TOTAL   \n",
       "4     HONEY, BEE COLONIES - INVENTORY, MEASURED IN C...  TOTAL   \n",
       "...                                                 ...    ...   \n",
       "2464  HONEY, BEE COLONIES - INVENTORY, MEASURED IN C...  TOTAL   \n",
       "2465  HONEY, BEE COLONIES - INVENTORY, MEASURED IN C...  TOTAL   \n",
       "2466  HONEY, BEE COLONIES - INVENTORY, MEASURED IN C...  TOTAL   \n",
       "2467  HONEY, BEE COLONIES - INVENTORY, MEASURED IN C...  TOTAL   \n",
       "2468  HONEY, BEE COLONIES - INVENTORY, MEASURED IN C...  TOTAL   \n",
       "\n",
       "     Domain Category      Value  \n",
       "0      NOT SPECIFIED  2,876,100  \n",
       "1      NOT SPECIFIED      5,500  \n",
       "2      NOT SPECIFIED     29,000  \n",
       "3      NOT SPECIFIED     16,500  \n",
       "4      NOT SPECIFIED  1,350,000  \n",
       "...              ...        ...  \n",
       "2464   NOT SPECIFIED     25,000  \n",
       "2465   NOT SPECIFIED     75,000  \n",
       "2466   NOT SPECIFIED     21,000  \n",
       "2467   NOT SPECIFIED     92,000  \n",
       "2468   NOT SPECIFIED     39,000  \n",
       "\n",
       "[2469 rows x 8 columns]"
      ]
     },
     "execution_count": 20,
     "metadata": {},
     "output_type": "execute_result"
    }
   ],
   "source": [
    "colony_cleanup = colony_df[['Year', 'Period', 'State','Commodity','Data Item','Domain','Domain Category','Value']].copy()\n",
    "colony_cleanup"
   ]
  },
  {
   "cell_type": "code",
   "execution_count": 21,
   "metadata": {},
   "outputs": [
    {
     "data": {
      "text/plain": [
       "Year               2469\n",
       "Period             2469\n",
       "State              2469\n",
       "Commodity          2469\n",
       "Data Item          2469\n",
       "Domain             2469\n",
       "Domain Category    2469\n",
       "Value              2469\n",
       "dtype: int64"
      ]
     },
     "execution_count": 21,
     "metadata": {},
     "output_type": "execute_result"
    }
   ],
   "source": [
    "colony_cleanup.count()"
   ]
  },
  {
   "cell_type": "code",
   "execution_count": 22,
   "metadata": {},
   "outputs": [
    {
     "data": {
      "text/plain": [
       "array(['FIRST OF JAN', 'FIRST OF APR', 'MARKETING YEAR', 'FIRST OF JUL',\n",
       "       'FIRST OF OCT'], dtype=object)"
      ]
     },
     "execution_count": 22,
     "metadata": {},
     "output_type": "execute_result"
    }
   ],
   "source": [
    "colony_cleanup['Period'].unique()"
   ]
  },
  {
   "cell_type": "code",
   "execution_count": 23,
   "metadata": {},
   "outputs": [
    {
     "data": {
      "text/plain": [
       "array(['US TOTAL', 'ALABAMA', 'ARIZONA', 'ARKANSAS', 'CALIFORNIA',\n",
       "       'COLORADO', 'CONNECTICUT', 'FLORIDA', 'GEORGIA', 'HAWAII', 'IDAHO',\n",
       "       'ILLINOIS', 'INDIANA', 'IOWA', 'KANSAS', 'KENTUCKY', 'LOUISIANA',\n",
       "       'MAINE', 'MARYLAND', 'MASSACHUSETTS', 'MICHIGAN', 'MINNESOTA',\n",
       "       'MISSISSIPPI', 'MISSOURI', 'MONTANA', 'NEBRASKA', 'NEW JERSEY',\n",
       "       'NEW MEXICO', 'NEW YORK', 'NORTH CAROLINA', 'NORTH DAKOTA', 'OHIO',\n",
       "       'OKLAHOMA', 'OREGON', 'OTHER STATES', 'PENNSYLVANIA',\n",
       "       'SOUTH CAROLINA', 'SOUTH DAKOTA', 'TENNESSEE', 'TEXAS', 'UTAH',\n",
       "       'VERMONT', 'VIRGINIA', 'WASHINGTON', 'WEST VIRGINIA', 'WISCONSIN',\n",
       "       'WYOMING', 'NEVADA', 'DELAWARE', 'NEW HAMPSHIRE', 'RHODE ISLAND'],\n",
       "      dtype=object)"
      ]
     },
     "execution_count": 23,
     "metadata": {},
     "output_type": "execute_result"
    }
   ],
   "source": [
    "colony_cleanup['State'].unique()"
   ]
  },
  {
   "cell_type": "code",
   "execution_count": 24,
   "metadata": {},
   "outputs": [
    {
     "data": {
      "text/plain": [
       "array(['HONEY'], dtype=object)"
      ]
     },
     "execution_count": 24,
     "metadata": {},
     "output_type": "execute_result"
    }
   ],
   "source": [
    "colony_cleanup['Commodity'].unique()"
   ]
  },
  {
   "cell_type": "code",
   "execution_count": 25,
   "metadata": {},
   "outputs": [
    {
     "data": {
      "text/plain": [
       "array(['HONEY, BEE COLONIES - INVENTORY, MEASURED IN COLONIES'],\n",
       "      dtype=object)"
      ]
     },
     "execution_count": 25,
     "metadata": {},
     "output_type": "execute_result"
    }
   ],
   "source": [
    "colony_cleanup['Data Item'].unique()"
   ]
  },
  {
   "cell_type": "code",
   "execution_count": 26,
   "metadata": {},
   "outputs": [
    {
     "data": {
      "text/plain": [
       "array(['TOTAL', 'INVENTORY OF BEE COLONIES'], dtype=object)"
      ]
     },
     "execution_count": 26,
     "metadata": {},
     "output_type": "execute_result"
    }
   ],
   "source": [
    "colony_cleanup['Domain'].unique()"
   ]
  },
  {
   "cell_type": "code",
   "execution_count": 27,
   "metadata": {},
   "outputs": [
    {
     "data": {
      "text/plain": [
       "array(['NOT SPECIFIED',\n",
       "       'INVENTORY OF BEE COLONIES: (LESS THAN 5 COLONIES)'], dtype=object)"
      ]
     },
     "execution_count": 27,
     "metadata": {},
     "output_type": "execute_result"
    }
   ],
   "source": [
    "colony_cleanup['Domain Category'].unique()"
   ]
  },
  {
   "cell_type": "code",
   "execution_count": 28,
   "metadata": {},
   "outputs": [
    {
     "data": {
      "text/plain": [
       "Year                int64\n",
       "Period             object\n",
       "State              object\n",
       "Commodity          object\n",
       "Data Item          object\n",
       "Domain             object\n",
       "Domain Category    object\n",
       "Value              object\n",
       "dtype: object"
      ]
     },
     "execution_count": 28,
     "metadata": {},
     "output_type": "execute_result"
    }
   ],
   "source": [
    "colony_cleanup.dtypes"
   ]
  },
  {
   "cell_type": "code",
   "execution_count": 29,
   "metadata": {},
   "outputs": [
    {
     "data": {
      "text/html": [
       "<div>\n",
       "<style scoped>\n",
       "    .dataframe tbody tr th:only-of-type {\n",
       "        vertical-align: middle;\n",
       "    }\n",
       "\n",
       "    .dataframe tbody tr th {\n",
       "        vertical-align: top;\n",
       "    }\n",
       "\n",
       "    .dataframe thead th {\n",
       "        text-align: right;\n",
       "    }\n",
       "</style>\n",
       "<table border=\"1\" class=\"dataframe\">\n",
       "  <thead>\n",
       "    <tr style=\"text-align: right;\">\n",
       "      <th></th>\n",
       "      <th>Year</th>\n",
       "      <th>Period</th>\n",
       "      <th>State</th>\n",
       "      <th>Commodity</th>\n",
       "      <th>Data Item</th>\n",
       "      <th>Domain</th>\n",
       "      <th>Domain Category</th>\n",
       "      <th>Value</th>\n",
       "    </tr>\n",
       "  </thead>\n",
       "  <tbody>\n",
       "    <tr>\n",
       "      <th>0</th>\n",
       "      <td>2020</td>\n",
       "      <td>FIRST OF JAN</td>\n",
       "      <td>US TOTAL</td>\n",
       "      <td>HONEY</td>\n",
       "      <td>HONEY, BEE COLONIES - INVENTORY, MEASURED IN C...</td>\n",
       "      <td>TOTAL</td>\n",
       "      <td>NOT SPECIFIED</td>\n",
       "      <td>2876100</td>\n",
       "    </tr>\n",
       "    <tr>\n",
       "      <th>1</th>\n",
       "      <td>2020</td>\n",
       "      <td>FIRST OF JAN</td>\n",
       "      <td>ALABAMA</td>\n",
       "      <td>HONEY</td>\n",
       "      <td>HONEY, BEE COLONIES - INVENTORY, MEASURED IN C...</td>\n",
       "      <td>TOTAL</td>\n",
       "      <td>NOT SPECIFIED</td>\n",
       "      <td>5500</td>\n",
       "    </tr>\n",
       "    <tr>\n",
       "      <th>2</th>\n",
       "      <td>2020</td>\n",
       "      <td>FIRST OF JAN</td>\n",
       "      <td>ARIZONA</td>\n",
       "      <td>HONEY</td>\n",
       "      <td>HONEY, BEE COLONIES - INVENTORY, MEASURED IN C...</td>\n",
       "      <td>TOTAL</td>\n",
       "      <td>NOT SPECIFIED</td>\n",
       "      <td>29000</td>\n",
       "    </tr>\n",
       "    <tr>\n",
       "      <th>3</th>\n",
       "      <td>2020</td>\n",
       "      <td>FIRST OF JAN</td>\n",
       "      <td>ARKANSAS</td>\n",
       "      <td>HONEY</td>\n",
       "      <td>HONEY, BEE COLONIES - INVENTORY, MEASURED IN C...</td>\n",
       "      <td>TOTAL</td>\n",
       "      <td>NOT SPECIFIED</td>\n",
       "      <td>16500</td>\n",
       "    </tr>\n",
       "    <tr>\n",
       "      <th>4</th>\n",
       "      <td>2020</td>\n",
       "      <td>FIRST OF JAN</td>\n",
       "      <td>CALIFORNIA</td>\n",
       "      <td>HONEY</td>\n",
       "      <td>HONEY, BEE COLONIES - INVENTORY, MEASURED IN C...</td>\n",
       "      <td>TOTAL</td>\n",
       "      <td>NOT SPECIFIED</td>\n",
       "      <td>1350000</td>\n",
       "    </tr>\n",
       "    <tr>\n",
       "      <th>...</th>\n",
       "      <td>...</td>\n",
       "      <td>...</td>\n",
       "      <td>...</td>\n",
       "      <td>...</td>\n",
       "      <td>...</td>\n",
       "      <td>...</td>\n",
       "      <td>...</td>\n",
       "      <td>...</td>\n",
       "    </tr>\n",
       "    <tr>\n",
       "      <th>2464</th>\n",
       "      <td>1987</td>\n",
       "      <td>MARKETING YEAR</td>\n",
       "      <td>VIRGINIA</td>\n",
       "      <td>HONEY</td>\n",
       "      <td>HONEY, BEE COLONIES - INVENTORY, MEASURED IN C...</td>\n",
       "      <td>TOTAL</td>\n",
       "      <td>NOT SPECIFIED</td>\n",
       "      <td>25000</td>\n",
       "    </tr>\n",
       "    <tr>\n",
       "      <th>2465</th>\n",
       "      <td>1987</td>\n",
       "      <td>MARKETING YEAR</td>\n",
       "      <td>WASHINGTON</td>\n",
       "      <td>HONEY</td>\n",
       "      <td>HONEY, BEE COLONIES - INVENTORY, MEASURED IN C...</td>\n",
       "      <td>TOTAL</td>\n",
       "      <td>NOT SPECIFIED</td>\n",
       "      <td>75000</td>\n",
       "    </tr>\n",
       "    <tr>\n",
       "      <th>2466</th>\n",
       "      <td>1987</td>\n",
       "      <td>MARKETING YEAR</td>\n",
       "      <td>WEST VIRGINIA</td>\n",
       "      <td>HONEY</td>\n",
       "      <td>HONEY, BEE COLONIES - INVENTORY, MEASURED IN C...</td>\n",
       "      <td>TOTAL</td>\n",
       "      <td>NOT SPECIFIED</td>\n",
       "      <td>21000</td>\n",
       "    </tr>\n",
       "    <tr>\n",
       "      <th>2467</th>\n",
       "      <td>1987</td>\n",
       "      <td>MARKETING YEAR</td>\n",
       "      <td>WISCONSIN</td>\n",
       "      <td>HONEY</td>\n",
       "      <td>HONEY, BEE COLONIES - INVENTORY, MEASURED IN C...</td>\n",
       "      <td>TOTAL</td>\n",
       "      <td>NOT SPECIFIED</td>\n",
       "      <td>92000</td>\n",
       "    </tr>\n",
       "    <tr>\n",
       "      <th>2468</th>\n",
       "      <td>1987</td>\n",
       "      <td>MARKETING YEAR</td>\n",
       "      <td>WYOMING</td>\n",
       "      <td>HONEY</td>\n",
       "      <td>HONEY, BEE COLONIES - INVENTORY, MEASURED IN C...</td>\n",
       "      <td>TOTAL</td>\n",
       "      <td>NOT SPECIFIED</td>\n",
       "      <td>39000</td>\n",
       "    </tr>\n",
       "  </tbody>\n",
       "</table>\n",
       "<p>2469 rows × 8 columns</p>\n",
       "</div>"
      ],
      "text/plain": [
       "      Year          Period          State Commodity  \\\n",
       "0     2020    FIRST OF JAN       US TOTAL     HONEY   \n",
       "1     2020    FIRST OF JAN        ALABAMA     HONEY   \n",
       "2     2020    FIRST OF JAN        ARIZONA     HONEY   \n",
       "3     2020    FIRST OF JAN       ARKANSAS     HONEY   \n",
       "4     2020    FIRST OF JAN     CALIFORNIA     HONEY   \n",
       "...    ...             ...            ...       ...   \n",
       "2464  1987  MARKETING YEAR       VIRGINIA     HONEY   \n",
       "2465  1987  MARKETING YEAR     WASHINGTON     HONEY   \n",
       "2466  1987  MARKETING YEAR  WEST VIRGINIA     HONEY   \n",
       "2467  1987  MARKETING YEAR      WISCONSIN     HONEY   \n",
       "2468  1987  MARKETING YEAR        WYOMING     HONEY   \n",
       "\n",
       "                                              Data Item Domain  \\\n",
       "0     HONEY, BEE COLONIES - INVENTORY, MEASURED IN C...  TOTAL   \n",
       "1     HONEY, BEE COLONIES - INVENTORY, MEASURED IN C...  TOTAL   \n",
       "2     HONEY, BEE COLONIES - INVENTORY, MEASURED IN C...  TOTAL   \n",
       "3     HONEY, BEE COLONIES - INVENTORY, MEASURED IN C...  TOTAL   \n",
       "4     HONEY, BEE COLONIES - INVENTORY, MEASURED IN C...  TOTAL   \n",
       "...                                                 ...    ...   \n",
       "2464  HONEY, BEE COLONIES - INVENTORY, MEASURED IN C...  TOTAL   \n",
       "2465  HONEY, BEE COLONIES - INVENTORY, MEASURED IN C...  TOTAL   \n",
       "2466  HONEY, BEE COLONIES - INVENTORY, MEASURED IN C...  TOTAL   \n",
       "2467  HONEY, BEE COLONIES - INVENTORY, MEASURED IN C...  TOTAL   \n",
       "2468  HONEY, BEE COLONIES - INVENTORY, MEASURED IN C...  TOTAL   \n",
       "\n",
       "     Domain Category    Value  \n",
       "0      NOT SPECIFIED  2876100  \n",
       "1      NOT SPECIFIED     5500  \n",
       "2      NOT SPECIFIED    29000  \n",
       "3      NOT SPECIFIED    16500  \n",
       "4      NOT SPECIFIED  1350000  \n",
       "...              ...      ...  \n",
       "2464   NOT SPECIFIED    25000  \n",
       "2465   NOT SPECIFIED    75000  \n",
       "2466   NOT SPECIFIED    21000  \n",
       "2467   NOT SPECIFIED    92000  \n",
       "2468   NOT SPECIFIED    39000  \n",
       "\n",
       "[2469 rows x 8 columns]"
      ]
     },
     "execution_count": 29,
     "metadata": {},
     "output_type": "execute_result"
    }
   ],
   "source": [
    "colony_cleanup['Value'] = colony_cleanup['Value'].str.replace(',','')\n",
    "colony_cleanup"
   ]
  },
  {
   "cell_type": "code",
   "execution_count": 30,
   "metadata": {},
   "outputs": [],
   "source": [
    "colony_cleanup['Value'] = colony_cleanup['Value'].astype(int)"
   ]
  },
  {
   "cell_type": "code",
   "execution_count": 31,
   "metadata": {},
   "outputs": [],
   "source": [
    "## for the machine learning part we are just going with 2015 data. Taking the average of the quarters and dropping marketing year. Might set marketing year as its own table... thoughts?\n",
    "colony_cleanup.drop(colony_cleanup.loc[colony_cleanup['Period'] == 'MARKETING YEAR'].index, inplace=True)"
   ]
  },
  {
   "cell_type": "code",
   "execution_count": 32,
   "metadata": {},
   "outputs": [
    {
     "data": {
      "text/html": [
       "<div>\n",
       "<style scoped>\n",
       "    .dataframe tbody tr th:only-of-type {\n",
       "        vertical-align: middle;\n",
       "    }\n",
       "\n",
       "    .dataframe tbody tr th {\n",
       "        vertical-align: top;\n",
       "    }\n",
       "\n",
       "    .dataframe thead th {\n",
       "        text-align: right;\n",
       "    }\n",
       "</style>\n",
       "<table border=\"1\" class=\"dataframe\">\n",
       "  <thead>\n",
       "    <tr style=\"text-align: right;\">\n",
       "      <th></th>\n",
       "      <th>Year</th>\n",
       "      <th>State</th>\n",
       "      <th>Value</th>\n",
       "    </tr>\n",
       "  </thead>\n",
       "  <tbody>\n",
       "    <tr>\n",
       "      <th>0</th>\n",
       "      <td>2015</td>\n",
       "      <td>ALABAMA</td>\n",
       "      <td>7750.0</td>\n",
       "    </tr>\n",
       "    <tr>\n",
       "      <th>1</th>\n",
       "      <td>2015</td>\n",
       "      <td>ARIZONA</td>\n",
       "      <td>36000.0</td>\n",
       "    </tr>\n",
       "    <tr>\n",
       "      <th>2</th>\n",
       "      <td>2015</td>\n",
       "      <td>ARKANSAS</td>\n",
       "      <td>18125.0</td>\n",
       "    </tr>\n",
       "    <tr>\n",
       "      <th>3</th>\n",
       "      <td>2015</td>\n",
       "      <td>CALIFORNIA</td>\n",
       "      <td>990000.0</td>\n",
       "    </tr>\n",
       "    <tr>\n",
       "      <th>4</th>\n",
       "      <td>2015</td>\n",
       "      <td>COLORADO</td>\n",
       "      <td>17125.0</td>\n",
       "    </tr>\n",
       "    <tr>\n",
       "      <th>...</th>\n",
       "      <td>...</td>\n",
       "      <td>...</td>\n",
       "      <td>...</td>\n",
       "    </tr>\n",
       "    <tr>\n",
       "      <th>277</th>\n",
       "      <td>2020</td>\n",
       "      <td>VIRGINIA</td>\n",
       "      <td>6750.0</td>\n",
       "    </tr>\n",
       "    <tr>\n",
       "      <th>278</th>\n",
       "      <td>2020</td>\n",
       "      <td>WASHINGTON</td>\n",
       "      <td>49500.0</td>\n",
       "    </tr>\n",
       "    <tr>\n",
       "      <th>279</th>\n",
       "      <td>2020</td>\n",
       "      <td>WEST VIRGINIA</td>\n",
       "      <td>6750.0</td>\n",
       "    </tr>\n",
       "    <tr>\n",
       "      <th>280</th>\n",
       "      <td>2020</td>\n",
       "      <td>WISCONSIN</td>\n",
       "      <td>21500.0</td>\n",
       "    </tr>\n",
       "    <tr>\n",
       "      <th>281</th>\n",
       "      <td>2020</td>\n",
       "      <td>WYOMING</td>\n",
       "      <td>10750.0</td>\n",
       "    </tr>\n",
       "  </tbody>\n",
       "</table>\n",
       "<p>282 rows × 3 columns</p>\n",
       "</div>"
      ],
      "text/plain": [
       "     Year          State     Value\n",
       "0    2015        ALABAMA    7750.0\n",
       "1    2015        ARIZONA   36000.0\n",
       "2    2015       ARKANSAS   18125.0\n",
       "3    2015     CALIFORNIA  990000.0\n",
       "4    2015       COLORADO   17125.0\n",
       "..    ...            ...       ...\n",
       "277  2020       VIRGINIA    6750.0\n",
       "278  2020     WASHINGTON   49500.0\n",
       "279  2020  WEST VIRGINIA    6750.0\n",
       "280  2020      WISCONSIN   21500.0\n",
       "281  2020        WYOMING   10750.0\n",
       "\n",
       "[282 rows x 3 columns]"
      ]
     },
     "execution_count": 32,
     "metadata": {},
     "output_type": "execute_result"
    }
   ],
   "source": [
    "colony_state_year = colony_cleanup.groupby(['Year','State'], as_index = False).mean(['Value'])\n",
    "colony_state_year"
   ]
  },
  {
   "cell_type": "code",
   "execution_count": 33,
   "metadata": {},
   "outputs": [
    {
     "data": {
      "text/html": [
       "<div>\n",
       "<style scoped>\n",
       "    .dataframe tbody tr th:only-of-type {\n",
       "        vertical-align: middle;\n",
       "    }\n",
       "\n",
       "    .dataframe tbody tr th {\n",
       "        vertical-align: top;\n",
       "    }\n",
       "\n",
       "    .dataframe thead th {\n",
       "        text-align: right;\n",
       "    }\n",
       "</style>\n",
       "<table border=\"1\" class=\"dataframe\">\n",
       "  <thead>\n",
       "    <tr style=\"text-align: right;\">\n",
       "      <th></th>\n",
       "      <th>year</th>\n",
       "      <th>state</th>\n",
       "      <th>count_colonies</th>\n",
       "    </tr>\n",
       "  </thead>\n",
       "  <tbody>\n",
       "    <tr>\n",
       "      <th>0</th>\n",
       "      <td>2015</td>\n",
       "      <td>ALABAMA</td>\n",
       "      <td>7750.0</td>\n",
       "    </tr>\n",
       "    <tr>\n",
       "      <th>1</th>\n",
       "      <td>2015</td>\n",
       "      <td>ARIZONA</td>\n",
       "      <td>36000.0</td>\n",
       "    </tr>\n",
       "    <tr>\n",
       "      <th>2</th>\n",
       "      <td>2015</td>\n",
       "      <td>ARKANSAS</td>\n",
       "      <td>18125.0</td>\n",
       "    </tr>\n",
       "    <tr>\n",
       "      <th>3</th>\n",
       "      <td>2015</td>\n",
       "      <td>CALIFORNIA</td>\n",
       "      <td>990000.0</td>\n",
       "    </tr>\n",
       "    <tr>\n",
       "      <th>4</th>\n",
       "      <td>2015</td>\n",
       "      <td>COLORADO</td>\n",
       "      <td>17125.0</td>\n",
       "    </tr>\n",
       "    <tr>\n",
       "      <th>...</th>\n",
       "      <td>...</td>\n",
       "      <td>...</td>\n",
       "      <td>...</td>\n",
       "    </tr>\n",
       "    <tr>\n",
       "      <th>277</th>\n",
       "      <td>2020</td>\n",
       "      <td>VIRGINIA</td>\n",
       "      <td>6750.0</td>\n",
       "    </tr>\n",
       "    <tr>\n",
       "      <th>278</th>\n",
       "      <td>2020</td>\n",
       "      <td>WASHINGTON</td>\n",
       "      <td>49500.0</td>\n",
       "    </tr>\n",
       "    <tr>\n",
       "      <th>279</th>\n",
       "      <td>2020</td>\n",
       "      <td>WEST VIRGINIA</td>\n",
       "      <td>6750.0</td>\n",
       "    </tr>\n",
       "    <tr>\n",
       "      <th>280</th>\n",
       "      <td>2020</td>\n",
       "      <td>WISCONSIN</td>\n",
       "      <td>21500.0</td>\n",
       "    </tr>\n",
       "    <tr>\n",
       "      <th>281</th>\n",
       "      <td>2020</td>\n",
       "      <td>WYOMING</td>\n",
       "      <td>10750.0</td>\n",
       "    </tr>\n",
       "  </tbody>\n",
       "</table>\n",
       "<p>282 rows × 3 columns</p>\n",
       "</div>"
      ],
      "text/plain": [
       "     year          state  count_colonies\n",
       "0    2015        ALABAMA          7750.0\n",
       "1    2015        ARIZONA         36000.0\n",
       "2    2015       ARKANSAS         18125.0\n",
       "3    2015     CALIFORNIA        990000.0\n",
       "4    2015       COLORADO         17125.0\n",
       "..    ...            ...             ...\n",
       "277  2020       VIRGINIA          6750.0\n",
       "278  2020     WASHINGTON         49500.0\n",
       "279  2020  WEST VIRGINIA          6750.0\n",
       "280  2020      WISCONSIN         21500.0\n",
       "281  2020        WYOMING         10750.0\n",
       "\n",
       "[282 rows x 3 columns]"
      ]
     },
     "execution_count": 33,
     "metadata": {},
     "output_type": "execute_result"
    }
   ],
   "source": [
    "cleaned_colony = colony_state_year.rename(columns={'Year':'year','State':'state','Value':'count_colonies'})\n",
    "cleaned_colony"
   ]
  },
  {
   "cell_type": "code",
   "execution_count": 34,
   "metadata": {},
   "outputs": [
    {
     "data": {
      "text/plain": [
       "year                int64\n",
       "state              object\n",
       "count_colonies    float64\n",
       "dtype: object"
      ]
     },
     "execution_count": 34,
     "metadata": {},
     "output_type": "execute_result"
    }
   ],
   "source": [
    "cleaned_colony.dtypes"
   ]
  },
  {
   "cell_type": "markdown",
   "metadata": {},
   "source": [
    "MARKETING YEAR"
   ]
  },
  {
   "cell_type": "code",
   "execution_count": 35,
   "metadata": {},
   "outputs": [
    {
     "data": {
      "text/html": [
       "<div>\n",
       "<style scoped>\n",
       "    .dataframe tbody tr th:only-of-type {\n",
       "        vertical-align: middle;\n",
       "    }\n",
       "\n",
       "    .dataframe tbody tr th {\n",
       "        vertical-align: top;\n",
       "    }\n",
       "\n",
       "    .dataframe thead th {\n",
       "        text-align: right;\n",
       "    }\n",
       "</style>\n",
       "<table border=\"1\" class=\"dataframe\">\n",
       "  <thead>\n",
       "    <tr style=\"text-align: right;\">\n",
       "      <th></th>\n",
       "      <th>Program</th>\n",
       "      <th>Year</th>\n",
       "      <th>Period</th>\n",
       "      <th>Week Ending</th>\n",
       "      <th>Geo Level</th>\n",
       "      <th>State</th>\n",
       "      <th>State ANSI</th>\n",
       "      <th>Ag District</th>\n",
       "      <th>Ag District Code</th>\n",
       "      <th>County</th>\n",
       "      <th>...</th>\n",
       "      <th>Zip Code</th>\n",
       "      <th>Region</th>\n",
       "      <th>watershed_code</th>\n",
       "      <th>Watershed</th>\n",
       "      <th>Commodity</th>\n",
       "      <th>Data Item</th>\n",
       "      <th>Domain</th>\n",
       "      <th>Domain Category</th>\n",
       "      <th>Value</th>\n",
       "      <th>CV (%)</th>\n",
       "    </tr>\n",
       "  </thead>\n",
       "  <tbody>\n",
       "    <tr>\n",
       "      <th>0</th>\n",
       "      <td>SURVEY</td>\n",
       "      <td>2020</td>\n",
       "      <td>FIRST OF JAN</td>\n",
       "      <td>NaN</td>\n",
       "      <td>NATIONAL</td>\n",
       "      <td>US TOTAL</td>\n",
       "      <td>NaN</td>\n",
       "      <td>NaN</td>\n",
       "      <td>NaN</td>\n",
       "      <td>NaN</td>\n",
       "      <td>...</td>\n",
       "      <td>NaN</td>\n",
       "      <td>NaN</td>\n",
       "      <td>0</td>\n",
       "      <td>NaN</td>\n",
       "      <td>HONEY</td>\n",
       "      <td>HONEY, BEE COLONIES - INVENTORY, MEASURED IN C...</td>\n",
       "      <td>TOTAL</td>\n",
       "      <td>NOT SPECIFIED</td>\n",
       "      <td>2,876,100</td>\n",
       "      <td>NaN</td>\n",
       "    </tr>\n",
       "    <tr>\n",
       "      <th>1</th>\n",
       "      <td>SURVEY</td>\n",
       "      <td>2020</td>\n",
       "      <td>FIRST OF JAN</td>\n",
       "      <td>NaN</td>\n",
       "      <td>STATE</td>\n",
       "      <td>ALABAMA</td>\n",
       "      <td>1.0</td>\n",
       "      <td>NaN</td>\n",
       "      <td>NaN</td>\n",
       "      <td>NaN</td>\n",
       "      <td>...</td>\n",
       "      <td>NaN</td>\n",
       "      <td>NaN</td>\n",
       "      <td>0</td>\n",
       "      <td>NaN</td>\n",
       "      <td>HONEY</td>\n",
       "      <td>HONEY, BEE COLONIES - INVENTORY, MEASURED IN C...</td>\n",
       "      <td>TOTAL</td>\n",
       "      <td>NOT SPECIFIED</td>\n",
       "      <td>5,500</td>\n",
       "      <td>NaN</td>\n",
       "    </tr>\n",
       "    <tr>\n",
       "      <th>2</th>\n",
       "      <td>SURVEY</td>\n",
       "      <td>2020</td>\n",
       "      <td>FIRST OF JAN</td>\n",
       "      <td>NaN</td>\n",
       "      <td>STATE</td>\n",
       "      <td>ARIZONA</td>\n",
       "      <td>4.0</td>\n",
       "      <td>NaN</td>\n",
       "      <td>NaN</td>\n",
       "      <td>NaN</td>\n",
       "      <td>...</td>\n",
       "      <td>NaN</td>\n",
       "      <td>NaN</td>\n",
       "      <td>0</td>\n",
       "      <td>NaN</td>\n",
       "      <td>HONEY</td>\n",
       "      <td>HONEY, BEE COLONIES - INVENTORY, MEASURED IN C...</td>\n",
       "      <td>TOTAL</td>\n",
       "      <td>NOT SPECIFIED</td>\n",
       "      <td>29,000</td>\n",
       "      <td>NaN</td>\n",
       "    </tr>\n",
       "    <tr>\n",
       "      <th>3</th>\n",
       "      <td>SURVEY</td>\n",
       "      <td>2020</td>\n",
       "      <td>FIRST OF JAN</td>\n",
       "      <td>NaN</td>\n",
       "      <td>STATE</td>\n",
       "      <td>ARKANSAS</td>\n",
       "      <td>5.0</td>\n",
       "      <td>NaN</td>\n",
       "      <td>NaN</td>\n",
       "      <td>NaN</td>\n",
       "      <td>...</td>\n",
       "      <td>NaN</td>\n",
       "      <td>NaN</td>\n",
       "      <td>0</td>\n",
       "      <td>NaN</td>\n",
       "      <td>HONEY</td>\n",
       "      <td>HONEY, BEE COLONIES - INVENTORY, MEASURED IN C...</td>\n",
       "      <td>TOTAL</td>\n",
       "      <td>NOT SPECIFIED</td>\n",
       "      <td>16,500</td>\n",
       "      <td>NaN</td>\n",
       "    </tr>\n",
       "    <tr>\n",
       "      <th>4</th>\n",
       "      <td>SURVEY</td>\n",
       "      <td>2020</td>\n",
       "      <td>FIRST OF JAN</td>\n",
       "      <td>NaN</td>\n",
       "      <td>STATE</td>\n",
       "      <td>CALIFORNIA</td>\n",
       "      <td>6.0</td>\n",
       "      <td>NaN</td>\n",
       "      <td>NaN</td>\n",
       "      <td>NaN</td>\n",
       "      <td>...</td>\n",
       "      <td>NaN</td>\n",
       "      <td>NaN</td>\n",
       "      <td>0</td>\n",
       "      <td>NaN</td>\n",
       "      <td>HONEY</td>\n",
       "      <td>HONEY, BEE COLONIES - INVENTORY, MEASURED IN C...</td>\n",
       "      <td>TOTAL</td>\n",
       "      <td>NOT SPECIFIED</td>\n",
       "      <td>1,350,000</td>\n",
       "      <td>NaN</td>\n",
       "    </tr>\n",
       "  </tbody>\n",
       "</table>\n",
       "<p>5 rows × 21 columns</p>\n",
       "</div>"
      ],
      "text/plain": [
       "  Program  Year        Period  Week Ending Geo Level       State  State ANSI  \\\n",
       "0  SURVEY  2020  FIRST OF JAN          NaN  NATIONAL    US TOTAL         NaN   \n",
       "1  SURVEY  2020  FIRST OF JAN          NaN     STATE     ALABAMA         1.0   \n",
       "2  SURVEY  2020  FIRST OF JAN          NaN     STATE     ARIZONA         4.0   \n",
       "3  SURVEY  2020  FIRST OF JAN          NaN     STATE    ARKANSAS         5.0   \n",
       "4  SURVEY  2020  FIRST OF JAN          NaN     STATE  CALIFORNIA         6.0   \n",
       "\n",
       "   Ag District  Ag District Code  County  ...  Zip Code  Region  \\\n",
       "0          NaN               NaN     NaN  ...       NaN     NaN   \n",
       "1          NaN               NaN     NaN  ...       NaN     NaN   \n",
       "2          NaN               NaN     NaN  ...       NaN     NaN   \n",
       "3          NaN               NaN     NaN  ...       NaN     NaN   \n",
       "4          NaN               NaN     NaN  ...       NaN     NaN   \n",
       "\n",
       "   watershed_code  Watershed  Commodity  \\\n",
       "0               0        NaN      HONEY   \n",
       "1               0        NaN      HONEY   \n",
       "2               0        NaN      HONEY   \n",
       "3               0        NaN      HONEY   \n",
       "4               0        NaN      HONEY   \n",
       "\n",
       "                                           Data Item Domain Domain Category  \\\n",
       "0  HONEY, BEE COLONIES - INVENTORY, MEASURED IN C...  TOTAL   NOT SPECIFIED   \n",
       "1  HONEY, BEE COLONIES - INVENTORY, MEASURED IN C...  TOTAL   NOT SPECIFIED   \n",
       "2  HONEY, BEE COLONIES - INVENTORY, MEASURED IN C...  TOTAL   NOT SPECIFIED   \n",
       "3  HONEY, BEE COLONIES - INVENTORY, MEASURED IN C...  TOTAL   NOT SPECIFIED   \n",
       "4  HONEY, BEE COLONIES - INVENTORY, MEASURED IN C...  TOTAL   NOT SPECIFIED   \n",
       "\n",
       "       Value CV (%)  \n",
       "0  2,876,100    NaN  \n",
       "1      5,500    NaN  \n",
       "2     29,000    NaN  \n",
       "3     16,500    NaN  \n",
       "4  1,350,000    NaN  \n",
       "\n",
       "[5 rows x 21 columns]"
      ]
     },
     "execution_count": 35,
     "metadata": {},
     "output_type": "execute_result"
    }
   ],
   "source": [
    "## just in case we wanted this for graphs\n",
    "marketing_year = colony_df.copy()\n",
    "marketing_year.head()"
   ]
  },
  {
   "cell_type": "code",
   "execution_count": 36,
   "metadata": {},
   "outputs": [
    {
     "data": {
      "text/html": [
       "<div>\n",
       "<style scoped>\n",
       "    .dataframe tbody tr th:only-of-type {\n",
       "        vertical-align: middle;\n",
       "    }\n",
       "\n",
       "    .dataframe tbody tr th {\n",
       "        vertical-align: top;\n",
       "    }\n",
       "\n",
       "    .dataframe thead th {\n",
       "        text-align: right;\n",
       "    }\n",
       "</style>\n",
       "<table border=\"1\" class=\"dataframe\">\n",
       "  <thead>\n",
       "    <tr style=\"text-align: right;\">\n",
       "      <th></th>\n",
       "      <th>Program</th>\n",
       "      <th>Year</th>\n",
       "      <th>Period</th>\n",
       "      <th>Week Ending</th>\n",
       "      <th>Geo Level</th>\n",
       "      <th>State</th>\n",
       "      <th>State ANSI</th>\n",
       "      <th>Ag District</th>\n",
       "      <th>Ag District Code</th>\n",
       "      <th>County</th>\n",
       "      <th>...</th>\n",
       "      <th>Zip Code</th>\n",
       "      <th>Region</th>\n",
       "      <th>watershed_code</th>\n",
       "      <th>Watershed</th>\n",
       "      <th>Commodity</th>\n",
       "      <th>Data Item</th>\n",
       "      <th>Domain</th>\n",
       "      <th>Domain Category</th>\n",
       "      <th>Value</th>\n",
       "      <th>CV (%)</th>\n",
       "    </tr>\n",
       "  </thead>\n",
       "  <tbody>\n",
       "    <tr>\n",
       "      <th>94</th>\n",
       "      <td>SURVEY</td>\n",
       "      <td>2019</td>\n",
       "      <td>MARKETING YEAR</td>\n",
       "      <td>NaN</td>\n",
       "      <td>NATIONAL</td>\n",
       "      <td>US TOTAL</td>\n",
       "      <td>NaN</td>\n",
       "      <td>NaN</td>\n",
       "      <td>NaN</td>\n",
       "      <td>NaN</td>\n",
       "      <td>...</td>\n",
       "      <td>NaN</td>\n",
       "      <td>NaN</td>\n",
       "      <td>0</td>\n",
       "      <td>NaN</td>\n",
       "      <td>HONEY</td>\n",
       "      <td>HONEY, BEE COLONIES - INVENTORY, MEASURED IN C...</td>\n",
       "      <td>TOTAL</td>\n",
       "      <td>NOT SPECIFIED</td>\n",
       "      <td>2,812,000</td>\n",
       "      <td>NaN</td>\n",
       "    </tr>\n",
       "    <tr>\n",
       "      <th>95</th>\n",
       "      <td>SURVEY</td>\n",
       "      <td>2019</td>\n",
       "      <td>MARKETING YEAR</td>\n",
       "      <td>NaN</td>\n",
       "      <td>STATE</td>\n",
       "      <td>ALABAMA</td>\n",
       "      <td>1.0</td>\n",
       "      <td>NaN</td>\n",
       "      <td>NaN</td>\n",
       "      <td>NaN</td>\n",
       "      <td>...</td>\n",
       "      <td>NaN</td>\n",
       "      <td>NaN</td>\n",
       "      <td>0</td>\n",
       "      <td>NaN</td>\n",
       "      <td>HONEY</td>\n",
       "      <td>HONEY, BEE COLONIES - INVENTORY, MEASURED IN C...</td>\n",
       "      <td>TOTAL</td>\n",
       "      <td>NOT SPECIFIED</td>\n",
       "      <td>7,000</td>\n",
       "      <td>NaN</td>\n",
       "    </tr>\n",
       "    <tr>\n",
       "      <th>96</th>\n",
       "      <td>SURVEY</td>\n",
       "      <td>2019</td>\n",
       "      <td>MARKETING YEAR</td>\n",
       "      <td>NaN</td>\n",
       "      <td>STATE</td>\n",
       "      <td>ARIZONA</td>\n",
       "      <td>4.0</td>\n",
       "      <td>NaN</td>\n",
       "      <td>NaN</td>\n",
       "      <td>NaN</td>\n",
       "      <td>...</td>\n",
       "      <td>NaN</td>\n",
       "      <td>NaN</td>\n",
       "      <td>0</td>\n",
       "      <td>NaN</td>\n",
       "      <td>HONEY</td>\n",
       "      <td>HONEY, BEE COLONIES - INVENTORY, MEASURED IN C...</td>\n",
       "      <td>TOTAL</td>\n",
       "      <td>NOT SPECIFIED</td>\n",
       "      <td>23,000</td>\n",
       "      <td>NaN</td>\n",
       "    </tr>\n",
       "    <tr>\n",
       "      <th>97</th>\n",
       "      <td>SURVEY</td>\n",
       "      <td>2019</td>\n",
       "      <td>MARKETING YEAR</td>\n",
       "      <td>NaN</td>\n",
       "      <td>STATE</td>\n",
       "      <td>ARKANSAS</td>\n",
       "      <td>5.0</td>\n",
       "      <td>NaN</td>\n",
       "      <td>NaN</td>\n",
       "      <td>NaN</td>\n",
       "      <td>...</td>\n",
       "      <td>NaN</td>\n",
       "      <td>NaN</td>\n",
       "      <td>0</td>\n",
       "      <td>NaN</td>\n",
       "      <td>HONEY</td>\n",
       "      <td>HONEY, BEE COLONIES - INVENTORY, MEASURED IN C...</td>\n",
       "      <td>TOTAL</td>\n",
       "      <td>NOT SPECIFIED</td>\n",
       "      <td>20,000</td>\n",
       "      <td>NaN</td>\n",
       "    </tr>\n",
       "    <tr>\n",
       "      <th>98</th>\n",
       "      <td>SURVEY</td>\n",
       "      <td>2019</td>\n",
       "      <td>MARKETING YEAR</td>\n",
       "      <td>NaN</td>\n",
       "      <td>STATE</td>\n",
       "      <td>CALIFORNIA</td>\n",
       "      <td>6.0</td>\n",
       "      <td>NaN</td>\n",
       "      <td>NaN</td>\n",
       "      <td>NaN</td>\n",
       "      <td>...</td>\n",
       "      <td>NaN</td>\n",
       "      <td>NaN</td>\n",
       "      <td>0</td>\n",
       "      <td>NaN</td>\n",
       "      <td>HONEY</td>\n",
       "      <td>HONEY, BEE COLONIES - INVENTORY, MEASURED IN C...</td>\n",
       "      <td>TOTAL</td>\n",
       "      <td>NOT SPECIFIED</td>\n",
       "      <td>335,000</td>\n",
       "      <td>NaN</td>\n",
       "    </tr>\n",
       "  </tbody>\n",
       "</table>\n",
       "<p>5 rows × 21 columns</p>\n",
       "</div>"
      ],
      "text/plain": [
       "   Program  Year          Period  Week Ending Geo Level       State  \\\n",
       "94  SURVEY  2019  MARKETING YEAR          NaN  NATIONAL    US TOTAL   \n",
       "95  SURVEY  2019  MARKETING YEAR          NaN     STATE     ALABAMA   \n",
       "96  SURVEY  2019  MARKETING YEAR          NaN     STATE     ARIZONA   \n",
       "97  SURVEY  2019  MARKETING YEAR          NaN     STATE    ARKANSAS   \n",
       "98  SURVEY  2019  MARKETING YEAR          NaN     STATE  CALIFORNIA   \n",
       "\n",
       "    State ANSI  Ag District  Ag District Code  County  ...  Zip Code  Region  \\\n",
       "94         NaN          NaN               NaN     NaN  ...       NaN     NaN   \n",
       "95         1.0          NaN               NaN     NaN  ...       NaN     NaN   \n",
       "96         4.0          NaN               NaN     NaN  ...       NaN     NaN   \n",
       "97         5.0          NaN               NaN     NaN  ...       NaN     NaN   \n",
       "98         6.0          NaN               NaN     NaN  ...       NaN     NaN   \n",
       "\n",
       "    watershed_code  Watershed  Commodity  \\\n",
       "94               0        NaN      HONEY   \n",
       "95               0        NaN      HONEY   \n",
       "96               0        NaN      HONEY   \n",
       "97               0        NaN      HONEY   \n",
       "98               0        NaN      HONEY   \n",
       "\n",
       "                                            Data Item Domain Domain Category  \\\n",
       "94  HONEY, BEE COLONIES - INVENTORY, MEASURED IN C...  TOTAL   NOT SPECIFIED   \n",
       "95  HONEY, BEE COLONIES - INVENTORY, MEASURED IN C...  TOTAL   NOT SPECIFIED   \n",
       "96  HONEY, BEE COLONIES - INVENTORY, MEASURED IN C...  TOTAL   NOT SPECIFIED   \n",
       "97  HONEY, BEE COLONIES - INVENTORY, MEASURED IN C...  TOTAL   NOT SPECIFIED   \n",
       "98  HONEY, BEE COLONIES - INVENTORY, MEASURED IN C...  TOTAL   NOT SPECIFIED   \n",
       "\n",
       "        Value CV (%)  \n",
       "94  2,812,000    NaN  \n",
       "95      7,000    NaN  \n",
       "96     23,000    NaN  \n",
       "97     20,000    NaN  \n",
       "98    335,000    NaN  \n",
       "\n",
       "[5 rows x 21 columns]"
      ]
     },
     "execution_count": 36,
     "metadata": {},
     "output_type": "execute_result"
    }
   ],
   "source": [
    "marketing_year.drop(marketing_year.loc[marketing_year['Period'] != 'MARKETING YEAR'].index, inplace=True)\n",
    "marketing_year.head()"
   ]
  },
  {
   "cell_type": "code",
   "execution_count": 37,
   "metadata": {},
   "outputs": [
    {
     "data": {
      "text/html": [
       "<div>\n",
       "<style scoped>\n",
       "    .dataframe tbody tr th:only-of-type {\n",
       "        vertical-align: middle;\n",
       "    }\n",
       "\n",
       "    .dataframe tbody tr th {\n",
       "        vertical-align: top;\n",
       "    }\n",
       "\n",
       "    .dataframe thead th {\n",
       "        text-align: right;\n",
       "    }\n",
       "</style>\n",
       "<table border=\"1\" class=\"dataframe\">\n",
       "  <thead>\n",
       "    <tr style=\"text-align: right;\">\n",
       "      <th></th>\n",
       "      <th>Year</th>\n",
       "      <th>State</th>\n",
       "      <th>Value</th>\n",
       "    </tr>\n",
       "  </thead>\n",
       "  <tbody>\n",
       "    <tr>\n",
       "      <th>94</th>\n",
       "      <td>2019</td>\n",
       "      <td>US TOTAL</td>\n",
       "      <td>2,812,000</td>\n",
       "    </tr>\n",
       "    <tr>\n",
       "      <th>95</th>\n",
       "      <td>2019</td>\n",
       "      <td>ALABAMA</td>\n",
       "      <td>7,000</td>\n",
       "    </tr>\n",
       "    <tr>\n",
       "      <th>96</th>\n",
       "      <td>2019</td>\n",
       "      <td>ARIZONA</td>\n",
       "      <td>23,000</td>\n",
       "    </tr>\n",
       "    <tr>\n",
       "      <th>97</th>\n",
       "      <td>2019</td>\n",
       "      <td>ARKANSAS</td>\n",
       "      <td>20,000</td>\n",
       "    </tr>\n",
       "    <tr>\n",
       "      <th>98</th>\n",
       "      <td>2019</td>\n",
       "      <td>CALIFORNIA</td>\n",
       "      <td>335,000</td>\n",
       "    </tr>\n",
       "  </tbody>\n",
       "</table>\n",
       "</div>"
      ],
      "text/plain": [
       "    Year       State      Value\n",
       "94  2019    US TOTAL  2,812,000\n",
       "95  2019     ALABAMA      7,000\n",
       "96  2019     ARIZONA     23,000\n",
       "97  2019    ARKANSAS     20,000\n",
       "98  2019  CALIFORNIA    335,000"
      ]
     },
     "execution_count": 37,
     "metadata": {},
     "output_type": "execute_result"
    }
   ],
   "source": [
    "marketing_cleanup = marketing_year[['Year','State','Value']].copy()\n",
    "marketing_cleanup.head()"
   ]
  },
  {
   "cell_type": "code",
   "execution_count": 38,
   "metadata": {},
   "outputs": [
    {
     "data": {
      "text/plain": [
       "Year      int64\n",
       "State    object\n",
       "Value    object\n",
       "dtype: object"
      ]
     },
     "execution_count": 38,
     "metadata": {},
     "output_type": "execute_result"
    }
   ],
   "source": [
    "marketing_cleanup.dtypes"
   ]
  },
  {
   "cell_type": "code",
   "execution_count": 39,
   "metadata": {},
   "outputs": [
    {
     "data": {
      "text/html": [
       "<div>\n",
       "<style scoped>\n",
       "    .dataframe tbody tr th:only-of-type {\n",
       "        vertical-align: middle;\n",
       "    }\n",
       "\n",
       "    .dataframe tbody tr th {\n",
       "        vertical-align: top;\n",
       "    }\n",
       "\n",
       "    .dataframe thead th {\n",
       "        text-align: right;\n",
       "    }\n",
       "</style>\n",
       "<table border=\"1\" class=\"dataframe\">\n",
       "  <thead>\n",
       "    <tr style=\"text-align: right;\">\n",
       "      <th></th>\n",
       "      <th>Year</th>\n",
       "      <th>State</th>\n",
       "      <th>Value</th>\n",
       "    </tr>\n",
       "  </thead>\n",
       "  <tbody>\n",
       "    <tr>\n",
       "      <th>94</th>\n",
       "      <td>2019</td>\n",
       "      <td>US TOTAL</td>\n",
       "      <td>2812000</td>\n",
       "    </tr>\n",
       "    <tr>\n",
       "      <th>95</th>\n",
       "      <td>2019</td>\n",
       "      <td>ALABAMA</td>\n",
       "      <td>7000</td>\n",
       "    </tr>\n",
       "    <tr>\n",
       "      <th>96</th>\n",
       "      <td>2019</td>\n",
       "      <td>ARIZONA</td>\n",
       "      <td>23000</td>\n",
       "    </tr>\n",
       "    <tr>\n",
       "      <th>97</th>\n",
       "      <td>2019</td>\n",
       "      <td>ARKANSAS</td>\n",
       "      <td>20000</td>\n",
       "    </tr>\n",
       "    <tr>\n",
       "      <th>98</th>\n",
       "      <td>2019</td>\n",
       "      <td>CALIFORNIA</td>\n",
       "      <td>335000</td>\n",
       "    </tr>\n",
       "    <tr>\n",
       "      <th>...</th>\n",
       "      <td>...</td>\n",
       "      <td>...</td>\n",
       "      <td>...</td>\n",
       "    </tr>\n",
       "    <tr>\n",
       "      <th>2464</th>\n",
       "      <td>1987</td>\n",
       "      <td>VIRGINIA</td>\n",
       "      <td>25000</td>\n",
       "    </tr>\n",
       "    <tr>\n",
       "      <th>2465</th>\n",
       "      <td>1987</td>\n",
       "      <td>WASHINGTON</td>\n",
       "      <td>75000</td>\n",
       "    </tr>\n",
       "    <tr>\n",
       "      <th>2466</th>\n",
       "      <td>1987</td>\n",
       "      <td>WEST VIRGINIA</td>\n",
       "      <td>21000</td>\n",
       "    </tr>\n",
       "    <tr>\n",
       "      <th>2467</th>\n",
       "      <td>1987</td>\n",
       "      <td>WISCONSIN</td>\n",
       "      <td>92000</td>\n",
       "    </tr>\n",
       "    <tr>\n",
       "      <th>2468</th>\n",
       "      <td>1987</td>\n",
       "      <td>WYOMING</td>\n",
       "      <td>39000</td>\n",
       "    </tr>\n",
       "  </tbody>\n",
       "</table>\n",
       "<p>1470 rows × 3 columns</p>\n",
       "</div>"
      ],
      "text/plain": [
       "      Year          State    Value\n",
       "94    2019       US TOTAL  2812000\n",
       "95    2019        ALABAMA     7000\n",
       "96    2019        ARIZONA    23000\n",
       "97    2019       ARKANSAS    20000\n",
       "98    2019     CALIFORNIA   335000\n",
       "...    ...            ...      ...\n",
       "2464  1987       VIRGINIA    25000\n",
       "2465  1987     WASHINGTON    75000\n",
       "2466  1987  WEST VIRGINIA    21000\n",
       "2467  1987      WISCONSIN    92000\n",
       "2468  1987        WYOMING    39000\n",
       "\n",
       "[1470 rows x 3 columns]"
      ]
     },
     "execution_count": 39,
     "metadata": {},
     "output_type": "execute_result"
    }
   ],
   "source": [
    "marketing_cleanup['Value'] = marketing_cleanup['Value'].str.replace(',','')\n",
    "marketing_cleanup"
   ]
  },
  {
   "cell_type": "code",
   "execution_count": 40,
   "metadata": {},
   "outputs": [],
   "source": [
    "marketing_cleanup['Value'] = marketing_cleanup['Value'].astype(int)"
   ]
  },
  {
   "cell_type": "code",
   "execution_count": 41,
   "metadata": {},
   "outputs": [
    {
     "data": {
      "text/html": [
       "<div>\n",
       "<style scoped>\n",
       "    .dataframe tbody tr th:only-of-type {\n",
       "        vertical-align: middle;\n",
       "    }\n",
       "\n",
       "    .dataframe tbody tr th {\n",
       "        vertical-align: top;\n",
       "    }\n",
       "\n",
       "    .dataframe thead th {\n",
       "        text-align: right;\n",
       "    }\n",
       "</style>\n",
       "<table border=\"1\" class=\"dataframe\">\n",
       "  <thead>\n",
       "    <tr style=\"text-align: right;\">\n",
       "      <th></th>\n",
       "      <th>year</th>\n",
       "      <th>state</th>\n",
       "      <th>marketing_year_val</th>\n",
       "    </tr>\n",
       "  </thead>\n",
       "  <tbody>\n",
       "    <tr>\n",
       "      <th>94</th>\n",
       "      <td>2019</td>\n",
       "      <td>US TOTAL</td>\n",
       "      <td>2812000</td>\n",
       "    </tr>\n",
       "    <tr>\n",
       "      <th>95</th>\n",
       "      <td>2019</td>\n",
       "      <td>ALABAMA</td>\n",
       "      <td>7000</td>\n",
       "    </tr>\n",
       "    <tr>\n",
       "      <th>96</th>\n",
       "      <td>2019</td>\n",
       "      <td>ARIZONA</td>\n",
       "      <td>23000</td>\n",
       "    </tr>\n",
       "    <tr>\n",
       "      <th>97</th>\n",
       "      <td>2019</td>\n",
       "      <td>ARKANSAS</td>\n",
       "      <td>20000</td>\n",
       "    </tr>\n",
       "    <tr>\n",
       "      <th>98</th>\n",
       "      <td>2019</td>\n",
       "      <td>CALIFORNIA</td>\n",
       "      <td>335000</td>\n",
       "    </tr>\n",
       "    <tr>\n",
       "      <th>...</th>\n",
       "      <td>...</td>\n",
       "      <td>...</td>\n",
       "      <td>...</td>\n",
       "    </tr>\n",
       "    <tr>\n",
       "      <th>2464</th>\n",
       "      <td>1987</td>\n",
       "      <td>VIRGINIA</td>\n",
       "      <td>25000</td>\n",
       "    </tr>\n",
       "    <tr>\n",
       "      <th>2465</th>\n",
       "      <td>1987</td>\n",
       "      <td>WASHINGTON</td>\n",
       "      <td>75000</td>\n",
       "    </tr>\n",
       "    <tr>\n",
       "      <th>2466</th>\n",
       "      <td>1987</td>\n",
       "      <td>WEST VIRGINIA</td>\n",
       "      <td>21000</td>\n",
       "    </tr>\n",
       "    <tr>\n",
       "      <th>2467</th>\n",
       "      <td>1987</td>\n",
       "      <td>WISCONSIN</td>\n",
       "      <td>92000</td>\n",
       "    </tr>\n",
       "    <tr>\n",
       "      <th>2468</th>\n",
       "      <td>1987</td>\n",
       "      <td>WYOMING</td>\n",
       "      <td>39000</td>\n",
       "    </tr>\n",
       "  </tbody>\n",
       "</table>\n",
       "<p>1470 rows × 3 columns</p>\n",
       "</div>"
      ],
      "text/plain": [
       "      year          state  marketing_year_val\n",
       "94    2019       US TOTAL             2812000\n",
       "95    2019        ALABAMA                7000\n",
       "96    2019        ARIZONA               23000\n",
       "97    2019       ARKANSAS               20000\n",
       "98    2019     CALIFORNIA              335000\n",
       "...    ...            ...                 ...\n",
       "2464  1987       VIRGINIA               25000\n",
       "2465  1987     WASHINGTON               75000\n",
       "2466  1987  WEST VIRGINIA               21000\n",
       "2467  1987      WISCONSIN               92000\n",
       "2468  1987        WYOMING               39000\n",
       "\n",
       "[1470 rows x 3 columns]"
      ]
     },
     "execution_count": 41,
     "metadata": {},
     "output_type": "execute_result"
    }
   ],
   "source": [
    "cleaned_marketing_year = marketing_cleanup.rename(columns={'Year':'year','State':'state','Value':'marketing_year_val'})\n",
    "cleaned_marketing_year"
   ]
  },
  {
   "cell_type": "code",
   "execution_count": 42,
   "metadata": {},
   "outputs": [
    {
     "data": {
      "text/plain": [
       "year                   int64\n",
       "state                 object\n",
       "marketing_year_val     int32\n",
       "dtype: object"
      ]
     },
     "execution_count": 42,
     "metadata": {},
     "output_type": "execute_result"
    }
   ],
   "source": [
    "cleaned_marketing_year.dtypes"
   ]
  },
  {
   "cell_type": "markdown",
   "metadata": {},
   "source": [
    "ATTEMPTING SOME VISUALS"
   ]
  },
  {
   "cell_type": "code",
   "execution_count": 43,
   "metadata": {},
   "outputs": [
    {
     "data": {
      "text/plain": [
       "Index(['year', 'state', 'lbs_of_honey'], dtype='object')"
      ]
     },
     "execution_count": 43,
     "metadata": {},
     "output_type": "execute_result"
    }
   ],
   "source": [
    "cleaned_honey.columns"
   ]
  },
  {
   "cell_type": "code",
   "execution_count": 44,
   "metadata": {},
   "outputs": [
    {
     "data": {
      "text/html": [
       "<div>\n",
       "<style scoped>\n",
       "    .dataframe tbody tr th:only-of-type {\n",
       "        vertical-align: middle;\n",
       "    }\n",
       "\n",
       "    .dataframe tbody tr th {\n",
       "        vertical-align: top;\n",
       "    }\n",
       "\n",
       "    .dataframe thead th {\n",
       "        text-align: right;\n",
       "    }\n",
       "</style>\n",
       "<table border=\"1\" class=\"dataframe\">\n",
       "  <thead>\n",
       "    <tr style=\"text-align: right;\">\n",
       "      <th></th>\n",
       "      <th>State</th>\n",
       "      <th>Abbrev</th>\n",
       "      <th>Code</th>\n",
       "    </tr>\n",
       "  </thead>\n",
       "  <tbody>\n",
       "    <tr>\n",
       "      <th>0</th>\n",
       "      <td>Alabama</td>\n",
       "      <td>Ala.</td>\n",
       "      <td>AL</td>\n",
       "    </tr>\n",
       "    <tr>\n",
       "      <th>1</th>\n",
       "      <td>Alaska</td>\n",
       "      <td>Alaska</td>\n",
       "      <td>AK</td>\n",
       "    </tr>\n",
       "    <tr>\n",
       "      <th>2</th>\n",
       "      <td>Arizona</td>\n",
       "      <td>Ariz.</td>\n",
       "      <td>AZ</td>\n",
       "    </tr>\n",
       "    <tr>\n",
       "      <th>3</th>\n",
       "      <td>Arkansas</td>\n",
       "      <td>Ark.</td>\n",
       "      <td>AR</td>\n",
       "    </tr>\n",
       "    <tr>\n",
       "      <th>4</th>\n",
       "      <td>California</td>\n",
       "      <td>Calif.</td>\n",
       "      <td>CA</td>\n",
       "    </tr>\n",
       "  </tbody>\n",
       "</table>\n",
       "</div>"
      ],
      "text/plain": [
       "        State  Abbrev Code\n",
       "0     Alabama    Ala.   AL\n",
       "1      Alaska  Alaska   AK\n",
       "2     Arizona   Ariz.   AZ\n",
       "3    Arkansas    Ark.   AR\n",
       "4  California  Calif.   CA"
      ]
     },
     "execution_count": 44,
     "metadata": {},
     "output_type": "execute_result"
    }
   ],
   "source": [
    "# import the state codes\n",
    "code_path = \"bee_data/state_abbrev.csv\"\n",
    "code_df = pd.read_csv(code_path)\n",
    "code_df.head()"
   ]
  },
  {
   "cell_type": "code",
   "execution_count": 45,
   "metadata": {},
   "outputs": [
    {
     "data": {
      "text/html": [
       "<div>\n",
       "<style scoped>\n",
       "    .dataframe tbody tr th:only-of-type {\n",
       "        vertical-align: middle;\n",
       "    }\n",
       "\n",
       "    .dataframe tbody tr th {\n",
       "        vertical-align: top;\n",
       "    }\n",
       "\n",
       "    .dataframe thead th {\n",
       "        text-align: right;\n",
       "    }\n",
       "</style>\n",
       "<table border=\"1\" class=\"dataframe\">\n",
       "  <thead>\n",
       "    <tr style=\"text-align: right;\">\n",
       "      <th></th>\n",
       "      <th>State</th>\n",
       "      <th>Abbrev</th>\n",
       "      <th>Code</th>\n",
       "    </tr>\n",
       "  </thead>\n",
       "  <tbody>\n",
       "    <tr>\n",
       "      <th>0</th>\n",
       "      <td>ALABAMA</td>\n",
       "      <td>Ala.</td>\n",
       "      <td>AL</td>\n",
       "    </tr>\n",
       "    <tr>\n",
       "      <th>1</th>\n",
       "      <td>ALASKA</td>\n",
       "      <td>Alaska</td>\n",
       "      <td>AK</td>\n",
       "    </tr>\n",
       "    <tr>\n",
       "      <th>2</th>\n",
       "      <td>ARIZONA</td>\n",
       "      <td>Ariz.</td>\n",
       "      <td>AZ</td>\n",
       "    </tr>\n",
       "    <tr>\n",
       "      <th>3</th>\n",
       "      <td>ARKANSAS</td>\n",
       "      <td>Ark.</td>\n",
       "      <td>AR</td>\n",
       "    </tr>\n",
       "    <tr>\n",
       "      <th>4</th>\n",
       "      <td>CALIFORNIA</td>\n",
       "      <td>Calif.</td>\n",
       "      <td>CA</td>\n",
       "    </tr>\n",
       "  </tbody>\n",
       "</table>\n",
       "</div>"
      ],
      "text/plain": [
       "        State  Abbrev Code\n",
       "0     ALABAMA    Ala.   AL\n",
       "1      ALASKA  Alaska   AK\n",
       "2     ARIZONA   Ariz.   AZ\n",
       "3    ARKANSAS    Ark.   AR\n",
       "4  CALIFORNIA  Calif.   CA"
      ]
     },
     "execution_count": 45,
     "metadata": {},
     "output_type": "execute_result"
    }
   ],
   "source": [
    "code_df['State'] = code_df['State'].str.upper()\n",
    "code_df.head()"
   ]
  },
  {
   "cell_type": "code",
   "execution_count": 46,
   "metadata": {},
   "outputs": [
    {
     "data": {
      "text/html": [
       "<div>\n",
       "<style scoped>\n",
       "    .dataframe tbody tr th:only-of-type {\n",
       "        vertical-align: middle;\n",
       "    }\n",
       "\n",
       "    .dataframe tbody tr th {\n",
       "        vertical-align: top;\n",
       "    }\n",
       "\n",
       "    .dataframe thead th {\n",
       "        text-align: right;\n",
       "    }\n",
       "</style>\n",
       "<table border=\"1\" class=\"dataframe\">\n",
       "  <thead>\n",
       "    <tr style=\"text-align: right;\">\n",
       "      <th></th>\n",
       "      <th>state</th>\n",
       "      <th>Abbrev</th>\n",
       "      <th>Code</th>\n",
       "    </tr>\n",
       "  </thead>\n",
       "  <tbody>\n",
       "    <tr>\n",
       "      <th>0</th>\n",
       "      <td>ALABAMA</td>\n",
       "      <td>Ala.</td>\n",
       "      <td>AL</td>\n",
       "    </tr>\n",
       "    <tr>\n",
       "      <th>1</th>\n",
       "      <td>ALASKA</td>\n",
       "      <td>Alaska</td>\n",
       "      <td>AK</td>\n",
       "    </tr>\n",
       "    <tr>\n",
       "      <th>2</th>\n",
       "      <td>ARIZONA</td>\n",
       "      <td>Ariz.</td>\n",
       "      <td>AZ</td>\n",
       "    </tr>\n",
       "    <tr>\n",
       "      <th>3</th>\n",
       "      <td>ARKANSAS</td>\n",
       "      <td>Ark.</td>\n",
       "      <td>AR</td>\n",
       "    </tr>\n",
       "    <tr>\n",
       "      <th>4</th>\n",
       "      <td>CALIFORNIA</td>\n",
       "      <td>Calif.</td>\n",
       "      <td>CA</td>\n",
       "    </tr>\n",
       "  </tbody>\n",
       "</table>\n",
       "</div>"
      ],
      "text/plain": [
       "        state  Abbrev Code\n",
       "0     ALABAMA    Ala.   AL\n",
       "1      ALASKA  Alaska   AK\n",
       "2     ARIZONA   Ariz.   AZ\n",
       "3    ARKANSAS    Ark.   AR\n",
       "4  CALIFORNIA  Calif.   CA"
      ]
     },
     "execution_count": 46,
     "metadata": {},
     "output_type": "execute_result"
    }
   ],
   "source": [
    "code_df = code_df.rename(columns={'State':'state'})\n",
    "code_df.head()"
   ]
  },
  {
   "cell_type": "code",
   "execution_count": 47,
   "metadata": {},
   "outputs": [
    {
     "data": {
      "text/html": [
       "<div>\n",
       "<style scoped>\n",
       "    .dataframe tbody tr th:only-of-type {\n",
       "        vertical-align: middle;\n",
       "    }\n",
       "\n",
       "    .dataframe tbody tr th {\n",
       "        vertical-align: top;\n",
       "    }\n",
       "\n",
       "    .dataframe thead th {\n",
       "        text-align: right;\n",
       "    }\n",
       "</style>\n",
       "<table border=\"1\" class=\"dataframe\">\n",
       "  <thead>\n",
       "    <tr style=\"text-align: right;\">\n",
       "      <th></th>\n",
       "      <th>year</th>\n",
       "      <th>state</th>\n",
       "      <th>lbs_of_honey</th>\n",
       "      <th>Abbrev</th>\n",
       "      <th>Code</th>\n",
       "    </tr>\n",
       "  </thead>\n",
       "  <tbody>\n",
       "    <tr>\n",
       "      <th>0</th>\n",
       "      <td>2019</td>\n",
       "      <td>US TOTAL</td>\n",
       "      <td>41022000</td>\n",
       "      <td>NaN</td>\n",
       "      <td>NaN</td>\n",
       "    </tr>\n",
       "    <tr>\n",
       "      <th>1</th>\n",
       "      <td>2019</td>\n",
       "      <td>ALABAMA</td>\n",
       "      <td>44000</td>\n",
       "      <td>Ala.</td>\n",
       "      <td>AL</td>\n",
       "    </tr>\n",
       "    <tr>\n",
       "      <th>2</th>\n",
       "      <td>2019</td>\n",
       "      <td>ARIZONA</td>\n",
       "      <td>201000</td>\n",
       "      <td>Ariz.</td>\n",
       "      <td>AZ</td>\n",
       "    </tr>\n",
       "    <tr>\n",
       "      <th>3</th>\n",
       "      <td>2019</td>\n",
       "      <td>ARKANSAS</td>\n",
       "      <td>176000</td>\n",
       "      <td>Ark.</td>\n",
       "      <td>AR</td>\n",
       "    </tr>\n",
       "    <tr>\n",
       "      <th>4</th>\n",
       "      <td>2019</td>\n",
       "      <td>CALIFORNIA</td>\n",
       "      <td>3216000</td>\n",
       "      <td>Calif.</td>\n",
       "      <td>CA</td>\n",
       "    </tr>\n",
       "    <tr>\n",
       "      <th>...</th>\n",
       "      <td>...</td>\n",
       "      <td>...</td>\n",
       "      <td>...</td>\n",
       "      <td>...</td>\n",
       "      <td>...</td>\n",
       "    </tr>\n",
       "    <tr>\n",
       "      <th>1465</th>\n",
       "      <td>1987</td>\n",
       "      <td>VIRGINIA</td>\n",
       "      <td>120000</td>\n",
       "      <td>Va.</td>\n",
       "      <td>VA</td>\n",
       "    </tr>\n",
       "    <tr>\n",
       "      <th>1466</th>\n",
       "      <td>1987</td>\n",
       "      <td>WASHINGTON</td>\n",
       "      <td>206000</td>\n",
       "      <td>Wash.</td>\n",
       "      <td>WA</td>\n",
       "    </tr>\n",
       "    <tr>\n",
       "      <th>1467</th>\n",
       "      <td>1987</td>\n",
       "      <td>WEST VIRGINIA</td>\n",
       "      <td>207000</td>\n",
       "      <td>W.Va.</td>\n",
       "      <td>WV</td>\n",
       "    </tr>\n",
       "    <tr>\n",
       "      <th>1468</th>\n",
       "      <td>1987</td>\n",
       "      <td>WISCONSIN</td>\n",
       "      <td>1160000</td>\n",
       "      <td>Wis.</td>\n",
       "      <td>WI</td>\n",
       "    </tr>\n",
       "    <tr>\n",
       "      <th>1469</th>\n",
       "      <td>1987</td>\n",
       "      <td>WYOMING</td>\n",
       "      <td>520000</td>\n",
       "      <td>Wyo.</td>\n",
       "      <td>WY</td>\n",
       "    </tr>\n",
       "  </tbody>\n",
       "</table>\n",
       "<p>1470 rows × 5 columns</p>\n",
       "</div>"
      ],
      "text/plain": [
       "      year          state  lbs_of_honey  Abbrev Code\n",
       "0     2019       US TOTAL      41022000     NaN  NaN\n",
       "1     2019        ALABAMA         44000    Ala.   AL\n",
       "2     2019        ARIZONA        201000   Ariz.   AZ\n",
       "3     2019       ARKANSAS        176000    Ark.   AR\n",
       "4     2019     CALIFORNIA       3216000  Calif.   CA\n",
       "...    ...            ...           ...     ...  ...\n",
       "1465  1987       VIRGINIA        120000     Va.   VA\n",
       "1466  1987     WASHINGTON        206000   Wash.   WA\n",
       "1467  1987  WEST VIRGINIA        207000   W.Va.   WV\n",
       "1468  1987      WISCONSIN       1160000    Wis.   WI\n",
       "1469  1987        WYOMING        520000    Wyo.   WY\n",
       "\n",
       "[1470 rows x 5 columns]"
      ]
     },
     "execution_count": 47,
     "metadata": {},
     "output_type": "execute_result"
    }
   ],
   "source": [
    "cleaned_honey_w_code = pd.merge(cleaned_honey, code_df, on = 'state', how = 'left')\n",
    "cleaned_honey_w_code"
   ]
  },
  {
   "cell_type": "code",
   "execution_count": 48,
   "metadata": {},
   "outputs": [
    {
     "data": {
      "text/html": [
       "<div>\n",
       "<style scoped>\n",
       "    .dataframe tbody tr th:only-of-type {\n",
       "        vertical-align: middle;\n",
       "    }\n",
       "\n",
       "    .dataframe tbody tr th {\n",
       "        vertical-align: top;\n",
       "    }\n",
       "\n",
       "    .dataframe thead th {\n",
       "        text-align: right;\n",
       "    }\n",
       "</style>\n",
       "<table border=\"1\" class=\"dataframe\">\n",
       "  <thead>\n",
       "    <tr style=\"text-align: right;\">\n",
       "      <th></th>\n",
       "      <th>year</th>\n",
       "      <th>state</th>\n",
       "      <th>lbs_of_honey</th>\n",
       "      <th>Abbrev</th>\n",
       "      <th>Code</th>\n",
       "    </tr>\n",
       "  </thead>\n",
       "  <tbody>\n",
       "    <tr>\n",
       "      <th>1469</th>\n",
       "      <td>1987</td>\n",
       "      <td>WYOMING</td>\n",
       "      <td>520000</td>\n",
       "      <td>Wyo.</td>\n",
       "      <td>WY</td>\n",
       "    </tr>\n",
       "    <tr>\n",
       "      <th>1441</th>\n",
       "      <td>1987</td>\n",
       "      <td>MICHIGAN</td>\n",
       "      <td>1202000</td>\n",
       "      <td>Mich.</td>\n",
       "      <td>MI</td>\n",
       "    </tr>\n",
       "    <tr>\n",
       "      <th>1440</th>\n",
       "      <td>1987</td>\n",
       "      <td>MASSACHUSETTS</td>\n",
       "      <td>33000</td>\n",
       "      <td>Mass.</td>\n",
       "      <td>MA</td>\n",
       "    </tr>\n",
       "    <tr>\n",
       "      <th>1439</th>\n",
       "      <td>1987</td>\n",
       "      <td>MARYLAND</td>\n",
       "      <td>88000</td>\n",
       "      <td>Md.</td>\n",
       "      <td>MD</td>\n",
       "    </tr>\n",
       "    <tr>\n",
       "      <th>1438</th>\n",
       "      <td>1987</td>\n",
       "      <td>MAINE</td>\n",
       "      <td>70000</td>\n",
       "      <td>Maine</td>\n",
       "      <td>ME</td>\n",
       "    </tr>\n",
       "    <tr>\n",
       "      <th>...</th>\n",
       "      <td>...</td>\n",
       "      <td>...</td>\n",
       "      <td>...</td>\n",
       "      <td>...</td>\n",
       "      <td>...</td>\n",
       "    </tr>\n",
       "    <tr>\n",
       "      <th>25</th>\n",
       "      <td>2019</td>\n",
       "      <td>NORTH CAROLINA</td>\n",
       "      <td>118000</td>\n",
       "      <td>N.C.</td>\n",
       "      <td>NC</td>\n",
       "    </tr>\n",
       "    <tr>\n",
       "      <th>24</th>\n",
       "      <td>2019</td>\n",
       "      <td>NEW YORK</td>\n",
       "      <td>1027000</td>\n",
       "      <td>N.Y.</td>\n",
       "      <td>NY</td>\n",
       "    </tr>\n",
       "    <tr>\n",
       "      <th>23</th>\n",
       "      <td>2019</td>\n",
       "      <td>NEW JERSEY</td>\n",
       "      <td>155000</td>\n",
       "      <td>N.J.</td>\n",
       "      <td>NJ</td>\n",
       "    </tr>\n",
       "    <tr>\n",
       "      <th>32</th>\n",
       "      <td>2019</td>\n",
       "      <td>SOUTH DAKOTA</td>\n",
       "      <td>7582000</td>\n",
       "      <td>S.D.</td>\n",
       "      <td>SD</td>\n",
       "    </tr>\n",
       "    <tr>\n",
       "      <th>0</th>\n",
       "      <td>2019</td>\n",
       "      <td>US TOTAL</td>\n",
       "      <td>41022000</td>\n",
       "      <td>NaN</td>\n",
       "      <td>NaN</td>\n",
       "    </tr>\n",
       "  </tbody>\n",
       "</table>\n",
       "<p>1470 rows × 5 columns</p>\n",
       "</div>"
      ],
      "text/plain": [
       "      year           state  lbs_of_honey Abbrev Code\n",
       "1469  1987         WYOMING        520000   Wyo.   WY\n",
       "1441  1987        MICHIGAN       1202000  Mich.   MI\n",
       "1440  1987   MASSACHUSETTS         33000  Mass.   MA\n",
       "1439  1987        MARYLAND         88000    Md.   MD\n",
       "1438  1987           MAINE         70000  Maine   ME\n",
       "...    ...             ...           ...    ...  ...\n",
       "25    2019  NORTH CAROLINA        118000   N.C.   NC\n",
       "24    2019        NEW YORK       1027000   N.Y.   NY\n",
       "23    2019      NEW JERSEY        155000   N.J.   NJ\n",
       "32    2019    SOUTH DAKOTA       7582000   S.D.   SD\n",
       "0     2019        US TOTAL      41022000    NaN  NaN\n",
       "\n",
       "[1470 rows x 5 columns]"
      ]
     },
     "execution_count": 48,
     "metadata": {},
     "output_type": "execute_result"
    }
   ],
   "source": [
    "cleaned_honey_w_code_v2 = cleaned_honey_w_code.sort_values(by=['year'])\n",
    "cleaned_honey_w_code_v2"
   ]
  },
  {
   "cell_type": "code",
   "execution_count": 49,
   "metadata": {},
   "outputs": [],
   "source": [
    "cleaned_honey_w_code_clean = cleaned_honey_w_code_v2.loc[cleaned_honey_w_code[\"state\"] != 'US TOTAL']"
   ]
  },
  {
   "cell_type": "code",
   "execution_count": 51,
   "metadata": {
    "scrolled": true
   },
   "outputs": [
    {
     "data": {
      "application/vnd.plotly.v1+json": {
       "config": {
        "plotlyServerURL": "https://plot.ly"
       },
       "data": [
        {
         "coloraxis": "coloraxis",
         "geo": "geo",
         "hovertemplate": "year=1987<br>Code=%{location}<br>lbs_of_honey=%{z}<extra></extra>",
         "locationmode": "USA-states",
         "locations": [
          "WY",
          "MI",
          "MA",
          "MD",
          "ME",
          "LA",
          "KY",
          "KS",
          "IA",
          "IN",
          "IL",
          "MN",
          "ID",
          "GA",
          "FL",
          "DE",
          "CT",
          "CO",
          "CA",
          "AR",
          "AZ",
          "AL",
          "HI",
          "MS",
          "WI",
          "MT",
          "WV",
          "WA",
          "VA",
          "VT",
          "UT",
          "TX",
          "TN",
          "SD",
          "SC",
          "RI",
          "PA",
          "MO",
          "OK",
          "OH",
          "ND",
          "NC",
          "NY",
          "NM",
          "NJ",
          "NH",
          "NV",
          "NE",
          "OR"
         ],
         "name": "",
         "type": "choropleth",
         "z": [
          520000,
          1202000,
          33000,
          88000,
          70000,
          105000,
          147000,
          821000,
          1314000,
          363000,
          777000,
          1382000,
          1080000,
          502000,
          1327000,
          18000,
          24000,
          96000,
          1782000,
          200000,
          338000,
          242000,
          581000,
          80000,
          1160000,
          1066000,
          207000,
          206000,
          120000,
          132000,
          336000,
          1598000,
          732000,
          5574000,
          41000,
          10000,
          711000,
          156000,
          140000,
          853000,
          3630000,
          173000,
          1188000,
          162000,
          213000,
          13000,
          66000,
          1980000,
          531000
         ]
        }
       ],
       "frames": [
        {
         "data": [
          {
           "coloraxis": "coloraxis",
           "geo": "geo",
           "hovertemplate": "year=1987<br>Code=%{location}<br>lbs_of_honey=%{z}<extra></extra>",
           "locationmode": "USA-states",
           "locations": [
            "WY",
            "MI",
            "MA",
            "MD",
            "ME",
            "LA",
            "KY",
            "KS",
            "IA",
            "IN",
            "IL",
            "MN",
            "ID",
            "GA",
            "FL",
            "DE",
            "CT",
            "CO",
            "CA",
            "AR",
            "AZ",
            "AL",
            "HI",
            "MS",
            "WI",
            "MT",
            "WV",
            "WA",
            "VA",
            "VT",
            "UT",
            "TX",
            "TN",
            "SD",
            "SC",
            "RI",
            "PA",
            "MO",
            "OK",
            "OH",
            "ND",
            "NC",
            "NY",
            "NM",
            "NJ",
            "NH",
            "NV",
            "NE",
            "OR"
           ],
           "name": "",
           "type": "choropleth",
           "z": [
            520000,
            1202000,
            33000,
            88000,
            70000,
            105000,
            147000,
            821000,
            1314000,
            363000,
            777000,
            1382000,
            1080000,
            502000,
            1327000,
            18000,
            24000,
            96000,
            1782000,
            200000,
            338000,
            242000,
            581000,
            80000,
            1160000,
            1066000,
            207000,
            206000,
            120000,
            132000,
            336000,
            1598000,
            732000,
            5574000,
            41000,
            10000,
            711000,
            156000,
            140000,
            853000,
            3630000,
            173000,
            1188000,
            162000,
            213000,
            13000,
            66000,
            1980000,
            531000
           ]
          }
         ],
         "name": "1987"
        },
        {
         "data": [
          {
           "coloraxis": "coloraxis",
           "geo": "geo",
           "hovertemplate": "year=1988<br>Code=%{location}<br>lbs_of_honey=%{z}<extra></extra>",
           "locationmode": "USA-states",
           "locations": [
            "IN",
            "IA",
            "KS",
            "KY",
            "MI",
            "ME",
            "MD",
            "MA",
            "IL",
            "LA",
            "ID",
            "CT",
            "GA",
            "FL",
            "DE",
            "CO",
            "CA",
            "AR",
            "AZ",
            "AL",
            "MN",
            "HI",
            "MS",
            "MO",
            "MT",
            "WI",
            "WV",
            "WA",
            "VA",
            "VT",
            "UT",
            "TX",
            "TN",
            "SD",
            "SC",
            "RI",
            "WY",
            "OR",
            "OK",
            "OH",
            "ND",
            "NC",
            "NY",
            "NM",
            "NJ",
            "NH",
            "NV",
            "NE",
            "PA"
           ],
           "name": "",
           "type": "choropleth",
           "z": [
            622000,
            1580000,
            319000,
            202000,
            1456000,
            44000,
            54000,
            41000,
            638000,
            205000,
            1144000,
            29000,
            283000,
            2385000,
            6000,
            837000,
            2160000,
            228000,
            706000,
            247000,
            2064000,
            806000,
            28000,
            1008000,
            151000,
            2323000,
            630000,
            306000,
            56000,
            164000,
            384000,
            848000,
            462000,
            2901000,
            90000,
            15000,
            249000,
            499000,
            66000,
            744000,
            1650000,
            155000,
            1109000,
            275000,
            353000,
            16000,
            54000,
            1410000,
            683000
           ]
          }
         ],
         "name": "1988"
        },
        {
         "data": [
          {
           "coloraxis": "coloraxis",
           "geo": "geo",
           "hovertemplate": "year=1989<br>Code=%{location}<br>lbs_of_honey=%{z}<extra></extra>",
           "locationmode": "USA-states",
           "locations": [
            "IN",
            "IA",
            "KS",
            "KY",
            "MI",
            "ME",
            "MD",
            "MA",
            "IL",
            "LA",
            "ID",
            "CO",
            "GA",
            "FL",
            "DE",
            "CT",
            "CA",
            "AR",
            "AZ",
            "AL",
            "MN",
            "HI",
            "MS",
            "WY",
            "MT",
            "MO",
            "WI",
            "WV",
            "WA",
            "VA",
            "VT",
            "UT",
            "TN",
            "SD",
            "SC",
            "RI",
            "TX",
            "OR",
            "PA",
            "NV",
            "NH",
            "NJ",
            "NM",
            "NE",
            "NC",
            "ND",
            "OH",
            "OK",
            "NY"
           ],
           "name": "",
           "type": "choropleth",
           "z": [
            647000,
            1448000,
            426000,
            132000,
            1642000,
            41000,
            32000,
            50000,
            452000,
            179000,
            1361000,
            495000,
            125000,
            1050000,
            5000,
            48000,
            3162000,
            249000,
            1158000,
            33000,
            3492000,
            510000,
            79000,
            250000,
            819000,
            696000,
            1598000,
            732000,
            579000,
            97000,
            102000,
            579000,
            250000,
            2072000,
            74000,
            14000,
            1647000,
            418000,
            560000,
            162000,
            11000,
            265000,
            253000,
            1476000,
            266000,
            1215000,
            413000,
            164000,
            1664000
           ]
          }
         ],
         "name": "1989"
        },
        {
         "data": [
          {
           "coloraxis": "coloraxis",
           "geo": "geo",
           "hovertemplate": "year=1990<br>Code=%{location}<br>lbs_of_honey=%{z}<extra></extra>",
           "locationmode": "USA-states",
           "locations": [
            "IN",
            "MN",
            "MI",
            "MA",
            "MD",
            "ME",
            "LA",
            "KY",
            "KS",
            "IA",
            "IL",
            "MS",
            "HI",
            "GA",
            "FL",
            "DE",
            "CO",
            "CA",
            "AR",
            "AZ",
            "AL",
            "ID",
            "MO",
            "CT",
            "NE",
            "WV",
            "WA",
            "VA",
            "VT",
            "UT",
            "WY",
            "TX",
            "TN",
            "SD",
            "SC",
            "RI",
            "WI",
            "OR",
            "PA",
            "NV",
            "NH",
            "NJ",
            "NM",
            "MT",
            "NC",
            "ND",
            "OH",
            "OK",
            "NY"
           ],
           "name": "",
           "type": "choropleth",
           "z": [
            259000,
            1384000,
            2560000,
            43000,
            33000,
            77000,
            169000,
            127000,
            241000,
            945000,
            543000,
            104000,
            314000,
            333000,
            1881000,
            3000,
            845000,
            2218000,
            423000,
            836000,
            143000,
            784000,
            567000,
            47000,
            1189000,
            594000,
            440000,
            207000,
            207000,
            539000,
            274000,
            1501000,
            138000,
            3771000,
            49000,
            9000,
            1512000,
            615000,
            379000,
            296000,
            19000,
            107000,
            453000,
            1191000,
            120000,
            722000,
            643000,
            149000,
            1094000
           ]
          }
         ],
         "name": "1990"
        },
        {
         "data": [
          {
           "coloraxis": "coloraxis",
           "geo": "geo",
           "hovertemplate": "year=1991<br>Code=%{location}<br>lbs_of_honey=%{z}<extra></extra>",
           "locationmode": "USA-states",
           "locations": [
            "MS",
            "MN",
            "MI",
            "MD",
            "ME",
            "LA",
            "KY",
            "KS",
            "IA",
            "IN",
            "ID",
            "HI",
            "GA",
            "FL",
            "CA",
            "AR",
            "AZ",
            "AL",
            "MO",
            "IL",
            "CO",
            "NE",
            "NV",
            "MT",
            "WY",
            "WI",
            "WV",
            "WA",
            "VA",
            "UT",
            "TX",
            "TN",
            "SD",
            "VT",
            "PA",
            "SC",
            "NM",
            "NY",
            "NC",
            "ND",
            "NJ",
            "OK",
            "OR",
            null,
            "OH"
           ],
           "name": "",
           "type": "choropleth",
           "z": [
            71000,
            2457000,
            2683000,
            60000,
            213000,
            168000,
            88000,
            291000,
            909000,
            368000,
            1739000,
            328000,
            129000,
            1307000,
            3465000,
            557000,
            750000,
            66000,
            528000,
            393000,
            514000,
            1302000,
            275000,
            1187000,
            192000,
            1843000,
            287000,
            678000,
            58000,
            199000,
            1201000,
            106000,
            4091000,
            198000,
            594000,
            107000,
            447000,
            1337000,
            167000,
            3100000,
            130000,
            252000,
            721000,
            103000,
            761000
           ]
          }
         ],
         "name": "1991"
        },
        {
         "data": [
          {
           "coloraxis": "coloraxis",
           "geo": "geo",
           "hovertemplate": "year=1992<br>Code=%{location}<br>lbs_of_honey=%{z}<extra></extra>",
           "locationmode": "USA-states",
           "locations": [
            "IA",
            "MS",
            "MN",
            "MI",
            "MD",
            "ME",
            "LA",
            "KY",
            "KS",
            "IN",
            "ID",
            "HI",
            "GA",
            "FL",
            "CO",
            "CA",
            "AR",
            "AZ",
            "AL",
            "IL",
            "MO",
            "NV",
            "NE",
            "WY",
            "WI",
            "WV",
            "WA",
            "VA",
            "VT",
            "UT",
            "TX",
            "TN",
            "SD",
            "MT",
            "PA",
            null,
            "OR",
            "OK",
            "OH",
            "ND",
            "NC",
            "NY",
            "NM",
            "NJ",
            "SC"
           ],
           "name": "",
           "type": "choropleth",
           "z": [
            766000,
            163000,
            3591000,
            2067000,
            51000,
            122000,
            385000,
            54000,
            244000,
            186000,
            1308000,
            460000,
            701000,
            2517000,
            847000,
            4268000,
            410000,
            1285000,
            113000,
            237000,
            347000,
            341000,
            792000,
            287000,
            1525000,
            759000,
            1197000,
            84000,
            200000,
            632000,
            1488000,
            66000,
            3264000,
            1818000,
            566000,
            63000,
            841000,
            80000,
            206000,
            2184000,
            95000,
            1802000,
            502000,
            48000,
            99000
           ]
          }
         ],
         "name": "1992"
        },
        {
         "data": [
          {
           "coloraxis": "coloraxis",
           "geo": "geo",
           "hovertemplate": "year=1993<br>Code=%{location}<br>lbs_of_honey=%{z}<extra></extra>",
           "locationmode": "USA-states",
           "locations": [
            "KS",
            "KY",
            "LA",
            "MS",
            "MD",
            "MI",
            "MN",
            "IA",
            "ME",
            "IN",
            "FL",
            "ID",
            "HI",
            "GA",
            "CO",
            "CA",
            "AR",
            "AZ",
            "AL",
            "MO",
            "IL",
            "NE",
            "NV",
            "MT",
            "WI",
            "WV",
            "WA",
            "VA",
            "VT",
            "UT",
            "TX",
            "TN",
            "SD",
            "WY",
            "PA",
            "SC",
            "NM",
            "NY",
            "NC",
            "NJ",
            "OH",
            "OK",
            "OR",
            null,
            "ND"
           ],
           "name": "",
           "type": "choropleth",
           "z": [
            891000,
            89000,
            1213000,
            114000,
            77000,
            2980000,
            2160000,
            412000,
            215000,
            364000,
            2712000,
            1700000,
            1020000,
            179000,
            1161000,
            7200000,
            548000,
            932000,
            103000,
            298000,
            252000,
            930000,
            328000,
            1583000,
            4100000,
            259000,
            513000,
            59000,
            216000,
            445000,
            2755000,
            86000,
            4322000,
            393000,
            605000,
            129000,
            541000,
            1733000,
            143000,
            142000,
            990000,
            169000,
            994000,
            219000,
            2772000
           ]
          }
         ],
         "name": "1993"
        },
        {
         "data": [
          {
           "coloraxis": "coloraxis",
           "geo": "geo",
           "hovertemplate": "year=1994<br>Code=%{location}<br>lbs_of_honey=%{z}<extra></extra>",
           "locationmode": "USA-states",
           "locations": [
            "IA",
            "MS",
            "MN",
            "MI",
            "MD",
            "ME",
            "KY",
            "KS",
            "IN",
            "CO",
            "ID",
            "HI",
            "GA",
            "FL",
            "CA",
            "AR",
            "MO",
            "AL",
            "IL",
            "MT",
            "AZ",
            "NV",
            "NE",
            "WY",
            "WI",
            "WV",
            "WA",
            "VA",
            "VT",
            "UT",
            "TX",
            "TN",
            "SD",
            "LA",
            "PA",
            "NM",
            "NY",
            "NC",
            "ND",
            "SC",
            "NJ",
            "OK",
            "OR",
            null,
            "OH"
           ],
           "name": "",
           "type": "choropleth",
           "z": [
            1030000,
            352000,
            2149000,
            3870000,
            83000,
            172000,
            57000,
            214000,
            204000,
            1813000,
            1274000,
            351000,
            958000,
            2898000,
            6480000,
            898000,
            270000,
            99000,
            468000,
            3624000,
            188000,
            174000,
            1465000,
            667000,
            1864000,
            414000,
            1265000,
            109000,
            189000,
            1218000,
            2058000,
            107000,
            8580000,
            588000,
            622000,
            730000,
            2451000,
            266000,
            7459000,
            150000,
            131000,
            104000,
            1008000,
            115000,
            691000
           ]
          }
         ],
         "name": "1994"
        },
        {
         "data": [
          {
           "coloraxis": "coloraxis",
           "geo": "geo",
           "hovertemplate": "year=1995<br>Code=%{location}<br>lbs_of_honey=%{z}<extra></extra>",
           "locationmode": "USA-states",
           "locations": [
            "IN",
            "MS",
            "MN",
            "MI",
            "MD",
            "LA",
            "KY",
            "KS",
            "IA",
            "IL",
            "CO",
            "HI",
            "GA",
            "FL",
            "MO",
            "CA",
            "AR",
            "AZ",
            "AL",
            "ID",
            "MT",
            "ME",
            "NV",
            "NE",
            "WI",
            "WV",
            "WA",
            "VA",
            "VT",
            "UT",
            "TX",
            "TN",
            "SD",
            "SC",
            "WY",
            null,
            "PA",
            "NM",
            "NY",
            "NC",
            "NJ",
            "ND",
            "OH",
            "OK",
            "OR"
           ],
           "name": "",
           "type": "choropleth",
           "z": [
            166000,
            146000,
            1218000,
            3570000,
            81000,
            317000,
            30000,
            182000,
            551000,
            212000,
            1404000,
            103000,
            260000,
            1780000,
            308000,
            4687000,
            990000,
            986000,
            28000,
            1020000,
            1781000,
            223000,
            38000,
            1402000,
            2134000,
            48000,
            637000,
            97000,
            131000,
            232000,
            1959000,
            87000,
            4896000,
            65000,
            150000,
            106000,
            376000,
            247000,
            2100000,
            162000,
            71000,
            3802000,
            930000,
            112000,
            2488000
           ]
          }
         ],
         "name": "1995"
        },
        {
         "data": [
          {
           "coloraxis": "coloraxis",
           "geo": "geo",
           "hovertemplate": "year=1996<br>Code=%{location}<br>lbs_of_honey=%{z}<extra></extra>",
           "locationmode": "USA-states",
           "locations": [
            "IN",
            "MN",
            "MI",
            "ME",
            "LA",
            "KY",
            "KS",
            "IA",
            "MS",
            "IL",
            "CO",
            "HI",
            "GA",
            "FL",
            "CA",
            "AR",
            "AZ",
            "AL",
            "MO",
            "ID",
            "MT",
            "MD",
            "NV",
            "WI",
            "WV",
            "WA",
            "VA",
            "VT",
            "UT",
            "TX",
            "TN",
            "SD",
            "SC",
            "NE",
            null,
            "OR",
            "OK",
            "OH",
            "ND",
            "NC",
            "WY",
            "NY",
            "NM",
            "NJ",
            "PA"
           ],
           "name": "",
           "type": "choropleth",
           "z": [
            412000,
            1617000,
            4320000,
            21000,
            933000,
            23000,
            294000,
            836000,
            299000,
            285000,
            1132000,
            62000,
            306000,
            2268000,
            4641000,
            420000,
            307000,
            96000,
            326000,
            1535000,
            1825000,
            40000,
            68000,
            2422000,
            207000,
            1079000,
            119000,
            93000,
            328000,
            1361000,
            90000,
            6751000,
            81000,
            1755000,
            52000,
            1071000,
            54000,
            840000,
            4945000,
            53000,
            526000,
            2557000,
            219000,
            167000,
            370000
           ]
          }
         ],
         "name": "1996"
        },
        {
         "data": [
          {
           "coloraxis": "coloraxis",
           "geo": "geo",
           "hovertemplate": "year=1997<br>Code=%{location}<br>lbs_of_honey=%{z}<extra></extra>",
           "locationmode": "USA-states",
           "locations": [
            "KS",
            "KY",
            "LA",
            "MS",
            "MD",
            "MI",
            "MN",
            "IA",
            "ME",
            "IN",
            "FL",
            "ID",
            "HI",
            "GA",
            "CO",
            "CA",
            "AR",
            "AZ",
            "AL",
            "MO",
            "IL",
            "MT",
            "NV",
            "NE",
            "WY",
            "WI",
            "WV",
            "WA",
            "VA",
            "UT",
            "TX",
            "TN",
            "SD",
            "VT",
            null,
            "PA",
            "NM",
            "NY",
            "NC",
            "NJ",
            "OH",
            "OK",
            "OR",
            "ND"
           ],
           "name": "",
           "type": "choropleth",
           "z": [
            688000,
            54000,
            759000,
            777000,
            65000,
            3273000,
            2011000,
            1765000,
            9000,
            352000,
            2734000,
            2304000,
            158000,
            587000,
            982000,
            9450000,
            3468000,
            1344000,
            92000,
            517000,
            222000,
            4237000,
            171000,
            2738000,
            660000,
            2797000,
            280000,
            1498000,
            157000,
            699000,
            3188000,
            148000,
            8736000,
            249000,
            206000,
            528000,
            396000,
            2246000,
            139000,
            201000,
            827000,
            97000,
            1537000,
            7350000
           ]
          }
         ],
         "name": "1997"
        },
        {
         "data": [
          {
           "coloraxis": "coloraxis",
           "geo": "geo",
           "hovertemplate": "year=1998<br>Code=%{location}<br>lbs_of_honey=%{z}<extra></extra>",
           "locationmode": "USA-states",
           "locations": [
            "KS",
            "MS",
            "MN",
            "MI",
            "ME",
            "LA",
            "KY",
            "IA",
            "AL",
            "IL",
            "ID",
            "HI",
            "GA",
            "FL",
            "CO",
            "CA",
            "AR",
            "AZ",
            "MO",
            "MT",
            "IN",
            "NV",
            "NE",
            "WY",
            "WI",
            "WV",
            "WA",
            "VA",
            "VT",
            "UT",
            "TX",
            "TN",
            "MD",
            "PA",
            "SD",
            "NM",
            "NY",
            "NC",
            "NJ",
            "OH",
            "OK",
            "OR",
            null,
            "ND"
           ],
           "name": "",
           "type": "choropleth",
           "z": [
            390000,
            898000,
            2765000,
            3672000,
            117000,
            865000,
            51000,
            2301000,
            159000,
            204000,
            2220000,
            66000,
            307000,
            4508000,
            1594000,
            12326000,
            1688000,
            1485000,
            455000,
            5472000,
            489000,
            175000,
            2240000,
            524000,
            5264000,
            155000,
            1361000,
            86000,
            207000,
            557000,
            1612000,
            121000,
            92000,
            789000,
            10901000,
            470000,
            2444000,
            151000,
            167000,
            702000,
            63000,
            1620000,
            342000,
            8832000
           ]
          }
         ],
         "name": "1998"
        },
        {
         "data": [
          {
           "coloraxis": "coloraxis",
           "geo": "geo",
           "hovertemplate": "year=1999<br>Code=%{location}<br>lbs_of_honey=%{z}<extra></extra>",
           "locationmode": "USA-states",
           "locations": [
            "IN",
            "MN",
            "MI",
            "MD",
            "LA",
            "KY",
            "KS",
            "IA",
            "IL",
            "CA",
            "HI",
            "GA",
            "FL",
            "CO",
            "MS",
            "AR",
            "AZ",
            "AL",
            "ID",
            "MO",
            "ME",
            "NE",
            "WY",
            "MT",
            "WV",
            "WA",
            "VA",
            "VT",
            "UT",
            "TX",
            "TN",
            "SD",
            "PA",
            "WI",
            "OR",
            null,
            "NJ",
            "NM",
            "NY",
            "NV",
            "NC",
            "ND",
            "OH",
            "OK"
           ],
           "name": "",
           "type": "choropleth",
           "z": [
            437000,
            3210000,
            3475000,
            50000,
            821000,
            12000,
            854000,
            2028000,
            327000,
            9486000,
            32000,
            497000,
            4186000,
            1436000,
            591000,
            2592000,
            1548000,
            185000,
            3110000,
            437000,
            89000,
            1965000,
            746000,
            2135000,
            152000,
            1170000,
            86000,
            222000,
            433000,
            2799000,
            106000,
            13046000,
            790000,
            4560000,
            2026000,
            274000,
            154000,
            476000,
            2077000,
            271000,
            104000,
            8836000,
            784000,
            49000
           ]
          }
         ],
         "name": "1999"
        },
        {
         "data": [
          {
           "coloraxis": "coloraxis",
           "geo": "geo",
           "hovertemplate": "year=2000<br>Code=%{location}<br>lbs_of_honey=%{z}<extra></extra>",
           "locationmode": "USA-states",
           "locations": [
            "IA",
            "MI",
            "MD",
            "LA",
            "KY",
            "KS",
            "MS",
            "MN",
            "GA",
            "ID",
            "HI",
            "FL",
            "CO",
            "CA",
            "AR",
            "AZ",
            "AL",
            "MO",
            "IN",
            "MT",
            "IL",
            "NV",
            "NE",
            "WY",
            "WI",
            "WV",
            "WA",
            "VA",
            "VT",
            "UT",
            "TX",
            "TN",
            "ME",
            "PA",
            "NJ",
            "NM",
            "NY",
            "NC",
            "SD",
            "OH",
            "OK",
            "OR",
            null,
            "ND"
           ],
           "name": "",
           "type": "choropleth",
           "z": [
            1206000,
            2970000,
            52000,
            1334000,
            54000,
            520000,
            649000,
            3105000,
            376000,
            2679000,
            125000,
            2923000,
            957000,
            11396000,
            3337000,
            1322000,
            187000,
            362000,
            286000,
            4692000,
            146000,
            95000,
            2610000,
            798000,
            4385000,
            234000,
            1151000,
            103000,
            211000,
            462000,
            2986000,
            104000,
            143000,
            630000,
            200000,
            739000,
            2274000,
            243000,
            12796000,
            585000,
            64000,
            1665000,
            288000,
            13800000
           ]
          }
         ],
         "name": "2000"
        },
        {
         "data": [
          {
           "coloraxis": "coloraxis",
           "geo": "geo",
           "hovertemplate": "year=2001<br>Code=%{location}<br>lbs_of_honey=%{z}<extra></extra>",
           "locationmode": "USA-states",
           "locations": [
            "IA",
            "MN",
            "MI",
            "ME",
            "LA",
            "KY",
            "KS",
            "MS",
            "FL",
            "ID",
            "HI",
            "GA",
            "MO",
            "CO",
            "CA",
            "AR",
            "AZ",
            "AL",
            "IL",
            "MT",
            "IN",
            "NV",
            "NE",
            "WY",
            "WI",
            "WV",
            "WA",
            "VA",
            "VT",
            "UT",
            "TX",
            "TN",
            "SD",
            "MD",
            "PA",
            "SC",
            "NJ",
            "NY",
            "NC",
            "NM",
            "OH",
            "OK",
            "OR",
            null,
            "ND"
           ],
           "name": "",
           "type": "choropleth",
           "z": [
            875000,
            1859000,
            2827000,
            106000,
            572000,
            125000,
            530000,
            224000,
            3432000,
            1610000,
            84000,
            188000,
            336000,
            529000,
            7857000,
            1617000,
            1142000,
            235000,
            251000,
            4578000,
            186000,
            36000,
            1115000,
            468000,
            3419000,
            410000,
            1048000,
            94000,
            249000,
            315000,
            1533000,
            131000,
            12220000,
            55000,
            785000,
            67000,
            71000,
            1781000,
            172000,
            350000,
            569000,
            105000,
            1200000,
            137000,
            9408000
           ]
          }
         ],
         "name": "2001"
        },
        {
         "data": [
          {
           "coloraxis": "coloraxis",
           "geo": "geo",
           "hovertemplate": "year=2002<br>Code=%{location}<br>lbs_of_honey=%{z}<extra></extra>",
           "locationmode": "USA-states",
           "locations": [
            "NM",
            "NJ",
            "NV",
            "NE",
            "MT",
            "MO",
            "MD",
            "MN",
            "MI",
            "NY",
            "ME",
            "LA",
            "KY",
            "MS",
            "NC",
            "PA",
            "OH",
            "KS",
            "WY",
            "WI",
            "WV",
            "WA",
            "VA",
            "ND",
            "UT",
            "TN",
            "SD",
            "SC",
            null,
            "OR",
            "OK",
            "TX",
            "VT",
            "IA",
            "IL",
            "IN",
            "AL",
            "AZ",
            "AR",
            "CA",
            "FL",
            "GA",
            "HI",
            "ID",
            "CO"
           ],
           "name": "",
           "type": "choropleth",
           "z": [
            252000,
            92000,
            61000,
            1161000,
            1097000,
            189000,
            21000,
            1110000,
            1885000,
            2470000,
            266000,
            347000,
            78000,
            281000,
            74000,
            827000,
            504000,
            407000,
            383000,
            2461000,
            151000,
            561000,
            79000,
            8160000,
            208000,
            137000,
            2410000,
            14000,
            216000,
            885000,
            51000,
            985000,
            274000,
            901000,
            130000,
            233000,
            103000,
            1197000,
            871000,
            3525000,
            2026000,
            52000,
            29000,
            1653000,
            576000
           ]
          }
         ],
         "name": "2002"
        },
        {
         "data": [
          {
           "coloraxis": "coloraxis",
           "geo": "geo",
           "hovertemplate": "year=2003<br>Code=%{location}<br>lbs_of_honey=%{z}<extra></extra>",
           "locationmode": "USA-states",
           "locations": [
            "IN",
            "MS",
            "MN",
            "MI",
            "ME",
            "LA",
            "KY",
            "KS",
            "IA",
            "IL",
            "CA",
            "HI",
            "GA",
            "FL",
            "CO",
            "MO",
            "AR",
            "AZ",
            "AL",
            "ID",
            "MT",
            "MD",
            "NV",
            "WY",
            "NE",
            "WV",
            "WA",
            "VA",
            "VT",
            "UT",
            "TX",
            "TN",
            "SD",
            "SC",
            "WI",
            null,
            "PA",
            "NM",
            "NY",
            "NC",
            "NJ",
            "OH",
            "OK",
            "OR",
            "ND"
           ],
           "name": "",
           "type": "choropleth",
           "z": [
            78000,
            246000,
            1892000,
            1732000,
            145000,
            275000,
            14000,
            447000,
            868000,
            252000,
            6432000,
            43000,
            270000,
            1491000,
            722000,
            189000,
            810000,
            983000,
            43000,
            1380000,
            1914000,
            21000,
            46000,
            474000,
            1299000,
            194000,
            942000,
            69000,
            163000,
            157000,
            1126000,
            46000,
            2709000,
            8000,
            2678000,
            166000,
            419000,
            108000,
            1640000,
            79000,
            101000,
            278000,
            69000,
            964000,
            6803000
           ]
          }
         ],
         "name": "2003"
        },
        {
         "data": [
          {
           "coloraxis": "coloraxis",
           "geo": "geo",
           "hovertemplate": "year=2004<br>Code=%{location}<br>lbs_of_honey=%{z}<extra></extra>",
           "locationmode": "USA-states",
           "locations": [
            "MN",
            "IN",
            "MI",
            "ME",
            "LA",
            "KY",
            "KS",
            "IA",
            "IL",
            "CO",
            "HI",
            "GA",
            "FL",
            "CA",
            "AR",
            "AZ",
            "AL",
            "MS",
            "ID",
            "MO",
            "WA",
            "NE",
            "MT",
            "WI",
            "WV",
            "VA",
            "VT",
            "UT",
            "TX",
            "TN",
            "SD",
            "WY",
            null,
            "PA",
            "NJ",
            "NM",
            "NY",
            "NV",
            "ND",
            "OH",
            "OR",
            "NC"
           ],
           "name": "",
           "type": "choropleth",
           "z": [
            1924000,
            145000,
            2439000,
            37000,
            240000,
            34000,
            683000,
            1337000,
            193000,
            791000,
            77000,
            648000,
            2009000,
            5792000,
            388000,
            774000,
            282000,
            421000,
            2520000,
            151000,
            1376000,
            2043000,
            3773000,
            2632000,
            183000,
            69000,
            192000,
            554000,
            1411000,
            91000,
            13545000,
            380000,
            222000,
            810000,
            45000,
            127000,
            1887000,
            316000,
            9126000,
            353000,
            1111000,
            72000
           ]
          }
         ],
         "name": "2004"
        },
        {
         "data": [
          {
           "coloraxis": "coloraxis",
           "geo": "geo",
           "hovertemplate": "year=2005<br>Code=%{location}<br>lbs_of_honey=%{z}<extra></extra>",
           "locationmode": "USA-states",
           "locations": [
            "MN",
            "IN",
            "MI",
            "ME",
            "LA",
            "KY",
            "KS",
            "IA",
            "IL",
            "CO",
            "HI",
            "GA",
            "FL",
            "CA",
            "AR",
            "AZ",
            "AL",
            "MS",
            "ID",
            "MO",
            "WA",
            "NE",
            "WI",
            "WV",
            "WY",
            "VA",
            "VT",
            "UT",
            "TX",
            "TN",
            "SD",
            "MT",
            null,
            "OR",
            "OH",
            "ND",
            "NC",
            "NY",
            "NM",
            "NJ",
            "NV",
            "PA"
           ],
           "name": "",
           "type": "choropleth",
           "z": [
            1598000,
            189000,
            2519000,
            193000,
            611000,
            40000,
            328000,
            1232000,
            408000,
            902000,
            283000,
            434000,
            2477000,
            9300000,
            571000,
            720000,
            266000,
            346000,
            1793000,
            180000,
            1935000,
            2530000,
            2922000,
            102000,
            291000,
            59000,
            169000,
            346000,
            954000,
            92000,
            11818000,
            3136000,
            268000,
            557000,
            580000,
            8418000,
            146000,
            2283000,
            113000,
            104000,
            442000,
            800000
           ]
          }
         ],
         "name": "2005"
        },
        {
         "data": [
          {
           "coloraxis": "coloraxis",
           "geo": "geo",
           "hovertemplate": "year=2006<br>Code=%{location}<br>lbs_of_honey=%{z}<extra></extra>",
           "locationmode": "USA-states",
           "locations": [
            "IA",
            "KS",
            "KY",
            "MN",
            "ME",
            "MI",
            "IN",
            "LA",
            "IL",
            "CO",
            "HI",
            "GA",
            "FL",
            "CA",
            "AR",
            "AZ",
            "AL",
            "MS",
            "ID",
            "MO",
            "NE",
            "MT",
            "WY",
            "WI",
            "WV",
            "WA",
            "VA",
            "UT",
            "TX",
            "TN",
            "SD",
            "VT",
            null,
            "PA",
            "NJ",
            "NM",
            "NY",
            "NV",
            "ND",
            "OH",
            "OR",
            "NC"
           ],
           "name": "",
           "type": "choropleth",
           "z": [
            1441000,
            246000,
            70000,
            3300000,
            86000,
            2099000,
            125000,
            675000,
            356000,
            1458000,
            233000,
            746000,
            1790000,
            7706000,
            730000,
            839000,
            230000,
            453000,
            2592000,
            117000,
            3843000,
            1981000,
            497000,
            2500000,
            68000,
            1605000,
            114000,
            299000,
            976000,
            58000,
            10575000,
            144000,
            249000,
            605000,
            152000,
            104000,
            2376000,
            50000,
            7770000,
            282000,
            729000,
            215000
           ]
          }
         ],
         "name": "2006"
        },
        {
         "data": [
          {
           "coloraxis": "coloraxis",
           "geo": "geo",
           "hovertemplate": "year=2007<br>Code=%{location}<br>lbs_of_honey=%{z}<extra></extra>",
           "locationmode": "USA-states",
           "locations": [
            "IN",
            "MN",
            "MI",
            "ME",
            "LA",
            "KY",
            "KS",
            "IA",
            "IL",
            "MS",
            "HI",
            "GA",
            "FL",
            "CO",
            "CA",
            "AR",
            "AZ",
            "AL",
            "ID",
            "MO",
            "WV",
            "NE",
            "WI",
            "WY",
            "WA",
            "VA",
            "VT",
            "UT",
            "TX",
            "TN",
            "SD",
            "MT",
            null,
            "PA",
            "NJ",
            "NM",
            "NY",
            "NV",
            "ND",
            "OH",
            "OR",
            "NC"
           ],
           "name": "",
           "type": "choropleth",
           "z": [
            119000,
            2564000,
            2350000,
            59000,
            413000,
            54000,
            196000,
            1221000,
            374000,
            166000,
            285000,
            522000,
            1363000,
            838000,
            3672000,
            672000,
            902000,
            209000,
            1848000,
            148000,
            95000,
            1477000,
            3024000,
            894000,
            648000,
            63000,
            96000,
            270000,
            1550000,
            114000,
            10608000,
            2479000,
            230000,
            326000,
            185000,
            138000,
            1843000,
            67000,
            9013000,
            376000,
            1088000,
            76000
           ]
          }
         ],
         "name": "2007"
        },
        {
         "data": [
          {
           "coloraxis": "coloraxis",
           "geo": "geo",
           "hovertemplate": "year=2008<br>Code=%{location}<br>lbs_of_honey=%{z}<extra></extra>",
           "locationmode": "USA-states",
           "locations": [
            "IN",
            "MN",
            "MI",
            "ME",
            "KY",
            "KS",
            "IA",
            "IL",
            "CO",
            "HI",
            "GA",
            "FL",
            "MS",
            "CA",
            "AR",
            "AZ",
            "AL",
            "ID",
            "MO",
            "LA",
            "NE",
            "WI",
            "WV",
            "WA",
            "VA",
            "VT",
            "UT",
            "TX",
            "TN",
            "SD",
            "WY",
            null,
            "PA",
            "NV",
            "NJ",
            "NM",
            "MT",
            "NC",
            "ND",
            "OH",
            "OR",
            "NY"
           ],
           "name": "",
           "type": "choropleth",
           "z": [
            150000,
            2569000,
            2021000,
            79000,
            27000,
            128000,
            580000,
            116000,
            656000,
            225000,
            369000,
            1304000,
            110000,
            4039000,
            525000,
            336000,
            214000,
            1440000,
            152000,
            493000,
            1254000,
            2366000,
            49000,
            862000,
            45000,
            119000,
            242000,
            1380000,
            149000,
            11970000,
            381000,
            163000,
            276000,
            52000,
            122000,
            95000,
            4596000,
            137000,
            8640000,
            371000,
            1097000,
            1260000
           ]
          }
         ],
         "name": "2008"
        },
        {
         "data": [
          {
           "coloraxis": "coloraxis",
           "geo": "geo",
           "hovertemplate": "year=2009<br>Code=%{location}<br>lbs_of_honey=%{z}<extra></extra>",
           "locationmode": "USA-states",
           "locations": [
            "MN",
            "MI",
            "ME",
            "LA",
            "KY",
            "KS",
            "IA",
            "IN",
            "IL",
            "HI",
            "GA",
            "FL",
            "CA",
            "AR",
            "AZ",
            "AL",
            "MS",
            "ID",
            "CO",
            "MT",
            "NE",
            "WY",
            "WI",
            "WV",
            "WA",
            "VA",
            "VT",
            "UT",
            "TX",
            "TN",
            "MO",
            "PA",
            null,
            "OR",
            "OH",
            "ND",
            "NC",
            "NY",
            "NM",
            "NJ",
            "SD"
           ],
           "name": "",
           "type": "choropleth",
           "z": [
            1427000,
            1505000,
            51000,
            610000,
            25000,
            164000,
            339000,
            101000,
            57000,
            323000,
            346000,
            1618000,
            2109000,
            301000,
            562000,
            68000,
            87000,
            1706000,
            326000,
            3577000,
            1102000,
            391000,
            1588000,
            33000,
            1064000,
            56000,
            69000,
            198000,
            1065000,
            86000,
            57000,
            319000,
            194000,
            767000,
            132000,
            7623000,
            84000,
            936000,
            143000,
            70000,
            6237000
           ]
          }
         ],
         "name": "2009"
        },
        {
         "data": [
          {
           "coloraxis": "coloraxis",
           "geo": "geo",
           "hovertemplate": "year=2010<br>Code=%{location}<br>lbs_of_honey=%{z}<extra></extra>",
           "locationmode": "USA-states",
           "locations": [
            "IA",
            "KS",
            "KY",
            "MN",
            "ME",
            "MI",
            "IN",
            "LA",
            "IL",
            "CO",
            "HI",
            "GA",
            "FL",
            "CA",
            "AR",
            "AZ",
            "AL",
            "MS",
            "ID",
            "MO",
            "NE",
            "MT",
            "WY",
            "WI",
            "WV",
            "WA",
            "VA",
            "UT",
            "TX",
            "TN",
            "VT",
            "PA",
            "SD",
            "NM",
            "NY",
            "NC",
            "NJ",
            "OH",
            "OR",
            null,
            "ND"
           ],
           "name": "",
           "type": "choropleth",
           "z": [
            463000,
            103000,
            67000,
            1774000,
            33000,
            1524000,
            151000,
            288000,
            92000,
            533000,
            239000,
            152000,
            1794000,
            6318000,
            360000,
            665000,
            73000,
            78000,
            1179000,
            92000,
            902000,
            2905000,
            282000,
            1556000,
            40000,
            1077000,
            37000,
            195000,
            792000,
            106000,
            73000,
            377000,
            4765000,
            157000,
            1123000,
            144000,
            73000,
            346000,
            874000,
            221000,
            12995000
           ]
          }
         ],
         "name": "2010"
        },
        {
         "data": [
          {
           "coloraxis": "coloraxis",
           "geo": "geo",
           "hovertemplate": "year=2011<br>Code=%{location}<br>lbs_of_honey=%{z}<extra></extra>",
           "locationmode": "USA-states",
           "locations": [
            "IL",
            "MI",
            "ME",
            "LA",
            "KY",
            "KS",
            "IA",
            "IN",
            "MN",
            "HI",
            "GA",
            "FL",
            "CO",
            "CA",
            "AR",
            "AZ",
            "AL",
            "ID",
            "MS",
            "PA",
            "MT",
            "WY",
            "WI",
            "WV",
            "WA",
            "VA",
            "VT",
            "UT",
            "TX",
            "TN",
            "MO",
            null,
            "OR",
            "OH",
            "ND",
            "NC",
            "NY",
            "NM",
            "NJ",
            "NE",
            "SD"
           ],
           "name": "",
           "type": "choropleth",
           "z": [
            98000,
            2084000,
            17000,
            471000,
            12000,
            117000,
            961000,
            147000,
            2099000,
            246000,
            196000,
            988000,
            443000,
            3730000,
            239000,
            427000,
            63000,
            1879000,
            104000,
            306000,
            3202000,
            265000,
            1508000,
            45000,
            836000,
            21000,
            43000,
            170000,
            633000,
            68000,
            76000,
            211000,
            755000,
            228000,
            7512000,
            95000,
            1235000,
            153000,
            135000,
            653000,
            4290000
           ]
          }
         ],
         "name": "2011"
        },
        {
         "data": [
          {
           "coloraxis": "coloraxis",
           "geo": "geo",
           "hovertemplate": "year=2012<br>Code=%{location}<br>lbs_of_honey=%{z}<extra></extra>",
           "locationmode": "USA-states",
           "locations": [
            "IN",
            "IA",
            "KS",
            "MI",
            "LA",
            "ME",
            "IL",
            "KY",
            "ID",
            "CA",
            "GA",
            "FL",
            "CO",
            "AR",
            "AZ",
            "AL",
            "MN",
            "HI",
            "MS",
            "MO",
            "MT",
            "WI",
            "WV",
            "WA",
            "VA",
            "VT",
            "UT",
            "TX",
            "TN",
            "SD",
            "WY",
            null,
            "OR",
            "OH",
            "ND",
            "NC",
            "NY",
            "NM",
            "NJ",
            "NE",
            "PA"
           ],
           "name": "",
           "type": "choropleth",
           "z": [
            203000,
            1196000,
            125000,
            1332000,
            141000,
            24000,
            145000,
            41000,
            530000,
            3119000,
            181000,
            1235000,
            468000,
            189000,
            253000,
            65000,
            1591000,
            263000,
            64000,
            108000,
            2413000,
            1863000,
            95000,
            1017000,
            23000,
            53000,
            209000,
            718000,
            59000,
            3604000,
            459000,
            167000,
            845000,
            410000,
            5962000,
            106000,
            988000,
            99000,
            51000,
            1146000,
            269000
           ]
          }
         ],
         "name": "2012"
        },
        {
         "data": [
          {
           "coloraxis": "coloraxis",
           "geo": "geo",
           "hovertemplate": "year=2013<br>Code=%{location}<br>lbs_of_honey=%{z}<extra></extra>",
           "locationmode": "USA-states",
           "locations": [
            "IN",
            "IA",
            "KS",
            "MI",
            "LA",
            "ME",
            "IL",
            "KY",
            "ID",
            "CA",
            "GA",
            "FL",
            "CO",
            "AR",
            "AZ",
            "AL",
            "MN",
            "HI",
            "MS",
            "MO",
            "MT",
            "WI",
            "WV",
            "WA",
            "VA",
            "VT",
            "UT",
            "TX",
            "TN",
            "SD",
            "WY",
            null,
            "OR",
            "OH",
            "ND",
            "NC",
            "NY",
            "NJ",
            "NE",
            "PA"
           ],
           "name": "",
           "type": "choropleth",
           "z": [
            82000,
            1217000,
            39000,
            982000,
            490000,
            27000,
            101000,
            17000,
            1036000,
            2505000,
            637000,
            1074000,
            324000,
            66000,
            251000,
            55000,
            1282000,
            65000,
            39000,
            85000,
            5231000,
            1558000,
            83000,
            1023000,
            42000,
            61000,
            92000,
            1689000,
            63000,
            6381000,
            558000,
            186000,
            456000,
            390000,
            6955000,
            84000,
            1030000,
            34000,
            1628000,
            257000
           ]
          }
         ],
         "name": "2013"
        },
        {
         "data": [
          {
           "coloraxis": "coloraxis",
           "geo": "geo",
           "hovertemplate": "year=2014<br>Code=%{location}<br>lbs_of_honey=%{z}<extra></extra>",
           "locationmode": "USA-states",
           "locations": [
            "IN",
            "IA",
            "KS",
            "MI",
            "LA",
            "ME",
            "IL",
            "KY",
            "ID",
            "CO",
            "GA",
            "FL",
            "CA",
            "AR",
            "AZ",
            "AL",
            "MN",
            "HI",
            "MS",
            "MO",
            "MT",
            "WI",
            "WV",
            "WA",
            "VA",
            "VT",
            "TX",
            "TN",
            "SD",
            "SC",
            "UT",
            null,
            "PA",
            "NE",
            "NJ",
            "NY",
            "WY",
            "ND",
            "OH",
            "OR",
            "NC"
           ],
           "name": "",
           "type": "choropleth",
           "z": [
            115000,
            933000,
            84000,
            1835000,
            524000,
            41000,
            94000,
            56000,
            850000,
            200000,
            362000,
            1029000,
            2995000,
            137000,
            193000,
            26000,
            1426000,
            140000,
            45000,
            96000,
            5132000,
            1030000,
            33000,
            1167000,
            52000,
            81000,
            2081000,
            88000,
            5846000,
            19000,
            130000,
            202000,
            203000,
            1688000,
            119000,
            1518000,
            255000,
            9271000,
            256000,
            767000,
            88000
           ]
          }
         ],
         "name": "2014"
        },
        {
         "data": [
          {
           "coloraxis": "coloraxis",
           "geo": "geo",
           "hovertemplate": "year=2015<br>Code=%{location}<br>lbs_of_honey=%{z}<extra></extra>",
           "locationmode": "USA-states",
           "locations": [
            "IL",
            "MI",
            "ME",
            "LA",
            "KY",
            "KS",
            "IA",
            "IN",
            "MN",
            "GA",
            "FL",
            "CO",
            "CA",
            "AR",
            "AZ",
            "AL",
            "MS",
            "HI",
            "MO",
            "ID",
            "NE",
            "WY",
            "WI",
            "WV",
            "WA",
            "VA",
            "VT",
            "UT",
            "TX",
            "TN",
            "MT",
            "SC",
            "PA",
            null,
            "OR",
            "OH",
            "ND",
            "NC",
            "NY",
            "NJ",
            "SD"
           ],
           "name": "",
           "type": "choropleth",
           "z": [
            155000,
            1984000,
            47000,
            348000,
            55000,
            107000,
            990000,
            165000,
            2157000,
            221000,
            832000,
            399000,
            1485000,
            121000,
            306000,
            13000,
            87000,
            82000,
            52000,
            1082000,
            1450000,
            146000,
            1603000,
            32000,
            1221000,
            41000,
            62000,
            147000,
            1164000,
            78000,
            3757000,
            38000,
            225000,
            371000,
            809000,
            357000,
            9428000,
            103000,
            899000,
            207000,
            9379000
           ]
          }
         ],
         "name": "2015"
        },
        {
         "data": [
          {
           "coloraxis": "coloraxis",
           "geo": "geo",
           "hovertemplate": "year=2016<br>Code=%{location}<br>lbs_of_honey=%{z}<extra></extra>",
           "locationmode": "USA-states",
           "locations": [
            "IN",
            "IA",
            "KS",
            "MI",
            "LA",
            "ME",
            "IL",
            "KY",
            "ID",
            "CA",
            "GA",
            "FL",
            "CO",
            "AR",
            "AZ",
            "AL",
            "MN",
            "HI",
            "MS",
            "MO",
            "MT",
            "WI",
            "WV",
            "WA",
            "VA",
            "VT",
            "TX",
            "TN",
            "SD",
            "SC",
            "UT",
            null,
            "PA",
            "NE",
            "NJ",
            "NY",
            "WY",
            "ND",
            "OH",
            "OR",
            "NC"
           ],
           "name": "",
           "type": "choropleth",
           "z": [
            238000,
            746000,
            54000,
            1709000,
            301000,
            65000,
            77000,
            48000,
            1253000,
            2009000,
            899000,
            538000,
            282000,
            99000,
            261000,
            33000,
            1390000,
            142000,
            113000,
            30000,
            3183000,
            1205000,
            43000,
            412000,
            30000,
            69000,
            2607000,
            69000,
            12127000,
            36000,
            169000,
            432000,
            266000,
            640000,
            198000,
            1167000,
            190000,
            6809000,
            664000,
            622000,
            89000
           ]
          }
         ],
         "name": "2016"
        },
        {
         "data": [
          {
           "coloraxis": "coloraxis",
           "geo": "geo",
           "hovertemplate": "year=2017<br>Code=%{location}<br>lbs_of_honey=%{z}<extra></extra>",
           "locationmode": "USA-states",
           "locations": [
            "IL",
            "MI",
            "ME",
            "LA",
            "KY",
            "KS",
            "IA",
            "IN",
            "MN",
            "GA",
            "FL",
            "CO",
            "CA",
            "AR",
            "AZ",
            "AL",
            "MS",
            "HI",
            "MO",
            "ID",
            "NE",
            "WY",
            "WI",
            "WV",
            "WA",
            "VA",
            "UT",
            "TX",
            "TN",
            "SD",
            "VT",
            "PA",
            "SC",
            "NJ",
            "NY",
            "NC",
            "MT",
            "OH",
            "OR",
            null,
            "ND"
           ],
           "name": "",
           "type": "choropleth",
           "z": [
            167000,
            822000,
            51000,
            279000,
            42000,
            260000,
            1035000,
            158000,
            1016000,
            190000,
            529000,
            284000,
            2198000,
            197000,
            97000,
            22000,
            124000,
            25000,
            57000,
            1045000,
            423000,
            186000,
            683000,
            50000,
            1594000,
            46000,
            67000,
            2297000,
            75000,
            6541000,
            144000,
            177000,
            27000,
            167000,
            766000,
            99000,
            2506000,
            657000,
            998000,
            193000,
            4377000
           ]
          }
         ],
         "name": "2017"
        },
        {
         "data": [
          {
           "coloraxis": "coloraxis",
           "geo": "geo",
           "hovertemplate": "year=2018<br>Code=%{location}<br>lbs_of_honey=%{z}<extra></extra>",
           "locationmode": "USA-states",
           "locations": [
            "IL",
            "MI",
            "ME",
            "LA",
            "KY",
            "KS",
            "IA",
            "IN",
            "MN",
            "GA",
            "FL",
            "CO",
            "CA",
            "AR",
            "AZ",
            "AL",
            "MS",
            "HI",
            "MO",
            "ID",
            "NE",
            "WY",
            "WI",
            "WV",
            "WA",
            "VA",
            "MT",
            "UT",
            "TX",
            "TN",
            "VT",
            "SC",
            "SD",
            "NY",
            "NC",
            "ND",
            "NJ",
            "OR",
            null,
            "PA",
            "OH"
           ],
           "name": "",
           "type": "choropleth",
           "z": [
            108000,
            768000,
            92000,
            261000,
            34000,
            95000,
            1005000,
            106000,
            1161000,
            200000,
            737000,
            283000,
            3022000,
            84000,
            109000,
            14000,
            70000,
            18000,
            36000,
            655000,
            850000,
            175000,
            711000,
            38000,
            563000,
            35000,
            3680000,
            75000,
            1035000,
            84000,
            94000,
            15000,
            5154000,
            833000,
            63000,
            4752000,
            165000,
            1009000,
            314000,
            309000,
            491000
           ]
          }
         ],
         "name": "2018"
        },
        {
         "data": [
          {
           "coloraxis": "coloraxis",
           "geo": "geo",
           "hovertemplate": "year=2019<br>Code=%{location}<br>lbs_of_honey=%{z}<extra></extra>",
           "locationmode": "USA-states",
           "locations": [
            "MN",
            "MI",
            "ME",
            "LA",
            "KY",
            "KS",
            "IA",
            "IN",
            "AL",
            "ID",
            "HI",
            "GA",
            "FL",
            "CO",
            "CA",
            "AR",
            "AZ",
            "MS",
            "IL",
            "MO",
            "PA",
            "NE",
            "WY",
            "WI",
            "WV",
            "WA",
            "VA",
            "VT",
            "UT",
            "TX",
            "MT",
            "TN",
            "SC",
            null,
            "OR",
            "OH",
            "ND",
            "NC",
            "NY",
            "NJ",
            "SD"
           ],
           "name": "",
           "type": "choropleth",
           "z": [
            3063000,
            1363000,
            110000,
            428000,
            44000,
            171000,
            1170000,
            198000,
            44000,
            677000,
            51000,
            370000,
            830000,
            500000,
            3216000,
            176000,
            201000,
            141000,
            116000,
            73000,
            409000,
            223000,
            306000,
            692000,
            47000,
            1191000,
            49000,
            84000,
            89000,
            1814000,
            5802000,
            91000,
            45000,
            351000,
            1141000,
            442000,
            6422000,
            118000,
            1027000,
            155000,
            7582000
           ]
          }
         ],
         "name": "2019"
        }
       ],
       "layout": {
        "coloraxis": {
         "cmax": 12000000,
         "cmin": 0,
         "colorbar": {
          "title": {
           "text": "lbs_of_honey"
          }
         },
         "colorscale": [
          [
           0,
           "#000004"
          ],
          [
           0.1111111111111111,
           "#1b0c41"
          ],
          [
           0.2222222222222222,
           "#4a0c6b"
          ],
          [
           0.3333333333333333,
           "#781c6d"
          ],
          [
           0.4444444444444444,
           "#a52c60"
          ],
          [
           0.5555555555555556,
           "#cf4446"
          ],
          [
           0.6666666666666666,
           "#ed6925"
          ],
          [
           0.7777777777777778,
           "#fb9b06"
          ],
          [
           0.8888888888888888,
           "#f7d13d"
          ],
          [
           1,
           "#fcffa4"
          ]
         ]
        },
        "geo": {
         "center": {},
         "domain": {
          "x": [
           0,
           1
          ],
          "y": [
           0,
           1
          ]
         },
         "scope": "usa"
        },
        "height": 500,
        "legend": {
         "tracegroupgap": 0
        },
        "sliders": [
         {
          "active": 0,
          "currentvalue": {
           "prefix": "year="
          },
          "len": 0.9,
          "pad": {
           "b": 10,
           "t": 60
          },
          "steps": [
           {
            "args": [
             [
              "1987"
             ],
             {
              "frame": {
               "duration": 0,
               "redraw": true
              },
              "fromcurrent": true,
              "mode": "immediate",
              "transition": {
               "duration": 0,
               "easing": "linear"
              }
             }
            ],
            "label": "1987",
            "method": "animate"
           },
           {
            "args": [
             [
              "1988"
             ],
             {
              "frame": {
               "duration": 0,
               "redraw": true
              },
              "fromcurrent": true,
              "mode": "immediate",
              "transition": {
               "duration": 0,
               "easing": "linear"
              }
             }
            ],
            "label": "1988",
            "method": "animate"
           },
           {
            "args": [
             [
              "1989"
             ],
             {
              "frame": {
               "duration": 0,
               "redraw": true
              },
              "fromcurrent": true,
              "mode": "immediate",
              "transition": {
               "duration": 0,
               "easing": "linear"
              }
             }
            ],
            "label": "1989",
            "method": "animate"
           },
           {
            "args": [
             [
              "1990"
             ],
             {
              "frame": {
               "duration": 0,
               "redraw": true
              },
              "fromcurrent": true,
              "mode": "immediate",
              "transition": {
               "duration": 0,
               "easing": "linear"
              }
             }
            ],
            "label": "1990",
            "method": "animate"
           },
           {
            "args": [
             [
              "1991"
             ],
             {
              "frame": {
               "duration": 0,
               "redraw": true
              },
              "fromcurrent": true,
              "mode": "immediate",
              "transition": {
               "duration": 0,
               "easing": "linear"
              }
             }
            ],
            "label": "1991",
            "method": "animate"
           },
           {
            "args": [
             [
              "1992"
             ],
             {
              "frame": {
               "duration": 0,
               "redraw": true
              },
              "fromcurrent": true,
              "mode": "immediate",
              "transition": {
               "duration": 0,
               "easing": "linear"
              }
             }
            ],
            "label": "1992",
            "method": "animate"
           },
           {
            "args": [
             [
              "1993"
             ],
             {
              "frame": {
               "duration": 0,
               "redraw": true
              },
              "fromcurrent": true,
              "mode": "immediate",
              "transition": {
               "duration": 0,
               "easing": "linear"
              }
             }
            ],
            "label": "1993",
            "method": "animate"
           },
           {
            "args": [
             [
              "1994"
             ],
             {
              "frame": {
               "duration": 0,
               "redraw": true
              },
              "fromcurrent": true,
              "mode": "immediate",
              "transition": {
               "duration": 0,
               "easing": "linear"
              }
             }
            ],
            "label": "1994",
            "method": "animate"
           },
           {
            "args": [
             [
              "1995"
             ],
             {
              "frame": {
               "duration": 0,
               "redraw": true
              },
              "fromcurrent": true,
              "mode": "immediate",
              "transition": {
               "duration": 0,
               "easing": "linear"
              }
             }
            ],
            "label": "1995",
            "method": "animate"
           },
           {
            "args": [
             [
              "1996"
             ],
             {
              "frame": {
               "duration": 0,
               "redraw": true
              },
              "fromcurrent": true,
              "mode": "immediate",
              "transition": {
               "duration": 0,
               "easing": "linear"
              }
             }
            ],
            "label": "1996",
            "method": "animate"
           },
           {
            "args": [
             [
              "1997"
             ],
             {
              "frame": {
               "duration": 0,
               "redraw": true
              },
              "fromcurrent": true,
              "mode": "immediate",
              "transition": {
               "duration": 0,
               "easing": "linear"
              }
             }
            ],
            "label": "1997",
            "method": "animate"
           },
           {
            "args": [
             [
              "1998"
             ],
             {
              "frame": {
               "duration": 0,
               "redraw": true
              },
              "fromcurrent": true,
              "mode": "immediate",
              "transition": {
               "duration": 0,
               "easing": "linear"
              }
             }
            ],
            "label": "1998",
            "method": "animate"
           },
           {
            "args": [
             [
              "1999"
             ],
             {
              "frame": {
               "duration": 0,
               "redraw": true
              },
              "fromcurrent": true,
              "mode": "immediate",
              "transition": {
               "duration": 0,
               "easing": "linear"
              }
             }
            ],
            "label": "1999",
            "method": "animate"
           },
           {
            "args": [
             [
              "2000"
             ],
             {
              "frame": {
               "duration": 0,
               "redraw": true
              },
              "fromcurrent": true,
              "mode": "immediate",
              "transition": {
               "duration": 0,
               "easing": "linear"
              }
             }
            ],
            "label": "2000",
            "method": "animate"
           },
           {
            "args": [
             [
              "2001"
             ],
             {
              "frame": {
               "duration": 0,
               "redraw": true
              },
              "fromcurrent": true,
              "mode": "immediate",
              "transition": {
               "duration": 0,
               "easing": "linear"
              }
             }
            ],
            "label": "2001",
            "method": "animate"
           },
           {
            "args": [
             [
              "2002"
             ],
             {
              "frame": {
               "duration": 0,
               "redraw": true
              },
              "fromcurrent": true,
              "mode": "immediate",
              "transition": {
               "duration": 0,
               "easing": "linear"
              }
             }
            ],
            "label": "2002",
            "method": "animate"
           },
           {
            "args": [
             [
              "2003"
             ],
             {
              "frame": {
               "duration": 0,
               "redraw": true
              },
              "fromcurrent": true,
              "mode": "immediate",
              "transition": {
               "duration": 0,
               "easing": "linear"
              }
             }
            ],
            "label": "2003",
            "method": "animate"
           },
           {
            "args": [
             [
              "2004"
             ],
             {
              "frame": {
               "duration": 0,
               "redraw": true
              },
              "fromcurrent": true,
              "mode": "immediate",
              "transition": {
               "duration": 0,
               "easing": "linear"
              }
             }
            ],
            "label": "2004",
            "method": "animate"
           },
           {
            "args": [
             [
              "2005"
             ],
             {
              "frame": {
               "duration": 0,
               "redraw": true
              },
              "fromcurrent": true,
              "mode": "immediate",
              "transition": {
               "duration": 0,
               "easing": "linear"
              }
             }
            ],
            "label": "2005",
            "method": "animate"
           },
           {
            "args": [
             [
              "2006"
             ],
             {
              "frame": {
               "duration": 0,
               "redraw": true
              },
              "fromcurrent": true,
              "mode": "immediate",
              "transition": {
               "duration": 0,
               "easing": "linear"
              }
             }
            ],
            "label": "2006",
            "method": "animate"
           },
           {
            "args": [
             [
              "2007"
             ],
             {
              "frame": {
               "duration": 0,
               "redraw": true
              },
              "fromcurrent": true,
              "mode": "immediate",
              "transition": {
               "duration": 0,
               "easing": "linear"
              }
             }
            ],
            "label": "2007",
            "method": "animate"
           },
           {
            "args": [
             [
              "2008"
             ],
             {
              "frame": {
               "duration": 0,
               "redraw": true
              },
              "fromcurrent": true,
              "mode": "immediate",
              "transition": {
               "duration": 0,
               "easing": "linear"
              }
             }
            ],
            "label": "2008",
            "method": "animate"
           },
           {
            "args": [
             [
              "2009"
             ],
             {
              "frame": {
               "duration": 0,
               "redraw": true
              },
              "fromcurrent": true,
              "mode": "immediate",
              "transition": {
               "duration": 0,
               "easing": "linear"
              }
             }
            ],
            "label": "2009",
            "method": "animate"
           },
           {
            "args": [
             [
              "2010"
             ],
             {
              "frame": {
               "duration": 0,
               "redraw": true
              },
              "fromcurrent": true,
              "mode": "immediate",
              "transition": {
               "duration": 0,
               "easing": "linear"
              }
             }
            ],
            "label": "2010",
            "method": "animate"
           },
           {
            "args": [
             [
              "2011"
             ],
             {
              "frame": {
               "duration": 0,
               "redraw": true
              },
              "fromcurrent": true,
              "mode": "immediate",
              "transition": {
               "duration": 0,
               "easing": "linear"
              }
             }
            ],
            "label": "2011",
            "method": "animate"
           },
           {
            "args": [
             [
              "2012"
             ],
             {
              "frame": {
               "duration": 0,
               "redraw": true
              },
              "fromcurrent": true,
              "mode": "immediate",
              "transition": {
               "duration": 0,
               "easing": "linear"
              }
             }
            ],
            "label": "2012",
            "method": "animate"
           },
           {
            "args": [
             [
              "2013"
             ],
             {
              "frame": {
               "duration": 0,
               "redraw": true
              },
              "fromcurrent": true,
              "mode": "immediate",
              "transition": {
               "duration": 0,
               "easing": "linear"
              }
             }
            ],
            "label": "2013",
            "method": "animate"
           },
           {
            "args": [
             [
              "2014"
             ],
             {
              "frame": {
               "duration": 0,
               "redraw": true
              },
              "fromcurrent": true,
              "mode": "immediate",
              "transition": {
               "duration": 0,
               "easing": "linear"
              }
             }
            ],
            "label": "2014",
            "method": "animate"
           },
           {
            "args": [
             [
              "2015"
             ],
             {
              "frame": {
               "duration": 0,
               "redraw": true
              },
              "fromcurrent": true,
              "mode": "immediate",
              "transition": {
               "duration": 0,
               "easing": "linear"
              }
             }
            ],
            "label": "2015",
            "method": "animate"
           },
           {
            "args": [
             [
              "2016"
             ],
             {
              "frame": {
               "duration": 0,
               "redraw": true
              },
              "fromcurrent": true,
              "mode": "immediate",
              "transition": {
               "duration": 0,
               "easing": "linear"
              }
             }
            ],
            "label": "2016",
            "method": "animate"
           },
           {
            "args": [
             [
              "2017"
             ],
             {
              "frame": {
               "duration": 0,
               "redraw": true
              },
              "fromcurrent": true,
              "mode": "immediate",
              "transition": {
               "duration": 0,
               "easing": "linear"
              }
             }
            ],
            "label": "2017",
            "method": "animate"
           },
           {
            "args": [
             [
              "2018"
             ],
             {
              "frame": {
               "duration": 0,
               "redraw": true
              },
              "fromcurrent": true,
              "mode": "immediate",
              "transition": {
               "duration": 0,
               "easing": "linear"
              }
             }
            ],
            "label": "2018",
            "method": "animate"
           },
           {
            "args": [
             [
              "2019"
             ],
             {
              "frame": {
               "duration": 0,
               "redraw": true
              },
              "fromcurrent": true,
              "mode": "immediate",
              "transition": {
               "duration": 0,
               "easing": "linear"
              }
             }
            ],
            "label": "2019",
            "method": "animate"
           }
          ],
          "x": 0.1,
          "xanchor": "left",
          "y": 0,
          "yanchor": "top"
         }
        ],
        "template": {
         "data": {
          "bar": [
           {
            "error_x": {
             "color": "#2a3f5f"
            },
            "error_y": {
             "color": "#2a3f5f"
            },
            "marker": {
             "line": {
              "color": "#E5ECF6",
              "width": 0.5
             }
            },
            "type": "bar"
           }
          ],
          "barpolar": [
           {
            "marker": {
             "line": {
              "color": "#E5ECF6",
              "width": 0.5
             }
            },
            "type": "barpolar"
           }
          ],
          "carpet": [
           {
            "aaxis": {
             "endlinecolor": "#2a3f5f",
             "gridcolor": "white",
             "linecolor": "white",
             "minorgridcolor": "white",
             "startlinecolor": "#2a3f5f"
            },
            "baxis": {
             "endlinecolor": "#2a3f5f",
             "gridcolor": "white",
             "linecolor": "white",
             "minorgridcolor": "white",
             "startlinecolor": "#2a3f5f"
            },
            "type": "carpet"
           }
          ],
          "choropleth": [
           {
            "colorbar": {
             "outlinewidth": 0,
             "ticks": ""
            },
            "type": "choropleth"
           }
          ],
          "contour": [
           {
            "colorbar": {
             "outlinewidth": 0,
             "ticks": ""
            },
            "colorscale": [
             [
              0,
              "#0d0887"
             ],
             [
              0.1111111111111111,
              "#46039f"
             ],
             [
              0.2222222222222222,
              "#7201a8"
             ],
             [
              0.3333333333333333,
              "#9c179e"
             ],
             [
              0.4444444444444444,
              "#bd3786"
             ],
             [
              0.5555555555555556,
              "#d8576b"
             ],
             [
              0.6666666666666666,
              "#ed7953"
             ],
             [
              0.7777777777777778,
              "#fb9f3a"
             ],
             [
              0.8888888888888888,
              "#fdca26"
             ],
             [
              1,
              "#f0f921"
             ]
            ],
            "type": "contour"
           }
          ],
          "contourcarpet": [
           {
            "colorbar": {
             "outlinewidth": 0,
             "ticks": ""
            },
            "type": "contourcarpet"
           }
          ],
          "heatmap": [
           {
            "colorbar": {
             "outlinewidth": 0,
             "ticks": ""
            },
            "colorscale": [
             [
              0,
              "#0d0887"
             ],
             [
              0.1111111111111111,
              "#46039f"
             ],
             [
              0.2222222222222222,
              "#7201a8"
             ],
             [
              0.3333333333333333,
              "#9c179e"
             ],
             [
              0.4444444444444444,
              "#bd3786"
             ],
             [
              0.5555555555555556,
              "#d8576b"
             ],
             [
              0.6666666666666666,
              "#ed7953"
             ],
             [
              0.7777777777777778,
              "#fb9f3a"
             ],
             [
              0.8888888888888888,
              "#fdca26"
             ],
             [
              1,
              "#f0f921"
             ]
            ],
            "type": "heatmap"
           }
          ],
          "heatmapgl": [
           {
            "colorbar": {
             "outlinewidth": 0,
             "ticks": ""
            },
            "colorscale": [
             [
              0,
              "#0d0887"
             ],
             [
              0.1111111111111111,
              "#46039f"
             ],
             [
              0.2222222222222222,
              "#7201a8"
             ],
             [
              0.3333333333333333,
              "#9c179e"
             ],
             [
              0.4444444444444444,
              "#bd3786"
             ],
             [
              0.5555555555555556,
              "#d8576b"
             ],
             [
              0.6666666666666666,
              "#ed7953"
             ],
             [
              0.7777777777777778,
              "#fb9f3a"
             ],
             [
              0.8888888888888888,
              "#fdca26"
             ],
             [
              1,
              "#f0f921"
             ]
            ],
            "type": "heatmapgl"
           }
          ],
          "histogram": [
           {
            "marker": {
             "colorbar": {
              "outlinewidth": 0,
              "ticks": ""
             }
            },
            "type": "histogram"
           }
          ],
          "histogram2d": [
           {
            "colorbar": {
             "outlinewidth": 0,
             "ticks": ""
            },
            "colorscale": [
             [
              0,
              "#0d0887"
             ],
             [
              0.1111111111111111,
              "#46039f"
             ],
             [
              0.2222222222222222,
              "#7201a8"
             ],
             [
              0.3333333333333333,
              "#9c179e"
             ],
             [
              0.4444444444444444,
              "#bd3786"
             ],
             [
              0.5555555555555556,
              "#d8576b"
             ],
             [
              0.6666666666666666,
              "#ed7953"
             ],
             [
              0.7777777777777778,
              "#fb9f3a"
             ],
             [
              0.8888888888888888,
              "#fdca26"
             ],
             [
              1,
              "#f0f921"
             ]
            ],
            "type": "histogram2d"
           }
          ],
          "histogram2dcontour": [
           {
            "colorbar": {
             "outlinewidth": 0,
             "ticks": ""
            },
            "colorscale": [
             [
              0,
              "#0d0887"
             ],
             [
              0.1111111111111111,
              "#46039f"
             ],
             [
              0.2222222222222222,
              "#7201a8"
             ],
             [
              0.3333333333333333,
              "#9c179e"
             ],
             [
              0.4444444444444444,
              "#bd3786"
             ],
             [
              0.5555555555555556,
              "#d8576b"
             ],
             [
              0.6666666666666666,
              "#ed7953"
             ],
             [
              0.7777777777777778,
              "#fb9f3a"
             ],
             [
              0.8888888888888888,
              "#fdca26"
             ],
             [
              1,
              "#f0f921"
             ]
            ],
            "type": "histogram2dcontour"
           }
          ],
          "mesh3d": [
           {
            "colorbar": {
             "outlinewidth": 0,
             "ticks": ""
            },
            "type": "mesh3d"
           }
          ],
          "parcoords": [
           {
            "line": {
             "colorbar": {
              "outlinewidth": 0,
              "ticks": ""
             }
            },
            "type": "parcoords"
           }
          ],
          "pie": [
           {
            "automargin": true,
            "type": "pie"
           }
          ],
          "scatter": [
           {
            "marker": {
             "colorbar": {
              "outlinewidth": 0,
              "ticks": ""
             }
            },
            "type": "scatter"
           }
          ],
          "scatter3d": [
           {
            "line": {
             "colorbar": {
              "outlinewidth": 0,
              "ticks": ""
             }
            },
            "marker": {
             "colorbar": {
              "outlinewidth": 0,
              "ticks": ""
             }
            },
            "type": "scatter3d"
           }
          ],
          "scattercarpet": [
           {
            "marker": {
             "colorbar": {
              "outlinewidth": 0,
              "ticks": ""
             }
            },
            "type": "scattercarpet"
           }
          ],
          "scattergeo": [
           {
            "marker": {
             "colorbar": {
              "outlinewidth": 0,
              "ticks": ""
             }
            },
            "type": "scattergeo"
           }
          ],
          "scattergl": [
           {
            "marker": {
             "colorbar": {
              "outlinewidth": 0,
              "ticks": ""
             }
            },
            "type": "scattergl"
           }
          ],
          "scattermapbox": [
           {
            "marker": {
             "colorbar": {
              "outlinewidth": 0,
              "ticks": ""
             }
            },
            "type": "scattermapbox"
           }
          ],
          "scatterpolar": [
           {
            "marker": {
             "colorbar": {
              "outlinewidth": 0,
              "ticks": ""
             }
            },
            "type": "scatterpolar"
           }
          ],
          "scatterpolargl": [
           {
            "marker": {
             "colorbar": {
              "outlinewidth": 0,
              "ticks": ""
             }
            },
            "type": "scatterpolargl"
           }
          ],
          "scatterternary": [
           {
            "marker": {
             "colorbar": {
              "outlinewidth": 0,
              "ticks": ""
             }
            },
            "type": "scatterternary"
           }
          ],
          "surface": [
           {
            "colorbar": {
             "outlinewidth": 0,
             "ticks": ""
            },
            "colorscale": [
             [
              0,
              "#0d0887"
             ],
             [
              0.1111111111111111,
              "#46039f"
             ],
             [
              0.2222222222222222,
              "#7201a8"
             ],
             [
              0.3333333333333333,
              "#9c179e"
             ],
             [
              0.4444444444444444,
              "#bd3786"
             ],
             [
              0.5555555555555556,
              "#d8576b"
             ],
             [
              0.6666666666666666,
              "#ed7953"
             ],
             [
              0.7777777777777778,
              "#fb9f3a"
             ],
             [
              0.8888888888888888,
              "#fdca26"
             ],
             [
              1,
              "#f0f921"
             ]
            ],
            "type": "surface"
           }
          ],
          "table": [
           {
            "cells": {
             "fill": {
              "color": "#EBF0F8"
             },
             "line": {
              "color": "white"
             }
            },
            "header": {
             "fill": {
              "color": "#C8D4E3"
             },
             "line": {
              "color": "white"
             }
            },
            "type": "table"
           }
          ]
         },
         "layout": {
          "annotationdefaults": {
           "arrowcolor": "#2a3f5f",
           "arrowhead": 0,
           "arrowwidth": 1
          },
          "coloraxis": {
           "colorbar": {
            "outlinewidth": 0,
            "ticks": ""
           }
          },
          "colorscale": {
           "diverging": [
            [
             0,
             "#8e0152"
            ],
            [
             0.1,
             "#c51b7d"
            ],
            [
             0.2,
             "#de77ae"
            ],
            [
             0.3,
             "#f1b6da"
            ],
            [
             0.4,
             "#fde0ef"
            ],
            [
             0.5,
             "#f7f7f7"
            ],
            [
             0.6,
             "#e6f5d0"
            ],
            [
             0.7,
             "#b8e186"
            ],
            [
             0.8,
             "#7fbc41"
            ],
            [
             0.9,
             "#4d9221"
            ],
            [
             1,
             "#276419"
            ]
           ],
           "sequential": [
            [
             0,
             "#0d0887"
            ],
            [
             0.1111111111111111,
             "#46039f"
            ],
            [
             0.2222222222222222,
             "#7201a8"
            ],
            [
             0.3333333333333333,
             "#9c179e"
            ],
            [
             0.4444444444444444,
             "#bd3786"
            ],
            [
             0.5555555555555556,
             "#d8576b"
            ],
            [
             0.6666666666666666,
             "#ed7953"
            ],
            [
             0.7777777777777778,
             "#fb9f3a"
            ],
            [
             0.8888888888888888,
             "#fdca26"
            ],
            [
             1,
             "#f0f921"
            ]
           ],
           "sequentialminus": [
            [
             0,
             "#0d0887"
            ],
            [
             0.1111111111111111,
             "#46039f"
            ],
            [
             0.2222222222222222,
             "#7201a8"
            ],
            [
             0.3333333333333333,
             "#9c179e"
            ],
            [
             0.4444444444444444,
             "#bd3786"
            ],
            [
             0.5555555555555556,
             "#d8576b"
            ],
            [
             0.6666666666666666,
             "#ed7953"
            ],
            [
             0.7777777777777778,
             "#fb9f3a"
            ],
            [
             0.8888888888888888,
             "#fdca26"
            ],
            [
             1,
             "#f0f921"
            ]
           ]
          },
          "colorway": [
           "#636efa",
           "#EF553B",
           "#00cc96",
           "#ab63fa",
           "#FFA15A",
           "#19d3f3",
           "#FF6692",
           "#B6E880",
           "#FF97FF",
           "#FECB52"
          ],
          "font": {
           "color": "#2a3f5f"
          },
          "geo": {
           "bgcolor": "white",
           "lakecolor": "white",
           "landcolor": "#E5ECF6",
           "showlakes": true,
           "showland": true,
           "subunitcolor": "white"
          },
          "hoverlabel": {
           "align": "left"
          },
          "hovermode": "closest",
          "mapbox": {
           "style": "light"
          },
          "paper_bgcolor": "white",
          "plot_bgcolor": "#E5ECF6",
          "polar": {
           "angularaxis": {
            "gridcolor": "white",
            "linecolor": "white",
            "ticks": ""
           },
           "bgcolor": "#E5ECF6",
           "radialaxis": {
            "gridcolor": "white",
            "linecolor": "white",
            "ticks": ""
           }
          },
          "scene": {
           "xaxis": {
            "backgroundcolor": "#E5ECF6",
            "gridcolor": "white",
            "gridwidth": 2,
            "linecolor": "white",
            "showbackground": true,
            "ticks": "",
            "zerolinecolor": "white"
           },
           "yaxis": {
            "backgroundcolor": "#E5ECF6",
            "gridcolor": "white",
            "gridwidth": 2,
            "linecolor": "white",
            "showbackground": true,
            "ticks": "",
            "zerolinecolor": "white"
           },
           "zaxis": {
            "backgroundcolor": "#E5ECF6",
            "gridcolor": "white",
            "gridwidth": 2,
            "linecolor": "white",
            "showbackground": true,
            "ticks": "",
            "zerolinecolor": "white"
           }
          },
          "shapedefaults": {
           "line": {
            "color": "#2a3f5f"
           }
          },
          "ternary": {
           "aaxis": {
            "gridcolor": "white",
            "linecolor": "white",
            "ticks": ""
           },
           "baxis": {
            "gridcolor": "white",
            "linecolor": "white",
            "ticks": ""
           },
           "bgcolor": "#E5ECF6",
           "caxis": {
            "gridcolor": "white",
            "linecolor": "white",
            "ticks": ""
           }
          },
          "title": {
           "x": 0.05
          },
          "xaxis": {
           "automargin": true,
           "gridcolor": "white",
           "linecolor": "white",
           "ticks": "",
           "title": {
            "standoff": 15
           },
           "zerolinecolor": "white",
           "zerolinewidth": 2
          },
          "yaxis": {
           "automargin": true,
           "gridcolor": "white",
           "linecolor": "white",
           "ticks": "",
           "title": {
            "standoff": 15
           },
           "zerolinecolor": "white",
           "zerolinewidth": 2
          }
         }
        },
        "title": {
         "text": "Pounds of Honey"
        },
        "updatemenus": [
         {
          "buttons": [
           {
            "args": [
             null,
             {
              "frame": {
               "duration": 500,
               "redraw": true
              },
              "fromcurrent": true,
              "mode": "immediate",
              "transition": {
               "duration": 500,
               "easing": "linear"
              }
             }
            ],
            "label": "&#9654;",
            "method": "animate"
           },
           {
            "args": [
             [
              null
             ],
             {
              "frame": {
               "duration": 0,
               "redraw": true
              },
              "fromcurrent": true,
              "mode": "immediate",
              "transition": {
               "duration": 0,
               "easing": "linear"
              }
             }
            ],
            "label": "&#9724;",
            "method": "animate"
           }
          ],
          "direction": "left",
          "pad": {
           "r": 10,
           "t": 70
          },
          "showactive": false,
          "type": "buttons",
          "x": 0.1,
          "xanchor": "right",
          "y": 0,
          "yanchor": "top"
         }
        ]
       }
      },
      "text/html": [
       "<div>\n",
       "        \n",
       "        \n",
       "            <div id=\"6cdec123-2c88-4053-b1ea-6531a63786e9\" class=\"plotly-graph-div\" style=\"height:500px; width:100%;\"></div>\n",
       "            <script type=\"text/javascript\">\n",
       "                require([\"plotly\"], function(Plotly) {\n",
       "                    window.PLOTLYENV=window.PLOTLYENV || {};\n",
       "                    \n",
       "                if (document.getElementById(\"6cdec123-2c88-4053-b1ea-6531a63786e9\")) {\n",
       "                    Plotly.newPlot(\n",
       "                        '6cdec123-2c88-4053-b1ea-6531a63786e9',\n",
       "                        [{\"coloraxis\": \"coloraxis\", \"geo\": \"geo\", \"hovertemplate\": \"year=1987<br>Code=%{location}<br>lbs_of_honey=%{z}<extra></extra>\", \"locationmode\": \"USA-states\", \"locations\": [\"WY\", \"MI\", \"MA\", \"MD\", \"ME\", \"LA\", \"KY\", \"KS\", \"IA\", \"IN\", \"IL\", \"MN\", \"ID\", \"GA\", \"FL\", \"DE\", \"CT\", \"CO\", \"CA\", \"AR\", \"AZ\", \"AL\", \"HI\", \"MS\", \"WI\", \"MT\", \"WV\", \"WA\", \"VA\", \"VT\", \"UT\", \"TX\", \"TN\", \"SD\", \"SC\", \"RI\", \"PA\", \"MO\", \"OK\", \"OH\", \"ND\", \"NC\", \"NY\", \"NM\", \"NJ\", \"NH\", \"NV\", \"NE\", \"OR\"], \"name\": \"\", \"type\": \"choropleth\", \"z\": [520000, 1202000, 33000, 88000, 70000, 105000, 147000, 821000, 1314000, 363000, 777000, 1382000, 1080000, 502000, 1327000, 18000, 24000, 96000, 1782000, 200000, 338000, 242000, 581000, 80000, 1160000, 1066000, 207000, 206000, 120000, 132000, 336000, 1598000, 732000, 5574000, 41000, 10000, 711000, 156000, 140000, 853000, 3630000, 173000, 1188000, 162000, 213000, 13000, 66000, 1980000, 531000]}],\n",
       "                        {\"coloraxis\": {\"cmax\": 12000000, \"cmin\": 0, \"colorbar\": {\"title\": {\"text\": \"lbs_of_honey\"}}, \"colorscale\": [[0.0, \"#000004\"], [0.1111111111111111, \"#1b0c41\"], [0.2222222222222222, \"#4a0c6b\"], [0.3333333333333333, \"#781c6d\"], [0.4444444444444444, \"#a52c60\"], [0.5555555555555556, \"#cf4446\"], [0.6666666666666666, \"#ed6925\"], [0.7777777777777778, \"#fb9b06\"], [0.8888888888888888, \"#f7d13d\"], [1.0, \"#fcffa4\"]]}, \"geo\": {\"center\": {}, \"domain\": {\"x\": [0.0, 1.0], \"y\": [0.0, 1.0]}, \"scope\": \"usa\"}, \"height\": 500, \"legend\": {\"tracegroupgap\": 0}, \"sliders\": [{\"active\": 0, \"currentvalue\": {\"prefix\": \"year=\"}, \"len\": 0.9, \"pad\": {\"b\": 10, \"t\": 60}, \"steps\": [{\"args\": [[\"1987\"], {\"frame\": {\"duration\": 0, \"redraw\": true}, \"fromcurrent\": true, \"mode\": \"immediate\", \"transition\": {\"duration\": 0, \"easing\": \"linear\"}}], \"label\": \"1987\", \"method\": \"animate\"}, {\"args\": [[\"1988\"], {\"frame\": {\"duration\": 0, \"redraw\": true}, \"fromcurrent\": true, \"mode\": \"immediate\", \"transition\": {\"duration\": 0, \"easing\": \"linear\"}}], \"label\": \"1988\", \"method\": \"animate\"}, {\"args\": [[\"1989\"], {\"frame\": {\"duration\": 0, \"redraw\": true}, \"fromcurrent\": true, \"mode\": \"immediate\", \"transition\": {\"duration\": 0, \"easing\": \"linear\"}}], \"label\": \"1989\", \"method\": \"animate\"}, {\"args\": [[\"1990\"], {\"frame\": {\"duration\": 0, \"redraw\": true}, \"fromcurrent\": true, \"mode\": \"immediate\", \"transition\": {\"duration\": 0, \"easing\": \"linear\"}}], \"label\": \"1990\", \"method\": \"animate\"}, {\"args\": [[\"1991\"], {\"frame\": {\"duration\": 0, \"redraw\": true}, \"fromcurrent\": true, \"mode\": \"immediate\", \"transition\": {\"duration\": 0, \"easing\": \"linear\"}}], \"label\": \"1991\", \"method\": \"animate\"}, {\"args\": [[\"1992\"], {\"frame\": {\"duration\": 0, \"redraw\": true}, \"fromcurrent\": true, \"mode\": \"immediate\", \"transition\": {\"duration\": 0, \"easing\": \"linear\"}}], \"label\": \"1992\", \"method\": \"animate\"}, {\"args\": [[\"1993\"], {\"frame\": {\"duration\": 0, \"redraw\": true}, \"fromcurrent\": true, \"mode\": \"immediate\", \"transition\": {\"duration\": 0, \"easing\": \"linear\"}}], \"label\": \"1993\", \"method\": \"animate\"}, {\"args\": [[\"1994\"], {\"frame\": {\"duration\": 0, \"redraw\": true}, \"fromcurrent\": true, \"mode\": \"immediate\", \"transition\": {\"duration\": 0, \"easing\": \"linear\"}}], \"label\": \"1994\", \"method\": \"animate\"}, {\"args\": [[\"1995\"], {\"frame\": {\"duration\": 0, \"redraw\": true}, \"fromcurrent\": true, \"mode\": \"immediate\", \"transition\": {\"duration\": 0, \"easing\": \"linear\"}}], \"label\": \"1995\", \"method\": \"animate\"}, {\"args\": [[\"1996\"], {\"frame\": {\"duration\": 0, \"redraw\": true}, \"fromcurrent\": true, \"mode\": \"immediate\", \"transition\": {\"duration\": 0, \"easing\": \"linear\"}}], \"label\": \"1996\", \"method\": \"animate\"}, {\"args\": [[\"1997\"], {\"frame\": {\"duration\": 0, \"redraw\": true}, \"fromcurrent\": true, \"mode\": \"immediate\", \"transition\": {\"duration\": 0, \"easing\": \"linear\"}}], \"label\": \"1997\", \"method\": \"animate\"}, {\"args\": [[\"1998\"], {\"frame\": {\"duration\": 0, \"redraw\": true}, \"fromcurrent\": true, \"mode\": \"immediate\", \"transition\": {\"duration\": 0, \"easing\": \"linear\"}}], \"label\": \"1998\", \"method\": \"animate\"}, {\"args\": [[\"1999\"], {\"frame\": {\"duration\": 0, \"redraw\": true}, \"fromcurrent\": true, \"mode\": \"immediate\", \"transition\": {\"duration\": 0, \"easing\": \"linear\"}}], \"label\": \"1999\", \"method\": \"animate\"}, {\"args\": [[\"2000\"], {\"frame\": {\"duration\": 0, \"redraw\": true}, \"fromcurrent\": true, \"mode\": \"immediate\", \"transition\": {\"duration\": 0, \"easing\": \"linear\"}}], \"label\": \"2000\", \"method\": \"animate\"}, {\"args\": [[\"2001\"], {\"frame\": {\"duration\": 0, \"redraw\": true}, \"fromcurrent\": true, \"mode\": \"immediate\", \"transition\": {\"duration\": 0, \"easing\": \"linear\"}}], \"label\": \"2001\", \"method\": \"animate\"}, {\"args\": [[\"2002\"], {\"frame\": {\"duration\": 0, \"redraw\": true}, \"fromcurrent\": true, \"mode\": \"immediate\", \"transition\": {\"duration\": 0, \"easing\": \"linear\"}}], \"label\": \"2002\", \"method\": \"animate\"}, {\"args\": [[\"2003\"], {\"frame\": {\"duration\": 0, \"redraw\": true}, \"fromcurrent\": true, \"mode\": \"immediate\", \"transition\": {\"duration\": 0, \"easing\": \"linear\"}}], \"label\": \"2003\", \"method\": \"animate\"}, {\"args\": [[\"2004\"], {\"frame\": {\"duration\": 0, \"redraw\": true}, \"fromcurrent\": true, \"mode\": \"immediate\", \"transition\": {\"duration\": 0, \"easing\": \"linear\"}}], \"label\": \"2004\", \"method\": \"animate\"}, {\"args\": [[\"2005\"], {\"frame\": {\"duration\": 0, \"redraw\": true}, \"fromcurrent\": true, \"mode\": \"immediate\", \"transition\": {\"duration\": 0, \"easing\": \"linear\"}}], \"label\": \"2005\", \"method\": \"animate\"}, {\"args\": [[\"2006\"], {\"frame\": {\"duration\": 0, \"redraw\": true}, \"fromcurrent\": true, \"mode\": \"immediate\", \"transition\": {\"duration\": 0, \"easing\": \"linear\"}}], \"label\": \"2006\", \"method\": \"animate\"}, {\"args\": [[\"2007\"], {\"frame\": {\"duration\": 0, \"redraw\": true}, \"fromcurrent\": true, \"mode\": \"immediate\", \"transition\": {\"duration\": 0, \"easing\": \"linear\"}}], \"label\": \"2007\", \"method\": \"animate\"}, {\"args\": [[\"2008\"], {\"frame\": {\"duration\": 0, \"redraw\": true}, \"fromcurrent\": true, \"mode\": \"immediate\", \"transition\": {\"duration\": 0, \"easing\": \"linear\"}}], \"label\": \"2008\", \"method\": \"animate\"}, {\"args\": [[\"2009\"], {\"frame\": {\"duration\": 0, \"redraw\": true}, \"fromcurrent\": true, \"mode\": \"immediate\", \"transition\": {\"duration\": 0, \"easing\": \"linear\"}}], \"label\": \"2009\", \"method\": \"animate\"}, {\"args\": [[\"2010\"], {\"frame\": {\"duration\": 0, \"redraw\": true}, \"fromcurrent\": true, \"mode\": \"immediate\", \"transition\": {\"duration\": 0, \"easing\": \"linear\"}}], \"label\": \"2010\", \"method\": \"animate\"}, {\"args\": [[\"2011\"], {\"frame\": {\"duration\": 0, \"redraw\": true}, \"fromcurrent\": true, \"mode\": \"immediate\", \"transition\": {\"duration\": 0, \"easing\": \"linear\"}}], \"label\": \"2011\", \"method\": \"animate\"}, {\"args\": [[\"2012\"], {\"frame\": {\"duration\": 0, \"redraw\": true}, \"fromcurrent\": true, \"mode\": \"immediate\", \"transition\": {\"duration\": 0, \"easing\": \"linear\"}}], \"label\": \"2012\", \"method\": \"animate\"}, {\"args\": [[\"2013\"], {\"frame\": {\"duration\": 0, \"redraw\": true}, \"fromcurrent\": true, \"mode\": \"immediate\", \"transition\": {\"duration\": 0, \"easing\": \"linear\"}}], \"label\": \"2013\", \"method\": \"animate\"}, {\"args\": [[\"2014\"], {\"frame\": {\"duration\": 0, \"redraw\": true}, \"fromcurrent\": true, \"mode\": \"immediate\", \"transition\": {\"duration\": 0, \"easing\": \"linear\"}}], \"label\": \"2014\", \"method\": \"animate\"}, {\"args\": [[\"2015\"], {\"frame\": {\"duration\": 0, \"redraw\": true}, \"fromcurrent\": true, \"mode\": \"immediate\", \"transition\": {\"duration\": 0, \"easing\": \"linear\"}}], \"label\": \"2015\", \"method\": \"animate\"}, {\"args\": [[\"2016\"], {\"frame\": {\"duration\": 0, \"redraw\": true}, \"fromcurrent\": true, \"mode\": \"immediate\", \"transition\": {\"duration\": 0, \"easing\": \"linear\"}}], \"label\": \"2016\", \"method\": \"animate\"}, {\"args\": [[\"2017\"], {\"frame\": {\"duration\": 0, \"redraw\": true}, \"fromcurrent\": true, \"mode\": \"immediate\", \"transition\": {\"duration\": 0, \"easing\": \"linear\"}}], \"label\": \"2017\", \"method\": \"animate\"}, {\"args\": [[\"2018\"], {\"frame\": {\"duration\": 0, \"redraw\": true}, \"fromcurrent\": true, \"mode\": \"immediate\", \"transition\": {\"duration\": 0, \"easing\": \"linear\"}}], \"label\": \"2018\", \"method\": \"animate\"}, {\"args\": [[\"2019\"], {\"frame\": {\"duration\": 0, \"redraw\": true}, \"fromcurrent\": true, \"mode\": \"immediate\", \"transition\": {\"duration\": 0, \"easing\": \"linear\"}}], \"label\": \"2019\", \"method\": \"animate\"}], \"x\": 0.1, \"xanchor\": \"left\", \"y\": 0, \"yanchor\": \"top\"}], \"template\": {\"data\": {\"bar\": [{\"error_x\": {\"color\": \"#2a3f5f\"}, \"error_y\": {\"color\": \"#2a3f5f\"}, \"marker\": {\"line\": {\"color\": \"#E5ECF6\", \"width\": 0.5}}, \"type\": \"bar\"}], \"barpolar\": [{\"marker\": {\"line\": {\"color\": \"#E5ECF6\", \"width\": 0.5}}, \"type\": \"barpolar\"}], \"carpet\": [{\"aaxis\": {\"endlinecolor\": \"#2a3f5f\", \"gridcolor\": \"white\", \"linecolor\": \"white\", \"minorgridcolor\": \"white\", \"startlinecolor\": \"#2a3f5f\"}, \"baxis\": {\"endlinecolor\": \"#2a3f5f\", \"gridcolor\": \"white\", \"linecolor\": \"white\", \"minorgridcolor\": \"white\", \"startlinecolor\": \"#2a3f5f\"}, \"type\": \"carpet\"}], \"choropleth\": [{\"colorbar\": {\"outlinewidth\": 0, \"ticks\": \"\"}, \"type\": \"choropleth\"}], \"contour\": [{\"colorbar\": {\"outlinewidth\": 0, \"ticks\": \"\"}, \"colorscale\": [[0.0, \"#0d0887\"], [0.1111111111111111, \"#46039f\"], [0.2222222222222222, \"#7201a8\"], [0.3333333333333333, \"#9c179e\"], [0.4444444444444444, \"#bd3786\"], [0.5555555555555556, \"#d8576b\"], [0.6666666666666666, \"#ed7953\"], [0.7777777777777778, \"#fb9f3a\"], [0.8888888888888888, \"#fdca26\"], [1.0, \"#f0f921\"]], \"type\": \"contour\"}], \"contourcarpet\": [{\"colorbar\": {\"outlinewidth\": 0, \"ticks\": \"\"}, \"type\": \"contourcarpet\"}], \"heatmap\": [{\"colorbar\": {\"outlinewidth\": 0, \"ticks\": \"\"}, \"colorscale\": [[0.0, \"#0d0887\"], [0.1111111111111111, \"#46039f\"], [0.2222222222222222, \"#7201a8\"], [0.3333333333333333, \"#9c179e\"], [0.4444444444444444, \"#bd3786\"], [0.5555555555555556, \"#d8576b\"], [0.6666666666666666, \"#ed7953\"], [0.7777777777777778, \"#fb9f3a\"], [0.8888888888888888, \"#fdca26\"], [1.0, \"#f0f921\"]], \"type\": \"heatmap\"}], \"heatmapgl\": [{\"colorbar\": {\"outlinewidth\": 0, \"ticks\": \"\"}, \"colorscale\": [[0.0, \"#0d0887\"], [0.1111111111111111, \"#46039f\"], [0.2222222222222222, \"#7201a8\"], [0.3333333333333333, \"#9c179e\"], [0.4444444444444444, \"#bd3786\"], [0.5555555555555556, \"#d8576b\"], [0.6666666666666666, \"#ed7953\"], [0.7777777777777778, \"#fb9f3a\"], [0.8888888888888888, \"#fdca26\"], [1.0, \"#f0f921\"]], \"type\": \"heatmapgl\"}], \"histogram\": [{\"marker\": {\"colorbar\": {\"outlinewidth\": 0, \"ticks\": \"\"}}, \"type\": \"histogram\"}], \"histogram2d\": [{\"colorbar\": {\"outlinewidth\": 0, \"ticks\": \"\"}, \"colorscale\": [[0.0, \"#0d0887\"], [0.1111111111111111, \"#46039f\"], [0.2222222222222222, \"#7201a8\"], [0.3333333333333333, \"#9c179e\"], [0.4444444444444444, \"#bd3786\"], [0.5555555555555556, \"#d8576b\"], [0.6666666666666666, \"#ed7953\"], [0.7777777777777778, \"#fb9f3a\"], [0.8888888888888888, \"#fdca26\"], [1.0, \"#f0f921\"]], \"type\": \"histogram2d\"}], \"histogram2dcontour\": [{\"colorbar\": {\"outlinewidth\": 0, \"ticks\": \"\"}, \"colorscale\": [[0.0, \"#0d0887\"], [0.1111111111111111, \"#46039f\"], [0.2222222222222222, \"#7201a8\"], [0.3333333333333333, \"#9c179e\"], [0.4444444444444444, \"#bd3786\"], [0.5555555555555556, \"#d8576b\"], [0.6666666666666666, \"#ed7953\"], [0.7777777777777778, \"#fb9f3a\"], [0.8888888888888888, \"#fdca26\"], [1.0, \"#f0f921\"]], \"type\": \"histogram2dcontour\"}], \"mesh3d\": [{\"colorbar\": {\"outlinewidth\": 0, \"ticks\": \"\"}, \"type\": \"mesh3d\"}], \"parcoords\": [{\"line\": {\"colorbar\": {\"outlinewidth\": 0, \"ticks\": \"\"}}, \"type\": \"parcoords\"}], \"pie\": [{\"automargin\": true, \"type\": \"pie\"}], \"scatter\": [{\"marker\": {\"colorbar\": {\"outlinewidth\": 0, \"ticks\": \"\"}}, \"type\": \"scatter\"}], \"scatter3d\": [{\"line\": {\"colorbar\": {\"outlinewidth\": 0, \"ticks\": \"\"}}, \"marker\": {\"colorbar\": {\"outlinewidth\": 0, \"ticks\": \"\"}}, \"type\": \"scatter3d\"}], \"scattercarpet\": [{\"marker\": {\"colorbar\": {\"outlinewidth\": 0, \"ticks\": \"\"}}, \"type\": \"scattercarpet\"}], \"scattergeo\": [{\"marker\": {\"colorbar\": {\"outlinewidth\": 0, \"ticks\": \"\"}}, \"type\": \"scattergeo\"}], \"scattergl\": [{\"marker\": {\"colorbar\": {\"outlinewidth\": 0, \"ticks\": \"\"}}, \"type\": \"scattergl\"}], \"scattermapbox\": [{\"marker\": {\"colorbar\": {\"outlinewidth\": 0, \"ticks\": \"\"}}, \"type\": \"scattermapbox\"}], \"scatterpolar\": [{\"marker\": {\"colorbar\": {\"outlinewidth\": 0, \"ticks\": \"\"}}, \"type\": \"scatterpolar\"}], \"scatterpolargl\": [{\"marker\": {\"colorbar\": {\"outlinewidth\": 0, \"ticks\": \"\"}}, \"type\": \"scatterpolargl\"}], \"scatterternary\": [{\"marker\": {\"colorbar\": {\"outlinewidth\": 0, \"ticks\": \"\"}}, \"type\": \"scatterternary\"}], \"surface\": [{\"colorbar\": {\"outlinewidth\": 0, \"ticks\": \"\"}, \"colorscale\": [[0.0, \"#0d0887\"], [0.1111111111111111, \"#46039f\"], [0.2222222222222222, \"#7201a8\"], [0.3333333333333333, \"#9c179e\"], [0.4444444444444444, \"#bd3786\"], [0.5555555555555556, \"#d8576b\"], [0.6666666666666666, \"#ed7953\"], [0.7777777777777778, \"#fb9f3a\"], [0.8888888888888888, \"#fdca26\"], [1.0, \"#f0f921\"]], \"type\": \"surface\"}], \"table\": [{\"cells\": {\"fill\": {\"color\": \"#EBF0F8\"}, \"line\": {\"color\": \"white\"}}, \"header\": {\"fill\": {\"color\": \"#C8D4E3\"}, \"line\": {\"color\": \"white\"}}, \"type\": \"table\"}]}, \"layout\": {\"annotationdefaults\": {\"arrowcolor\": \"#2a3f5f\", \"arrowhead\": 0, \"arrowwidth\": 1}, \"coloraxis\": {\"colorbar\": {\"outlinewidth\": 0, \"ticks\": \"\"}}, \"colorscale\": {\"diverging\": [[0, \"#8e0152\"], [0.1, \"#c51b7d\"], [0.2, \"#de77ae\"], [0.3, \"#f1b6da\"], [0.4, \"#fde0ef\"], [0.5, \"#f7f7f7\"], [0.6, \"#e6f5d0\"], [0.7, \"#b8e186\"], [0.8, \"#7fbc41\"], [0.9, \"#4d9221\"], [1, \"#276419\"]], \"sequential\": [[0.0, \"#0d0887\"], [0.1111111111111111, \"#46039f\"], [0.2222222222222222, \"#7201a8\"], [0.3333333333333333, \"#9c179e\"], [0.4444444444444444, \"#bd3786\"], [0.5555555555555556, \"#d8576b\"], [0.6666666666666666, \"#ed7953\"], [0.7777777777777778, \"#fb9f3a\"], [0.8888888888888888, \"#fdca26\"], [1.0, \"#f0f921\"]], \"sequentialminus\": [[0.0, \"#0d0887\"], [0.1111111111111111, \"#46039f\"], [0.2222222222222222, \"#7201a8\"], [0.3333333333333333, \"#9c179e\"], [0.4444444444444444, \"#bd3786\"], [0.5555555555555556, \"#d8576b\"], [0.6666666666666666, \"#ed7953\"], [0.7777777777777778, \"#fb9f3a\"], [0.8888888888888888, \"#fdca26\"], [1.0, \"#f0f921\"]]}, \"colorway\": [\"#636efa\", \"#EF553B\", \"#00cc96\", \"#ab63fa\", \"#FFA15A\", \"#19d3f3\", \"#FF6692\", \"#B6E880\", \"#FF97FF\", \"#FECB52\"], \"font\": {\"color\": \"#2a3f5f\"}, \"geo\": {\"bgcolor\": \"white\", \"lakecolor\": \"white\", \"landcolor\": \"#E5ECF6\", \"showlakes\": true, \"showland\": true, \"subunitcolor\": \"white\"}, \"hoverlabel\": {\"align\": \"left\"}, \"hovermode\": \"closest\", \"mapbox\": {\"style\": \"light\"}, \"paper_bgcolor\": \"white\", \"plot_bgcolor\": \"#E5ECF6\", \"polar\": {\"angularaxis\": {\"gridcolor\": \"white\", \"linecolor\": \"white\", \"ticks\": \"\"}, \"bgcolor\": \"#E5ECF6\", \"radialaxis\": {\"gridcolor\": \"white\", \"linecolor\": \"white\", \"ticks\": \"\"}}, \"scene\": {\"xaxis\": {\"backgroundcolor\": \"#E5ECF6\", \"gridcolor\": \"white\", \"gridwidth\": 2, \"linecolor\": \"white\", \"showbackground\": true, \"ticks\": \"\", \"zerolinecolor\": \"white\"}, \"yaxis\": {\"backgroundcolor\": \"#E5ECF6\", \"gridcolor\": \"white\", \"gridwidth\": 2, \"linecolor\": \"white\", \"showbackground\": true, \"ticks\": \"\", \"zerolinecolor\": \"white\"}, \"zaxis\": {\"backgroundcolor\": \"#E5ECF6\", \"gridcolor\": \"white\", \"gridwidth\": 2, \"linecolor\": \"white\", \"showbackground\": true, \"ticks\": \"\", \"zerolinecolor\": \"white\"}}, \"shapedefaults\": {\"line\": {\"color\": \"#2a3f5f\"}}, \"ternary\": {\"aaxis\": {\"gridcolor\": \"white\", \"linecolor\": \"white\", \"ticks\": \"\"}, \"baxis\": {\"gridcolor\": \"white\", \"linecolor\": \"white\", \"ticks\": \"\"}, \"bgcolor\": \"#E5ECF6\", \"caxis\": {\"gridcolor\": \"white\", \"linecolor\": \"white\", \"ticks\": \"\"}}, \"title\": {\"x\": 0.05}, \"xaxis\": {\"automargin\": true, \"gridcolor\": \"white\", \"linecolor\": \"white\", \"ticks\": \"\", \"title\": {\"standoff\": 15}, \"zerolinecolor\": \"white\", \"zerolinewidth\": 2}, \"yaxis\": {\"automargin\": true, \"gridcolor\": \"white\", \"linecolor\": \"white\", \"ticks\": \"\", \"title\": {\"standoff\": 15}, \"zerolinecolor\": \"white\", \"zerolinewidth\": 2}}}, \"title\": {\"text\": \"Pounds of Honey\"}, \"updatemenus\": [{\"buttons\": [{\"args\": [null, {\"frame\": {\"duration\": 500, \"redraw\": true}, \"fromcurrent\": true, \"mode\": \"immediate\", \"transition\": {\"duration\": 500, \"easing\": \"linear\"}}], \"label\": \"&#9654;\", \"method\": \"animate\"}, {\"args\": [[null], {\"frame\": {\"duration\": 0, \"redraw\": true}, \"fromcurrent\": true, \"mode\": \"immediate\", \"transition\": {\"duration\": 0, \"easing\": \"linear\"}}], \"label\": \"&#9724;\", \"method\": \"animate\"}], \"direction\": \"left\", \"pad\": {\"r\": 10, \"t\": 70}, \"showactive\": false, \"type\": \"buttons\", \"x\": 0.1, \"xanchor\": \"right\", \"y\": 0, \"yanchor\": \"top\"}]},\n",
       "                        {\"responsive\": true}\n",
       "                    ).then(function(){\n",
       "                            Plotly.addFrames('6cdec123-2c88-4053-b1ea-6531a63786e9', [{\"data\": [{\"coloraxis\": \"coloraxis\", \"geo\": \"geo\", \"hovertemplate\": \"year=1987<br>Code=%{location}<br>lbs_of_honey=%{z}<extra></extra>\", \"locationmode\": \"USA-states\", \"locations\": [\"WY\", \"MI\", \"MA\", \"MD\", \"ME\", \"LA\", \"KY\", \"KS\", \"IA\", \"IN\", \"IL\", \"MN\", \"ID\", \"GA\", \"FL\", \"DE\", \"CT\", \"CO\", \"CA\", \"AR\", \"AZ\", \"AL\", \"HI\", \"MS\", \"WI\", \"MT\", \"WV\", \"WA\", \"VA\", \"VT\", \"UT\", \"TX\", \"TN\", \"SD\", \"SC\", \"RI\", \"PA\", \"MO\", \"OK\", \"OH\", \"ND\", \"NC\", \"NY\", \"NM\", \"NJ\", \"NH\", \"NV\", \"NE\", \"OR\"], \"name\": \"\", \"z\": [520000, 1202000, 33000, 88000, 70000, 105000, 147000, 821000, 1314000, 363000, 777000, 1382000, 1080000, 502000, 1327000, 18000, 24000, 96000, 1782000, 200000, 338000, 242000, 581000, 80000, 1160000, 1066000, 207000, 206000, 120000, 132000, 336000, 1598000, 732000, 5574000, 41000, 10000, 711000, 156000, 140000, 853000, 3630000, 173000, 1188000, 162000, 213000, 13000, 66000, 1980000, 531000], \"type\": \"choropleth\"}], \"name\": \"1987\"}, {\"data\": [{\"coloraxis\": \"coloraxis\", \"geo\": \"geo\", \"hovertemplate\": \"year=1988<br>Code=%{location}<br>lbs_of_honey=%{z}<extra></extra>\", \"locationmode\": \"USA-states\", \"locations\": [\"IN\", \"IA\", \"KS\", \"KY\", \"MI\", \"ME\", \"MD\", \"MA\", \"IL\", \"LA\", \"ID\", \"CT\", \"GA\", \"FL\", \"DE\", \"CO\", \"CA\", \"AR\", \"AZ\", \"AL\", \"MN\", \"HI\", \"MS\", \"MO\", \"MT\", \"WI\", \"WV\", \"WA\", \"VA\", \"VT\", \"UT\", \"TX\", \"TN\", \"SD\", \"SC\", \"RI\", \"WY\", \"OR\", \"OK\", \"OH\", \"ND\", \"NC\", \"NY\", \"NM\", \"NJ\", \"NH\", \"NV\", \"NE\", \"PA\"], \"name\": \"\", \"z\": [622000, 1580000, 319000, 202000, 1456000, 44000, 54000, 41000, 638000, 205000, 1144000, 29000, 283000, 2385000, 6000, 837000, 2160000, 228000, 706000, 247000, 2064000, 806000, 28000, 1008000, 151000, 2323000, 630000, 306000, 56000, 164000, 384000, 848000, 462000, 2901000, 90000, 15000, 249000, 499000, 66000, 744000, 1650000, 155000, 1109000, 275000, 353000, 16000, 54000, 1410000, 683000], \"type\": \"choropleth\"}], \"name\": \"1988\"}, {\"data\": [{\"coloraxis\": \"coloraxis\", \"geo\": \"geo\", \"hovertemplate\": \"year=1989<br>Code=%{location}<br>lbs_of_honey=%{z}<extra></extra>\", \"locationmode\": \"USA-states\", \"locations\": [\"IN\", \"IA\", \"KS\", \"KY\", \"MI\", \"ME\", \"MD\", \"MA\", \"IL\", \"LA\", \"ID\", \"CO\", \"GA\", \"FL\", \"DE\", \"CT\", \"CA\", \"AR\", \"AZ\", \"AL\", \"MN\", \"HI\", \"MS\", \"WY\", \"MT\", \"MO\", \"WI\", \"WV\", \"WA\", \"VA\", \"VT\", \"UT\", \"TN\", \"SD\", \"SC\", \"RI\", \"TX\", \"OR\", \"PA\", \"NV\", \"NH\", \"NJ\", \"NM\", \"NE\", \"NC\", \"ND\", \"OH\", \"OK\", \"NY\"], \"name\": \"\", \"z\": [647000, 1448000, 426000, 132000, 1642000, 41000, 32000, 50000, 452000, 179000, 1361000, 495000, 125000, 1050000, 5000, 48000, 3162000, 249000, 1158000, 33000, 3492000, 510000, 79000, 250000, 819000, 696000, 1598000, 732000, 579000, 97000, 102000, 579000, 250000, 2072000, 74000, 14000, 1647000, 418000, 560000, 162000, 11000, 265000, 253000, 1476000, 266000, 1215000, 413000, 164000, 1664000], \"type\": \"choropleth\"}], \"name\": \"1989\"}, {\"data\": [{\"coloraxis\": \"coloraxis\", \"geo\": \"geo\", \"hovertemplate\": \"year=1990<br>Code=%{location}<br>lbs_of_honey=%{z}<extra></extra>\", \"locationmode\": \"USA-states\", \"locations\": [\"IN\", \"MN\", \"MI\", \"MA\", \"MD\", \"ME\", \"LA\", \"KY\", \"KS\", \"IA\", \"IL\", \"MS\", \"HI\", \"GA\", \"FL\", \"DE\", \"CO\", \"CA\", \"AR\", \"AZ\", \"AL\", \"ID\", \"MO\", \"CT\", \"NE\", \"WV\", \"WA\", \"VA\", \"VT\", \"UT\", \"WY\", \"TX\", \"TN\", \"SD\", \"SC\", \"RI\", \"WI\", \"OR\", \"PA\", \"NV\", \"NH\", \"NJ\", \"NM\", \"MT\", \"NC\", \"ND\", \"OH\", \"OK\", \"NY\"], \"name\": \"\", \"z\": [259000, 1384000, 2560000, 43000, 33000, 77000, 169000, 127000, 241000, 945000, 543000, 104000, 314000, 333000, 1881000, 3000, 845000, 2218000, 423000, 836000, 143000, 784000, 567000, 47000, 1189000, 594000, 440000, 207000, 207000, 539000, 274000, 1501000, 138000, 3771000, 49000, 9000, 1512000, 615000, 379000, 296000, 19000, 107000, 453000, 1191000, 120000, 722000, 643000, 149000, 1094000], \"type\": \"choropleth\"}], \"name\": \"1990\"}, {\"data\": [{\"coloraxis\": \"coloraxis\", \"geo\": \"geo\", \"hovertemplate\": \"year=1991<br>Code=%{location}<br>lbs_of_honey=%{z}<extra></extra>\", \"locationmode\": \"USA-states\", \"locations\": [\"MS\", \"MN\", \"MI\", \"MD\", \"ME\", \"LA\", \"KY\", \"KS\", \"IA\", \"IN\", \"ID\", \"HI\", \"GA\", \"FL\", \"CA\", \"AR\", \"AZ\", \"AL\", \"MO\", \"IL\", \"CO\", \"NE\", \"NV\", \"MT\", \"WY\", \"WI\", \"WV\", \"WA\", \"VA\", \"UT\", \"TX\", \"TN\", \"SD\", \"VT\", \"PA\", \"SC\", \"NM\", \"NY\", \"NC\", \"ND\", \"NJ\", \"OK\", \"OR\", null, \"OH\"], \"name\": \"\", \"z\": [71000, 2457000, 2683000, 60000, 213000, 168000, 88000, 291000, 909000, 368000, 1739000, 328000, 129000, 1307000, 3465000, 557000, 750000, 66000, 528000, 393000, 514000, 1302000, 275000, 1187000, 192000, 1843000, 287000, 678000, 58000, 199000, 1201000, 106000, 4091000, 198000, 594000, 107000, 447000, 1337000, 167000, 3100000, 130000, 252000, 721000, 103000, 761000], \"type\": \"choropleth\"}], \"name\": \"1991\"}, {\"data\": [{\"coloraxis\": \"coloraxis\", \"geo\": \"geo\", \"hovertemplate\": \"year=1992<br>Code=%{location}<br>lbs_of_honey=%{z}<extra></extra>\", \"locationmode\": \"USA-states\", \"locations\": [\"IA\", \"MS\", \"MN\", \"MI\", \"MD\", \"ME\", \"LA\", \"KY\", \"KS\", \"IN\", \"ID\", \"HI\", \"GA\", \"FL\", \"CO\", \"CA\", \"AR\", \"AZ\", \"AL\", \"IL\", \"MO\", \"NV\", \"NE\", \"WY\", \"WI\", \"WV\", \"WA\", \"VA\", \"VT\", \"UT\", \"TX\", \"TN\", \"SD\", \"MT\", \"PA\", null, \"OR\", \"OK\", \"OH\", \"ND\", \"NC\", \"NY\", \"NM\", \"NJ\", \"SC\"], \"name\": \"\", \"z\": [766000, 163000, 3591000, 2067000, 51000, 122000, 385000, 54000, 244000, 186000, 1308000, 460000, 701000, 2517000, 847000, 4268000, 410000, 1285000, 113000, 237000, 347000, 341000, 792000, 287000, 1525000, 759000, 1197000, 84000, 200000, 632000, 1488000, 66000, 3264000, 1818000, 566000, 63000, 841000, 80000, 206000, 2184000, 95000, 1802000, 502000, 48000, 99000], \"type\": \"choropleth\"}], \"name\": \"1992\"}, {\"data\": [{\"coloraxis\": \"coloraxis\", \"geo\": \"geo\", \"hovertemplate\": \"year=1993<br>Code=%{location}<br>lbs_of_honey=%{z}<extra></extra>\", \"locationmode\": \"USA-states\", \"locations\": [\"KS\", \"KY\", \"LA\", \"MS\", \"MD\", \"MI\", \"MN\", \"IA\", \"ME\", \"IN\", \"FL\", \"ID\", \"HI\", \"GA\", \"CO\", \"CA\", \"AR\", \"AZ\", \"AL\", \"MO\", \"IL\", \"NE\", \"NV\", \"MT\", \"WI\", \"WV\", \"WA\", \"VA\", \"VT\", \"UT\", \"TX\", \"TN\", \"SD\", \"WY\", \"PA\", \"SC\", \"NM\", \"NY\", \"NC\", \"NJ\", \"OH\", \"OK\", \"OR\", null, \"ND\"], \"name\": \"\", \"z\": [891000, 89000, 1213000, 114000, 77000, 2980000, 2160000, 412000, 215000, 364000, 2712000, 1700000, 1020000, 179000, 1161000, 7200000, 548000, 932000, 103000, 298000, 252000, 930000, 328000, 1583000, 4100000, 259000, 513000, 59000, 216000, 445000, 2755000, 86000, 4322000, 393000, 605000, 129000, 541000, 1733000, 143000, 142000, 990000, 169000, 994000, 219000, 2772000], \"type\": \"choropleth\"}], \"name\": \"1993\"}, {\"data\": [{\"coloraxis\": \"coloraxis\", \"geo\": \"geo\", \"hovertemplate\": \"year=1994<br>Code=%{location}<br>lbs_of_honey=%{z}<extra></extra>\", \"locationmode\": \"USA-states\", \"locations\": [\"IA\", \"MS\", \"MN\", \"MI\", \"MD\", \"ME\", \"KY\", \"KS\", \"IN\", \"CO\", \"ID\", \"HI\", \"GA\", \"FL\", \"CA\", \"AR\", \"MO\", \"AL\", \"IL\", \"MT\", \"AZ\", \"NV\", \"NE\", \"WY\", \"WI\", \"WV\", \"WA\", \"VA\", \"VT\", \"UT\", \"TX\", \"TN\", \"SD\", \"LA\", \"PA\", \"NM\", \"NY\", \"NC\", \"ND\", \"SC\", \"NJ\", \"OK\", \"OR\", null, \"OH\"], \"name\": \"\", \"z\": [1030000, 352000, 2149000, 3870000, 83000, 172000, 57000, 214000, 204000, 1813000, 1274000, 351000, 958000, 2898000, 6480000, 898000, 270000, 99000, 468000, 3624000, 188000, 174000, 1465000, 667000, 1864000, 414000, 1265000, 109000, 189000, 1218000, 2058000, 107000, 8580000, 588000, 622000, 730000, 2451000, 266000, 7459000, 150000, 131000, 104000, 1008000, 115000, 691000], \"type\": \"choropleth\"}], \"name\": \"1994\"}, {\"data\": [{\"coloraxis\": \"coloraxis\", \"geo\": \"geo\", \"hovertemplate\": \"year=1995<br>Code=%{location}<br>lbs_of_honey=%{z}<extra></extra>\", \"locationmode\": \"USA-states\", \"locations\": [\"IN\", \"MS\", \"MN\", \"MI\", \"MD\", \"LA\", \"KY\", \"KS\", \"IA\", \"IL\", \"CO\", \"HI\", \"GA\", \"FL\", \"MO\", \"CA\", \"AR\", \"AZ\", \"AL\", \"ID\", \"MT\", \"ME\", \"NV\", \"NE\", \"WI\", \"WV\", \"WA\", \"VA\", \"VT\", \"UT\", \"TX\", \"TN\", \"SD\", \"SC\", \"WY\", null, \"PA\", \"NM\", \"NY\", \"NC\", \"NJ\", \"ND\", \"OH\", \"OK\", \"OR\"], \"name\": \"\", \"z\": [166000, 146000, 1218000, 3570000, 81000, 317000, 30000, 182000, 551000, 212000, 1404000, 103000, 260000, 1780000, 308000, 4687000, 990000, 986000, 28000, 1020000, 1781000, 223000, 38000, 1402000, 2134000, 48000, 637000, 97000, 131000, 232000, 1959000, 87000, 4896000, 65000, 150000, 106000, 376000, 247000, 2100000, 162000, 71000, 3802000, 930000, 112000, 2488000], \"type\": \"choropleth\"}], \"name\": \"1995\"}, {\"data\": [{\"coloraxis\": \"coloraxis\", \"geo\": \"geo\", \"hovertemplate\": \"year=1996<br>Code=%{location}<br>lbs_of_honey=%{z}<extra></extra>\", \"locationmode\": \"USA-states\", \"locations\": [\"IN\", \"MN\", \"MI\", \"ME\", \"LA\", \"KY\", \"KS\", \"IA\", \"MS\", \"IL\", \"CO\", \"HI\", \"GA\", \"FL\", \"CA\", \"AR\", \"AZ\", \"AL\", \"MO\", \"ID\", \"MT\", \"MD\", \"NV\", \"WI\", \"WV\", \"WA\", \"VA\", \"VT\", \"UT\", \"TX\", \"TN\", \"SD\", \"SC\", \"NE\", null, \"OR\", \"OK\", \"OH\", \"ND\", \"NC\", \"WY\", \"NY\", \"NM\", \"NJ\", \"PA\"], \"name\": \"\", \"z\": [412000, 1617000, 4320000, 21000, 933000, 23000, 294000, 836000, 299000, 285000, 1132000, 62000, 306000, 2268000, 4641000, 420000, 307000, 96000, 326000, 1535000, 1825000, 40000, 68000, 2422000, 207000, 1079000, 119000, 93000, 328000, 1361000, 90000, 6751000, 81000, 1755000, 52000, 1071000, 54000, 840000, 4945000, 53000, 526000, 2557000, 219000, 167000, 370000], \"type\": \"choropleth\"}], \"name\": \"1996\"}, {\"data\": [{\"coloraxis\": \"coloraxis\", \"geo\": \"geo\", \"hovertemplate\": \"year=1997<br>Code=%{location}<br>lbs_of_honey=%{z}<extra></extra>\", \"locationmode\": \"USA-states\", \"locations\": [\"KS\", \"KY\", \"LA\", \"MS\", \"MD\", \"MI\", \"MN\", \"IA\", \"ME\", \"IN\", \"FL\", \"ID\", \"HI\", \"GA\", \"CO\", \"CA\", \"AR\", \"AZ\", \"AL\", \"MO\", \"IL\", \"MT\", \"NV\", \"NE\", \"WY\", \"WI\", \"WV\", \"WA\", \"VA\", \"UT\", \"TX\", \"TN\", \"SD\", \"VT\", null, \"PA\", \"NM\", \"NY\", \"NC\", \"NJ\", \"OH\", \"OK\", \"OR\", \"ND\"], \"name\": \"\", \"z\": [688000, 54000, 759000, 777000, 65000, 3273000, 2011000, 1765000, 9000, 352000, 2734000, 2304000, 158000, 587000, 982000, 9450000, 3468000, 1344000, 92000, 517000, 222000, 4237000, 171000, 2738000, 660000, 2797000, 280000, 1498000, 157000, 699000, 3188000, 148000, 8736000, 249000, 206000, 528000, 396000, 2246000, 139000, 201000, 827000, 97000, 1537000, 7350000], \"type\": \"choropleth\"}], \"name\": \"1997\"}, {\"data\": [{\"coloraxis\": \"coloraxis\", \"geo\": \"geo\", \"hovertemplate\": \"year=1998<br>Code=%{location}<br>lbs_of_honey=%{z}<extra></extra>\", \"locationmode\": \"USA-states\", \"locations\": [\"KS\", \"MS\", \"MN\", \"MI\", \"ME\", \"LA\", \"KY\", \"IA\", \"AL\", \"IL\", \"ID\", \"HI\", \"GA\", \"FL\", \"CO\", \"CA\", \"AR\", \"AZ\", \"MO\", \"MT\", \"IN\", \"NV\", \"NE\", \"WY\", \"WI\", \"WV\", \"WA\", \"VA\", \"VT\", \"UT\", \"TX\", \"TN\", \"MD\", \"PA\", \"SD\", \"NM\", \"NY\", \"NC\", \"NJ\", \"OH\", \"OK\", \"OR\", null, \"ND\"], \"name\": \"\", \"z\": [390000, 898000, 2765000, 3672000, 117000, 865000, 51000, 2301000, 159000, 204000, 2220000, 66000, 307000, 4508000, 1594000, 12326000, 1688000, 1485000, 455000, 5472000, 489000, 175000, 2240000, 524000, 5264000, 155000, 1361000, 86000, 207000, 557000, 1612000, 121000, 92000, 789000, 10901000, 470000, 2444000, 151000, 167000, 702000, 63000, 1620000, 342000, 8832000], \"type\": \"choropleth\"}], \"name\": \"1998\"}, {\"data\": [{\"coloraxis\": \"coloraxis\", \"geo\": \"geo\", \"hovertemplate\": \"year=1999<br>Code=%{location}<br>lbs_of_honey=%{z}<extra></extra>\", \"locationmode\": \"USA-states\", \"locations\": [\"IN\", \"MN\", \"MI\", \"MD\", \"LA\", \"KY\", \"KS\", \"IA\", \"IL\", \"CA\", \"HI\", \"GA\", \"FL\", \"CO\", \"MS\", \"AR\", \"AZ\", \"AL\", \"ID\", \"MO\", \"ME\", \"NE\", \"WY\", \"MT\", \"WV\", \"WA\", \"VA\", \"VT\", \"UT\", \"TX\", \"TN\", \"SD\", \"PA\", \"WI\", \"OR\", null, \"NJ\", \"NM\", \"NY\", \"NV\", \"NC\", \"ND\", \"OH\", \"OK\"], \"name\": \"\", \"z\": [437000, 3210000, 3475000, 50000, 821000, 12000, 854000, 2028000, 327000, 9486000, 32000, 497000, 4186000, 1436000, 591000, 2592000, 1548000, 185000, 3110000, 437000, 89000, 1965000, 746000, 2135000, 152000, 1170000, 86000, 222000, 433000, 2799000, 106000, 13046000, 790000, 4560000, 2026000, 274000, 154000, 476000, 2077000, 271000, 104000, 8836000, 784000, 49000], \"type\": \"choropleth\"}], \"name\": \"1999\"}, {\"data\": [{\"coloraxis\": \"coloraxis\", \"geo\": \"geo\", \"hovertemplate\": \"year=2000<br>Code=%{location}<br>lbs_of_honey=%{z}<extra></extra>\", \"locationmode\": \"USA-states\", \"locations\": [\"IA\", \"MI\", \"MD\", \"LA\", \"KY\", \"KS\", \"MS\", \"MN\", \"GA\", \"ID\", \"HI\", \"FL\", \"CO\", \"CA\", \"AR\", \"AZ\", \"AL\", \"MO\", \"IN\", \"MT\", \"IL\", \"NV\", \"NE\", \"WY\", \"WI\", \"WV\", \"WA\", \"VA\", \"VT\", \"UT\", \"TX\", \"TN\", \"ME\", \"PA\", \"NJ\", \"NM\", \"NY\", \"NC\", \"SD\", \"OH\", \"OK\", \"OR\", null, \"ND\"], \"name\": \"\", \"z\": [1206000, 2970000, 52000, 1334000, 54000, 520000, 649000, 3105000, 376000, 2679000, 125000, 2923000, 957000, 11396000, 3337000, 1322000, 187000, 362000, 286000, 4692000, 146000, 95000, 2610000, 798000, 4385000, 234000, 1151000, 103000, 211000, 462000, 2986000, 104000, 143000, 630000, 200000, 739000, 2274000, 243000, 12796000, 585000, 64000, 1665000, 288000, 13800000], \"type\": \"choropleth\"}], \"name\": \"2000\"}, {\"data\": [{\"coloraxis\": \"coloraxis\", \"geo\": \"geo\", \"hovertemplate\": \"year=2001<br>Code=%{location}<br>lbs_of_honey=%{z}<extra></extra>\", \"locationmode\": \"USA-states\", \"locations\": [\"IA\", \"MN\", \"MI\", \"ME\", \"LA\", \"KY\", \"KS\", \"MS\", \"FL\", \"ID\", \"HI\", \"GA\", \"MO\", \"CO\", \"CA\", \"AR\", \"AZ\", \"AL\", \"IL\", \"MT\", \"IN\", \"NV\", \"NE\", \"WY\", \"WI\", \"WV\", \"WA\", \"VA\", \"VT\", \"UT\", \"TX\", \"TN\", \"SD\", \"MD\", \"PA\", \"SC\", \"NJ\", \"NY\", \"NC\", \"NM\", \"OH\", \"OK\", \"OR\", null, \"ND\"], \"name\": \"\", \"z\": [875000, 1859000, 2827000, 106000, 572000, 125000, 530000, 224000, 3432000, 1610000, 84000, 188000, 336000, 529000, 7857000, 1617000, 1142000, 235000, 251000, 4578000, 186000, 36000, 1115000, 468000, 3419000, 410000, 1048000, 94000, 249000, 315000, 1533000, 131000, 12220000, 55000, 785000, 67000, 71000, 1781000, 172000, 350000, 569000, 105000, 1200000, 137000, 9408000], \"type\": \"choropleth\"}], \"name\": \"2001\"}, {\"data\": [{\"coloraxis\": \"coloraxis\", \"geo\": \"geo\", \"hovertemplate\": \"year=2002<br>Code=%{location}<br>lbs_of_honey=%{z}<extra></extra>\", \"locationmode\": \"USA-states\", \"locations\": [\"NM\", \"NJ\", \"NV\", \"NE\", \"MT\", \"MO\", \"MD\", \"MN\", \"MI\", \"NY\", \"ME\", \"LA\", \"KY\", \"MS\", \"NC\", \"PA\", \"OH\", \"KS\", \"WY\", \"WI\", \"WV\", \"WA\", \"VA\", \"ND\", \"UT\", \"TN\", \"SD\", \"SC\", null, \"OR\", \"OK\", \"TX\", \"VT\", \"IA\", \"IL\", \"IN\", \"AL\", \"AZ\", \"AR\", \"CA\", \"FL\", \"GA\", \"HI\", \"ID\", \"CO\"], \"name\": \"\", \"z\": [252000, 92000, 61000, 1161000, 1097000, 189000, 21000, 1110000, 1885000, 2470000, 266000, 347000, 78000, 281000, 74000, 827000, 504000, 407000, 383000, 2461000, 151000, 561000, 79000, 8160000, 208000, 137000, 2410000, 14000, 216000, 885000, 51000, 985000, 274000, 901000, 130000, 233000, 103000, 1197000, 871000, 3525000, 2026000, 52000, 29000, 1653000, 576000], \"type\": \"choropleth\"}], \"name\": \"2002\"}, {\"data\": [{\"coloraxis\": \"coloraxis\", \"geo\": \"geo\", \"hovertemplate\": \"year=2003<br>Code=%{location}<br>lbs_of_honey=%{z}<extra></extra>\", \"locationmode\": \"USA-states\", \"locations\": [\"IN\", \"MS\", \"MN\", \"MI\", \"ME\", \"LA\", \"KY\", \"KS\", \"IA\", \"IL\", \"CA\", \"HI\", \"GA\", \"FL\", \"CO\", \"MO\", \"AR\", \"AZ\", \"AL\", \"ID\", \"MT\", \"MD\", \"NV\", \"WY\", \"NE\", \"WV\", \"WA\", \"VA\", \"VT\", \"UT\", \"TX\", \"TN\", \"SD\", \"SC\", \"WI\", null, \"PA\", \"NM\", \"NY\", \"NC\", \"NJ\", \"OH\", \"OK\", \"OR\", \"ND\"], \"name\": \"\", \"z\": [78000, 246000, 1892000, 1732000, 145000, 275000, 14000, 447000, 868000, 252000, 6432000, 43000, 270000, 1491000, 722000, 189000, 810000, 983000, 43000, 1380000, 1914000, 21000, 46000, 474000, 1299000, 194000, 942000, 69000, 163000, 157000, 1126000, 46000, 2709000, 8000, 2678000, 166000, 419000, 108000, 1640000, 79000, 101000, 278000, 69000, 964000, 6803000], \"type\": \"choropleth\"}], \"name\": \"2003\"}, {\"data\": [{\"coloraxis\": \"coloraxis\", \"geo\": \"geo\", \"hovertemplate\": \"year=2004<br>Code=%{location}<br>lbs_of_honey=%{z}<extra></extra>\", \"locationmode\": \"USA-states\", \"locations\": [\"MN\", \"IN\", \"MI\", \"ME\", \"LA\", \"KY\", \"KS\", \"IA\", \"IL\", \"CO\", \"HI\", \"GA\", \"FL\", \"CA\", \"AR\", \"AZ\", \"AL\", \"MS\", \"ID\", \"MO\", \"WA\", \"NE\", \"MT\", \"WI\", \"WV\", \"VA\", \"VT\", \"UT\", \"TX\", \"TN\", \"SD\", \"WY\", null, \"PA\", \"NJ\", \"NM\", \"NY\", \"NV\", \"ND\", \"OH\", \"OR\", \"NC\"], \"name\": \"\", \"z\": [1924000, 145000, 2439000, 37000, 240000, 34000, 683000, 1337000, 193000, 791000, 77000, 648000, 2009000, 5792000, 388000, 774000, 282000, 421000, 2520000, 151000, 1376000, 2043000, 3773000, 2632000, 183000, 69000, 192000, 554000, 1411000, 91000, 13545000, 380000, 222000, 810000, 45000, 127000, 1887000, 316000, 9126000, 353000, 1111000, 72000], \"type\": \"choropleth\"}], \"name\": \"2004\"}, {\"data\": [{\"coloraxis\": \"coloraxis\", \"geo\": \"geo\", \"hovertemplate\": \"year=2005<br>Code=%{location}<br>lbs_of_honey=%{z}<extra></extra>\", \"locationmode\": \"USA-states\", \"locations\": [\"MN\", \"IN\", \"MI\", \"ME\", \"LA\", \"KY\", \"KS\", \"IA\", \"IL\", \"CO\", \"HI\", \"GA\", \"FL\", \"CA\", \"AR\", \"AZ\", \"AL\", \"MS\", \"ID\", \"MO\", \"WA\", \"NE\", \"WI\", \"WV\", \"WY\", \"VA\", \"VT\", \"UT\", \"TX\", \"TN\", \"SD\", \"MT\", null, \"OR\", \"OH\", \"ND\", \"NC\", \"NY\", \"NM\", \"NJ\", \"NV\", \"PA\"], \"name\": \"\", \"z\": [1598000, 189000, 2519000, 193000, 611000, 40000, 328000, 1232000, 408000, 902000, 283000, 434000, 2477000, 9300000, 571000, 720000, 266000, 346000, 1793000, 180000, 1935000, 2530000, 2922000, 102000, 291000, 59000, 169000, 346000, 954000, 92000, 11818000, 3136000, 268000, 557000, 580000, 8418000, 146000, 2283000, 113000, 104000, 442000, 800000], \"type\": \"choropleth\"}], \"name\": \"2005\"}, {\"data\": [{\"coloraxis\": \"coloraxis\", \"geo\": \"geo\", \"hovertemplate\": \"year=2006<br>Code=%{location}<br>lbs_of_honey=%{z}<extra></extra>\", \"locationmode\": \"USA-states\", \"locations\": [\"IA\", \"KS\", \"KY\", \"MN\", \"ME\", \"MI\", \"IN\", \"LA\", \"IL\", \"CO\", \"HI\", \"GA\", \"FL\", \"CA\", \"AR\", \"AZ\", \"AL\", \"MS\", \"ID\", \"MO\", \"NE\", \"MT\", \"WY\", \"WI\", \"WV\", \"WA\", \"VA\", \"UT\", \"TX\", \"TN\", \"SD\", \"VT\", null, \"PA\", \"NJ\", \"NM\", \"NY\", \"NV\", \"ND\", \"OH\", \"OR\", \"NC\"], \"name\": \"\", \"z\": [1441000, 246000, 70000, 3300000, 86000, 2099000, 125000, 675000, 356000, 1458000, 233000, 746000, 1790000, 7706000, 730000, 839000, 230000, 453000, 2592000, 117000, 3843000, 1981000, 497000, 2500000, 68000, 1605000, 114000, 299000, 976000, 58000, 10575000, 144000, 249000, 605000, 152000, 104000, 2376000, 50000, 7770000, 282000, 729000, 215000], \"type\": \"choropleth\"}], \"name\": \"2006\"}, {\"data\": [{\"coloraxis\": \"coloraxis\", \"geo\": \"geo\", \"hovertemplate\": \"year=2007<br>Code=%{location}<br>lbs_of_honey=%{z}<extra></extra>\", \"locationmode\": \"USA-states\", \"locations\": [\"IN\", \"MN\", \"MI\", \"ME\", \"LA\", \"KY\", \"KS\", \"IA\", \"IL\", \"MS\", \"HI\", \"GA\", \"FL\", \"CO\", \"CA\", \"AR\", \"AZ\", \"AL\", \"ID\", \"MO\", \"WV\", \"NE\", \"WI\", \"WY\", \"WA\", \"VA\", \"VT\", \"UT\", \"TX\", \"TN\", \"SD\", \"MT\", null, \"PA\", \"NJ\", \"NM\", \"NY\", \"NV\", \"ND\", \"OH\", \"OR\", \"NC\"], \"name\": \"\", \"z\": [119000, 2564000, 2350000, 59000, 413000, 54000, 196000, 1221000, 374000, 166000, 285000, 522000, 1363000, 838000, 3672000, 672000, 902000, 209000, 1848000, 148000, 95000, 1477000, 3024000, 894000, 648000, 63000, 96000, 270000, 1550000, 114000, 10608000, 2479000, 230000, 326000, 185000, 138000, 1843000, 67000, 9013000, 376000, 1088000, 76000], \"type\": \"choropleth\"}], \"name\": \"2007\"}, {\"data\": [{\"coloraxis\": \"coloraxis\", \"geo\": \"geo\", \"hovertemplate\": \"year=2008<br>Code=%{location}<br>lbs_of_honey=%{z}<extra></extra>\", \"locationmode\": \"USA-states\", \"locations\": [\"IN\", \"MN\", \"MI\", \"ME\", \"KY\", \"KS\", \"IA\", \"IL\", \"CO\", \"HI\", \"GA\", \"FL\", \"MS\", \"CA\", \"AR\", \"AZ\", \"AL\", \"ID\", \"MO\", \"LA\", \"NE\", \"WI\", \"WV\", \"WA\", \"VA\", \"VT\", \"UT\", \"TX\", \"TN\", \"SD\", \"WY\", null, \"PA\", \"NV\", \"NJ\", \"NM\", \"MT\", \"NC\", \"ND\", \"OH\", \"OR\", \"NY\"], \"name\": \"\", \"z\": [150000, 2569000, 2021000, 79000, 27000, 128000, 580000, 116000, 656000, 225000, 369000, 1304000, 110000, 4039000, 525000, 336000, 214000, 1440000, 152000, 493000, 1254000, 2366000, 49000, 862000, 45000, 119000, 242000, 1380000, 149000, 11970000, 381000, 163000, 276000, 52000, 122000, 95000, 4596000, 137000, 8640000, 371000, 1097000, 1260000], \"type\": \"choropleth\"}], \"name\": \"2008\"}, {\"data\": [{\"coloraxis\": \"coloraxis\", \"geo\": \"geo\", \"hovertemplate\": \"year=2009<br>Code=%{location}<br>lbs_of_honey=%{z}<extra></extra>\", \"locationmode\": \"USA-states\", \"locations\": [\"MN\", \"MI\", \"ME\", \"LA\", \"KY\", \"KS\", \"IA\", \"IN\", \"IL\", \"HI\", \"GA\", \"FL\", \"CA\", \"AR\", \"AZ\", \"AL\", \"MS\", \"ID\", \"CO\", \"MT\", \"NE\", \"WY\", \"WI\", \"WV\", \"WA\", \"VA\", \"VT\", \"UT\", \"TX\", \"TN\", \"MO\", \"PA\", null, \"OR\", \"OH\", \"ND\", \"NC\", \"NY\", \"NM\", \"NJ\", \"SD\"], \"name\": \"\", \"z\": [1427000, 1505000, 51000, 610000, 25000, 164000, 339000, 101000, 57000, 323000, 346000, 1618000, 2109000, 301000, 562000, 68000, 87000, 1706000, 326000, 3577000, 1102000, 391000, 1588000, 33000, 1064000, 56000, 69000, 198000, 1065000, 86000, 57000, 319000, 194000, 767000, 132000, 7623000, 84000, 936000, 143000, 70000, 6237000], \"type\": \"choropleth\"}], \"name\": \"2009\"}, {\"data\": [{\"coloraxis\": \"coloraxis\", \"geo\": \"geo\", \"hovertemplate\": \"year=2010<br>Code=%{location}<br>lbs_of_honey=%{z}<extra></extra>\", \"locationmode\": \"USA-states\", \"locations\": [\"IA\", \"KS\", \"KY\", \"MN\", \"ME\", \"MI\", \"IN\", \"LA\", \"IL\", \"CO\", \"HI\", \"GA\", \"FL\", \"CA\", \"AR\", \"AZ\", \"AL\", \"MS\", \"ID\", \"MO\", \"NE\", \"MT\", \"WY\", \"WI\", \"WV\", \"WA\", \"VA\", \"UT\", \"TX\", \"TN\", \"VT\", \"PA\", \"SD\", \"NM\", \"NY\", \"NC\", \"NJ\", \"OH\", \"OR\", null, \"ND\"], \"name\": \"\", \"z\": [463000, 103000, 67000, 1774000, 33000, 1524000, 151000, 288000, 92000, 533000, 239000, 152000, 1794000, 6318000, 360000, 665000, 73000, 78000, 1179000, 92000, 902000, 2905000, 282000, 1556000, 40000, 1077000, 37000, 195000, 792000, 106000, 73000, 377000, 4765000, 157000, 1123000, 144000, 73000, 346000, 874000, 221000, 12995000], \"type\": \"choropleth\"}], \"name\": \"2010\"}, {\"data\": [{\"coloraxis\": \"coloraxis\", \"geo\": \"geo\", \"hovertemplate\": \"year=2011<br>Code=%{location}<br>lbs_of_honey=%{z}<extra></extra>\", \"locationmode\": \"USA-states\", \"locations\": [\"IL\", \"MI\", \"ME\", \"LA\", \"KY\", \"KS\", \"IA\", \"IN\", \"MN\", \"HI\", \"GA\", \"FL\", \"CO\", \"CA\", \"AR\", \"AZ\", \"AL\", \"ID\", \"MS\", \"PA\", \"MT\", \"WY\", \"WI\", \"WV\", \"WA\", \"VA\", \"VT\", \"UT\", \"TX\", \"TN\", \"MO\", null, \"OR\", \"OH\", \"ND\", \"NC\", \"NY\", \"NM\", \"NJ\", \"NE\", \"SD\"], \"name\": \"\", \"z\": [98000, 2084000, 17000, 471000, 12000, 117000, 961000, 147000, 2099000, 246000, 196000, 988000, 443000, 3730000, 239000, 427000, 63000, 1879000, 104000, 306000, 3202000, 265000, 1508000, 45000, 836000, 21000, 43000, 170000, 633000, 68000, 76000, 211000, 755000, 228000, 7512000, 95000, 1235000, 153000, 135000, 653000, 4290000], \"type\": \"choropleth\"}], \"name\": \"2011\"}, {\"data\": [{\"coloraxis\": \"coloraxis\", \"geo\": \"geo\", \"hovertemplate\": \"year=2012<br>Code=%{location}<br>lbs_of_honey=%{z}<extra></extra>\", \"locationmode\": \"USA-states\", \"locations\": [\"IN\", \"IA\", \"KS\", \"MI\", \"LA\", \"ME\", \"IL\", \"KY\", \"ID\", \"CA\", \"GA\", \"FL\", \"CO\", \"AR\", \"AZ\", \"AL\", \"MN\", \"HI\", \"MS\", \"MO\", \"MT\", \"WI\", \"WV\", \"WA\", \"VA\", \"VT\", \"UT\", \"TX\", \"TN\", \"SD\", \"WY\", null, \"OR\", \"OH\", \"ND\", \"NC\", \"NY\", \"NM\", \"NJ\", \"NE\", \"PA\"], \"name\": \"\", \"z\": [203000, 1196000, 125000, 1332000, 141000, 24000, 145000, 41000, 530000, 3119000, 181000, 1235000, 468000, 189000, 253000, 65000, 1591000, 263000, 64000, 108000, 2413000, 1863000, 95000, 1017000, 23000, 53000, 209000, 718000, 59000, 3604000, 459000, 167000, 845000, 410000, 5962000, 106000, 988000, 99000, 51000, 1146000, 269000], \"type\": \"choropleth\"}], \"name\": \"2012\"}, {\"data\": [{\"coloraxis\": \"coloraxis\", \"geo\": \"geo\", \"hovertemplate\": \"year=2013<br>Code=%{location}<br>lbs_of_honey=%{z}<extra></extra>\", \"locationmode\": \"USA-states\", \"locations\": [\"IN\", \"IA\", \"KS\", \"MI\", \"LA\", \"ME\", \"IL\", \"KY\", \"ID\", \"CA\", \"GA\", \"FL\", \"CO\", \"AR\", \"AZ\", \"AL\", \"MN\", \"HI\", \"MS\", \"MO\", \"MT\", \"WI\", \"WV\", \"WA\", \"VA\", \"VT\", \"UT\", \"TX\", \"TN\", \"SD\", \"WY\", null, \"OR\", \"OH\", \"ND\", \"NC\", \"NY\", \"NJ\", \"NE\", \"PA\"], \"name\": \"\", \"z\": [82000, 1217000, 39000, 982000, 490000, 27000, 101000, 17000, 1036000, 2505000, 637000, 1074000, 324000, 66000, 251000, 55000, 1282000, 65000, 39000, 85000, 5231000, 1558000, 83000, 1023000, 42000, 61000, 92000, 1689000, 63000, 6381000, 558000, 186000, 456000, 390000, 6955000, 84000, 1030000, 34000, 1628000, 257000], \"type\": \"choropleth\"}], \"name\": \"2013\"}, {\"data\": [{\"coloraxis\": \"coloraxis\", \"geo\": \"geo\", \"hovertemplate\": \"year=2014<br>Code=%{location}<br>lbs_of_honey=%{z}<extra></extra>\", \"locationmode\": \"USA-states\", \"locations\": [\"IN\", \"IA\", \"KS\", \"MI\", \"LA\", \"ME\", \"IL\", \"KY\", \"ID\", \"CO\", \"GA\", \"FL\", \"CA\", \"AR\", \"AZ\", \"AL\", \"MN\", \"HI\", \"MS\", \"MO\", \"MT\", \"WI\", \"WV\", \"WA\", \"VA\", \"VT\", \"TX\", \"TN\", \"SD\", \"SC\", \"UT\", null, \"PA\", \"NE\", \"NJ\", \"NY\", \"WY\", \"ND\", \"OH\", \"OR\", \"NC\"], \"name\": \"\", \"z\": [115000, 933000, 84000, 1835000, 524000, 41000, 94000, 56000, 850000, 200000, 362000, 1029000, 2995000, 137000, 193000, 26000, 1426000, 140000, 45000, 96000, 5132000, 1030000, 33000, 1167000, 52000, 81000, 2081000, 88000, 5846000, 19000, 130000, 202000, 203000, 1688000, 119000, 1518000, 255000, 9271000, 256000, 767000, 88000], \"type\": \"choropleth\"}], \"name\": \"2014\"}, {\"data\": [{\"coloraxis\": \"coloraxis\", \"geo\": \"geo\", \"hovertemplate\": \"year=2015<br>Code=%{location}<br>lbs_of_honey=%{z}<extra></extra>\", \"locationmode\": \"USA-states\", \"locations\": [\"IL\", \"MI\", \"ME\", \"LA\", \"KY\", \"KS\", \"IA\", \"IN\", \"MN\", \"GA\", \"FL\", \"CO\", \"CA\", \"AR\", \"AZ\", \"AL\", \"MS\", \"HI\", \"MO\", \"ID\", \"NE\", \"WY\", \"WI\", \"WV\", \"WA\", \"VA\", \"VT\", \"UT\", \"TX\", \"TN\", \"MT\", \"SC\", \"PA\", null, \"OR\", \"OH\", \"ND\", \"NC\", \"NY\", \"NJ\", \"SD\"], \"name\": \"\", \"z\": [155000, 1984000, 47000, 348000, 55000, 107000, 990000, 165000, 2157000, 221000, 832000, 399000, 1485000, 121000, 306000, 13000, 87000, 82000, 52000, 1082000, 1450000, 146000, 1603000, 32000, 1221000, 41000, 62000, 147000, 1164000, 78000, 3757000, 38000, 225000, 371000, 809000, 357000, 9428000, 103000, 899000, 207000, 9379000], \"type\": \"choropleth\"}], \"name\": \"2015\"}, {\"data\": [{\"coloraxis\": \"coloraxis\", \"geo\": \"geo\", \"hovertemplate\": \"year=2016<br>Code=%{location}<br>lbs_of_honey=%{z}<extra></extra>\", \"locationmode\": \"USA-states\", \"locations\": [\"IN\", \"IA\", \"KS\", \"MI\", \"LA\", \"ME\", \"IL\", \"KY\", \"ID\", \"CA\", \"GA\", \"FL\", \"CO\", \"AR\", \"AZ\", \"AL\", \"MN\", \"HI\", \"MS\", \"MO\", \"MT\", \"WI\", \"WV\", \"WA\", \"VA\", \"VT\", \"TX\", \"TN\", \"SD\", \"SC\", \"UT\", null, \"PA\", \"NE\", \"NJ\", \"NY\", \"WY\", \"ND\", \"OH\", \"OR\", \"NC\"], \"name\": \"\", \"z\": [238000, 746000, 54000, 1709000, 301000, 65000, 77000, 48000, 1253000, 2009000, 899000, 538000, 282000, 99000, 261000, 33000, 1390000, 142000, 113000, 30000, 3183000, 1205000, 43000, 412000, 30000, 69000, 2607000, 69000, 12127000, 36000, 169000, 432000, 266000, 640000, 198000, 1167000, 190000, 6809000, 664000, 622000, 89000], \"type\": \"choropleth\"}], \"name\": \"2016\"}, {\"data\": [{\"coloraxis\": \"coloraxis\", \"geo\": \"geo\", \"hovertemplate\": \"year=2017<br>Code=%{location}<br>lbs_of_honey=%{z}<extra></extra>\", \"locationmode\": \"USA-states\", \"locations\": [\"IL\", \"MI\", \"ME\", \"LA\", \"KY\", \"KS\", \"IA\", \"IN\", \"MN\", \"GA\", \"FL\", \"CO\", \"CA\", \"AR\", \"AZ\", \"AL\", \"MS\", \"HI\", \"MO\", \"ID\", \"NE\", \"WY\", \"WI\", \"WV\", \"WA\", \"VA\", \"UT\", \"TX\", \"TN\", \"SD\", \"VT\", \"PA\", \"SC\", \"NJ\", \"NY\", \"NC\", \"MT\", \"OH\", \"OR\", null, \"ND\"], \"name\": \"\", \"z\": [167000, 822000, 51000, 279000, 42000, 260000, 1035000, 158000, 1016000, 190000, 529000, 284000, 2198000, 197000, 97000, 22000, 124000, 25000, 57000, 1045000, 423000, 186000, 683000, 50000, 1594000, 46000, 67000, 2297000, 75000, 6541000, 144000, 177000, 27000, 167000, 766000, 99000, 2506000, 657000, 998000, 193000, 4377000], \"type\": \"choropleth\"}], \"name\": \"2017\"}, {\"data\": [{\"coloraxis\": \"coloraxis\", \"geo\": \"geo\", \"hovertemplate\": \"year=2018<br>Code=%{location}<br>lbs_of_honey=%{z}<extra></extra>\", \"locationmode\": \"USA-states\", \"locations\": [\"IL\", \"MI\", \"ME\", \"LA\", \"KY\", \"KS\", \"IA\", \"IN\", \"MN\", \"GA\", \"FL\", \"CO\", \"CA\", \"AR\", \"AZ\", \"AL\", \"MS\", \"HI\", \"MO\", \"ID\", \"NE\", \"WY\", \"WI\", \"WV\", \"WA\", \"VA\", \"MT\", \"UT\", \"TX\", \"TN\", \"VT\", \"SC\", \"SD\", \"NY\", \"NC\", \"ND\", \"NJ\", \"OR\", null, \"PA\", \"OH\"], \"name\": \"\", \"z\": [108000, 768000, 92000, 261000, 34000, 95000, 1005000, 106000, 1161000, 200000, 737000, 283000, 3022000, 84000, 109000, 14000, 70000, 18000, 36000, 655000, 850000, 175000, 711000, 38000, 563000, 35000, 3680000, 75000, 1035000, 84000, 94000, 15000, 5154000, 833000, 63000, 4752000, 165000, 1009000, 314000, 309000, 491000], \"type\": \"choropleth\"}], \"name\": \"2018\"}, {\"data\": [{\"coloraxis\": \"coloraxis\", \"geo\": \"geo\", \"hovertemplate\": \"year=2019<br>Code=%{location}<br>lbs_of_honey=%{z}<extra></extra>\", \"locationmode\": \"USA-states\", \"locations\": [\"MN\", \"MI\", \"ME\", \"LA\", \"KY\", \"KS\", \"IA\", \"IN\", \"AL\", \"ID\", \"HI\", \"GA\", \"FL\", \"CO\", \"CA\", \"AR\", \"AZ\", \"MS\", \"IL\", \"MO\", \"PA\", \"NE\", \"WY\", \"WI\", \"WV\", \"WA\", \"VA\", \"VT\", \"UT\", \"TX\", \"MT\", \"TN\", \"SC\", null, \"OR\", \"OH\", \"ND\", \"NC\", \"NY\", \"NJ\", \"SD\"], \"name\": \"\", \"z\": [3063000, 1363000, 110000, 428000, 44000, 171000, 1170000, 198000, 44000, 677000, 51000, 370000, 830000, 500000, 3216000, 176000, 201000, 141000, 116000, 73000, 409000, 223000, 306000, 692000, 47000, 1191000, 49000, 84000, 89000, 1814000, 5802000, 91000, 45000, 351000, 1141000, 442000, 6422000, 118000, 1027000, 155000, 7582000], \"type\": \"choropleth\"}], \"name\": \"2019\"}]);\n",
       "                        }).then(function(){\n",
       "                            \n",
       "var gd = document.getElementById('6cdec123-2c88-4053-b1ea-6531a63786e9');\n",
       "var x = new MutationObserver(function (mutations, observer) {{\n",
       "        var display = window.getComputedStyle(gd).display;\n",
       "        if (!display || display === 'none') {{\n",
       "            console.log([gd, 'removed!']);\n",
       "            Plotly.purge(gd);\n",
       "            observer.disconnect();\n",
       "        }}\n",
       "}});\n",
       "\n",
       "// Listen for the removal of the full notebook cells\n",
       "var notebookContainer = gd.closest('#notebook-container');\n",
       "if (notebookContainer) {{\n",
       "    x.observe(notebookContainer, {childList: true});\n",
       "}}\n",
       "\n",
       "// Listen for the clearing of the current output cell\n",
       "var outputEl = gd.closest('.output');\n",
       "if (outputEl) {{\n",
       "    x.observe(outputEl, {childList: true});\n",
       "}}\n",
       "\n",
       "                        })\n",
       "                };\n",
       "                });\n",
       "            </script>\n",
       "        </div>"
      ]
     },
     "metadata": {},
     "output_type": "display_data"
    }
   ],
   "source": [
    "px.choropleth(cleaned_honey_w_code_clean, \n",
    "              locations = 'Code',\n",
    "              color='lbs_of_honey', \n",
    "              animation_frame='year',\n",
    "              color_continuous_scale=\"Inferno\",\n",
    "              locationmode='USA-states',\n",
    "              scope=\"usa\",\n",
    "              range_color=(0, 12000000),\n",
    "              title='Pounds of Honey',\n",
    "              height=500\n",
    "             )"
   ]
  },
  {
   "cell_type": "code",
   "execution_count": null,
   "metadata": {},
   "outputs": [],
   "source": []
  }
 ],
 "metadata": {
  "kernelspec": {
   "display_name": "Python [conda env:PythonData]",
   "language": "python",
   "name": "conda-env-PythonData-py"
  },
  "language_info": {
   "codemirror_mode": {
    "name": "ipython",
    "version": 3
   },
   "file_extension": ".py",
   "mimetype": "text/x-python",
   "name": "python",
   "nbconvert_exporter": "python",
   "pygments_lexer": "ipython3",
   "version": "3.6.10"
  }
 },
 "nbformat": 4,
 "nbformat_minor": 4
}
